{
 "cells": [
  {
   "cell_type": "raw",
   "metadata": {
    "vscode": {
     "languageId": "raw"
    }
   },
   "source": [
    "---\n",
    "title: Agents - Part 2 - OpenAI Responses API and Agent SDK\n",
    "author: Chris Levy\n",
    "draft: false\n",
    "date: '2025-03-19'\n",
    "date-modified: '2025-03-19'\n",
    "image: say_agentic_one_more_time.png\n",
    "toc: true\n",
    "description: In this blog post I take a dive into the new OpenAI responses API and the new OpenAI Agent SDK.\n",
    "tags:\n",
    "  - agents\n",
    "  - tool-calling\n",
    "  - OpenAI\n",
    "  - SDK\n",
    "  - Responses API\n",
    "---"
   ]
  },
  {
   "cell_type": "markdown",
   "metadata": {},
   "source": [
    "# Introduction\n",
    "\n",
    "In a [previous blog post](https://drchrislevy.github.io/blog) I did a deep dive into agents, coding agents, ReAct prompting, and tool calling loops.\n",
    "Recently OpenAI announced [new tools for building agents](https://openai.com/index/new-tools-for-building-agents/). \n",
    "OpenAI set the standard with their chat completions API and many developers have built on top of it. \n",
    "I don't know how these new APIs and SDKs are going to pan out in the long run, but I think it's definitely worth exploring them.\n",
    "\n",
    "# Responses API\n",
    "\n",
    "OpenAI intends to keep [supporting the chat completions API](https://platform.openai.com/docs/guides/responses-vs-chat-completions#the-chat-completions-api-is-not-going-away), but for new projects they are recommending using the new [Responses API](https://platform.openai.com/docs/api-reference/responses). One thing I **like** about the chat completions API is that many other LLM providers adopted the same API, so it was easy to switch between providers. On this reason alone, it probably makes sense to use the chat completions API for some projects, even new ones. I wonder if other providers will follow OpenAI's lead and adopt the Responses API?\n",
    "\n",
    "Here is a  screenshot from the OpenAI docs regarding the Responses API:\n",
    "\n",
    "<img src=\"static_blog_imgs/why_responses_api.png\" width=\"75%\">\n",
    "\n",
    "Some things I think are worth noting:\n",
    "\n",
    "- The responses API is **stateful**\n",
    "    - Responses has `previous_response_id` to help you with long-running conversations.\n",
    "- It's a completely different API from the chat completions API\n",
    "- *If you don't need built-in tools for your application, you can confidently continue **using Chat Completions**.*\n",
    "- *When you're ready for advanced capabilities designed specifically for agent workflows, we recommend the Responses API.*\n",
    "- *The Responses API represents the future direction for building agents on OpenAI.*\n",
    "- *Assistants API* is being sunset in 2026 - I've never used it personally.\n",
    "\n",
    "## Quickstart\n",
    "\n",
    "I'm not going to go over all the details of the Responses API, because that's what the docs are for.\n",
    "But I'm going to cover some things that are **new** to me.\n"
   ]
  },
  {
   "cell_type": "code",
   "execution_count": 1,
   "metadata": {},
   "outputs": [
    {
     "name": "stdout",
     "output_type": "stream",
     "text": [
      "Response(id='resp_67dc628d293c8191bc5f6158a0774349022a9190ff1f6329', created_at=1742496397.0, error=None, incomplete_details=None, instructions=None, metadata={}, model='gpt-4o-mini-2024-07-18', object='response', output=[ResponseOutputMessage(id='msg_67dc628d77748191876ea996230aa8b8022a9190ff1f6329', content=[ResponseOutputText(annotations=[], text=\"Why can't you give Elsa a balloon?  \\n\\nBecause she will let it go!\", type='output_text')], role='assistant', status='completed', type='message')], parallel_tool_calls=True, temperature=1.0, tool_choice='auto', tools=[], top_p=1.0, max_output_tokens=None, previous_response_id=None, reasoning=Reasoning(effort=None, generate_summary=None), status='completed', text=ResponseTextConfig(format=ResponseFormatText(type='text')), truncation='disabled', usage=ResponseUsage(input_tokens=31, input_tokens_details=InputTokensDetails(cached_tokens=0), output_tokens=17, output_tokens_details=OutputTokensDetails(reasoning_tokens=0), total_tokens=48), user=None, store=True)\n"
     ]
    }
   ],
   "source": [
    "from dotenv import load_dotenv\n",
    "from openai import OpenAI\n",
    "\n",
    "load_dotenv()\n",
    "\n",
    "client = OpenAI()\n",
    "\n",
    "response = client.responses.create(model=\"gpt-4o-mini\", input=\"Tell a quick dad joke!\")\n",
    "\n",
    "print(response)"
   ]
  },
  {
   "cell_type": "code",
   "execution_count": 2,
   "metadata": {},
   "outputs": [
    {
     "data": {
      "text/plain": [
       "{'id': 'resp_67dc628d293c8191bc5f6158a0774349022a9190ff1f6329',\n",
       " 'created_at': 1742496397.0,\n",
       " 'error': None,\n",
       " 'incomplete_details': None,\n",
       " 'instructions': None,\n",
       " 'metadata': {},\n",
       " 'model': 'gpt-4o-mini-2024-07-18',\n",
       " 'object': 'response',\n",
       " 'output': [{'id': 'msg_67dc628d77748191876ea996230aa8b8022a9190ff1f6329',\n",
       "   'content': [{'annotations': [],\n",
       "     'text': \"Why can't you give Elsa a balloon?  \\n\\nBecause she will let it go!\",\n",
       "     'type': 'output_text'}],\n",
       "   'role': 'assistant',\n",
       "   'status': 'completed',\n",
       "   'type': 'message'}],\n",
       " 'parallel_tool_calls': True,\n",
       " 'temperature': 1.0,\n",
       " 'tool_choice': 'auto',\n",
       " 'tools': [],\n",
       " 'top_p': 1.0,\n",
       " 'max_output_tokens': None,\n",
       " 'previous_response_id': None,\n",
       " 'reasoning': {'effort': None, 'generate_summary': None},\n",
       " 'status': 'completed',\n",
       " 'text': {'format': {'type': 'text'}},\n",
       " 'truncation': 'disabled',\n",
       " 'usage': {'input_tokens': 31,\n",
       "  'input_tokens_details': {'cached_tokens': 0},\n",
       "  'output_tokens': 17,\n",
       "  'output_tokens_details': {'reasoning_tokens': 0},\n",
       "  'total_tokens': 48},\n",
       " 'user': None,\n",
       " 'store': True}"
      ]
     },
     "execution_count": 2,
     "metadata": {},
     "output_type": "execute_result"
    }
   ],
   "source": [
    "response.to_dict()"
   ]
  },
  {
   "cell_type": "code",
   "execution_count": 3,
   "metadata": {},
   "outputs": [
    {
     "name": "stdout",
     "output_type": "stream",
     "text": [
      "Why can't you give Elsa a balloon?  \n",
      "\n",
      "Because she will let it go!\n"
     ]
    }
   ],
   "source": [
    "print(response.output[0].content[0].text)"
   ]
  },
  {
   "cell_type": "markdown",
   "metadata": {},
   "source": [
    "Or a little shortcut:"
   ]
  },
  {
   "cell_type": "code",
   "execution_count": 4,
   "metadata": {},
   "outputs": [
    {
     "name": "stdout",
     "output_type": "stream",
     "text": [
      "Why can't you give Elsa a balloon?  \n",
      "\n",
      "Because she will let it go!\n"
     ]
    }
   ],
   "source": [
    "print(response.output_text)"
   ]
  },
  {
   "cell_type": "markdown",
   "metadata": {},
   "source": [
    "- Response objects are saved for 30 days by default. You can disable this behavior by setting store to false when creating a Response.\n",
    "- Can be viewed in the dashboard logs page or retrieved via the API.\n",
    "\n",
    "I never inspected traces in chat completions before because I don't think they are enabled by default.\n",
    "But here with Responses API, you can inspect traces by default for 30 days unless you disable it on the API call.\n",
    "\n",
    "<img src=\"static_blog_imgs/responses_logs.png\" width=\"100%\">\n",
    "\n",
    "<img src=\"static_blog_imgs/responses_log_example.png\" width=\"100%\">\n",
    "\n",
    "Or retrieve traces via the API."
   ]
  },
  {
   "cell_type": "code",
   "execution_count": 5,
   "metadata": {},
   "outputs": [
    {
     "data": {
      "text/plain": [
       "Response(id='resp_67dc628d293c8191bc5f6158a0774349022a9190ff1f6329', created_at=1742496397.0, error=None, incomplete_details=None, instructions=None, metadata={}, model='gpt-4o-mini-2024-07-18', object='response', output=[ResponseOutputMessage(id='msg_67dc628d77748191876ea996230aa8b8022a9190ff1f6329', content=[ResponseOutputText(annotations=[], text=\"Why can't you give Elsa a balloon?  \\n\\nBecause she will let it go!\", type='output_text')], role='assistant', status='completed', type='message')], parallel_tool_calls=True, temperature=1.0, tool_choice='auto', tools=[], top_p=1.0, max_output_tokens=None, previous_response_id=None, reasoning=Reasoning(effort=None, generate_summary=None), status='completed', text=ResponseTextConfig(format=ResponseFormatText(type='text')), truncation='disabled', usage=ResponseUsage(input_tokens=31, input_tokens_details=InputTokensDetails(cached_tokens=0), output_tokens=17, output_tokens_details=OutputTokensDetails(reasoning_tokens=0), total_tokens=48), user=None, store=True)"
      ]
     },
     "execution_count": 5,
     "metadata": {},
     "output_type": "execute_result"
    }
   ],
   "source": [
    "client.responses.retrieve(response.id)"
   ]
  },
  {
   "cell_type": "markdown",
   "metadata": {},
   "source": [
    "## Instruction Following"
   ]
  },
  {
   "cell_type": "code",
   "execution_count": 6,
   "metadata": {},
   "outputs": [
    {
     "name": "stdout",
     "output_type": "stream",
     "text": [
      "Why don't skeletons fight each other?  \n",
      "\n",
      "Because they don't have the guts! 😂💀\n"
     ]
    }
   ],
   "source": [
    "response = client.responses.create(model=\"gpt-4o-mini\", instructions=\"You return markdown and lots of emojis. \", input=\"Tell a quick dad joke!\")\n",
    "print(response.output_text)"
   ]
  },
  {
   "cell_type": "markdown",
   "metadata": {},
   "source": [
    "*The instructions parameter gives the model high-level instructions on how it should behave while generating a response, including tone, goals, and examples of correct responses. Any instructions provided this way will take priority over a prompt in the input parameter.* [source](https://platform.openai.com/docs/guides/text#message-roles-and-instruction-following)\n",
    "\n",
    "This example is roughly equivalent to:"
   ]
  },
  {
   "cell_type": "code",
   "execution_count": 7,
   "metadata": {},
   "outputs": [
    {
     "name": "stdout",
     "output_type": "stream",
     "text": [
      "Why did the scarecrow win an award?  \n",
      "\n",
      "Because he was outstanding in his field! 🌾🤣\n"
     ]
    }
   ],
   "source": [
    "response = client.responses.create(\n",
    "    model=\"gpt-4o-mini\",\n",
    "    input=[{\"role\": \"developer\", \"content\": \"You return markdown and lots of emojis. \"}, {\"role\": \"user\", \"content\": \"Tell a quick dad joke!\"}],\n",
    ")\n",
    "\n",
    "print(response.output_text)"
   ]
  },
  {
   "cell_type": "markdown",
   "metadata": {},
   "source": [
    "The argument `instructions`: **Inserts a system (or developer) message as the first item in the model's context.** [source](https://platform.openai.com/docs/api-reference/responses/create#responses-create-instructions)\n",
    "\n",
    "\n",
    "\n",
    "\n"
   ]
  },
  {
   "cell_type": "code",
   "execution_count": 8,
   "metadata": {},
   "outputs": [
    {
     "name": "stdout",
     "output_type": "stream",
     "text": [
      "Why did the scarecrow win an award? Because he was outstanding in his field!\n"
     ]
    }
   ],
   "source": [
    "response = client.responses.create(\n",
    "    model=\"gpt-4o-mini\",\n",
    "    input=[{\"role\": \"developer\", \"content\": \"You return markdown and lots of emojis. \"}, {\"role\": \"user\", \"content\": \"Tell a quick dad joke!\"}],\n",
    "    instructions=\"You must talk like a pirate and do not return any markdown or emojis.\",\n",
    ")\n",
    "\n",
    "print(response.output_text)"
   ]
  },
  {
   "cell_type": "markdown",
   "metadata": {},
   "source": [
    "<img src=\"static_blog_imgs/instructions_insertion.png\" width=\"100%\">"
   ]
  },
  {
   "cell_type": "markdown",
   "metadata": {},
   "source": [
    "## Conversation State\n",
    "\n",
    "We can manually handle the chat history using alternating `user` and `assistant` messages, just as previously done with the chat completions API.\n",
    "\n"
   ]
  },
  {
   "cell_type": "code",
   "execution_count": 9,
   "metadata": {},
   "outputs": [
    {
     "name": "stdout",
     "output_type": "stream",
     "text": [
      "You mentioned that you are 40 years old.\n"
     ]
    }
   ],
   "source": [
    "response = client.responses.create(\n",
    "    model=\"gpt-4o-mini\",\n",
    "    input=[\n",
    "        {\"role\": \"developer\", \"content\": \"You are a helpful assistant.\"},\n",
    "        {\"role\": \"user\", \"content\": \"My name is Chris, and my age is 40.\"},\n",
    "        {\"role\": \"assistant\", \"content\": \"Nice to meet you, Chris!\"},\n",
    "        {\"role\": \"user\", \"content\": \"How old am I?\"},\n",
    "    ],\n",
    ")\n",
    "\n",
    "print(response.output_text)"
   ]
  },
  {
   "cell_type": "markdown",
   "metadata": {},
   "source": [
    "Alternately, we can use the `previous_response_id` parameter to manage conversation state."
   ]
  },
  {
   "cell_type": "code",
   "execution_count": 10,
   "metadata": {},
   "outputs": [
    {
     "name": "stdout",
     "output_type": "stream",
     "text": [
      "Nice to meet you, Chris! If there's anything specific you'd like to talk about or ask, feel free to let me know!\n",
      "resp_67dc6293a3fc8191beb395d9740cfe69018771069fff6258\n"
     ]
    }
   ],
   "source": [
    "response = client.responses.create(\n",
    "    model=\"gpt-4o-mini\",\n",
    "    input=[\n",
    "        {\"role\": \"developer\", \"content\": \"You are a helpful assistant.\"},\n",
    "        {\"role\": \"user\", \"content\": \"My name is Chris, and my age is 40.\"},\n",
    "    ],\n",
    ")\n",
    "\n",
    "print(response.output_text)\n",
    "print(response.id)"
   ]
  },
  {
   "cell_type": "code",
   "execution_count": 11,
   "metadata": {},
   "outputs": [
    {
     "name": "stdout",
     "output_type": "stream",
     "text": [
      "You mentioned that you are 40 years old.\n",
      "resp_67dc6294b01881918ed7ee04ab8408b8018771069fff6258\n"
     ]
    }
   ],
   "source": [
    "response = client.responses.create(\n",
    "    model=\"gpt-4o-mini\",\n",
    "    input=[\n",
    "        {\"role\": \"user\", \"content\": \"How old am I\"},\n",
    "    ],\n",
    "    previous_response_id=response.id,\n",
    ")\n",
    "print(response.output_text)\n",
    "print(response.id)"
   ]
  },
  {
   "cell_type": "code",
   "execution_count": 12,
   "metadata": {},
   "outputs": [
    {
     "name": "stdout",
     "output_type": "stream",
     "text": [
      "Your name is Chris.\n",
      "resp_67dc62957bac8191a758ec17f3409ef8018771069fff6258\n"
     ]
    }
   ],
   "source": [
    "response = client.responses.create(\n",
    "    model=\"gpt-4o-mini\",\n",
    "    input=[\n",
    "        {\"role\": \"user\", \"content\": \"And what was my name?\"},\n",
    "    ],\n",
    "    previous_response_id=response.id,\n",
    ")\n",
    "print(response.output_text)\n",
    "print(response.id)"
   ]
  },
  {
   "cell_type": "markdown",
   "metadata": {},
   "source": [
    "**Even when using previous_response_id, all previous input tokens for responses in the chain are billed as input tokens in the API.** [source](https://platform.openai.com/docs/guides/conversation-state#openai-apis-for-conversation-state)\n",
    "\n",
    "When you view the logs in the dashboard, for this message there is a link/button to find the previous response.\n",
    "<img src=\"static_blog_imgs/prev_response_log.png\" width=\"100%\">\n"
   ]
  },
  {
   "cell_type": "markdown",
   "metadata": {},
   "source": [
    "**When using along with previous_response_id, the instructions from a previous response will be not be carried over to the next response. This makes it simple to swap out system (or developer) messages in new responses.** [source](https://platform.openai.com/docs/api-reference/responses/create#responses-create-instructions)\n",
    "\n",
    "**Note that the instructions parameter only applies to the current response generation request. If you are managing conversation state with the `previous_response_id` parameter, the instructions used on previous turns will not be present in the context. If you'd like to persist the same model instructions across turns, use a developer message instead.** [source](https://platform.openai.com/docs/guides/text#message-roles-and-instruction-following)"
   ]
  },
  {
   "cell_type": "code",
   "execution_count": 13,
   "metadata": {},
   "outputs": [
    {
     "name": "stdout",
     "output_type": "stream",
     "text": [
      "toronto is in canada.\n"
     ]
    },
    {
     "data": {
      "text/plain": [
       "'resp_67dc629656bc81918e3e3f328c351ce1016a810fe9349c9f'"
      ]
     },
     "execution_count": 13,
     "metadata": {},
     "output_type": "execute_result"
    }
   ],
   "source": [
    "response = client.responses.create(\n",
    "    model=\"gpt-4o-mini\",\n",
    "    input=[\n",
    "        {\"role\": \"user\", \"content\": \"What country is the city Toronto in?\"},\n",
    "    ],\n",
    "    instructions= 'You only write lower case letters'\n",
    ")\n",
    "print(response.output_text)\n",
    "response.id"
   ]
  },
  {
   "cell_type": "code",
   "execution_count": 14,
   "metadata": {},
   "outputs": [
    {
     "name": "stdout",
     "output_type": "stream",
     "text": [
      "Toronto is in Canada.\n"
     ]
    }
   ],
   "source": [
    "response = client.responses.create(\n",
    "    model=\"gpt-4o-mini\",\n",
    "    input=[\n",
    "        {\"role\": \"user\", \"content\": \"What country was it again?\"},\n",
    "    ],\n",
    "    previous_response_id=response.id\n",
    ")\n",
    "print(response.output_text)"
   ]
  },
  {
   "cell_type": "code",
   "execution_count": 15,
   "metadata": {},
   "outputs": [
    {
     "name": "stdout",
     "output_type": "stream",
     "text": [
      "TORONTO IS IN CANADA.\n"
     ]
    }
   ],
   "source": [
    "response = client.responses.create(\n",
    "    model=\"gpt-4o-mini\",\n",
    "    input=[\n",
    "        {\"role\": \"user\", \"content\": \"I forget, what was it?\"},\n",
    "    ],\n",
    "    instructions= 'You only write UPPER CASE letters',\n",
    "    previous_response_id=response.id\n",
    ")\n",
    "print(response.output_text)"
   ]
  },
  {
   "cell_type": "markdown",
   "metadata": {},
   "source": [
    "Of course there all the other OpenAI LLM goodies such as function calling, structured outputs, streaming, analyzing images, etc. I assume there\n",
    "are slight changes to the API calls but I am already familiar with these things from the chat completions API, so no point in going over them here.\n",
    "\n",
    "## Built-in tools\n",
    "\n",
    "Something new here to me is the ability to use built-in tools with the Responses API.\n",
    "As of writing, the built-in tools include things like web search, file search, computer use, and function calling.\n",
    "I'm already familiar with tool/function calling. But let's take a look at some of these other tools.\n",
    "\n",
    "\n",
    "\n",
    "\n",
    "\n"
   ]
  },
  {
   "cell_type": "code",
   "execution_count": 31,
   "metadata": {},
   "outputs": [],
   "source": [
    "# Importing these to make the output look nicer\n",
    "from monsterui.all import render_md\n",
    "from fasthtml.common import show"
   ]
  },
  {
   "cell_type": "markdown",
   "metadata": {},
   "source": [
    "### Web Search"
   ]
  },
  {
   "cell_type": "code",
   "execution_count": 35,
   "metadata": {},
   "outputs": [
    {
     "data": {
      "text/html": [
       "<div><p class=\"text-lg leading-relaxed mb-6\">Yes, Alabama State won their first game in the 2025 NCAA Men's Basketball Tournament. On March 18, 2025, they secured a dramatic 70-68 victory over Saint Francis in the First Four round. The game concluded with Amarr Knox's last-second layup, which he scored after a length-of-the-court pass from Micah Simpson. Knox led the team with 16 points, while TJ Madlock contributed 11 points and seven rebounds. This win advanced Alabama State to face top-seeded Auburn in the Round of 64. (<a href=\"https://www.reuters.com/sports/basketball/alabama-state-stuns-saint-francis-last-second-first-four-victory-2025-03-19/?utm_source=openai\" class=\"uk-link text-primary hover:text-primary-focus underline\">reuters.com</a>)</p>\n",
       "<h2 class=\"uk-h2 text-3xl font-bold mt-10 mb-5\">Alabama State's Thrilling First Four Victory:</h2>\n",
       "<ul class=\"uk-list uk-list-bullet space-y-2 mb-6 ml-6 text-lg\">\n",
       "<li class=\"leading-relaxed\"><a href=\"https://www.reuters.com/sports/basketball/alabama-state-stuns-saint-francis-last-second-first-four-victory-2025-03-19/?utm_source=openai\" class=\"uk-link text-primary hover:text-primary-focus underline\">Alabama State stuns Saint Francis for last-second First Four victory</a></li>\n",
       "</ul>\n",
       "</div>"
      ],
      "text/plain": [
       "<IPython.core.display.HTML object>"
      ]
     },
     "metadata": {},
     "output_type": "display_data"
    }
   ],
   "source": [
    "response = client.responses.create(\n",
    "    model=\"gpt-4o-mini\",\n",
    "    tools=[{\"type\": \"web_search_preview\"}],\n",
    "    input=\"Did Alabama State win their first game of the March Madness tournament in 2025?\" # web_search_preview_2025_03_11 points to a dated version of the tool\n",
    ")\n",
    "\n",
    "show(render_md(response.output_text))"
   ]
  },
  {
   "cell_type": "code",
   "execution_count": 36,
   "metadata": {},
   "outputs": [
    {
     "data": {
      "text/plain": [
       "{'id': 'resp_67dc694b6c88819193f172c1c74b47670cefcc8e86f5a6fd',\n",
       " 'created_at': 1742498123.0,\n",
       " 'error': None,\n",
       " 'incomplete_details': None,\n",
       " 'instructions': None,\n",
       " 'metadata': {},\n",
       " 'model': 'gpt-4o-mini-2024-07-18',\n",
       " 'object': 'response',\n",
       " 'output': [{'id': 'ws_67dc694bbc18819196799890345f1d740cefcc8e86f5a6fd',\n",
       "   'status': 'completed',\n",
       "   'type': 'web_search_call'},\n",
       "  {'id': 'msg_67dc694e1ca8819193ae55dda79393f90cefcc8e86f5a6fd',\n",
       "   'content': [{'annotations': [{'end_index': 636,\n",
       "       'start_index': 483,\n",
       "       'title': 'Alabama State stuns Saint Francis for last-second First Four victory',\n",
       "       'type': 'url_citation',\n",
       "       'url': 'https://www.reuters.com/sports/basketball/alabama-state-stuns-saint-francis-last-second-first-four-victory-2025-03-19/?utm_source=openai'},\n",
       "      {'end_index': 898,\n",
       "       'start_index': 690,\n",
       "       'title': 'Alabama State stuns Saint Francis for last-second First Four victory',\n",
       "       'type': 'url_citation',\n",
       "       'url': 'https://www.reuters.com/sports/basketball/alabama-state-stuns-saint-francis-last-second-first-four-victory-2025-03-19/?utm_source=openai'}],\n",
       "     'text': \"Yes, Alabama State won their first game in the 2025 NCAA Men's Basketball Tournament. On March 18, 2025, they secured a dramatic 70-68 victory over Saint Francis in the First Four round. The game concluded with Amarr Knox's last-second layup, which he scored after a length-of-the-court pass from Micah Simpson. Knox led the team with 16 points, while TJ Madlock contributed 11 points and seven rebounds. This win advanced Alabama State to face top-seeded Auburn in the Round of 64. ([reuters.com](https://www.reuters.com/sports/basketball/alabama-state-stuns-saint-francis-last-second-first-four-victory-2025-03-19/?utm_source=openai))\\n\\n\\n## Alabama State's Thrilling First Four Victory:\\n- [Alabama State stuns Saint Francis for last-second First Four victory](https://www.reuters.com/sports/basketball/alabama-state-stuns-saint-francis-last-second-first-four-victory-2025-03-19/?utm_source=openai) \",\n",
       "     'type': 'output_text'}],\n",
       "   'role': 'assistant',\n",
       "   'status': 'completed',\n",
       "   'type': 'message'}],\n",
       " 'parallel_tool_calls': True,\n",
       " 'temperature': 1.0,\n",
       " 'tool_choice': 'auto',\n",
       " 'tools': [{'type': 'web_search_preview',\n",
       "   'search_context_size': 'medium',\n",
       "   'user_location': {'type': 'approximate',\n",
       "    'city': None,\n",
       "    'country': 'US',\n",
       "    'region': None,\n",
       "    'timezone': None}}],\n",
       " 'top_p': 1.0,\n",
       " 'max_output_tokens': None,\n",
       " 'previous_response_id': None,\n",
       " 'reasoning': {'effort': None, 'generate_summary': None},\n",
       " 'status': 'completed',\n",
       " 'text': {'format': {'type': 'text'}},\n",
       " 'truncation': 'disabled',\n",
       " 'usage': {'input_tokens': 336,\n",
       "  'input_tokens_details': {'cached_tokens': 0},\n",
       "  'output_tokens': 247,\n",
       "  'output_tokens_details': {'reasoning_tokens': 0},\n",
       "  'total_tokens': 583},\n",
       " 'user': None,\n",
       " 'store': True}"
      ]
     },
     "execution_count": 36,
     "metadata": {},
     "output_type": "execute_result"
    }
   ],
   "source": [
    "response.to_dict()"
   ]
  },
  {
   "cell_type": "markdown",
   "metadata": {},
   "source": [
    "You can also force the use of the web_search_preview tool by using the tool_choice parameter, and setting it to `{type: \"web_search_preview\"}`:\n"
   ]
  },
  {
   "cell_type": "code",
   "execution_count": 45,
   "metadata": {},
   "outputs": [
    {
     "data": {
      "text/html": [
       "<div><p class=\"text-lg leading-relaxed mb-6\">Yes, there is an upcoming federal election in Canada. The 45th Canadian federal election is scheduled to take place on or before October 20, 2025, as per the fixed-date provisions of the Canada Elections Act. (<a href=\"https://en.m.wikipedia.org/wiki/45th_Canadian_federal_election?utm_source=openai\" class=\"uk-link text-primary hover:text-primary-focus underline\">en.m.wikipedia.org</a>)</p>\n",
       "<p class=\"text-lg leading-relaxed mb-6\">However, recent developments suggest that an earlier election may be called. Prime Minister Mark Carney, who assumed office on March 9, 2025, after Justin Trudeau's resignation, is expected to announce a snap election for April 28, 2025. This decision aims to capitalize on the Liberal Party's improved standing in the polls, following tensions with U.S. President Donald Trump. (<a href=\"https://www.reuters.com/world/americas/canada-pm-carney-expected-call-snap-election-april-28-globe-mail-reports-2025-03-20/?utm_source=openai\" class=\"uk-link text-primary hover:text-primary-focus underline\">reuters.com</a>)</p>\n",
       "<h2 class=\"uk-h2 text-3xl font-bold mt-10 mb-5\">Canada's Upcoming Federal Election Developments:</h2>\n",
       "<ul class=\"uk-list uk-list-bullet space-y-2 mb-6 ml-6 text-lg\">\n",
       "<li class=\"leading-relaxed\"><a href=\"https://www.reuters.com/world/americas/canada-pm-carney-expected-call-snap-election-april-28-globe-mail-reports-2025-03-20/?utm_source=openai\" class=\"uk-link text-primary hover:text-primary-focus underline\">Canada PM Carney to call for April 28 election on Sunday, Globe and Mail reports</a></li>\n",
       "<li class=\"leading-relaxed\"><a href=\"https://www.ft.com/content/91478140-77f2-4413-b41e-faa23fd5137c?utm_source=openai\" class=\"uk-link text-primary hover:text-primary-focus underline\">Canada election expected to be held on April 28</a></li>\n",
       "<li class=\"leading-relaxed\"><a href=\"https://apnews.com/article/183999b9ec9ca31c200a0d1a0cbbe01b?utm_source=openai\" class=\"uk-link text-primary hover:text-primary-focus underline\">Carney plans to trigger an early election in Canada as he shows off skating skills with an NHL team</a></li>\n",
       "</ul>\n",
       "</div>"
      ],
      "text/plain": [
       "<IPython.core.display.HTML object>"
      ]
     },
     "metadata": {},
     "output_type": "display_data"
    }
   ],
   "source": [
    "response = client.responses.create(\n",
    "    model=\"gpt-4o-mini\",\n",
    "    tools=[{\"type\": \"web_search_preview\"}],\n",
    "    tool_choice={\"type\": \"web_search_preview\"},\n",
    "    input=\"Is there an upcoming federal election in Canada?\"\n",
    ")\n",
    "show(render_md(response.output_text))\n"
   ]
  },
  {
   "cell_type": "markdown",
   "metadata": {},
   "source": []
  },
  {
   "cell_type": "code",
   "execution_count": 72,
   "metadata": {},
   "outputs": [
    {
     "data": {
      "text/plain": [
       "{'id': 'resp_67dc6f81973c81919e1903d5bb441b030a76b63a8b73a92a',\n",
       " 'created_at': 1742499713.0,\n",
       " 'error': None,\n",
       " 'incomplete_details': None,\n",
       " 'instructions': None,\n",
       " 'metadata': {},\n",
       " 'model': 'gpt-4o-mini-2024-07-18',\n",
       " 'object': 'response',\n",
       " 'output': [{'id': 'ws_67dc6f81a0a48191b27193dbd6b309570a76b63a8b73a92a',\n",
       "   'status': 'completed',\n",
       "   'type': 'web_search_call'},\n",
       "  {'id': 'msg_67dc6f8469b481919426b0050aeafd450a76b63a8b73a92a',\n",
       "   'content': [{'annotations': [{'end_index': 313,\n",
       "       'start_index': 209,\n",
       "       'title': '45th Canadian federal election - Wikipedia',\n",
       "       'type': 'url_citation',\n",
       "       'url': 'https://en.m.wikipedia.org/wiki/45th_Canadian_federal_election?utm_source=openai'},\n",
       "      {'end_index': 852,\n",
       "       'start_index': 694,\n",
       "       'title': 'Canada PM Carney to call for April 28 election on Sunday, Globe and Mail reports',\n",
       "       'type': 'url_citation',\n",
       "       'url': 'https://www.reuters.com/world/americas/canada-pm-carney-expected-call-snap-election-april-28-globe-mail-reports-2025-03-20/?utm_source=openai'},\n",
       "      {'end_index': 1134,\n",
       "       'start_index': 909,\n",
       "       'title': 'Canada PM Carney to call for April 28 election on Sunday, Globe and Mail reports',\n",
       "       'type': 'url_citation',\n",
       "       'url': 'https://www.reuters.com/world/americas/canada-pm-carney-expected-call-snap-election-april-28-globe-mail-reports-2025-03-20/?utm_source=openai'},\n",
       "      {'end_index': 1269,\n",
       "       'start_index': 1137,\n",
       "       'title': 'Canada election expected to be held on April 28',\n",
       "       'type': 'url_citation',\n",
       "       'url': 'https://www.ft.com/content/91478140-77f2-4413-b41e-faa23fd5137c?utm_source=openai'},\n",
       "      {'end_index': 1452,\n",
       "       'start_index': 1272,\n",
       "       'title': 'Carney plans to trigger an early election in Canada as he shows off skating skills with an NHL team',\n",
       "       'type': 'url_citation',\n",
       "       'url': 'https://apnews.com/article/183999b9ec9ca31c200a0d1a0cbbe01b?utm_source=openai'}],\n",
       "     'text': \"Yes, there is an upcoming federal election in Canada. The 45th Canadian federal election is scheduled to take place on or before October 20, 2025, as per the fixed-date provisions of the Canada Elections Act. ([en.m.wikipedia.org](https://en.m.wikipedia.org/wiki/45th_Canadian_federal_election?utm_source=openai))\\n\\nHowever, recent developments suggest that an earlier election may be called. Prime Minister Mark Carney, who assumed office on March 9, 2025, after Justin Trudeau's resignation, is expected to announce a snap election for April 28, 2025. This decision aims to capitalize on the Liberal Party's improved standing in the polls, following tensions with U.S. President Donald Trump. ([reuters.com](https://www.reuters.com/world/americas/canada-pm-carney-expected-call-snap-election-april-28-globe-mail-reports-2025-03-20/?utm_source=openai))\\n\\n\\n## Canada's Upcoming Federal Election Developments:\\n- [Canada PM Carney to call for April 28 election on Sunday, Globe and Mail reports](https://www.reuters.com/world/americas/canada-pm-carney-expected-call-snap-election-april-28-globe-mail-reports-2025-03-20/?utm_source=openai)\\n- [Canada election expected to be held on April 28](https://www.ft.com/content/91478140-77f2-4413-b41e-faa23fd5137c?utm_source=openai)\\n- [Carney plans to trigger an early election in Canada as he shows off skating skills with an NHL team](https://apnews.com/article/183999b9ec9ca31c200a0d1a0cbbe01b?utm_source=openai) \",\n",
       "     'type': 'output_text'}],\n",
       "   'role': 'assistant',\n",
       "   'status': 'completed',\n",
       "   'type': 'message'}],\n",
       " 'parallel_tool_calls': True,\n",
       " 'temperature': 1.0,\n",
       " 'tool_choice': {'type': 'web_search_preview'},\n",
       " 'tools': [{'type': 'web_search_preview',\n",
       "   'search_context_size': 'medium',\n",
       "   'user_location': {'type': 'approximate',\n",
       "    'city': None,\n",
       "    'country': 'US',\n",
       "    'region': None,\n",
       "    'timezone': None}}],\n",
       " 'top_p': 1.0,\n",
       " 'max_output_tokens': None,\n",
       " 'previous_response_id': None,\n",
       " 'reasoning': {'effort': None, 'generate_summary': None},\n",
       " 'status': 'completed',\n",
       " 'text': {'format': {'type': 'text'}},\n",
       " 'truncation': 'disabled',\n",
       " 'usage': {'input_tokens': 330,\n",
       "  'input_tokens_details': {'cached_tokens': 0},\n",
       "  'output_tokens': 381,\n",
       "  'output_tokens_details': {'reasoning_tokens': 0},\n",
       "  'total_tokens': 711},\n",
       " 'user': None,\n",
       " 'store': True}"
      ]
     },
     "execution_count": 72,
     "metadata": {},
     "output_type": "execute_result"
    }
   ],
   "source": [
    "response.to_dict()"
   ]
  },
  {
   "cell_type": "markdown",
   "metadata": {},
   "source": [
    "Note that for a web search we have:\n",
    "\n",
    "- A `web_search_call` output item with the ID of the search call."
   ]
  },
  {
   "cell_type": "code",
   "execution_count": 85,
   "metadata": {},
   "outputs": [
    {
     "data": {
      "text/plain": [
       "ResponseFunctionWebSearch(id='ws_67dc6f81a0a48191b27193dbd6b309570a76b63a8b73a92a', status='completed', type='web_search_call')"
      ]
     },
     "execution_count": 85,
     "metadata": {},
     "output_type": "execute_result"
    }
   ],
   "source": [
    "response.output[0]"
   ]
  },
  {
   "cell_type": "markdown",
   "metadata": {},
   "source": [
    "- We have the annotations:\n",
    "\n",
    "\n"
   ]
  },
  {
   "cell_type": "code",
   "execution_count": 88,
   "metadata": {},
   "outputs": [
    {
     "data": {
      "text/plain": [
       "[AnnotationURLCitation(end_index=313, start_index=209, title='45th Canadian federal election - Wikipedia', type='url_citation', url='https://en.m.wikipedia.org/wiki/45th_Canadian_federal_election?utm_source=openai'),\n",
       " AnnotationURLCitation(end_index=852, start_index=694, title='Canada PM Carney to call for April 28 election on Sunday, Globe and Mail reports', type='url_citation', url='https://www.reuters.com/world/americas/canada-pm-carney-expected-call-snap-election-april-28-globe-mail-reports-2025-03-20/?utm_source=openai'),\n",
       " AnnotationURLCitation(end_index=1134, start_index=909, title='Canada PM Carney to call for April 28 election on Sunday, Globe and Mail reports', type='url_citation', url='https://www.reuters.com/world/americas/canada-pm-carney-expected-call-snap-election-april-28-globe-mail-reports-2025-03-20/?utm_source=openai'),\n",
       " AnnotationURLCitation(end_index=1269, start_index=1137, title='Canada election expected to be held on April 28', type='url_citation', url='https://www.ft.com/content/91478140-77f2-4413-b41e-faa23fd5137c?utm_source=openai'),\n",
       " AnnotationURLCitation(end_index=1452, start_index=1272, title='Carney plans to trigger an early election in Canada as he shows off skating skills with an NHL team', type='url_citation', url='https://apnews.com/article/183999b9ec9ca31c200a0d1a0cbbe01b?utm_source=openai')]"
      ]
     },
     "execution_count": 88,
     "metadata": {},
     "output_type": "execute_result"
    }
   ],
   "source": [
    "response.output[1].content[0].annotations"
   ]
  },
  {
   "cell_type": "markdown",
   "metadata": {},
   "source": [
    "- And we have the text response content:"
   ]
  },
  {
   "cell_type": "code",
   "execution_count": 89,
   "metadata": {},
   "outputs": [
    {
     "data": {
      "text/plain": [
       "\"Yes, there is an upcoming federal election in Canada. The 45th Canadian federal election is scheduled to take place on or before October 20, 2025, as per the fixed-date provisions of the Canada Elections Act. ([en.m.wikipedia.org](https://en.m.wikipedia.org/wiki/45th_Canadian_federal_election?utm_source=openai))\\n\\nHowever, recent developments suggest that an earlier election may be called. Prime Minister Mark Carney, who assumed office on March 9, 2025, after Justin Trudeau's resignation, is expected to announce a snap election for April 28, 2025. This decision aims to capitalize on the Liberal Party's improved standing in the polls, following tensions with U.S. President Donald Trump. ([reuters.com](https://www.reuters.com/world/americas/canada-pm-carney-expected-call-snap-election-april-28-globe-mail-reports-2025-03-20/?utm_source=openai))\\n\\n\\n## Canada's Upcoming Federal Election Developments:\\n- [Canada PM Carney to call for April 28 election on Sunday, Globe and Mail reports](https://www.reuters.com/world/americas/canada-pm-carney-expected-call-snap-election-april-28-globe-mail-reports-2025-03-20/?utm_source=openai)\\n- [Canada election expected to be held on April 28](https://www.ft.com/content/91478140-77f2-4413-b41e-faa23fd5137c?utm_source=openai)\\n- [Carney plans to trigger an early election in Canada as he shows off skating skills with an NHL team](https://apnews.com/article/183999b9ec9ca31c200a0d1a0cbbe01b?utm_source=openai) \""
      ]
     },
     "execution_count": 89,
     "metadata": {},
     "output_type": "execute_result"
    }
   ],
   "source": [
    "response.output[1].content[0].text\n",
    "\n",
    "\n",
    "\n",
    "\n",
    "\n"
   ]
  },
  {
   "cell_type": "markdown",
   "metadata": {},
   "source": [
    "To refine search results based on geography, you can specify an approximate user location using country, city, region, and/or timezone.\n",
    "\n",
    "\n"
   ]
  },
  {
   "cell_type": "code",
   "execution_count": 92,
   "metadata": {},
   "outputs": [
    {
     "data": {
      "text/html": [
       "<div><p class=\"text-lg leading-relaxed mb-6\">Halifax boasts a vibrant culinary scene with a diverse array of exceptional restaurants. Here are some top-rated establishments you might consider:</p>\n",
       "<p class=\"text-lg leading-relaxed mb-6\"><strong><a href=\"https://www.google.com/maps/search/Bar+Kismet%2C+Halifax%2C+Canada\" class=\"uk-link text-primary hover:text-primary-focus underline\">Bar Kismet</a></strong>\n",
       "<em>Halifax, Canada</em>\n",
       "Ranked 12th in Canada's 100 Best Restaurants 2023, Bar Kismet offers a refined yet relaxed dining experience with a menu that changes weekly, featuring seasonal vegetables, seafood, and handmade pasta.</p>\n",
       "<p class=\"text-lg leading-relaxed mb-6\"><strong><a href=\"https://www.google.com/maps/search/Drift%2C+Halifax%2C+Canada\" class=\"uk-link text-primary hover:text-primary-focus underline\">Drift</a></strong>\n",
       "<em>Halifax, Canada</em>\n",
       "Recognized as the Best Hotel Restaurant in the Best of Halifax 2023 awards, Drift is known for its innovative dishes and exceptional service.</p>\n",
       "<p class=\"text-lg leading-relaxed mb-6\"><strong><a href=\"https://www.google.com/maps/search/The+Bicycle+Thief%2C+Halifax%2C+Canada\" class=\"uk-link text-primary hover:text-primary-focus underline\">The Bicycle Thief</a></strong>\n",
       "<em>Halifax, Canada</em>\n",
       "A Silver Winner for Best Restaurant in the Best of Halifax 2023 awards, The Bicycle Thief offers a luxurious dining experience with spectacular waterfront views and Italian-inspired cuisine.</p>\n",
       "<p class=\"text-lg leading-relaxed mb-6\"><strong><a href=\"https://www.google.com/maps/search/Cafe+Lunette%2C+Halifax%2C+Canada\" class=\"uk-link text-primary hover:text-primary-focus underline\">Cafe Lunette</a></strong>\n",
       "<em>Halifax, Canada</em>\n",
       "Ranked 5th in Canada's Top 10 New Restaurants 2023, Cafe Lunette serves classic French bistro fare with a focus on fresh local seafood in a bright, airy space.</p>\n",
       "<p class=\"text-lg leading-relaxed mb-6\"><strong><a href=\"https://www.google.com/maps/search/Fawn%2C+Halifax%2C+Canada\" class=\"uk-link text-primary hover:text-primary-focus underline\">Fawn</a></strong>\n",
       "<em>Halifax, Canada</em>\n",
       "Ranked 7th in Canada's Top 10 New Restaurants 2023, Fawn offers a diverse menu of North American dishes with Western European influences in a comfortable, elegant setting.</p>\n",
       "<p class=\"text-lg leading-relaxed mb-6\"><strong><a href=\"https://www.google.com/maps/search/Peacock+Wine+Bar%2C+Halifax%2C+Canada\" class=\"uk-link text-primary hover:text-primary-focus underline\">Peacock Wine Bar</a></strong>\n",
       "<em>Halifax, Canada</em>\n",
       "Ranked 9th in Canada's Top 10 New Restaurants 2023, Peacock Wine Bar serves locally sourced small plates designed for sharing, complemented by an intriguing selection of wines by the glass.</p>\n",
       "<p class=\"text-lg leading-relaxed mb-6\"><strong><a href=\"https://www.google.com/maps/search/The+Wooden+Monkey%2C+Halifax%2C+Canada\" class=\"uk-link text-primary hover:text-primary-focus underline\">The Wooden Monkey</a></strong>\n",
       "<em>Halifax, Canada</em>\n",
       "A Gold Winner for Best Gluten-free Options in the Best of Halifax 2023 awards, The Wooden Monkey is known for its health-conscious menu featuring organic and local ingredients.</p>\n",
       "<p class=\"text-lg leading-relaxed mb-6\"><strong><a href=\"https://www.google.com/maps/search/Ristorante+A+Mano%2C+Halifax%2C+Canada\" class=\"uk-link text-primary hover:text-primary-focus underline\">Ristorante A Mano</a></strong>\n",
       "<em>Halifax, Canada</em>\n",
       "A Silver Winner for Best Italian Restaurant in the Best of Halifax 2023 awards, Ristorante A Mano offers authentic Italian fare, including generous servings of fresh pasta.</p>\n",
       "<p class=\"text-lg leading-relaxed mb-6\"><strong><a href=\"https://www.google.com/maps/search/Salt+%2B+Ash%2C+Halifax%2C+Canada\" class=\"uk-link text-primary hover:text-primary-focus underline\">Salt + Ash</a></strong>\n",
       "<em>Halifax, Canada</em>\n",
       "Recognized as the Best New Restaurant in the Best of Halifax 2023 awards, Salt + Ash offers a unique dining experience with a focus on innovative dishes.</p>\n",
       "<p class=\"text-lg leading-relaxed mb-6\"><strong><a href=\"https://www.google.com/maps/search/Gio%2C+Halifax%2C+Canada\" class=\"uk-link text-primary hover:text-primary-focus underline\">Gio</a></strong>\n",
       "<em>Halifax, Canada</em>\n",
       "A Silver Winner for Best Hotel Restaurant in the Best of Halifax 2023 awards, Gio is known for its beautiful plates designed by talented chefs showcasing local, seasonal ingredients.</p>\n",
       "<p class=\"text-lg leading-relaxed mb-6\">These establishments represent some of the finest dining experiences Halifax has to offer, each bringing its unique flair to the city's rich culinary landscape.</p>\n",
       "</div>"
      ],
      "text/plain": [
       "<IPython.core.display.HTML object>"
      ]
     },
     "metadata": {},
     "output_type": "display_data"
    }
   ],
   "source": [
    "response = client.responses.create(\n",
    "    model=\"gpt-4o-mini\",\n",
    "    tools=[{\n",
    "        \"type\": \"web_search_preview\",\n",
    "        \"user_location\": {\n",
    "            \"type\": \"approximate\",\n",
    "            \"country\": \"CA\", #  two-letter ISO country code\n",
    "            \"city\": \"Halifax\", # free text strings\n",
    "            \"region\": \"Nova Scotia\", # free text strings\n",
    "        }\n",
    "    }],\n",
    "    input=\"What are the best restaurants around Halifax?\",\n",
    ")\n",
    "\n",
    "show(render_md(response.output_text))"
   ]
  },
  {
   "cell_type": "markdown",
   "metadata": {},
   "source": [
    "The parameter `search_context_size` controls the number of search results. The tokens used by the search tool **do not** affect the context window of the main model.\n",
    "Choosing the `search_context_size` parameter is a trade-off between cost, quality, and latency. The available values are 'high', 'medium', and 'low'. The default is 'medium'.\n",
    "The [pricing page](https://platform.openai.com/docs/pricing) has all the details"
   ]
  },
  {
   "cell_type": "markdown",
   "metadata": {},
   "source": [
    "## File Search"
   ]
  }
 ],
 "metadata": {
  "kernelspec": {
   "display_name": ".venv",
   "language": "python",
   "name": "python3"
  },
  "language_info": {
   "codemirror_mode": {
    "name": "ipython",
    "version": 3
   },
   "file_extension": ".py",
   "mimetype": "text/x-python",
   "name": "python",
   "nbconvert_exporter": "python",
   "pygments_lexer": "ipython3",
   "version": "3.11.11"
  }
 },
 "nbformat": 4,
 "nbformat_minor": 2
}
