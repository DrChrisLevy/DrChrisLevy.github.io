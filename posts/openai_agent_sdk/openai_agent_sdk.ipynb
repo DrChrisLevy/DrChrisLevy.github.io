{
 "cells": [
  {
   "cell_type": "raw",
   "metadata": {
    "vscode": {
     "languageId": "raw"
    }
   },
   "source": [
    "---\n",
    "title: Agents - Part 2 - OpenAI Responses API and Agent SDK\n",
    "author: Chris Levy\n",
    "draft: false\n",
    "date: '2025-03-19'\n",
    "date-modified: '2025-03-19'\n",
    "image: say_agentic_one_more_time.png\n",
    "toc: true\n",
    "description: In this blog post I take a dive into the new OpenAI responses API and the new OpenAI Agent SDK.\n",
    "tags:\n",
    "  - agents\n",
    "  - tool-calling\n",
    "  - OpenAI\n",
    "  - SDK\n",
    "  - Responses API\n",
    "---"
   ]
  },
  {
   "cell_type": "markdown",
   "metadata": {},
   "source": [
    "# Introduction\n",
    "\n",
    "In a [previous blog post](https://drchrislevy.github.io/blog), I explored various aspects of building AI agents, including coding agents, ReAct prompting, and tool-calling loops. Recently, OpenAI announced [new tools for building agents](https://openai.com/index/new-tools-for-building-agents/), introducing the Responses API and Agents SDK. OpenAI set the standard with their Chat Completions API, which has been widely adopted and extended by developers.\n",
    "\n",
    "However, it's important to remain cautious. Remember what happened to the Assistants API? It never fully emerged from beta and is scheduled to be sunset in 2026. In contrast, these new APIs are not marked as beta, indicating that OpenAI feels more confident about this direction. Given their prior success with the Chat Completions API, there's reason to be optimistic that they might achieve similar success again. OpenAI has likely incorporated key learnings from their experience with the Assistants API into these latest developments, making these new tools intriguing and well worth exploring further.\n",
    "\n",
    "# Responses API\n",
    "\n",
    "OpenAI plans to continue supporting the [Chat Completions API](https://platform.openai.com/docs/guides/responses-vs-chat-completions#the-chat-completions-api-is-not-going-away). However, for new projects, they recommend using the newly introduced [Responses API](https://platform.openai.com/docs/api-reference/responses). \n",
    "\n",
    "One advantage of the Chat Completions API I've appreciated is its wide adoption by other LLM providers, making it easy to switch between services. Because of this flexibility, it may still be practical to use Chat Completions for some new projects. It remains to be seen whether other providers will adopt the Responses API as well.\n",
    "\n",
    "Here's a screenshot from the OpenAI documentation explaining the Responses API:\n",
    "\n",
    "<img src=\"static_blog_imgs/why_responses_api.png\" width=\"75%\">\n",
    "\n",
    "### Key points to note about the Responses API:\n",
    "\n",
    "- **Stateful**: It includes a `previous_response_id` to support long-running conversations.\n",
    "- It is distinctly different from the Chat Completions API.\n",
    "- If your application doesn't require built-in tools, you can confidently continue using **Chat Completions**.\n",
    "- When ready for advanced capabilities tailored to agent workflows, the Responses API is recommended.\n",
    "- The Responses API represents OpenAI's future direction for agent-building.\n",
    "\n",
    "\n",
    "## Quickstart\n",
    "\n",
    "I'm not going to go over all the details of the Responses API, because that's what the docs are for.\n",
    "But I'm going to cover some things that are **new** to me.\n"
   ]
  },
  {
   "cell_type": "code",
   "execution_count": 1,
   "metadata": {},
   "outputs": [
    {
     "name": "stdout",
     "output_type": "stream",
     "text": [
      "Response(id='resp_67dcb9129b288191b03676b4c3ee91770b18a606f20fdf95', created_at=1742518546.0, error=None, incomplete_details=None, instructions=None, metadata={}, model='gpt-4o-mini-2024-07-18', object='response', output=[ResponseOutputMessage(id='msg_67dcb912f2f48191911626bf906ad6840b18a606f20fdf95', content=[ResponseOutputText(annotations=[], text=\"Why don't skeletons fight each other? \\n\\nThey don't have the guts!\", type='output_text')], role='assistant', status='completed', type='message')], parallel_tool_calls=True, temperature=1.0, tool_choice='auto', tools=[], top_p=1.0, max_output_tokens=None, previous_response_id=None, reasoning=Reasoning(effort=None, generate_summary=None), status='completed', text=ResponseTextConfig(format=ResponseFormatText(type='text')), truncation='disabled', usage=ResponseUsage(input_tokens=31, input_tokens_details=InputTokensDetails(cached_tokens=0), output_tokens=16, output_tokens_details=OutputTokensDetails(reasoning_tokens=0), total_tokens=47), user=None, store=True)\n"
     ]
    }
   ],
   "source": [
    "from dotenv import load_dotenv\n",
    "from openai import OpenAI\n",
    "\n",
    "load_dotenv()\n",
    "\n",
    "client = OpenAI()\n",
    "\n",
    "response = client.responses.create(model=\"gpt-4o-mini\", input=\"Tell a quick dad joke!\")\n",
    "\n",
    "print(response)"
   ]
  },
  {
   "cell_type": "code",
   "execution_count": 2,
   "metadata": {},
   "outputs": [
    {
     "data": {
      "text/plain": [
       "{'id': 'resp_67dcb9129b288191b03676b4c3ee91770b18a606f20fdf95',\n",
       " 'created_at': 1742518546.0,\n",
       " 'error': None,\n",
       " 'incomplete_details': None,\n",
       " 'instructions': None,\n",
       " 'metadata': {},\n",
       " 'model': 'gpt-4o-mini-2024-07-18',\n",
       " 'object': 'response',\n",
       " 'output': [{'id': 'msg_67dcb912f2f48191911626bf906ad6840b18a606f20fdf95',\n",
       "   'content': [{'annotations': [],\n",
       "     'text': \"Why don't skeletons fight each other? \\n\\nThey don't have the guts!\",\n",
       "     'type': 'output_text'}],\n",
       "   'role': 'assistant',\n",
       "   'status': 'completed',\n",
       "   'type': 'message'}],\n",
       " 'parallel_tool_calls': True,\n",
       " 'temperature': 1.0,\n",
       " 'tool_choice': 'auto',\n",
       " 'tools': [],\n",
       " 'top_p': 1.0,\n",
       " 'max_output_tokens': None,\n",
       " 'previous_response_id': None,\n",
       " 'reasoning': {'effort': None, 'generate_summary': None},\n",
       " 'status': 'completed',\n",
       " 'text': {'format': {'type': 'text'}},\n",
       " 'truncation': 'disabled',\n",
       " 'usage': {'input_tokens': 31,\n",
       "  'input_tokens_details': {'cached_tokens': 0},\n",
       "  'output_tokens': 16,\n",
       "  'output_tokens_details': {'reasoning_tokens': 0},\n",
       "  'total_tokens': 47},\n",
       " 'user': None,\n",
       " 'store': True}"
      ]
     },
     "execution_count": 2,
     "metadata": {},
     "output_type": "execute_result"
    }
   ],
   "source": [
    "response.to_dict()"
   ]
  },
  {
   "cell_type": "code",
   "execution_count": 3,
   "metadata": {},
   "outputs": [
    {
     "name": "stdout",
     "output_type": "stream",
     "text": [
      "Why don't skeletons fight each other? \n",
      "\n",
      "They don't have the guts!\n"
     ]
    }
   ],
   "source": [
    "print(response.output[0].content[0].text)"
   ]
  },
  {
   "cell_type": "markdown",
   "metadata": {},
   "source": [
    "Or a little shortcut:"
   ]
  },
  {
   "cell_type": "code",
   "execution_count": 4,
   "metadata": {},
   "outputs": [
    {
     "name": "stdout",
     "output_type": "stream",
     "text": [
      "Why don't skeletons fight each other? \n",
      "\n",
      "They don't have the guts!\n"
     ]
    }
   ],
   "source": [
    "print(response.output_text)"
   ]
  },
  {
   "cell_type": "markdown",
   "metadata": {},
   "source": [
    "- Response objects are saved for 30 days by default. You can disable this behavior by setting store to false when creating a Response.\n",
    "- Can be viewed in the dashboard logs page or retrieved via the API.\n",
    "\n",
    "I never inspected traces in chat completions before because I don't think they are enabled by default.\n",
    "But here with Responses API, you can inspect traces by default for 30 days unless you disable it on the API call.\n",
    "\n",
    "<img src=\"static_blog_imgs/responses_logs.png\" width=\"100%\">\n",
    "\n",
    "<img src=\"static_blog_imgs/responses_log_example.png\" width=\"100%\">\n",
    "\n",
    "Or retrieve traces via the API."
   ]
  },
  {
   "cell_type": "code",
   "execution_count": 5,
   "metadata": {},
   "outputs": [
    {
     "data": {
      "text/plain": [
       "Response(id='resp_67dcb9129b288191b03676b4c3ee91770b18a606f20fdf95', created_at=1742518546.0, error=None, incomplete_details=None, instructions=None, metadata={}, model='gpt-4o-mini-2024-07-18', object='response', output=[ResponseOutputMessage(id='msg_67dcb912f2f48191911626bf906ad6840b18a606f20fdf95', content=[ResponseOutputText(annotations=[], text=\"Why don't skeletons fight each other? \\n\\nThey don't have the guts!\", type='output_text')], role='assistant', status='completed', type='message')], parallel_tool_calls=True, temperature=1.0, tool_choice='auto', tools=[], top_p=1.0, max_output_tokens=None, previous_response_id=None, reasoning=Reasoning(effort=None, generate_summary=None), status='completed', text=ResponseTextConfig(format=ResponseFormatText(type='text')), truncation='disabled', usage=ResponseUsage(input_tokens=31, input_tokens_details=InputTokensDetails(cached_tokens=0), output_tokens=16, output_tokens_details=OutputTokensDetails(reasoning_tokens=0), total_tokens=47), user=None, store=True)"
      ]
     },
     "execution_count": 5,
     "metadata": {},
     "output_type": "execute_result"
    }
   ],
   "source": [
    "client.responses.retrieve(response.id)"
   ]
  },
  {
   "cell_type": "markdown",
   "metadata": {},
   "source": [
    "## Instruction Following"
   ]
  },
  {
   "cell_type": "code",
   "execution_count": 6,
   "metadata": {},
   "outputs": [
    {
     "name": "stdout",
     "output_type": "stream",
     "text": [
      "Why did the scarecrow win an award? 🌾🏆 \n",
      "\n",
      "Because he was outstanding in his field! 😄\n"
     ]
    }
   ],
   "source": [
    "response = client.responses.create(model=\"gpt-4o-mini\", instructions=\"You return markdown and lots of emojis. \", input=\"Tell a quick dad joke!\")\n",
    "print(response.output_text)"
   ]
  },
  {
   "cell_type": "markdown",
   "metadata": {},
   "source": [
    "*The instructions parameter gives the model high-level instructions on how it should behave while generating a response, including tone, goals, and examples of correct responses. Any instructions provided this way will take priority over a prompt in the input parameter.* [source](https://platform.openai.com/docs/guides/text#message-roles-and-instruction-following)\n",
    "\n",
    "This example is roughly equivalent to:"
   ]
  },
  {
   "cell_type": "code",
   "execution_count": 7,
   "metadata": {},
   "outputs": [
    {
     "name": "stdout",
     "output_type": "stream",
     "text": [
      "Why did the scarecrow win an award? 🎉\n",
      "\n",
      "Because he was outstanding in his field! 🌾😂\n"
     ]
    }
   ],
   "source": [
    "response = client.responses.create(\n",
    "    model=\"gpt-4o-mini\",\n",
    "    input=[{\"role\": \"developer\", \"content\": \"You return markdown and lots of emojis. \"}, {\"role\": \"user\", \"content\": \"Tell a quick dad joke!\"}],\n",
    ")\n",
    "\n",
    "print(response.output_text)"
   ]
  },
  {
   "cell_type": "markdown",
   "metadata": {},
   "source": [
    "The argument `instructions` is used to insert a system (or developer) message as the first item in the model's context [source](https://platform.openai.com/docs/api-reference/responses/create#responses-create-instructions).\n",
    "\n",
    "\n",
    "\n",
    "\n"
   ]
  },
  {
   "cell_type": "code",
   "execution_count": 8,
   "metadata": {},
   "outputs": [
    {
     "name": "stdout",
     "output_type": "stream",
     "text": [
      "Why did the scarecrow win an award? Because he was outstanding in his field!\n"
     ]
    }
   ],
   "source": [
    "response = client.responses.create(\n",
    "    model=\"gpt-4o-mini\",\n",
    "    input=[{\"role\": \"developer\", \"content\": \"You return markdown and lots of emojis. \"}, {\"role\": \"user\", \"content\": \"Tell a quick dad joke!\"}],\n",
    "    instructions=\"You must talk like a pirate and do not return any markdown or emojis.\",\n",
    ")\n",
    "\n",
    "print(response.output_text)"
   ]
  },
  {
   "cell_type": "markdown",
   "metadata": {},
   "source": [
    "<img src=\"static_blog_imgs/instructions_insertion.png\" width=\"100%\">"
   ]
  },
  {
   "cell_type": "markdown",
   "metadata": {},
   "source": [
    "## Conversation State\n",
    "\n",
    "We can manually handle the chat history using alternating `user` and `assistant` messages, just as previously done with the chat completions API.\n",
    "\n"
   ]
  },
  {
   "cell_type": "code",
   "execution_count": 9,
   "metadata": {},
   "outputs": [
    {
     "name": "stdout",
     "output_type": "stream",
     "text": [
      "You mentioned that you are 40 years old.\n"
     ]
    }
   ],
   "source": [
    "response = client.responses.create(\n",
    "    model=\"gpt-4o-mini\",\n",
    "    input=[\n",
    "        {\"role\": \"developer\", \"content\": \"You are a helpful assistant.\"},\n",
    "        {\"role\": \"user\", \"content\": \"My name is Chris, and my age is 40.\"},\n",
    "        {\"role\": \"assistant\", \"content\": \"Nice to meet you, Chris!\"},\n",
    "        {\"role\": \"user\", \"content\": \"How old am I?\"},\n",
    "    ],\n",
    ")\n",
    "\n",
    "print(response.output_text)"
   ]
  },
  {
   "cell_type": "markdown",
   "metadata": {},
   "source": [
    "Alternately, we can use the `previous_response_id` parameter to manage conversation state."
   ]
  },
  {
   "cell_type": "code",
   "execution_count": 10,
   "metadata": {},
   "outputs": [
    {
     "name": "stdout",
     "output_type": "stream",
     "text": [
      "Nice to meet you, Chris! If there's anything specific you'd like to talk about or any questions you have, feel free to let me know!\n",
      "resp_67dcb9189d248191aa8b5380deffe0170a7498d0c4209037\n"
     ]
    }
   ],
   "source": [
    "response = client.responses.create(\n",
    "    model=\"gpt-4o-mini\",\n",
    "    input=[\n",
    "        {\"role\": \"developer\", \"content\": \"You are a helpful assistant.\"},\n",
    "        {\"role\": \"user\", \"content\": \"My name is Chris, and my age is 40.\"},\n",
    "    ],\n",
    ")\n",
    "\n",
    "print(response.output_text)\n",
    "print(response.id)"
   ]
  },
  {
   "cell_type": "code",
   "execution_count": 11,
   "metadata": {},
   "outputs": [
    {
     "name": "stdout",
     "output_type": "stream",
     "text": [
      "You mentioned that you are 40 years old.\n",
      "resp_67dcb919f984819194f8ba91b5c7d4130a7498d0c4209037\n"
     ]
    }
   ],
   "source": [
    "response = client.responses.create(\n",
    "    model=\"gpt-4o-mini\",\n",
    "    input=[\n",
    "        {\"role\": \"user\", \"content\": \"How old am I\"},\n",
    "    ],\n",
    "    previous_response_id=response.id,\n",
    ")\n",
    "print(response.output_text)\n",
    "print(response.id)"
   ]
  },
  {
   "cell_type": "code",
   "execution_count": 12,
   "metadata": {},
   "outputs": [
    {
     "name": "stdout",
     "output_type": "stream",
     "text": [
      "Your name is Chris.\n",
      "resp_67dcb91ae9148191a8974cf8d267ba5e0a7498d0c4209037\n"
     ]
    }
   ],
   "source": [
    "response = client.responses.create(\n",
    "    model=\"gpt-4o-mini\",\n",
    "    input=[\n",
    "        {\"role\": \"user\", \"content\": \"And what was my name?\"},\n",
    "    ],\n",
    "    previous_response_id=response.id,\n",
    ")\n",
    "print(response.output_text)\n",
    "print(response.id)"
   ]
  },
  {
   "cell_type": "markdown",
   "metadata": {},
   "source": [
    "When using `previous_response_id`, all previous input tokens for responses in the chain are billed as input tokens in the API [source](https://platform.openai.com/docs/guides/conversation-state#openai-apis-for-conversation-state).\n",
    "\n",
    "When you view the logs in dashboard for a message that used `previous_response_id`, there is a link/button to find the previous response.\n",
    "\n",
    "<img src=\"static_blog_imgs/prev_response_log.png\" width=\"100%\">\n"
   ]
  },
  {
   "cell_type": "markdown",
   "metadata": {},
   "source": [
    "When using `previous_response_id`, the **instructions** from a previous response will be not be carried over to the next response. This makes it simple to swap out system (or developer) messages in new responses [source](https://platform.openai.com/docs/api-reference/responses/create#responses-create-instructions). The instructions parameter only applies to the current response generation request."
   ]
  },
  {
   "cell_type": "code",
   "execution_count": 13,
   "metadata": {},
   "outputs": [
    {
     "name": "stdout",
     "output_type": "stream",
     "text": [
      "toronto is in canada.\n"
     ]
    },
    {
     "data": {
      "text/plain": [
       "'resp_67dcb91bd80c8191b96a2e4c3ed03b3508e4210ba7e03814'"
      ]
     },
     "execution_count": 13,
     "metadata": {},
     "output_type": "execute_result"
    }
   ],
   "source": [
    "response = client.responses.create(\n",
    "    model=\"gpt-4o-mini\",\n",
    "    input=[\n",
    "        {\"role\": \"user\", \"content\": \"What country is the city Toronto in?\"},\n",
    "    ],\n",
    "    instructions= 'You only write lower case letters'\n",
    ")\n",
    "print(response.output_text)\n",
    "response.id"
   ]
  },
  {
   "cell_type": "code",
   "execution_count": 14,
   "metadata": {},
   "outputs": [
    {
     "name": "stdout",
     "output_type": "stream",
     "text": [
      "Toronto is in Canada.\n"
     ]
    }
   ],
   "source": [
    "response = client.responses.create(\n",
    "    model=\"gpt-4o-mini\",\n",
    "    input=[\n",
    "        {\"role\": \"user\", \"content\": \"What country was it again?\"},\n",
    "    ],\n",
    "    previous_response_id=response.id\n",
    ")\n",
    "print(response.output_text)"
   ]
  },
  {
   "cell_type": "code",
   "execution_count": 15,
   "metadata": {},
   "outputs": [
    {
     "name": "stdout",
     "output_type": "stream",
     "text": [
      "TORONTO IS IN CANADA.\n"
     ]
    }
   ],
   "source": [
    "response = client.responses.create(\n",
    "    model=\"gpt-4o-mini\",\n",
    "    input=[\n",
    "        {\"role\": \"user\", \"content\": \"I forget, what was it?\"},\n",
    "    ],\n",
    "    instructions= 'You only write UPPER CASE letters',\n",
    "    previous_response_id=response.id\n",
    ")\n",
    "print(response.output_text)"
   ]
  },
  {
   "cell_type": "markdown",
   "metadata": {},
   "source": [
    "Of course there all the other OpenAI LLM goodies such as function calling, structured outputs, streaming, analyzing images, etc. I assume there\n",
    "are slight changes to the API calls but I am already familiar with these things from the chat completions API, so no point in going over them here.\n",
    "\n",
    "## Built-in tools\n",
    "\n",
    "Something new here to me is the ability to use built-in tools with the Responses API.\n",
    "As of writing, the built-in tools include things like web search, file search, computer use, and function calling.\n",
    "I'm already familiar with tool/function calling. But let's take a look at some of these other tools.\n",
    "\n",
    "\n",
    "\n",
    "\n",
    "\n"
   ]
  },
  {
   "cell_type": "code",
   "execution_count": 16,
   "metadata": {},
   "outputs": [],
   "source": [
    "# Importing these to make the output look nicer\n",
    "from monsterui.all import render_md\n",
    "from fasthtml.common import show"
   ]
  },
  {
   "cell_type": "markdown",
   "metadata": {},
   "source": [
    "### Web Search"
   ]
  },
  {
   "cell_type": "code",
   "execution_count": 25,
   "metadata": {},
   "outputs": [
    {
     "data": {
      "text/html": [
       "<div><p class=\"text-lg leading-relaxed mb-6\">Yes, Alabama State won their first game in the 2025 NCAA Men's Basketball Tournament. They secured a dramatic 70-68 victory over Saint Francis in the First Four round, thanks to Amarr Knox's last-second layup. (<a href=\"https://www.reuters.com/sports/basketball/alabama-state-stuns-saint-francis-last-second-first-four-victory-2025-03-19/?utm_source=openai\" class=\"uk-link text-primary hover:text-primary-focus underline\">reuters.com</a>) However, in the subsequent round, they faced the top-seeded Auburn Tigers and were defeated 83-63. (<a href=\"https://www.clickorlando.com/sports/2025/03/20/no-1-overall-seed-auburn-puts-away-alabama-state-83-63-to-open-march-madness/?utm_source=openai\" class=\"uk-link text-primary hover:text-primary-focus underline\">clickorlando.com</a>)</p>\n",
       "<h2 class=\"uk-h2 text-3xl font-bold mt-10 mb-5\">Alabama State's March Madness Journey:</h2>\n",
       "<ul class=\"uk-list uk-list-bullet space-y-2 mb-6 ml-6 text-lg\">\n",
       "<li class=\"leading-relaxed\"><a href=\"https://www.reuters.com/sports/basketball/alabama-state-stuns-saint-francis-last-second-first-four-victory-2025-03-19/?utm_source=openai\" class=\"uk-link text-primary hover:text-primary-focus underline\">Alabama State stuns Saint Francis for last-second First Four victory</a></li>\n",
       "</ul>\n",
       "</div>"
      ],
      "text/plain": [
       "<IPython.core.display.HTML object>"
      ]
     },
     "metadata": {},
     "output_type": "display_data"
    }
   ],
   "source": [
    "response = client.responses.create(\n",
    "    model=\"gpt-4o-mini\",\n",
    "    tools=[{\"type\": \"web_search_preview\"}],\n",
    "    input=\"Did Alabama State win their first game of the March Madness tournament in 2025?\" # web_search_preview_2025_03_11 points to a dated version of the tool\n",
    ")\n",
    "\n",
    "show(render_md(response.output_text))"
   ]
  },
  {
   "cell_type": "code",
   "execution_count": 26,
   "metadata": {},
   "outputs": [
    {
     "data": {
      "text/plain": [
       "{'id': 'resp_67dcbc296a848191beea151d745164f5086920f67eda0861',\n",
       " 'created_at': 1742519337.0,\n",
       " 'error': None,\n",
       " 'incomplete_details': None,\n",
       " 'instructions': None,\n",
       " 'metadata': {},\n",
       " 'model': 'gpt-4o-mini-2024-07-18',\n",
       " 'object': 'response',\n",
       " 'output': [{'id': 'ws_67dcbc2a09ec8191991c57849138d81d086920f67eda0861',\n",
       "   'status': 'completed',\n",
       "   'type': 'web_search_call'},\n",
       "  {'id': 'msg_67dcbc2c6eac8191a9bd11350095c2b8086920f67eda0861',\n",
       "   'content': [{'annotations': [{'end_index': 363,\n",
       "       'start_index': 210,\n",
       "       'title': 'Alabama State stuns Saint Francis for last-second First Four victory',\n",
       "       'type': 'url_citation',\n",
       "       'url': 'https://www.reuters.com/sports/basketball/alabama-state-stuns-saint-francis-last-second-first-four-victory-2025-03-19/?utm_source=openai'},\n",
       "      {'end_index': 627,\n",
       "       'start_index': 463,\n",
       "       'title': 'No. 1 overall seed Auburn puts away Alabama State 83-63 to open March Madness',\n",
       "       'type': 'url_citation',\n",
       "       'url': 'https://www.clickorlando.com/sports/2025/03/20/no-1-overall-seed-auburn-puts-away-alabama-state-83-63-to-open-march-madness/?utm_source=openai'},\n",
       "      {'end_index': 882,\n",
       "       'start_index': 674,\n",
       "       'title': 'Alabama State stuns Saint Francis for last-second First Four victory',\n",
       "       'type': 'url_citation',\n",
       "       'url': 'https://www.reuters.com/sports/basketball/alabama-state-stuns-saint-francis-last-second-first-four-victory-2025-03-19/?utm_source=openai'}],\n",
       "     'text': \"Yes, Alabama State won their first game in the 2025 NCAA Men's Basketball Tournament. They secured a dramatic 70-68 victory over Saint Francis in the First Four round, thanks to Amarr Knox's last-second layup. ([reuters.com](https://www.reuters.com/sports/basketball/alabama-state-stuns-saint-francis-last-second-first-four-victory-2025-03-19/?utm_source=openai)) However, in the subsequent round, they faced the top-seeded Auburn Tigers and were defeated 83-63. ([clickorlando.com](https://www.clickorlando.com/sports/2025/03/20/no-1-overall-seed-auburn-puts-away-alabama-state-83-63-to-open-march-madness/?utm_source=openai))\\n\\n\\n## Alabama State's March Madness Journey:\\n- [Alabama State stuns Saint Francis for last-second First Four victory](https://www.reuters.com/sports/basketball/alabama-state-stuns-saint-francis-last-second-first-four-victory-2025-03-19/?utm_source=openai) \",\n",
       "     'type': 'output_text'}],\n",
       "   'role': 'assistant',\n",
       "   'status': 'completed',\n",
       "   'type': 'message'}],\n",
       " 'parallel_tool_calls': True,\n",
       " 'temperature': 1.0,\n",
       " 'tool_choice': 'auto',\n",
       " 'tools': [{'type': 'web_search_preview',\n",
       "   'search_context_size': 'medium',\n",
       "   'user_location': {'type': 'approximate',\n",
       "    'city': None,\n",
       "    'country': 'US',\n",
       "    'region': None,\n",
       "    'timezone': None}}],\n",
       " 'top_p': 1.0,\n",
       " 'max_output_tokens': None,\n",
       " 'previous_response_id': None,\n",
       " 'reasoning': {'effort': None, 'generate_summary': None},\n",
       " 'status': 'completed',\n",
       " 'text': {'format': {'type': 'text'}},\n",
       " 'truncation': 'disabled',\n",
       " 'usage': {'input_tokens': 336,\n",
       "  'input_tokens_details': {'cached_tokens': 0},\n",
       "  'output_tokens': 257,\n",
       "  'output_tokens_details': {'reasoning_tokens': 0},\n",
       "  'total_tokens': 593},\n",
       " 'user': None,\n",
       " 'store': True}"
      ]
     },
     "execution_count": 26,
     "metadata": {},
     "output_type": "execute_result"
    }
   ],
   "source": [
    "response.to_dict()"
   ]
  },
  {
   "cell_type": "markdown",
   "metadata": {},
   "source": [
    "You can also force the use of the web_search_preview tool by using the tool_choice parameter, and setting it to `{type: \"web_search_preview\"}`:\n"
   ]
  },
  {
   "cell_type": "code",
   "execution_count": 27,
   "metadata": {},
   "outputs": [
    {
     "data": {
      "text/html": [
       "<div><p class=\"text-lg leading-relaxed mb-6\">Yes, there is an upcoming federal election in Canada. The 45th Canadian federal election is scheduled to take place on or before October 20, 2025, as per the fixed-date provisions of the Canada Elections Act. (<a href=\"https://en.m.wikipedia.org/wiki/45th_Canadian_federal_election?utm_source=openai\" class=\"uk-link text-primary hover:text-primary-focus underline\">en.m.wikipedia.org</a>)</p>\n",
       "<p class=\"text-lg leading-relaxed mb-6\">However, recent reports indicate that Prime Minister Mark Carney plans to call for an early election on April 28, 2025. Carney, who became Prime Minister after Justin Trudeau's resignation, aims to secure a strong mandate amid ongoing trade tensions and sovereignty threats from U.S. President Donald Trump. The election would see Carney's Liberal Party facing off against the Conservative Party led by Pierre Poilievre. (<a href=\"https://www.reuters.com/world/americas/canada-pm-carney-expected-call-snap-election-april-28-globe-mail-reports-2025-03-20/?utm_source=openai\" class=\"uk-link text-primary hover:text-primary-focus underline\">reuters.com</a>)</p>\n",
       "<h2 class=\"uk-h2 text-3xl font-bold mt-10 mb-5\">Canada's Upcoming Federal Election:</h2>\n",
       "<ul class=\"uk-list uk-list-bullet space-y-2 mb-6 ml-6 text-lg\">\n",
       "<li class=\"leading-relaxed\"><a href=\"https://www.reuters.com/world/americas/canada-pm-carney-expected-call-snap-election-april-28-globe-mail-reports-2025-03-20/?utm_source=openai\" class=\"uk-link text-primary hover:text-primary-focus underline\">Canada PM Carney to call for April 28 election on Sunday, Globe and Mail reports</a></li>\n",
       "<li class=\"leading-relaxed\"><a href=\"https://www.ft.com/content/91478140-77f2-4413-b41e-faa23fd5137c?utm_source=openai\" class=\"uk-link text-primary hover:text-primary-focus underline\">Canada election expected to be held on April 28</a></li>\n",
       "<li class=\"leading-relaxed\"><a href=\"https://apnews.com/article/183999b9ec9ca31c200a0d1a0cbbe01b?utm_source=openai\" class=\"uk-link text-primary hover:text-primary-focus underline\">Carney plans to trigger an early election in Canada as he shows off skating skills with an NHL team</a></li>\n",
       "</ul>\n",
       "</div>"
      ],
      "text/plain": [
       "<IPython.core.display.HTML object>"
      ]
     },
     "metadata": {},
     "output_type": "display_data"
    }
   ],
   "source": [
    "response = client.responses.create(\n",
    "    model=\"gpt-4o-mini\",\n",
    "    tools=[{\"type\": \"web_search_preview\"}],\n",
    "    tool_choice={\"type\": \"web_search_preview\"},\n",
    "    input=\"Is there an upcoming federal election in Canada?\"\n",
    ")\n",
    "show(render_md(response.output_text))\n"
   ]
  },
  {
   "cell_type": "markdown",
   "metadata": {},
   "source": []
  },
  {
   "cell_type": "code",
   "execution_count": 28,
   "metadata": {},
   "outputs": [
    {
     "data": {
      "text/plain": [
       "{'id': 'resp_67dcbc2fa508819182c54a57f44f00fb00684d0dd54f2bf5',\n",
       " 'created_at': 1742519343.0,\n",
       " 'error': None,\n",
       " 'incomplete_details': None,\n",
       " 'instructions': None,\n",
       " 'metadata': {},\n",
       " 'model': 'gpt-4o-mini-2024-07-18',\n",
       " 'object': 'response',\n",
       " 'output': [{'id': 'ws_67dcbc2fb01c8191aaa188f79e91d28100684d0dd54f2bf5',\n",
       "   'status': 'completed',\n",
       "   'type': 'web_search_call'},\n",
       "  {'id': 'msg_67dcbc3211888191b2b8fc4c36c1899000684d0dd54f2bf5',\n",
       "   'content': [{'annotations': [{'end_index': 313,\n",
       "       'start_index': 209,\n",
       "       'title': '45th Canadian federal election - Wikipedia',\n",
       "       'type': 'url_citation',\n",
       "       'url': 'https://en.m.wikipedia.org/wiki/45th_Canadian_federal_election?utm_source=openai'},\n",
       "      {'end_index': 894,\n",
       "       'start_index': 736,\n",
       "       'title': 'Canada PM Carney to call for April 28 election on Sunday, Globe and Mail reports',\n",
       "       'type': 'url_citation',\n",
       "       'url': 'https://www.reuters.com/world/americas/canada-pm-carney-expected-call-snap-election-april-28-globe-mail-reports-2025-03-20/?utm_source=openai'},\n",
       "      {'end_index': 1163,\n",
       "       'start_index': 938,\n",
       "       'title': 'Canada PM Carney to call for April 28 election on Sunday, Globe and Mail reports',\n",
       "       'type': 'url_citation',\n",
       "       'url': 'https://www.reuters.com/world/americas/canada-pm-carney-expected-call-snap-election-april-28-globe-mail-reports-2025-03-20/?utm_source=openai'},\n",
       "      {'end_index': 1298,\n",
       "       'start_index': 1166,\n",
       "       'title': 'Canada election expected to be held on April 28',\n",
       "       'type': 'url_citation',\n",
       "       'url': 'https://www.ft.com/content/91478140-77f2-4413-b41e-faa23fd5137c?utm_source=openai'},\n",
       "      {'end_index': 1481,\n",
       "       'start_index': 1301,\n",
       "       'title': 'Carney plans to trigger an early election in Canada as he shows off skating skills with an NHL team',\n",
       "       'type': 'url_citation',\n",
       "       'url': 'https://apnews.com/article/183999b9ec9ca31c200a0d1a0cbbe01b?utm_source=openai'}],\n",
       "     'text': \"Yes, there is an upcoming federal election in Canada. The 45th Canadian federal election is scheduled to take place on or before October 20, 2025, as per the fixed-date provisions of the Canada Elections Act. ([en.m.wikipedia.org](https://en.m.wikipedia.org/wiki/45th_Canadian_federal_election?utm_source=openai))\\n\\nHowever, recent reports indicate that Prime Minister Mark Carney plans to call for an early election on April 28, 2025. Carney, who became Prime Minister after Justin Trudeau's resignation, aims to secure a strong mandate amid ongoing trade tensions and sovereignty threats from U.S. President Donald Trump. The election would see Carney's Liberal Party facing off against the Conservative Party led by Pierre Poilievre. ([reuters.com](https://www.reuters.com/world/americas/canada-pm-carney-expected-call-snap-election-april-28-globe-mail-reports-2025-03-20/?utm_source=openai))\\n\\n\\n## Canada's Upcoming Federal Election:\\n- [Canada PM Carney to call for April 28 election on Sunday, Globe and Mail reports](https://www.reuters.com/world/americas/canada-pm-carney-expected-call-snap-election-april-28-globe-mail-reports-2025-03-20/?utm_source=openai)\\n- [Canada election expected to be held on April 28](https://www.ft.com/content/91478140-77f2-4413-b41e-faa23fd5137c?utm_source=openai)\\n- [Carney plans to trigger an early election in Canada as he shows off skating skills with an NHL team](https://apnews.com/article/183999b9ec9ca31c200a0d1a0cbbe01b?utm_source=openai) \",\n",
       "     'type': 'output_text'}],\n",
       "   'role': 'assistant',\n",
       "   'status': 'completed',\n",
       "   'type': 'message'}],\n",
       " 'parallel_tool_calls': True,\n",
       " 'temperature': 1.0,\n",
       " 'tool_choice': {'type': 'web_search_preview'},\n",
       " 'tools': [{'type': 'web_search_preview',\n",
       "   'search_context_size': 'medium',\n",
       "   'user_location': {'type': 'approximate',\n",
       "    'city': None,\n",
       "    'country': 'US',\n",
       "    'region': None,\n",
       "    'timezone': None}}],\n",
       " 'top_p': 1.0,\n",
       " 'max_output_tokens': None,\n",
       " 'previous_response_id': None,\n",
       " 'reasoning': {'effort': None, 'generate_summary': None},\n",
       " 'status': 'completed',\n",
       " 'text': {'format': {'type': 'text'}},\n",
       " 'truncation': 'disabled',\n",
       " 'usage': {'input_tokens': 330,\n",
       "  'input_tokens_details': {'cached_tokens': 0},\n",
       "  'output_tokens': 384,\n",
       "  'output_tokens_details': {'reasoning_tokens': 0},\n",
       "  'total_tokens': 714},\n",
       " 'user': None,\n",
       " 'store': True}"
      ]
     },
     "execution_count": 28,
     "metadata": {},
     "output_type": "execute_result"
    }
   ],
   "source": [
    "response.to_dict()"
   ]
  },
  {
   "cell_type": "markdown",
   "metadata": {},
   "source": [
    "Note that for a web search we have:\n",
    "\n",
    "- A `web_search_call` output item with the ID of the search call."
   ]
  },
  {
   "cell_type": "code",
   "execution_count": 29,
   "metadata": {},
   "outputs": [
    {
     "data": {
      "text/plain": [
       "ResponseFunctionWebSearch(id='ws_67dcbc2fb01c8191aaa188f79e91d28100684d0dd54f2bf5', status='completed', type='web_search_call')"
      ]
     },
     "execution_count": 29,
     "metadata": {},
     "output_type": "execute_result"
    }
   ],
   "source": [
    "response.output[0]"
   ]
  },
  {
   "cell_type": "markdown",
   "metadata": {},
   "source": [
    "- the annotations:\n",
    "\n",
    "\n"
   ]
  },
  {
   "cell_type": "code",
   "execution_count": 30,
   "metadata": {},
   "outputs": [
    {
     "data": {
      "text/plain": [
       "[AnnotationURLCitation(end_index=313, start_index=209, title='45th Canadian federal election - Wikipedia', type='url_citation', url='https://en.m.wikipedia.org/wiki/45th_Canadian_federal_election?utm_source=openai'),\n",
       " AnnotationURLCitation(end_index=894, start_index=736, title='Canada PM Carney to call for April 28 election on Sunday, Globe and Mail reports', type='url_citation', url='https://www.reuters.com/world/americas/canada-pm-carney-expected-call-snap-election-april-28-globe-mail-reports-2025-03-20/?utm_source=openai'),\n",
       " AnnotationURLCitation(end_index=1163, start_index=938, title='Canada PM Carney to call for April 28 election on Sunday, Globe and Mail reports', type='url_citation', url='https://www.reuters.com/world/americas/canada-pm-carney-expected-call-snap-election-april-28-globe-mail-reports-2025-03-20/?utm_source=openai'),\n",
       " AnnotationURLCitation(end_index=1298, start_index=1166, title='Canada election expected to be held on April 28', type='url_citation', url='https://www.ft.com/content/91478140-77f2-4413-b41e-faa23fd5137c?utm_source=openai'),\n",
       " AnnotationURLCitation(end_index=1481, start_index=1301, title='Carney plans to trigger an early election in Canada as he shows off skating skills with an NHL team', type='url_citation', url='https://apnews.com/article/183999b9ec9ca31c200a0d1a0cbbe01b?utm_source=openai')]"
      ]
     },
     "execution_count": 30,
     "metadata": {},
     "output_type": "execute_result"
    }
   ],
   "source": [
    "response.output[1].content[0].annotations"
   ]
  },
  {
   "cell_type": "markdown",
   "metadata": {},
   "source": [
    "- text content:"
   ]
  },
  {
   "cell_type": "code",
   "execution_count": 31,
   "metadata": {},
   "outputs": [
    {
     "data": {
      "text/plain": [
       "\"Yes, there is an upcoming federal election in Canada. The 45th Canadian federal election is scheduled to take place on or before October 20, 2025, as per the fixed-date provisions of the Canada Elections Act. ([en.m.wikipedia.org](https://en.m.wikipedia.org/wiki/45th_Canadian_federal_election?utm_source=openai))\\n\\nHowever, recent reports indicate that Prime Minister Mark Carney plans to call for an early election on April 28, 2025. Carney, who became Prime Minister after Justin Trudeau's resignation, aims to secure a strong mandate amid ongoing trade tensions and sovereignty threats from U.S. President Donald Trump. The election would see Carney's Liberal Party facing off against the Conservative Party led by Pierre Poilievre. ([reuters.com](https://www.reuters.com/world/americas/canada-pm-carney-expected-call-snap-election-april-28-globe-mail-reports-2025-03-20/?utm_source=openai))\\n\\n\\n## Canada's Upcoming Federal Election:\\n- [Canada PM Carney to call for April 28 election on Sunday, Globe and Mail reports](https://www.reuters.com/world/americas/canada-pm-carney-expected-call-snap-election-april-28-globe-mail-reports-2025-03-20/?utm_source=openai)\\n- [Canada election expected to be held on April 28](https://www.ft.com/content/91478140-77f2-4413-b41e-faa23fd5137c?utm_source=openai)\\n- [Carney plans to trigger an early election in Canada as he shows off skating skills with an NHL team](https://apnews.com/article/183999b9ec9ca31c200a0d1a0cbbe01b?utm_source=openai) \""
      ]
     },
     "execution_count": 31,
     "metadata": {},
     "output_type": "execute_result"
    }
   ],
   "source": [
    "response.output[1].content[0].text\n",
    "\n",
    "\n",
    "\n",
    "\n",
    "\n"
   ]
  },
  {
   "cell_type": "markdown",
   "metadata": {},
   "source": [
    "To refine search results based on geography, you can specify an approximate user location using country, city, region, and/or timezone.\n",
    "\n",
    "\n"
   ]
  },
  {
   "cell_type": "code",
   "execution_count": 32,
   "metadata": {},
   "outputs": [
    {
     "data": {
      "text/html": [
       "<div><p class=\"text-lg leading-relaxed mb-6\">Halifax boasts a vibrant culinary scene with a diverse array of dining options. Here are some top-rated restaurants you might consider:</p>\n",
       "<p class=\"text-lg leading-relaxed mb-6\"><strong><a href=\"https://www.google.com/maps/search/The+Bicycle+Thief%2C+Halifax%2C+Canada\" class=\"uk-link text-primary hover:text-primary-focus underline\">The Bicycle Thief</a></strong>\n",
       "<em>Halifax, Canada</em>\n",
       "Located on the waterfront, this restaurant offers a blend of Italian and Nova Scotian cuisine in a lively atmosphere.</p>\n",
       "<p class=\"text-lg leading-relaxed mb-6\"><strong><a href=\"https://www.google.com/maps/search/Salt+%2B+Ash+Beach+House%2C+Halifax%2C+Canada\" class=\"uk-link text-primary hover:text-primary-focus underline\">Salt + Ash Beach House</a></strong>\n",
       "<em>Halifax, Canada</em>\n",
       "Situated on the waterfront, Salt + Ash Beach House is known for its seafood and comfort food offerings, attracting both locals and visitors.</p>\n",
       "<p class=\"text-lg leading-relaxed mb-6\"><strong><a href=\"https://www.google.com/maps/search/EDNA+Restaurant%2C+Halifax%2C+Canada\" class=\"uk-link text-primary hover:text-primary-focus underline\">EDNA Restaurant</a></strong>\n",
       "<em>Halifax, Canada</em>\n",
       "Located in the North End, EDNA offers a creative and thoughtful menu, with dishes like fresh oysters and sous vide chicken.</p>\n",
       "<p class=\"text-lg leading-relaxed mb-6\"><strong><a href=\"https://www.google.com/maps/search/Fredie%E2%80%99s+Fantastic+Fish+House%2C+Halifax%2C+Canada\" class=\"uk-link text-primary hover:text-primary-focus underline\">Fredie’s Fantastic Fish House</a></strong>\n",
       "<em>Halifax, Canada</em>\n",
       "A Bayers Lake favorite, Fredie’s is renowned for its fresh seafood, including lobster rolls and clams.</p>\n",
       "<p class=\"text-lg leading-relaxed mb-6\"><strong><a href=\"https://www.google.com/maps/search/The+Five+Fishermen+Restaurant%2C+Halifax%2C+Canada\" class=\"uk-link text-primary hover:text-primary-focus underline\">The Five Fishermen Restaurant</a></strong>\n",
       "<em>Halifax, Canada</em>\n",
       "Situated downtown, this restaurant offers a classic Nova Scotian fine dining experience with local seafood and an oyster bar.</p>\n",
       "<p class=\"text-lg leading-relaxed mb-6\"><strong><a href=\"https://www.google.com/maps/search/2+Doors+Down%2C+Halifax%2C+Canada\" class=\"uk-link text-primary hover:text-primary-focus underline\">2 Doors Down</a></strong>\n",
       "<em>Halifax, Canada</em>\n",
       "Located downtown, 2 Doors Down is known for its Canadian cuisine, desserts, and wine bar in a casual setting.</p>\n",
       "<p class=\"text-lg leading-relaxed mb-6\"><strong><a href=\"https://www.google.com/maps/search/Bar+Kismet%2C+Halifax%2C+Canada\" class=\"uk-link text-primary hover:text-primary-focus underline\">Bar Kismet</a></strong>\n",
       "<em>Halifax, Canada</em>\n",
       "Found in the North End, Bar Kismet offers amazing food, drinks, and service, with a focus on seafood and cocktails.</p>\n",
       "<p class=\"text-lg leading-relaxed mb-6\"><strong><a href=\"https://www.google.com/maps/search/Eliot+%26+Vine%2C+Halifax%2C+Canada\" class=\"uk-link text-primary hover:text-primary-focus underline\">Eliot &amp; Vine</a></strong>\n",
       "<em>Halifax, Canada</em>\n",
       "This North End restaurant offers a casual atmosphere with top-notch food, including succulent sous vide chicken.</p>\n",
       "<p class=\"text-lg leading-relaxed mb-6\"><strong><a href=\"https://www.google.com/maps/search/Willy%E2%80%99s%2C+Halifax%2C+Canada\" class=\"uk-link text-primary hover:text-primary-focus underline\">Willy’s</a></strong>\n",
       "<em>Halifax, Canada</em>\n",
       "A downtown favorite, Willy’s is known for its poutine, offering a variety of toppings in a casual setting.</p>\n",
       "<p class=\"text-lg leading-relaxed mb-6\"><strong><a href=\"https://www.google.com/maps/search/Rasa%3A+Flavours+of+India%2C+Halifax%2C+Canada\" class=\"uk-link text-primary hover:text-primary-focus underline\">Rasa: Flavours of India</a></strong>\n",
       "<em>Halifax, Canada</em>\n",
       "A stylish Indian restaurant in the Spring Garden Road district, Rasa offers extensive wine and cocktail lists along with a lengthy food menu.</p>\n",
       "<p class=\"text-lg leading-relaxed mb-6\">These establishments showcase the rich culinary diversity Halifax has to offer, catering to a variety of tastes and preferences.</p>\n",
       "</div>"
      ],
      "text/plain": [
       "<IPython.core.display.HTML object>"
      ]
     },
     "metadata": {},
     "output_type": "display_data"
    }
   ],
   "source": [
    "response = client.responses.create(\n",
    "    model=\"gpt-4o-mini\",\n",
    "    tools=[{\n",
    "        \"type\": \"web_search_preview\",\n",
    "        \"user_location\": {\n",
    "            \"type\": \"approximate\",\n",
    "            \"country\": \"CA\", #  two-letter ISO country code\n",
    "            \"city\": \"Halifax\", # free text strings\n",
    "            \"region\": \"Nova Scotia\", # free text strings\n",
    "        }\n",
    "    }],\n",
    "    input=\"What are the best restaurants around Halifax?\",\n",
    ")\n",
    "\n",
    "show(render_md(response.output_text))"
   ]
  },
  {
   "cell_type": "markdown",
   "metadata": {},
   "source": [
    "The parameter `search_context_size` controls the number of search results. The tokens used by the search tool **do not** affect the context window of the main model.\n",
    "Choosing the `search_context_size` parameter is a trade-off between cost, quality, and latency. The available values are 'high', 'medium', and 'low'. The default is 'medium'.\n",
    "The [pricing page](https://platform.openai.com/docs/pricing) has all the details"
   ]
  },
  {
   "cell_type": "markdown",
   "metadata": {},
   "source": [
    "## File Search"
   ]
  },
  {
   "cell_type": "markdown",
   "metadata": {},
   "source": []
  }
 ],
 "metadata": {
  "kernelspec": {
   "display_name": ".venv",
   "language": "python",
   "name": "python3"
  },
  "language_info": {
   "codemirror_mode": {
    "name": "ipython",
    "version": 3
   },
   "file_extension": ".py",
   "mimetype": "text/x-python",
   "name": "python",
   "nbconvert_exporter": "python",
   "pygments_lexer": "ipython3",
   "version": "3.11.11"
  }
 },
 "nbformat": 4,
 "nbformat_minor": 2
}
