{
 "cells": [
  {
   "cell_type": "raw",
   "id": "d600661c5d27d391",
   "metadata": {
    "collapsed": false
   },
   "source": [
    "---\n",
    "title: DSPy\n",
    "author: Chris Levy\n",
    "date: '2024-02-12'\n",
    "date-modified: '2024-02-12'\n",
    "image: \"imgs/gpt_dspy_image.webp\"\n",
    "toc: true\n",
    "format:\n",
    "  html:\n",
    "    code-fold: show\n",
    "    page-layout: full\n",
    "bibliography: ../../bibliography.bib\n",
    "---"
   ]
  },
  {
   "cell_type": "markdown",
   "id": "95699614b2a8f988",
   "metadata": {
    "collapsed": false
   },
   "source": [
    "# Intro\n",
    "\n",
    "[`DSPy`](https://github.com/stanfordnlp/dspy) kept popping up on my X timeline and I thought it looked pretty interesting, so I decided to take a few days to look into it. I didn't get super deep into it yet, but I think I have a high level understanding. The library is fairly new IMO (as of writing this). There is excitement around it though and a growing community. I am hopeful that the documentation and library will continue to improve throughout the year. If you are completely new to `DSPy` I would suggest the following resources below.\n",
    "\n",
    "- Read through the newer documentation [here](https://dspy-docs.vercel.app/docs/intro).\n",
    "- Checkout the README from [`DSPY` GitHub repo](https://github.com/stanfordnlp/dspy) and the examples there.\n",
    "- Try and code up some simple examples on your own data.\n",
    "- Checkout the [Discord server](https://discord.gg/s7cFzpw3Mj).\n",
    "- Skim through or read some of the associated papers (see the paper links on the `DSPy` repo [README](https://github.com/stanfordnlp/dspy?tab=readme-ov-file#dspy-programmingnot-promptingfoundation-models)).\n",
    "- There are also some decent videos on YouTube. Simply Search for `DSPy` LLM etc. \n",
    "\n",
    "# ENV Setup\n",
    "\n",
    "```\n",
    "python3 -m venv env\n",
    "source env/bin/activate\n",
    "pip install dspy-ai\n",
    "pip install openai --upgrade\n",
    "```\n",
    "\n",
    "```python\n",
    "import os\n",
    "os.environ[\"OPENAI_API_KEY\"] = \"YOUR_OPENAI_API_KEY\"\n",
    "```\n",
    "\n",
    "# BIG-Bench Hard Dataset - Penguins In a Table - Example\n",
    "\n",
    "Within the [BIG-Bench Hard dataset](https://github.com/suzgunmirac/BIG-Bench-Hard) [@suzgun2022challenging] there are various tasks. You can use one of these strings when using `load_dataset` to load in the corresponding records for that task.\n",
    "\n",
    "```python\n",
    "['tracking_shuffled_objects_seven_objects', 'salient_translation_error_detection', 'tracking_shuffled_objects_three_objects', 'geometric_shapes', 'object_counting', 'word_sorting', 'logical_deduction_five_objects', 'hyperbaton', 'sports_understanding', 'logical_deduction_seven_objects', 'multistep_arithmetic_two', 'ruin_names', 'causal_judgement', 'logical_deduction_three_objects', 'formal_fallacies', 'snarks', 'boolean_expressions', 'reasoning_about_colored_objects', 'dyck_languages', 'navigate', 'disambiguation_qa', 'temporal_sequences', 'web_of_lies', 'tracking_shuffled_objects_five_objects', 'penguins_in_a_table', 'movie_recommendation', 'date_understanding']\n",
    "```\n",
    "\n",
    "We will use the `penguins_in_a_table` task."
   ]
  },
  {
   "cell_type": "code",
   "execution_count": 1,
   "id": "2c4f768adf8645ba",
   "metadata": {
    "collapsed": false,
    "ExecuteTime": {
     "end_time": "2024-02-13T03:47:40.220392Z",
     "start_time": "2024-02-13T03:47:38.657105Z"
    }
   },
   "outputs": [
    {
     "name": "stdout",
     "output_type": "stream",
     "text": [
      "There are 146 examples.\n"
     ]
    }
   ],
   "source": [
    "from datasets import load_dataset\n",
    "import dspy\n",
    "\n",
    "ds = load_dataset(\"maveriq/bigbenchhard\", \"penguins_in_a_table\")[\"train\"]\n",
    "examples = [dspy.Example({\"question\": r[\"input\"], \"answer\": r[\"target\"]}).with_inputs(\"question\") for r in ds]\n",
    "print(f\"There are {len(examples)} examples.\")\n",
    "trainset = examples[0:20]\n",
    "valset = examples[20:]"
   ]
  },
  {
   "cell_type": "code",
   "execution_count": 2,
   "id": "8537d9fba2cd8d45",
   "metadata": {
    "collapsed": false,
    "ExecuteTime": {
     "end_time": "2024-02-13T03:47:41.036482Z",
     "start_time": "2024-02-13T03:47:41.019509Z"
    }
   },
   "outputs": [
    {
     "name": "stdout",
     "output_type": "stream",
     "text": [
      "\n",
      "QUESTION:\n",
      "\n",
      "Here is a table where the first line is a header and each subsequent line is a penguin:  name, age, height (cm), weight (kg) Louis, 7, 50, 11 Bernard, 5, 80, 13 Vincent, 9, 60, 11 Gwen, 8, 70, 15  For example: the age of Louis is 7, the weight of Gwen is 15 kg, the height of Bernard is 80 cm.  We then delete the penguin named Bernard from the table.\n",
      "How many penguins are more than 8 years old?\n",
      "Options:\n",
      "(A) 1\n",
      "(B) 2\n",
      "(C) 3\n",
      "(D) 4\n",
      "(E) 5\n",
      "\n",
      "ANSWER:\n",
      "\n",
      "(A)\n"
     ]
    }
   ],
   "source": [
    "example = trainset[10]\n",
    "for k, v in example.items():\n",
    "    print(f\"\\n{k.upper()}:\\n\")\n",
    "    print(v)"
   ]
  },
  {
   "cell_type": "markdown",
   "id": "1310881bd7e57c2b",
   "metadata": {
    "collapsed": false
   },
   "source": [
    "We will use the `DSPy` OpenAI connector to make calls to gpt-3.5. Note that `DSPy` caches\n",
    "API calls so that subsequent calls with the same input will read from the cache instead of calling OpenAI API a second time.  "
   ]
  },
  {
   "cell_type": "code",
   "execution_count": 3,
   "id": "23d8967a1bdc7524",
   "metadata": {
    "collapsed": false,
    "ExecuteTime": {
     "end_time": "2024-02-13T03:47:48.050521Z",
     "start_time": "2024-02-13T03:47:48.016416Z"
    }
   },
   "outputs": [],
   "source": [
    "llm = dspy.OpenAI(model=\"gpt-3.5-turbo-0125\", max_tokens=250)\n",
    "dspy.settings.configure(lm=llm)"
   ]
  },
  {
   "cell_type": "markdown",
   "id": "60dafeca731af1a8",
   "metadata": {
    "collapsed": false
   },
   "source": [
    "We can test that the calls to OpenAI are working:"
   ]
  },
  {
   "cell_type": "code",
   "execution_count": 4,
   "id": "92b0072c63448051",
   "metadata": {
    "collapsed": false,
    "ExecuteTime": {
     "end_time": "2024-02-13T03:47:49.324452Z",
     "start_time": "2024-02-13T03:47:49.309683Z"
    }
   },
   "outputs": [
    {
     "data": {
      "text/plain": "[\"Hello! I'm here to help. What can I assist you with today?\"]"
     },
     "execution_count": 4,
     "metadata": {},
     "output_type": "execute_result"
    }
   ],
   "source": [
    "llm(\"Testing testing, is anyone out there?\")"
   ]
  },
  {
   "cell_type": "code",
   "execution_count": 5,
   "id": "799fe0476563bfb8",
   "metadata": {
    "collapsed": false,
    "ExecuteTime": {
     "end_time": "2024-02-13T03:47:50.170865Z",
     "start_time": "2024-02-13T03:47:50.153700Z"
    }
   },
   "outputs": [
    {
     "data": {
      "text/plain": "['There are 2 penguins who are more than 8 years old: Vincent (9 years old) and Gwen (8 years old). \\n\\nTherefore, the answer is (B) 2.']"
     },
     "execution_count": 5,
     "metadata": {},
     "output_type": "execute_result"
    }
   ],
   "source": [
    "llm(example.question)"
   ]
  },
  {
   "cell_type": "markdown",
   "id": "18bd28555a18ad",
   "metadata": {
    "collapsed": false
   },
   "source": [
    "At any point we can look at the last `n` calls to the llm:"
   ]
  },
  {
   "cell_type": "code",
   "execution_count": 6,
   "id": "28519e26fecc009c",
   "metadata": {
    "collapsed": false,
    "ExecuteTime": {
     "end_time": "2024-02-13T03:47:52.753377Z",
     "start_time": "2024-02-13T03:47:52.733539Z"
    }
   },
   "outputs": [
    {
     "name": "stdout",
     "output_type": "stream",
     "text": [
      "\n",
      "\n",
      "\n",
      "\n",
      "Testing testing, is anyone out there?\u001B[32m Hello! I'm here to help. What can I assist you with today?\u001B[0m\n",
      "\n",
      "\n",
      "\n",
      "\n",
      "\n",
      "\n",
      "\n",
      "Here is a table where the first line is a header and each subsequent line is a penguin:  name, age, height (cm), weight (kg) Louis, 7, 50, 11 Bernard, 5, 80, 13 Vincent, 9, 60, 11 Gwen, 8, 70, 15  For example: the age of Louis is 7, the weight of Gwen is 15 kg, the height of Bernard is 80 cm.  We then delete the penguin named Bernard from the table.\n",
      "How many penguins are more than 8 years old?\n",
      "Options:\n",
      "(A) 1\n",
      "(B) 2\n",
      "(C) 3\n",
      "(D) 4\n",
      "(E) 5\u001B[32m There are 2 penguins who are more than 8 years old: Vincent (9 years old) and Gwen (8 years old). \n",
      "\n",
      "Therefore, the answer is (B) 2.\u001B[0m\n"
     ]
    }
   ],
   "source": [
    "llm.inspect_history(n=2)"
   ]
  },
  {
   "cell_type": "markdown",
   "id": "585980ac52de01df",
   "metadata": {
    "collapsed": false
   },
   "source": [
    "Our evaluation metric will check if the llm output contains the correct multiple choice \n",
    "answer. To define an evaluation metric in `DSPy` we create a function like the example below. The first two inputs\n",
    "should be instances of `dspy.Example`. The metric function can contain any logic you need to evaluate your task. You can read more about the `trace`\n",
    "argument in the [documentation](https://dspy-docs.vercel.app/docs/building-blocks/metrics#simple-metrics). It needs to be there, even if not explicitly using it."
   ]
  },
  {
   "cell_type": "code",
   "execution_count": 7,
   "id": "4d8c9a79e68c625b",
   "metadata": {
    "collapsed": false,
    "ExecuteTime": {
     "end_time": "2024-02-13T03:47:57.719065Z",
     "start_time": "2024-02-13T03:47:57.706858Z"
    }
   },
   "outputs": [],
   "source": [
    "def eval_metric(true, prediction, trace=None):\n",
    "    prediction_answer = prediction.answer\n",
    "    parsed_answer = f\"({prediction_answer[prediction_answer.find('(') + 1]})\"\n",
    "    return parsed_answer == true.answer"
   ]
  },
  {
   "cell_type": "markdown",
   "id": "9113607bb403401d",
   "metadata": {
    "collapsed": false
   },
   "source": [
    "We set up an evaluation pipeline:"
   ]
  },
  {
   "cell_type": "code",
   "execution_count": 8,
   "id": "852bf997ff82bd4b",
   "metadata": {
    "collapsed": false,
    "ExecuteTime": {
     "end_time": "2024-02-13T03:47:59.724310Z",
     "start_time": "2024-02-13T03:47:59.711690Z"
    }
   },
   "outputs": [],
   "source": [
    "from dspy.evaluate import Evaluate\n",
    "\n",
    "evaluate = Evaluate(devset=valset, metric=eval_metric, num_threads=6, display_progress=True, display_table=5)"
   ]
  },
  {
   "cell_type": "markdown",
   "id": "a45ff68f8553397",
   "metadata": {
    "collapsed": false
   },
   "source": [
    "Here is a simple module in `DSPy` for basic question and answer."
   ]
  },
  {
   "cell_type": "code",
   "execution_count": 9,
   "id": "858b1c03fc8cf95b",
   "metadata": {
    "collapsed": false,
    "ExecuteTime": {
     "end_time": "2024-02-13T03:48:01.431775Z",
     "start_time": "2024-02-13T03:48:01.411434Z"
    }
   },
   "outputs": [],
   "source": [
    "class BasicQA(dspy.Module):\n",
    "    def __init__(self):\n",
    "        super().__init__()\n",
    "        self.prog = dspy.Predict(\"question -> answer\")\n",
    "\n",
    "    def forward(self, question):\n",
    "        return self.prog(question=question)\n",
    "\n",
    "\n",
    "basic_qa = BasicQA()"
   ]
  },
  {
   "cell_type": "markdown",
   "id": "d9ca93d777a79432",
   "metadata": {
    "collapsed": false
   },
   "source": [
    "The `forward` method calls `__call__` similar to how things work in pytorch."
   ]
  },
  {
   "cell_type": "code",
   "execution_count": 10,
   "id": "377050a46e338c02",
   "metadata": {
    "collapsed": false,
    "ExecuteTime": {
     "end_time": "2024-02-13T03:48:02.669904Z",
     "start_time": "2024-02-13T03:48:02.663114Z"
    }
   },
   "outputs": [
    {
     "name": "stdout",
     "output_type": "stream",
     "text": [
      "\n",
      "QUESTION:\n",
      "\n",
      "Here is a table where the first line is a header and each subsequent line is a penguin:  name, age, height (cm), weight (kg) Louis, 7, 50, 11 Bernard, 5, 80, 13 Vincent, 9, 60, 11 Gwen, 8, 70, 15  For example: the age of Louis is 7, the weight of Gwen is 15 kg, the height of Bernard is 80 cm.  We then delete the penguin named Bernard from the table.\n",
      "How many penguins are more than 8 years old?\n",
      "Options:\n",
      "(A) 1\n",
      "(B) 2\n",
      "(C) 3\n",
      "(D) 4\n",
      "(E) 5\n",
      "\n",
      "ANSWER:\n",
      "\n",
      "(A)\n",
      "\n",
      "PREDICTION:\n",
      "\n",
      "(B) 2\n"
     ]
    }
   ],
   "source": [
    "pred = basic_qa(question=example.question)\n",
    "print(\"\\nQUESTION:\\n\")\n",
    "print(example.question)\n",
    "print(\"\\nANSWER:\\n\")\n",
    "print(example.answer)\n",
    "print(\"\\nPREDICTION:\\n\")\n",
    "print(pred.answer)"
   ]
  },
  {
   "cell_type": "code",
   "execution_count": 16,
   "id": "f08bfce2a7216c3f",
   "metadata": {
    "collapsed": false,
    "ExecuteTime": {
     "end_time": "2024-02-13T03:49:29.283394Z",
     "start_time": "2024-02-13T03:49:29.263532Z"
    }
   },
   "outputs": [
    {
     "data": {
      "text/plain": "False"
     },
     "execution_count": 16,
     "metadata": {},
     "output_type": "execute_result"
    }
   ],
   "source": [
    "eval_metric(example, pred)"
   ]
  },
  {
   "cell_type": "code",
   "execution_count": 17,
   "id": "fc8d6b0c65783514",
   "metadata": {
    "collapsed": false,
    "ExecuteTime": {
     "end_time": "2024-02-13T03:49:30.087339Z",
     "start_time": "2024-02-13T03:49:30.057498Z"
    }
   },
   "outputs": [
    {
     "name": "stdout",
     "output_type": "stream",
     "text": [
      "\n",
      "\n",
      "\n",
      "\n",
      "Given the fields `question`, produce the fields `answer`.\n",
      "\n",
      "---\n",
      "\n",
      "Follow the following format.\n",
      "\n",
      "Question: ${question}\n",
      "Answer: ${answer}\n",
      "\n",
      "---\n",
      "\n",
      "Question: Here is a table where the first line is a header and each subsequent line is a penguin: name, age, height (cm), weight (kg) Louis, 7, 50, 11 Bernard, 5, 80, 13 Vincent, 9, 60, 11 Gwen, 8, 70, 15 For example: the age of Louis is 7, the weight of Gwen is 15 kg, the height of Bernard is 80 cm. We now add a penguin to the table: James, 12, 90, 12 We then delete the penguin named Bernard from the table. How many penguins are less than 8 years old? Options: (A) 1 (B) 2 (C) 3 (D) 4 (E) 5\n",
      "Answer: (A)\n",
      "\n",
      "---\n",
      "\n",
      "Question: Here is a table where the first line is a header and each subsequent line is a penguin: name, age, height (cm), weight (kg) Louis, 7, 50, 11 Bernard, 5, 80, 13 Vincent, 9, 60, 11 Gwen, 8, 70, 15 For example: the age of Louis is 7, the weight of Gwen is 15 kg, the height of Bernard is 80 cm. We now add a penguin to the table: James, 12, 90, 12 And here is a similar table, but listing giraffes: name, age, height (cm), weight (kg) Jody, 5, 430, 620 Gladys, 10, 420, 590 Marian, 2, 310, 410 Donna, 9, 440, 650 How many giraffes are there in the tables? Options: (A) 1 (B) 2 (C) 3 (D) 4 (E) 5\n",
      "Answer: (D)\n",
      "\n",
      "---\n",
      "\n",
      "Question: Here is a table where the first line is a header and each subsequent line is a penguin: name, age, height (cm), weight (kg) Louis, 7, 50, 11 Bernard, 5, 80, 13 Vincent, 9, 60, 11 Gwen, 8, 70, 15 For example: the age of Louis is 7, the weight of Gwen is 15 kg, the height of Bernard is 80 cm. What is the name of the last penguin sorted by alphabetic order? Options: (A) Louis (B) Bernard (C) Vincent (D) Gwen (E) James\n",
      "Answer: (C)\n",
      "\n",
      "---\n",
      "\n",
      "Question: Here is a table where the first line is a header and each subsequent line is a penguin: name, age, height (cm), weight (kg) Louis, 7, 50, 11 Bernard, 5, 80, 13 Vincent, 9, 60, 11 Gwen, 8, 70, 15 For example: the age of Louis is 7, the weight of Gwen is 15 kg, the height of Bernard is 80 cm. We now add a penguin to the table: James, 12, 90, 12 How many penguins are there in the table? Options: (A) 1 (B) 2 (C) 3 (D) 4 (E) 5\n",
      "Answer: (E)\n",
      "\n",
      "---\n",
      "\n",
      "Question: Here is a table where the first line is a header and each subsequent line is a penguin: name, age, height (cm), weight (kg) Louis, 7, 50, 11 Bernard, 5, 80, 13 Vincent, 9, 60, 11 Gwen, 8, 70, 15 For example: the age of Louis is 7, the weight of Gwen is 15 kg, the height of Bernard is 80 cm. Which penguin has the first name of a famous jazzman? Options: (A) Louis (B) Bernard (C) Vincent (D) Gwen (E) James\n",
      "Answer:\u001B[32m (A)\u001B[0m\n"
     ]
    }
   ],
   "source": [
    "llm.inspect_history(n=1)"
   ]
  },
  {
   "cell_type": "markdown",
   "id": "94542712d2a73d8d",
   "metadata": {
    "collapsed": false
   },
   "source": [
    "Now we can pass each example question through the LLM in the validation set and check if we get the correct answer:"
   ]
  },
  {
   "cell_type": "code",
   "execution_count": 19,
   "id": "fdc61aa81ef52a2b",
   "metadata": {
    "collapsed": false,
    "ExecuteTime": {
     "end_time": "2024-02-13T03:49:57.663293Z",
     "start_time": "2024-02-13T03:49:57.577735Z"
    }
   },
   "outputs": [
    {
     "name": "stderr",
     "output_type": "stream",
     "text": [
      "Average Metric: 46 / 126  (36.5): 100%|██████████| 126/126 [00:00<00:00, 3893.46it/s]"
     ]
    },
    {
     "name": "stdout",
     "output_type": "stream",
     "text": [
      "Average Metric: 46 / 126  (36.5%)\n"
     ]
    },
    {
     "name": "stderr",
     "output_type": "stream",
     "text": [
      "\n"
     ]
    },
    {
     "data": {
      "text/plain": "<pandas.io.formats.style.Styler at 0x16257dcd0>",
      "text/html": "<style type=\"text/css\">\n#T_8f297 th {\n  text-align: left;\n}\n#T_8f297 td {\n  text-align: left;\n}\n#T_8f297_row0_col0, #T_8f297_row0_col1, #T_8f297_row0_col2, #T_8f297_row0_col3, #T_8f297_row1_col0, #T_8f297_row1_col1, #T_8f297_row1_col2, #T_8f297_row1_col3, #T_8f297_row2_col0, #T_8f297_row2_col1, #T_8f297_row2_col2, #T_8f297_row2_col3, #T_8f297_row3_col0, #T_8f297_row3_col1, #T_8f297_row3_col2, #T_8f297_row3_col3, #T_8f297_row4_col0, #T_8f297_row4_col1, #T_8f297_row4_col2, #T_8f297_row4_col3 {\n  text-align: left;\n  white-space: pre-wrap;\n  word-wrap: break-word;\n  max-width: 400px;\n}\n</style>\n<table id=\"T_8f297\">\n  <thead>\n    <tr>\n      <th class=\"blank level0\" >&nbsp;</th>\n      <th id=\"T_8f297_level0_col0\" class=\"col_heading level0 col0\" >question</th>\n      <th id=\"T_8f297_level0_col1\" class=\"col_heading level0 col1\" >example_answer</th>\n      <th id=\"T_8f297_level0_col2\" class=\"col_heading level0 col2\" >pred_answer</th>\n      <th id=\"T_8f297_level0_col3\" class=\"col_heading level0 col3\" >eval_metric</th>\n    </tr>\n  </thead>\n  <tbody>\n    <tr>\n      <th id=\"T_8f297_level0_row0\" class=\"row_heading level0 row0\" >0</th>\n      <td id=\"T_8f297_row0_col0\" class=\"data row0 col0\" >Here is a table where the first line is a header and each subsequent line is a penguin: name, age, height (cm), weight (kg) Louis,...</td>\n      <td id=\"T_8f297_row0_col1\" class=\"data row0 col1\" >(A)</td>\n      <td id=\"T_8f297_row0_col2\" class=\"data row0 col2\" >3</td>\n      <td id=\"T_8f297_row0_col3\" class=\"data row0 col3\" >False</td>\n    </tr>\n    <tr>\n      <th id=\"T_8f297_level0_row1\" class=\"row_heading level0 row1\" >1</th>\n      <td id=\"T_8f297_row1_col0\" class=\"data row1 col0\" >Here is a table where the first line is a header and each subsequent line is a penguin: name, age, height (cm), weight (kg) Louis,...</td>\n      <td id=\"T_8f297_row1_col1\" class=\"data row1 col1\" >(D)</td>\n      <td id=\"T_8f297_row1_col2\" class=\"data row1 col2\" >(C) 50</td>\n      <td id=\"T_8f297_row1_col3\" class=\"data row1 col3\" >False</td>\n    </tr>\n    <tr>\n      <th id=\"T_8f297_level0_row2\" class=\"row_heading level0 row2\" >2</th>\n      <td id=\"T_8f297_row2_col0\" class=\"data row2 col0\" >Here is a table where the first line is a header and each subsequent line is a penguin: name, age, height (cm), weight (kg) Louis,...</td>\n      <td id=\"T_8f297_row2_col1\" class=\"data row2 col1\" >(A)</td>\n      <td id=\"T_8f297_row2_col2\" class=\"data row2 col2\" >Answer: (C) 3</td>\n      <td id=\"T_8f297_row2_col3\" class=\"data row2 col3\" >False</td>\n    </tr>\n    <tr>\n      <th id=\"T_8f297_level0_row3\" class=\"row_heading level0 row3\" >3</th>\n      <td id=\"T_8f297_row3_col0\" class=\"data row3 col0\" >Here is a table where the first line is a header and each subsequent line is a penguin: name, age, height (cm), weight (kg) Louis,...</td>\n      <td id=\"T_8f297_row3_col1\" class=\"data row3 col1\" >(A)</td>\n      <td id=\"T_8f297_row3_col2\" class=\"data row3 col2\" >Answer: (B) 2</td>\n      <td id=\"T_8f297_row3_col3\" class=\"data row3 col3\" >False</td>\n    </tr>\n    <tr>\n      <th id=\"T_8f297_level0_row4\" class=\"row_heading level0 row4\" >4</th>\n      <td id=\"T_8f297_row4_col0\" class=\"data row4 col0\" >Here is a table where the first line is a header and each subsequent line is a penguin: name, age, height (cm), weight (kg) Louis,...</td>\n      <td id=\"T_8f297_row4_col1\" class=\"data row4 col1\" >(B)</td>\n      <td id=\"T_8f297_row4_col2\" class=\"data row4 col2\" >(B) 5</td>\n      <td id=\"T_8f297_row4_col3\" class=\"data row4 col3\" >✔️ [True]</td>\n    </tr>\n  </tbody>\n</table>\n"
     },
     "metadata": {},
     "output_type": "display_data"
    },
    {
     "data": {
      "text/plain": "<IPython.core.display.HTML object>",
      "text/html": "\n                <div style='\n                    text-align: center; \n                    font-size: 16px; \n                    font-weight: bold; \n                    color: #555; \n                    margin: 10px 0;'>\n                    ... 121 more rows not displayed ...\n                </div>\n                "
     },
     "metadata": {},
     "output_type": "display_data"
    },
    {
     "data": {
      "text/plain": "36.51"
     },
     "execution_count": 19,
     "metadata": {},
     "output_type": "execute_result"
    }
   ],
   "source": [
    "# | warning: false\n",
    "from tqdm.notebook import tqdm\n",
    "tqdm._instances.clear()\n",
    "evaluate(basic_qa)"
   ]
  },
  {
   "cell_type": "markdown",
   "id": "d66f5426f7bc51f7",
   "metadata": {
    "collapsed": false
   },
   "source": [
    "`DSPy` uses optimizers to optimize the modules. In this example, optimization is a process that will choose which demos/examples\n",
    "are best to put into the prompt in order to increase the evaluation metric. At the time of writing the optimizers are called\n",
    "teleprompters (prompting from a distance). I think they will change the [name](https://dspy-docs.vercel.app/docs/building-blocks/optimizers) though to optimizers in future refactoring."
   ]
  },
  {
   "cell_type": "code",
   "execution_count": 20,
   "id": "9aa0bfced96e9345",
   "metadata": {
    "collapsed": false,
    "ExecuteTime": {
     "end_time": "2024-02-13T03:50:24.696110Z",
     "start_time": "2024-02-13T03:50:05.169615Z"
    }
   },
   "outputs": [
    {
     "name": "stdout",
     "output_type": "stream",
     "text": [
      "Going to sample between 1 and 2 traces per predictor.\n",
      "Will attempt to train 2 candidate sets.\n"
     ]
    },
    {
     "name": "stderr",
     "output_type": "stream",
     "text": [
      "Average Metric: 46 / 126  (36.5): 100%|██████████| 126/126 [00:00<00:00, 4592.34it/s]\n"
     ]
    },
    {
     "name": "stdout",
     "output_type": "stream",
     "text": [
      "Average Metric: 46 / 126  (36.5%)\n",
      "Score: 36.51 for set: [0]\n",
      "New best score: 36.51 for seed -3\n",
      "Scores so far: [36.51]\n",
      "Best score: 36.51\n"
     ]
    },
    {
     "name": "stderr",
     "output_type": "stream",
     "text": [
      "Average Metric: 47 / 126  (37.3): 100%|██████████| 126/126 [00:00<00:00, 4659.89it/s]\n"
     ]
    },
    {
     "name": "stdout",
     "output_type": "stream",
     "text": [
      "Average Metric: 47 / 126  (37.3%)\n",
      "Score: 37.3 for set: [4]\n",
      "New best score: 37.3 for seed -2\n",
      "Scores so far: [36.51, 37.3]\n",
      "Best score: 37.3\n"
     ]
    },
    {
     "name": "stderr",
     "output_type": "stream",
     "text": [
      " 50%|█████     | 10/20 [00:00<00:00, 5966.29it/s]\n"
     ]
    },
    {
     "name": "stdout",
     "output_type": "stream",
     "text": [
      "Bootstrapped 2 full traces after 11 examples in round 0.\n"
     ]
    },
    {
     "name": "stderr",
     "output_type": "stream",
     "text": [
      "Average Metric: 48 / 126  (38.1): 100%|██████████| 126/126 [00:09<00:00, 12.95it/s]\n",
      "/Users/christopher/personal_projects/mysite/posts/dspy/env/lib/python3.11/site-packages/dspy/evaluate/evaluate.py:137: FutureWarning: DataFrame.applymap has been deprecated. Use DataFrame.map instead.\n",
      "  df = df.applymap(truncate_cell)\n"
     ]
    },
    {
     "name": "stdout",
     "output_type": "stream",
     "text": [
      "Average Metric: 48 / 126  (38.1%)\n",
      "Score: 38.1 for set: [4]\n",
      "New best score: 38.1 for seed -1\n",
      "Scores so far: [36.51, 37.3, 38.1]\n",
      "Best score: 38.1\n",
      "Average of max per entry across top 1 scores: 0.38095238095238093\n",
      "Average of max per entry across top 2 scores: 0.5476190476190477\n",
      "Average of max per entry across top 3 scores: 0.6825396825396826\n",
      "Average of max per entry across top 5 scores: 0.6825396825396826\n",
      "Average of max per entry across top 8 scores: 0.6825396825396826\n",
      "Average of max per entry across top 9999 scores: 0.6825396825396826\n"
     ]
    },
    {
     "name": "stderr",
     "output_type": "stream",
     "text": [
      " 20%|██        | 4/20 [00:00<00:00, 1012.87it/s]\n"
     ]
    },
    {
     "name": "stdout",
     "output_type": "stream",
     "text": [
      "Bootstrapped 2 full traces after 5 examples in round 0.\n"
     ]
    },
    {
     "name": "stderr",
     "output_type": "stream",
     "text": [
      "Average Metric: 50 / 126  (39.7): 100%|██████████| 126/126 [00:09<00:00, 13.27it/s]\n"
     ]
    },
    {
     "name": "stdout",
     "output_type": "stream",
     "text": [
      "Average Metric: 50 / 126  (39.7%)\n",
      "Score: 39.68 for set: [4]\n",
      "New best score: 39.68 for seed 0\n",
      "Scores so far: [36.51, 37.3, 38.1, 39.68]\n",
      "Best score: 39.68\n",
      "Average of max per entry across top 1 scores: 0.3968253968253968\n",
      "Average of max per entry across top 2 scores: 0.5079365079365079\n",
      "Average of max per entry across top 3 scores: 0.6031746031746031\n",
      "Average of max per entry across top 5 scores: 0.7222222222222222\n",
      "Average of max per entry across top 8 scores: 0.7222222222222222\n",
      "Average of max per entry across top 9999 scores: 0.7222222222222222\n"
     ]
    },
    {
     "name": "stderr",
     "output_type": "stream",
     "text": [
      "  5%|▌         | 1/20 [00:00<00:00, 504.30it/s]\n"
     ]
    },
    {
     "name": "stdout",
     "output_type": "stream",
     "text": [
      "Bootstrapped 1 full traces after 2 examples in round 0.\n"
     ]
    },
    {
     "name": "stderr",
     "output_type": "stream",
     "text": [
      "Average Metric: 54 / 126  (42.9): 100%|██████████| 126/126 [00:00<00:00, 1320.48it/s]"
     ]
    },
    {
     "name": "stdout",
     "output_type": "stream",
     "text": [
      "Average Metric: 54 / 126  (42.9%)\n",
      "Score: 42.86 for set: [4]\n",
      "New best score: 42.86 for seed 1\n",
      "Scores so far: [36.51, 37.3, 38.1, 39.68, 42.86]\n",
      "Best score: 42.86\n",
      "Average of max per entry across top 1 scores: 0.42857142857142855\n",
      "Average of max per entry across top 2 scores: 0.5396825396825397\n",
      "Average of max per entry across top 3 scores: 0.6190476190476191\n",
      "Average of max per entry across top 5 scores: 0.7777777777777778\n",
      "Average of max per entry across top 8 scores: 0.7777777777777778\n",
      "Average of max per entry across top 9999 scores: 0.7777777777777778\n",
      "5 candidate programs found.\n"
     ]
    },
    {
     "name": "stderr",
     "output_type": "stream",
     "text": [
      "\n"
     ]
    }
   ],
   "source": [
    "# | output: false\n",
    "tqdm._instances.clear()\n",
    "\n",
    "from dspy.teleprompt import BootstrapFewShotWithRandomSearch\n",
    "\n",
    "config = dict(max_bootstrapped_demos=2, max_labeled_demos=4, num_candidate_programs=2, num_threads=6)\n",
    "\n",
    "teleprompter = BootstrapFewShotWithRandomSearch(metric=eval_metric, **config)\n",
    "optimized_qa = teleprompter.compile(basic_qa, trainset=trainset, valset=valset)"
   ]
  },
  {
   "cell_type": "code",
   "execution_count": 23,
   "id": "86e57496d0c2d48f",
   "metadata": {
    "collapsed": false,
    "ExecuteTime": {
     "end_time": "2024-02-13T03:50:29.127584Z",
     "start_time": "2024-02-13T03:50:29.032116Z"
    }
   },
   "outputs": [
    {
     "name": "stderr",
     "output_type": "stream",
     "text": [
      "Average Metric: 54 / 126  (42.9): 100%|██████████| 126/126 [00:00<00:00, 3928.89it/s]"
     ]
    },
    {
     "name": "stdout",
     "output_type": "stream",
     "text": [
      "Average Metric: 54 / 126  (42.9%)\n"
     ]
    },
    {
     "name": "stderr",
     "output_type": "stream",
     "text": [
      "\n"
     ]
    },
    {
     "data": {
      "text/plain": "<pandas.io.formats.style.Styler at 0x1654bb150>",
      "text/html": "<style type=\"text/css\">\n#T_8ee9d th {\n  text-align: left;\n}\n#T_8ee9d td {\n  text-align: left;\n}\n#T_8ee9d_row0_col0, #T_8ee9d_row0_col1, #T_8ee9d_row0_col2, #T_8ee9d_row0_col3, #T_8ee9d_row1_col0, #T_8ee9d_row1_col1, #T_8ee9d_row1_col2, #T_8ee9d_row1_col3, #T_8ee9d_row2_col0, #T_8ee9d_row2_col1, #T_8ee9d_row2_col2, #T_8ee9d_row2_col3, #T_8ee9d_row3_col0, #T_8ee9d_row3_col1, #T_8ee9d_row3_col2, #T_8ee9d_row3_col3, #T_8ee9d_row4_col0, #T_8ee9d_row4_col1, #T_8ee9d_row4_col2, #T_8ee9d_row4_col3 {\n  text-align: left;\n  white-space: pre-wrap;\n  word-wrap: break-word;\n  max-width: 400px;\n}\n</style>\n<table id=\"T_8ee9d\">\n  <thead>\n    <tr>\n      <th class=\"blank level0\" >&nbsp;</th>\n      <th id=\"T_8ee9d_level0_col0\" class=\"col_heading level0 col0\" >question</th>\n      <th id=\"T_8ee9d_level0_col1\" class=\"col_heading level0 col1\" >example_answer</th>\n      <th id=\"T_8ee9d_level0_col2\" class=\"col_heading level0 col2\" >pred_answer</th>\n      <th id=\"T_8ee9d_level0_col3\" class=\"col_heading level0 col3\" >eval_metric</th>\n    </tr>\n  </thead>\n  <tbody>\n    <tr>\n      <th id=\"T_8ee9d_level0_row0\" class=\"row_heading level0 row0\" >0</th>\n      <td id=\"T_8ee9d_row0_col0\" class=\"data row0 col0\" >Here is a table where the first line is a header and each subsequent line is a penguin: name, age, height (cm), weight (kg) Louis,...</td>\n      <td id=\"T_8ee9d_row0_col1\" class=\"data row0 col1\" >(A)</td>\n      <td id=\"T_8ee9d_row0_col2\" class=\"data row0 col2\" >(C)</td>\n      <td id=\"T_8ee9d_row0_col3\" class=\"data row0 col3\" >False</td>\n    </tr>\n    <tr>\n      <th id=\"T_8ee9d_level0_row1\" class=\"row_heading level0 row1\" >1</th>\n      <td id=\"T_8ee9d_row1_col0\" class=\"data row1 col0\" >Here is a table where the first line is a header and each subsequent line is a penguin: name, age, height (cm), weight (kg) Louis,...</td>\n      <td id=\"T_8ee9d_row1_col1\" class=\"data row1 col1\" >(D)</td>\n      <td id=\"T_8ee9d_row1_col2\" class=\"data row1 col2\" >(C) 50</td>\n      <td id=\"T_8ee9d_row1_col3\" class=\"data row1 col3\" >False</td>\n    </tr>\n    <tr>\n      <th id=\"T_8ee9d_level0_row2\" class=\"row_heading level0 row2\" >2</th>\n      <td id=\"T_8ee9d_row2_col0\" class=\"data row2 col0\" >Here is a table where the first line is a header and each subsequent line is a penguin: name, age, height (cm), weight (kg) Louis,...</td>\n      <td id=\"T_8ee9d_row2_col1\" class=\"data row2 col1\" >(A)</td>\n      <td id=\"T_8ee9d_row2_col2\" class=\"data row2 col2\" >(B)</td>\n      <td id=\"T_8ee9d_row2_col3\" class=\"data row2 col3\" >False</td>\n    </tr>\n    <tr>\n      <th id=\"T_8ee9d_level0_row3\" class=\"row_heading level0 row3\" >3</th>\n      <td id=\"T_8ee9d_row3_col0\" class=\"data row3 col0\" >Here is a table where the first line is a header and each subsequent line is a penguin: name, age, height (cm), weight (kg) Louis,...</td>\n      <td id=\"T_8ee9d_row3_col1\" class=\"data row3 col1\" >(A)</td>\n      <td id=\"T_8ee9d_row3_col2\" class=\"data row3 col2\" >(B)</td>\n      <td id=\"T_8ee9d_row3_col3\" class=\"data row3 col3\" >False</td>\n    </tr>\n    <tr>\n      <th id=\"T_8ee9d_level0_row4\" class=\"row_heading level0 row4\" >4</th>\n      <td id=\"T_8ee9d_row4_col0\" class=\"data row4 col0\" >Here is a table where the first line is a header and each subsequent line is a penguin: name, age, height (cm), weight (kg) Louis,...</td>\n      <td id=\"T_8ee9d_row4_col1\" class=\"data row4 col1\" >(B)</td>\n      <td id=\"T_8ee9d_row4_col2\" class=\"data row4 col2\" >(B)</td>\n      <td id=\"T_8ee9d_row4_col3\" class=\"data row4 col3\" >✔️ [True]</td>\n    </tr>\n  </tbody>\n</table>\n"
     },
     "metadata": {},
     "output_type": "display_data"
    },
    {
     "data": {
      "text/plain": "<IPython.core.display.HTML object>",
      "text/html": "\n                <div style='\n                    text-align: center; \n                    font-size: 16px; \n                    font-weight: bold; \n                    color: #555; \n                    margin: 10px 0;'>\n                    ... 121 more rows not displayed ...\n                </div>\n                "
     },
     "metadata": {},
     "output_type": "display_data"
    },
    {
     "data": {
      "text/plain": "42.86"
     },
     "execution_count": 23,
     "metadata": {},
     "output_type": "execute_result"
    }
   ],
   "source": [
    "# | warning: false\n",
    "evaluate(optimized_qa)"
   ]
  },
  {
   "cell_type": "code",
   "execution_count": 24,
   "id": "67b8702b-e31d-492f-9cc4-0dcb4c8b3cca",
   "metadata": {
    "ExecuteTime": {
     "end_time": "2024-02-13T03:50:31.793440Z",
     "start_time": "2024-02-13T03:50:31.774097Z"
    }
   },
   "outputs": [
    {
     "name": "stdout",
     "output_type": "stream",
     "text": [
      "\n",
      "\n",
      "\n",
      "\n",
      "Given the fields `question`, produce the fields `answer`.\n",
      "\n",
      "---\n",
      "\n",
      "Follow the following format.\n",
      "\n",
      "Question: ${question}\n",
      "Answer: ${answer}\n",
      "\n",
      "---\n",
      "\n",
      "Question: Here is a table where the first line is a header and each subsequent line is a penguin: name, age, height (cm), weight (kg) Louis, 7, 50, 11 Bernard, 5, 80, 13 Vincent, 9, 60, 11 Gwen, 8, 70, 15 For example: the age of Louis is 7, the weight of Gwen is 15 kg, the height of Bernard is 80 cm. And here is a similar table, but listing giraffes: name, age, height (cm), weight (kg) Jody, 5, 430, 620 Gladys, 10, 420, 590 Marian, 2, 310, 410 Donna, 9, 440, 650 How many giraffes are more than 5 years old? Options: (A) 1 (B) 2 (C) 3 (D) 4 (E) 5\n",
      "Answer: (B)\n",
      "\n",
      "---\n",
      "\n",
      "Question: Here is a table where the first line is a header and each subsequent line is a penguin: name, age, height (cm), weight (kg) Louis, 7, 50, 11 Bernard, 5, 80, 13 Vincent, 9, 60, 11 Gwen, 8, 70, 15 For example: the age of Louis is 7, the weight of Gwen is 15 kg, the height of Bernard is 80 cm. What is the name of the last penguin sorted by alphabetic order? Options: (A) Louis (B) Bernard (C) Vincent (D) Gwen (E) James\n",
      "Answer: (C)\n",
      "\n",
      "---\n",
      "\n",
      "Question: Here is a table where the first line is a header and each subsequent line is a penguin: name, age, height (cm), weight (kg) Louis, 7, 50, 11 Bernard, 5, 80, 13 Vincent, 9, 60, 11 Gwen, 8, 70, 15 For example: the age of Louis is 7, the weight of Gwen is 15 kg, the height of Bernard is 80 cm. We now add a penguin to the table: James, 12, 90, 12 We then delete the penguin named Bernard from the table. How many penguins are more than 5 years old and weight more than 12 kg? Options: (A) 1 (B) 2 (C) 3 (D) 4 (E) 5\n",
      "Answer: (A)\n",
      "\n",
      "---\n",
      "\n",
      "Question: Here is a table where the first line is a header and each subsequent line is a penguin: name, age, height (cm), weight (kg) Louis, 7, 50, 11 Bernard, 5, 80, 13 Vincent, 9, 60, 11 Gwen, 8, 70, 15 For example: the age of Louis is 7, the weight of Gwen is 15 kg, the height of Bernard is 80 cm. How many animals are listed in the table? Options: (A) 1 (B) 2 (C) 3 (D) 4 (E) 5\n",
      "Answer: (D)\n",
      "\n",
      "---\n",
      "\n",
      "Question: Here is a table where the first line is a header and each subsequent line is a penguin: name, age, height (cm), weight (kg) Louis, 7, 50, 11 Bernard, 5, 80, 13 Vincent, 9, 60, 11 Gwen, 8, 70, 15 For example: the age of Louis is 7, the weight of Gwen is 15 kg, the height of Bernard is 80 cm. We now add a penguin to the table: James, 12, 90, 12 What is the name of the last penguin sorted by alphabetic order? Options: (A) Louis (B) Bernard (C) Vincent (D) Gwen (E) James\n",
      "Answer:\u001B[32m (C)\u001B[0m\n",
      "\n"
     ]
    }
   ],
   "source": [
    "llm.inspect_history()"
   ]
  },
  {
   "cell_type": "markdown",
   "id": "5e0a78838d9650ca",
   "metadata": {
    "collapsed": false
   },
   "source": [
    "Now we can try a [Chain of Thought](https://arxiv.org/abs/2201.11903) [@wei2023chainofthought] prompt."
   ]
  },
  {
   "cell_type": "code",
   "execution_count": 25,
   "id": "ec160516619d66a1",
   "metadata": {
    "collapsed": false,
    "ExecuteTime": {
     "end_time": "2024-02-13T03:50:34.454052Z",
     "start_time": "2024-02-13T03:50:34.446484Z"
    }
   },
   "outputs": [],
   "source": [
    "class CoT(dspy.Module):\n",
    "    def __init__(self):\n",
    "        super().__init__()\n",
    "        self.prog = dspy.ChainOfThought(\"question -> answer\")\n",
    "\n",
    "    def forward(self, question):\n",
    "        return self.prog(question=question)\n",
    "\n",
    "\n",
    "cot_qa = CoT()"
   ]
  },
  {
   "cell_type": "code",
   "execution_count": 26,
   "id": "ade064e1da20466c",
   "metadata": {
    "collapsed": false,
    "ExecuteTime": {
     "end_time": "2024-02-13T03:50:36.392617Z",
     "start_time": "2024-02-13T03:50:36.138896Z"
    }
   },
   "outputs": [
    {
     "name": "stderr",
     "output_type": "stream",
     "text": [
      "Average Metric: 91 / 126  (72.2): 100%|██████████| 126/126 [00:00<00:00, 1324.21it/s]"
     ]
    },
    {
     "name": "stdout",
     "output_type": "stream",
     "text": [
      "Average Metric: 91 / 126  (72.2%)\n"
     ]
    },
    {
     "name": "stderr",
     "output_type": "stream",
     "text": [
      "\n"
     ]
    },
    {
     "data": {
      "text/plain": "<pandas.io.formats.style.Styler at 0x165e78950>",
      "text/html": "<style type=\"text/css\">\n#T_65795 th {\n  text-align: left;\n}\n#T_65795 td {\n  text-align: left;\n}\n#T_65795_row0_col0, #T_65795_row0_col1, #T_65795_row0_col2, #T_65795_row0_col3, #T_65795_row0_col4, #T_65795_row1_col0, #T_65795_row1_col1, #T_65795_row1_col2, #T_65795_row1_col3, #T_65795_row1_col4, #T_65795_row2_col0, #T_65795_row2_col1, #T_65795_row2_col2, #T_65795_row2_col3, #T_65795_row2_col4, #T_65795_row3_col0, #T_65795_row3_col1, #T_65795_row3_col2, #T_65795_row3_col3, #T_65795_row3_col4, #T_65795_row4_col0, #T_65795_row4_col1, #T_65795_row4_col2, #T_65795_row4_col3, #T_65795_row4_col4 {\n  text-align: left;\n  white-space: pre-wrap;\n  word-wrap: break-word;\n  max-width: 400px;\n}\n</style>\n<table id=\"T_65795\">\n  <thead>\n    <tr>\n      <th class=\"blank level0\" >&nbsp;</th>\n      <th id=\"T_65795_level0_col0\" class=\"col_heading level0 col0\" >question</th>\n      <th id=\"T_65795_level0_col1\" class=\"col_heading level0 col1\" >example_answer</th>\n      <th id=\"T_65795_level0_col2\" class=\"col_heading level0 col2\" >rationale</th>\n      <th id=\"T_65795_level0_col3\" class=\"col_heading level0 col3\" >pred_answer</th>\n      <th id=\"T_65795_level0_col4\" class=\"col_heading level0 col4\" >eval_metric</th>\n    </tr>\n  </thead>\n  <tbody>\n    <tr>\n      <th id=\"T_65795_level0_row0\" class=\"row_heading level0 row0\" >0</th>\n      <td id=\"T_65795_row0_col0\" class=\"data row0 col0\" >Here is a table where the first line is a header and each subsequent line is a penguin: name, age, height (cm), weight (kg) Louis,...</td>\n      <td id=\"T_65795_row0_col1\" class=\"data row0 col1\" >(A)</td>\n      <td id=\"T_65795_row0_col2\" class=\"data row0 col2\" >produce the answer. We first identify the penguins who are less than 8 years old. From the table, we see that Louis is 7 years...</td>\n      <td id=\"T_65795_row0_col3\" class=\"data row0 col3\" >(B) 2</td>\n      <td id=\"T_65795_row0_col4\" class=\"data row0 col4\" >False</td>\n    </tr>\n    <tr>\n      <th id=\"T_65795_level0_row1\" class=\"row_heading level0 row1\" >1</th>\n      <td id=\"T_65795_row1_col0\" class=\"data row1 col0\" >Here is a table where the first line is a header and each subsequent line is a penguin: name, age, height (cm), weight (kg) Louis,...</td>\n      <td id=\"T_65795_row1_col1\" class=\"data row1 col1\" >(D)</td>\n      <td id=\"T_65795_row1_col2\" class=\"data row1 col2\" >produce the answer. We need to add up the weights of all the penguins in the table. Louis weighs 11 kg, Bernard weighs 13 kg,...</td>\n      <td id=\"T_65795_row1_col3\" class=\"data row1 col3\" >(D) 62</td>\n      <td id=\"T_65795_row1_col4\" class=\"data row1 col4\" >✔️ [True]</td>\n    </tr>\n    <tr>\n      <th id=\"T_65795_level0_row2\" class=\"row_heading level0 row2\" >2</th>\n      <td id=\"T_65795_row2_col0\" class=\"data row2 col0\" >Here is a table where the first line is a header and each subsequent line is a penguin: name, age, height (cm), weight (kg) Louis,...</td>\n      <td id=\"T_65795_row2_col1\" class=\"data row2 col1\" >(A)</td>\n      <td id=\"T_65795_row2_col2\" class=\"data row2 col2\" >produce the answer. We need to go through each penguin's age and count how many are more than 8 years old.</td>\n      <td id=\"T_65795_row2_col3\" class=\"data row2 col3\" >(C) 3</td>\n      <td id=\"T_65795_row2_col4\" class=\"data row2 col4\" >False</td>\n    </tr>\n    <tr>\n      <th id=\"T_65795_level0_row3\" class=\"row_heading level0 row3\" >3</th>\n      <td id=\"T_65795_row3_col0\" class=\"data row3 col0\" >Here is a table where the first line is a header and each subsequent line is a penguin: name, age, height (cm), weight (kg) Louis,...</td>\n      <td id=\"T_65795_row3_col1\" class=\"data row3 col1\" >(A)</td>\n      <td id=\"T_65795_row3_col2\" class=\"data row3 col2\" >produce the answer. We need to identify the penguins who are both more than 5 years old and weigh more than 12 kg. Looking at...</td>\n      <td id=\"T_65795_row3_col3\" class=\"data row3 col3\" >(C) 3</td>\n      <td id=\"T_65795_row3_col4\" class=\"data row3 col4\" >False</td>\n    </tr>\n    <tr>\n      <th id=\"T_65795_level0_row4\" class=\"row_heading level0 row4\" >4</th>\n      <td id=\"T_65795_row4_col0\" class=\"data row4 col0\" >Here is a table where the first line is a header and each subsequent line is a penguin: name, age, height (cm), weight (kg) Louis,...</td>\n      <td id=\"T_65795_row4_col1\" class=\"data row4 col1\" >(B)</td>\n      <td id=\"T_65795_row4_col2\" class=\"data row4 col2\" >produce the answer. We can see from the table that Bernard's age is 5.</td>\n      <td id=\"T_65795_row4_col3\" class=\"data row4 col3\" >(B) 5</td>\n      <td id=\"T_65795_row4_col4\" class=\"data row4 col4\" >✔️ [True]</td>\n    </tr>\n  </tbody>\n</table>\n"
     },
     "metadata": {},
     "output_type": "display_data"
    },
    {
     "data": {
      "text/plain": "<IPython.core.display.HTML object>",
      "text/html": "\n                <div style='\n                    text-align: center; \n                    font-size: 16px; \n                    font-weight: bold; \n                    color: #555; \n                    margin: 10px 0;'>\n                    ... 121 more rows not displayed ...\n                </div>\n                "
     },
     "metadata": {},
     "output_type": "display_data"
    },
    {
     "data": {
      "text/plain": "72.22"
     },
     "execution_count": 26,
     "metadata": {},
     "output_type": "execute_result"
    }
   ],
   "source": [
    "# | warning: false\n",
    "evaluate(cot_qa)"
   ]
  },
  {
   "cell_type": "code",
   "execution_count": 27,
   "id": "be8740da41aa198",
   "metadata": {
    "collapsed": false,
    "ExecuteTime": {
     "end_time": "2024-02-13T03:50:36.572802Z",
     "start_time": "2024-02-13T03:50:36.417144Z"
    }
   },
   "outputs": [
    {
     "name": "stdout",
     "output_type": "stream",
     "text": [
      "\n",
      "\n",
      "\n",
      "\n",
      "Given the fields `question`, produce the fields `answer`.\n",
      "\n",
      "---\n",
      "\n",
      "Follow the following format.\n",
      "\n",
      "Question: ${question}\n",
      "Reasoning: Let's think step by step in order to ${produce the answer}. We ...\n",
      "Answer: ${answer}\n",
      "\n",
      "---\n",
      "\n",
      "Question: Here is a table where the first line is a header and each subsequent line is a penguin: name, age, height (cm), weight (kg) Louis, 7, 50, 11 Bernard, 5, 80, 13 Vincent, 9, 60, 11 Gwen, 8, 70, 15 For example: the age of Louis is 7, the weight of Gwen is 15 kg, the height of Bernard is 80 cm. We now add a penguin to the table: James, 12, 90, 12 What is the name of the last penguin sorted by alphabetic order? Options: (A) Louis (B) Bernard (C) Vincent (D) Gwen (E) James\n",
      "Reasoning: Let's think step by step in order to\u001B[32m produce the answer. We need to first add the new penguin James to the table and then sort the penguins by alphabetical order based on their names. The last penguin in the sorted list will be the answer.\n",
      "Answer: (E) James\u001B[0m\n",
      "\n"
     ]
    }
   ],
   "source": [
    "llm.inspect_history()"
   ]
  },
  {
   "cell_type": "markdown",
   "id": "9982769fae529079",
   "metadata": {
    "collapsed": false
   },
   "source": [
    "Now we will try and optimize out chain of thought program."
   ]
  },
  {
   "cell_type": "code",
   "execution_count": 28,
   "id": "48e120e593608a66",
   "metadata": {
    "collapsed": false,
    "ExecuteTime": {
     "end_time": "2024-02-13T03:50:42.033526Z",
     "start_time": "2024-02-13T03:50:40.741992Z"
    }
   },
   "outputs": [
    {
     "name": "stdout",
     "output_type": "stream",
     "text": [
      "Going to sample between 1 and 1 traces per predictor.\n",
      "Will attempt to train 4 candidate sets.\n"
     ]
    },
    {
     "name": "stderr",
     "output_type": "stream",
     "text": [
      "Average Metric: 91 / 126  (72.2): 100%|██████████| 126/126 [00:00<00:00, 4615.08it/s]\n"
     ]
    },
    {
     "name": "stdout",
     "output_type": "stream",
     "text": [
      "Average Metric: 91 / 126  (72.2%)\n",
      "Score: 72.22 for set: [0]\n",
      "New best score: 72.22 for seed -3\n",
      "Scores so far: [72.22]\n",
      "Best score: 72.22\n"
     ]
    },
    {
     "name": "stderr",
     "output_type": "stream",
     "text": [
      "Average Metric: 90 / 126  (71.4): 100%|██████████| 126/126 [00:00<00:00, 1166.23it/s]\n"
     ]
    },
    {
     "name": "stdout",
     "output_type": "stream",
     "text": [
      "Average Metric: 90 / 126  (71.4%)\n",
      "Score: 71.43 for set: [4]\n",
      "Scores so far: [72.22, 71.43]\n",
      "Best score: 72.22\n"
     ]
    },
    {
     "name": "stderr",
     "output_type": "stream",
     "text": [
      "  5%|▌         | 1/20 [00:00<00:00, 651.09it/s]\n"
     ]
    },
    {
     "name": "stdout",
     "output_type": "stream",
     "text": [
      "Bootstrapped 1 full traces after 2 examples in round 0.\n"
     ]
    },
    {
     "name": "stderr",
     "output_type": "stream",
     "text": [
      "Average Metric: 74 / 126  (58.7): 100%|██████████| 126/126 [00:00<00:00, 1205.81it/s]\n"
     ]
    },
    {
     "name": "stdout",
     "output_type": "stream",
     "text": [
      "Average Metric: 74 / 126  (58.7%)\n",
      "Score: 58.73 for set: [4]\n",
      "Scores so far: [72.22, 71.43, 58.73]\n",
      "Best score: 72.22\n",
      "Average of max per entry across top 1 scores: 0.7222222222222222\n",
      "Average of max per entry across top 2 scores: 0.873015873015873\n",
      "Average of max per entry across top 3 scores: 0.9126984126984127\n",
      "Average of max per entry across top 5 scores: 0.9126984126984127\n",
      "Average of max per entry across top 8 scores: 0.9126984126984127\n",
      "Average of max per entry across top 9999 scores: 0.9126984126984127\n"
     ]
    },
    {
     "name": "stderr",
     "output_type": "stream",
     "text": [
      "  5%|▌         | 1/20 [00:00<00:00, 684.45it/s]\n"
     ]
    },
    {
     "name": "stdout",
     "output_type": "stream",
     "text": [
      "Bootstrapped 1 full traces after 2 examples in round 0.\n"
     ]
    },
    {
     "name": "stderr",
     "output_type": "stream",
     "text": [
      "Average Metric: 102 / 126  (81.0): 100%|██████████| 126/126 [00:00<00:00, 1222.16it/s]\n"
     ]
    },
    {
     "name": "stdout",
     "output_type": "stream",
     "text": [
      "Average Metric: 102 / 126  (81.0%)\n",
      "Score: 80.95 for set: [4]\n",
      "New best score: 80.95 for seed 0\n",
      "Scores so far: [72.22, 71.43, 58.73, 80.95]\n",
      "Best score: 80.95\n",
      "Average of max per entry across top 1 scores: 0.8095238095238095\n",
      "Average of max per entry across top 2 scores: 0.9126984126984127\n",
      "Average of max per entry across top 3 scores: 0.9444444444444444\n",
      "Average of max per entry across top 5 scores: 0.9682539682539683\n",
      "Average of max per entry across top 8 scores: 0.9682539682539683\n",
      "Average of max per entry across top 9999 scores: 0.9682539682539683\n"
     ]
    },
    {
     "name": "stderr",
     "output_type": "stream",
     "text": [
      "  5%|▌         | 1/20 [00:00<00:00, 589.25it/s]\n"
     ]
    },
    {
     "name": "stdout",
     "output_type": "stream",
     "text": [
      "Bootstrapped 1 full traces after 2 examples in round 0.\n"
     ]
    },
    {
     "name": "stderr",
     "output_type": "stream",
     "text": [
      "Average Metric: 94 / 126  (74.6): 100%|██████████| 126/126 [00:00<00:00, 1164.05it/s]\n"
     ]
    },
    {
     "name": "stdout",
     "output_type": "stream",
     "text": [
      "Average Metric: 94 / 126  (74.6%)\n",
      "Score: 74.6 for set: [4]\n",
      "Scores so far: [72.22, 71.43, 58.73, 80.95, 74.6]\n",
      "Best score: 80.95\n",
      "Average of max per entry across top 1 scores: 0.8095238095238095\n",
      "Average of max per entry across top 2 scores: 0.9126984126984127\n",
      "Average of max per entry across top 3 scores: 0.9444444444444444\n",
      "Average of max per entry across top 5 scores: 0.9841269841269841\n",
      "Average of max per entry across top 8 scores: 0.9841269841269841\n",
      "Average of max per entry across top 9999 scores: 0.9841269841269841\n"
     ]
    },
    {
     "name": "stderr",
     "output_type": "stream",
     "text": [
      "  5%|▌         | 1/20 [00:00<00:00, 513.13it/s]\n"
     ]
    },
    {
     "name": "stdout",
     "output_type": "stream",
     "text": [
      "Bootstrapped 1 full traces after 2 examples in round 0.\n"
     ]
    },
    {
     "name": "stderr",
     "output_type": "stream",
     "text": [
      "Average Metric: 95 / 126  (75.4): 100%|██████████| 126/126 [00:00<00:00, 928.26it/s]\n"
     ]
    },
    {
     "name": "stdout",
     "output_type": "stream",
     "text": [
      "Average Metric: 95 / 126  (75.4%)\n",
      "Score: 75.4 for set: [4]\n",
      "Scores so far: [72.22, 71.43, 58.73, 80.95, 74.6, 75.4]\n",
      "Best score: 80.95\n",
      "Average of max per entry across top 1 scores: 0.8095238095238095\n",
      "Average of max per entry across top 2 scores: 0.9206349206349206\n",
      "Average of max per entry across top 3 scores: 0.9444444444444444\n",
      "Average of max per entry across top 5 scores: 0.9841269841269841\n",
      "Average of max per entry across top 8 scores: 0.9841269841269841\n",
      "Average of max per entry across top 9999 scores: 0.9841269841269841\n"
     ]
    },
    {
     "name": "stderr",
     "output_type": "stream",
     "text": [
      "  5%|▌         | 1/20 [00:00<00:00, 654.85it/s]\n"
     ]
    },
    {
     "name": "stdout",
     "output_type": "stream",
     "text": [
      "Bootstrapped 1 full traces after 2 examples in round 0.\n"
     ]
    },
    {
     "name": "stderr",
     "output_type": "stream",
     "text": [
      "Average Metric: 96 / 126  (76.2): 100%|██████████| 126/126 [00:00<00:00, 1184.73it/s]"
     ]
    },
    {
     "name": "stdout",
     "output_type": "stream",
     "text": [
      "Average Metric: 96 / 126  (76.2%)\n",
      "Score: 76.19 for set: [4]\n",
      "Scores so far: [72.22, 71.43, 58.73, 80.95, 74.6, 75.4, 76.19]\n",
      "Best score: 80.95\n",
      "Average of max per entry across top 1 scores: 0.8095238095238095\n",
      "Average of max per entry across top 2 scores: 0.9206349206349206\n",
      "Average of max per entry across top 3 scores: 0.9603174603174603\n",
      "Average of max per entry across top 5 scores: 0.9682539682539683\n",
      "Average of max per entry across top 8 scores: 0.9920634920634921\n",
      "Average of max per entry across top 9999 scores: 0.9920634920634921\n",
      "7 candidate programs found.\n"
     ]
    },
    {
     "name": "stderr",
     "output_type": "stream",
     "text": [
      "\n"
     ]
    }
   ],
   "source": [
    "# | output: false\n",
    "tqdm._instances.clear()\n",
    "config = dict(max_bootstrapped_demos=1, max_labeled_demos=4, num_candidate_programs=4, num_threads=6)\n",
    "teleprompter = BootstrapFewShotWithRandomSearch(metric=eval_metric, **config)\n",
    "optimized_cot_qa = teleprompter.compile(cot_qa, trainset=trainset, valset=valset)"
   ]
  },
  {
   "cell_type": "code",
   "execution_count": 29,
   "id": "1d772d4c2a6a4ade",
   "metadata": {
    "collapsed": false,
    "ExecuteTime": {
     "end_time": "2024-02-13T03:50:46.748718Z",
     "start_time": "2024-02-13T03:50:46.567003Z"
    }
   },
   "outputs": [
    {
     "name": "stderr",
     "output_type": "stream",
     "text": [
      "Average Metric: 102 / 126  (81.0): 100%|██████████| 126/126 [00:00<00:00, 4143.11it/s]"
     ]
    },
    {
     "name": "stdout",
     "output_type": "stream",
     "text": [
      "Average Metric: 102 / 126  (81.0%)\n"
     ]
    },
    {
     "name": "stderr",
     "output_type": "stream",
     "text": [
      "\n"
     ]
    },
    {
     "data": {
      "text/plain": "<pandas.io.formats.style.Styler at 0x1660f98d0>",
      "text/html": "<style type=\"text/css\">\n#T_c3ffd th {\n  text-align: left;\n}\n#T_c3ffd td {\n  text-align: left;\n}\n#T_c3ffd_row0_col0, #T_c3ffd_row0_col1, #T_c3ffd_row0_col2, #T_c3ffd_row0_col3, #T_c3ffd_row0_col4, #T_c3ffd_row1_col0, #T_c3ffd_row1_col1, #T_c3ffd_row1_col2, #T_c3ffd_row1_col3, #T_c3ffd_row1_col4, #T_c3ffd_row2_col0, #T_c3ffd_row2_col1, #T_c3ffd_row2_col2, #T_c3ffd_row2_col3, #T_c3ffd_row2_col4, #T_c3ffd_row3_col0, #T_c3ffd_row3_col1, #T_c3ffd_row3_col2, #T_c3ffd_row3_col3, #T_c3ffd_row3_col4, #T_c3ffd_row4_col0, #T_c3ffd_row4_col1, #T_c3ffd_row4_col2, #T_c3ffd_row4_col3, #T_c3ffd_row4_col4 {\n  text-align: left;\n  white-space: pre-wrap;\n  word-wrap: break-word;\n  max-width: 400px;\n}\n</style>\n<table id=\"T_c3ffd\">\n  <thead>\n    <tr>\n      <th class=\"blank level0\" >&nbsp;</th>\n      <th id=\"T_c3ffd_level0_col0\" class=\"col_heading level0 col0\" >question</th>\n      <th id=\"T_c3ffd_level0_col1\" class=\"col_heading level0 col1\" >example_answer</th>\n      <th id=\"T_c3ffd_level0_col2\" class=\"col_heading level0 col2\" >rationale</th>\n      <th id=\"T_c3ffd_level0_col3\" class=\"col_heading level0 col3\" >pred_answer</th>\n      <th id=\"T_c3ffd_level0_col4\" class=\"col_heading level0 col4\" >eval_metric</th>\n    </tr>\n  </thead>\n  <tbody>\n    <tr>\n      <th id=\"T_c3ffd_level0_row0\" class=\"row_heading level0 row0\" >0</th>\n      <td id=\"T_c3ffd_row0_col0\" class=\"data row0 col0\" >Here is a table where the first line is a header and each subsequent line is a penguin: name, age, height (cm), weight (kg) Louis,...</td>\n      <td id=\"T_c3ffd_row0_col1\" class=\"data row0 col1\" >(A)</td>\n      <td id=\"T_c3ffd_row0_col2\" class=\"data row0 col2\" >produce the answer. After deleting Bernard, the penguins left are Louis, Vincent, and Gwen. Among them, Louis and Gwen are less than 8 years old.</td>\n      <td id=\"T_c3ffd_row0_col3\" class=\"data row0 col3\" >(B) 2</td>\n      <td id=\"T_c3ffd_row0_col4\" class=\"data row0 col4\" >False</td>\n    </tr>\n    <tr>\n      <th id=\"T_c3ffd_level0_row1\" class=\"row_heading level0 row1\" >1</th>\n      <td id=\"T_c3ffd_row1_col0\" class=\"data row1 col0\" >Here is a table where the first line is a header and each subsequent line is a penguin: name, age, height (cm), weight (kg) Louis,...</td>\n      <td id=\"T_c3ffd_row1_col1\" class=\"data row1 col1\" >(D)</td>\n      <td id=\"T_c3ffd_row1_col2\" class=\"data row1 col2\" >produce the answer. We sum up the weights of all the penguins: 11 + 13 + 11 + 15 + 12 = 62.</td>\n      <td id=\"T_c3ffd_row1_col3\" class=\"data row1 col3\" >(D) 62</td>\n      <td id=\"T_c3ffd_row1_col4\" class=\"data row1 col4\" >✔️ [True]</td>\n    </tr>\n    <tr>\n      <th id=\"T_c3ffd_level0_row2\" class=\"row_heading level0 row2\" >2</th>\n      <td id=\"T_c3ffd_row2_col0\" class=\"data row2 col0\" >Here is a table where the first line is a header and each subsequent line is a penguin: name, age, height (cm), weight (kg) Louis,...</td>\n      <td id=\"T_c3ffd_row2_col1\" class=\"data row2 col1\" >(A)</td>\n      <td id=\"T_c3ffd_row2_col2\" class=\"data row2 col2\" >produce the answer. We know that after deleting Bernard, the penguins left are Louis, Vincent, and Gwen. Among them, only Vincent is more than 8...</td>\n      <td id=\"T_c3ffd_row2_col3\" class=\"data row2 col3\" >(A) 1</td>\n      <td id=\"T_c3ffd_row2_col4\" class=\"data row2 col4\" >✔️ [True]</td>\n    </tr>\n    <tr>\n      <th id=\"T_c3ffd_level0_row3\" class=\"row_heading level0 row3\" >3</th>\n      <td id=\"T_c3ffd_row3_col0\" class=\"data row3 col0\" >Here is a table where the first line is a header and each subsequent line is a penguin: name, age, height (cm), weight (kg) Louis,...</td>\n      <td id=\"T_c3ffd_row3_col1\" class=\"data row3 col1\" >(A)</td>\n      <td id=\"T_c3ffd_row3_col2\" class=\"data row3 col2\" >produce the answer. We have Louis, Vincent, Gwen, and James in the table. Among them, only James is more than 5 years old and weighs...</td>\n      <td id=\"T_c3ffd_row3_col3\" class=\"data row3 col3\" >(A) 1</td>\n      <td id=\"T_c3ffd_row3_col4\" class=\"data row3 col4\" >✔️ [True]</td>\n    </tr>\n    <tr>\n      <th id=\"T_c3ffd_level0_row4\" class=\"row_heading level0 row4\" >4</th>\n      <td id=\"T_c3ffd_row4_col0\" class=\"data row4 col0\" >Here is a table where the first line is a header and each subsequent line is a penguin: name, age, height (cm), weight (kg) Louis,...</td>\n      <td id=\"T_c3ffd_row4_col1\" class=\"data row4 col1\" >(B)</td>\n      <td id=\"T_c3ffd_row4_col2\" class=\"data row4 col2\" >produce the answer. We know that the age of Bernard is 5 years old.</td>\n      <td id=\"T_c3ffd_row4_col3\" class=\"data row4 col3\" >(B) 5</td>\n      <td id=\"T_c3ffd_row4_col4\" class=\"data row4 col4\" >✔️ [True]</td>\n    </tr>\n  </tbody>\n</table>\n"
     },
     "metadata": {},
     "output_type": "display_data"
    },
    {
     "data": {
      "text/plain": "<IPython.core.display.HTML object>",
      "text/html": "\n                <div style='\n                    text-align: center; \n                    font-size: 16px; \n                    font-weight: bold; \n                    color: #555; \n                    margin: 10px 0;'>\n                    ... 121 more rows not displayed ...\n                </div>\n                "
     },
     "metadata": {},
     "output_type": "display_data"
    },
    {
     "data": {
      "text/plain": "80.95"
     },
     "execution_count": 29,
     "metadata": {},
     "output_type": "execute_result"
    }
   ],
   "source": [
    "# | warning: false\n",
    "evaluate(optimized_cot_qa)"
   ]
  },
  {
   "cell_type": "code",
   "execution_count": 30,
   "id": "067617e0-4af9-4cd2-ab13-34ee889366b5",
   "metadata": {
    "ExecuteTime": {
     "end_time": "2024-02-13T03:50:49.823675Z",
     "start_time": "2024-02-13T03:50:49.804745Z"
    }
   },
   "outputs": [
    {
     "name": "stdout",
     "output_type": "stream",
     "text": [
      "\n",
      "\n",
      "\n",
      "\n",
      "Given the fields `question`, produce the fields `answer`.\n",
      "\n",
      "---\n",
      "\n",
      "Follow the following format.\n",
      "\n",
      "Question: ${question}\n",
      "Reasoning: Let's think step by step in order to ${produce the answer}. We ...\n",
      "Answer: ${answer}\n",
      "\n",
      "---\n",
      "\n",
      "Question: Here is a table where the first line is a header and each subsequent line is a penguin: name, age, height (cm), weight (kg) Louis, 7, 50, 11 Bernard, 5, 80, 13 Vincent, 9, 60, 11 Gwen, 8, 70, 15 For example: the age of Louis is 7, the weight of Gwen is 15 kg, the height of Bernard is 80 cm. We then delete the penguin named Bernard from the table. How many penguins are more than 8 years old? Options: (A) 1 (B) 2 (C) 3 (D) 4 (E) 5\n",
      "Reasoning: Let's think step by step in order to produce the answer. We know that after deleting Bernard, the penguins left are Louis, Vincent, and Gwen. Among them, only Vincent is more than 8 years old.\n",
      "Answer: (A) 1\n",
      "\n",
      "---\n",
      "\n",
      "Question: Here is a table where the first line is a header and each subsequent line is a penguin: name, age, height (cm), weight (kg) Louis, 7, 50, 11 Bernard, 5, 80, 13 Vincent, 9, 60, 11 Gwen, 8, 70, 15 For example: the age of Louis is 7, the weight of Gwen is 15 kg, the height of Bernard is 80 cm. How many penguins are more than 5 years old? Options: (A) 1 (B) 2 (C) 3 (D) 4 (E) 5\n",
      "Answer: (C)\n",
      "\n",
      "---\n",
      "\n",
      "Question: Here is a table where the first line is a header and each subsequent line is a penguin: name, age, height (cm), weight (kg) Louis, 7, 50, 11 Bernard, 5, 80, 13 Vincent, 9, 60, 11 Gwen, 8, 70, 15 For example: the age of Louis is 7, the weight of Gwen is 15 kg, the height of Bernard is 80 cm. And here is a similar table, but listing giraffes: name, age, height (cm), weight (kg) Jody, 5, 430, 620 Gladys, 10, 420, 590 Marian, 2, 310, 410 Donna, 9, 440, 650 How many animals are more than 5 years old? Options: (A) 5 (B) 6 (C) 7 (D) 8 (E) 9\n",
      "Answer: (A)\n",
      "\n",
      "---\n",
      "\n",
      "Question: Here is a table where the first line is a header and each subsequent line is a penguin: name, age, height (cm), weight (kg) Louis, 7, 50, 11 Bernard, 5, 80, 13 Vincent, 9, 60, 11 Gwen, 8, 70, 15 For example: the age of Louis is 7, the weight of Gwen is 15 kg, the height of Bernard is 80 cm. Which penguin is older than Gwen? Options: (A) Louis (B) Bernard (C) Vincent (D) Gwen (E) James\n",
      "Answer: (C)\n",
      "\n",
      "---\n",
      "\n",
      "Question: Here is a table where the first line is a header and each subsequent line is a penguin: name, age, height (cm), weight (kg) Louis, 7, 50, 11 Bernard, 5, 80, 13 Vincent, 9, 60, 11 Gwen, 8, 70, 15 For example: the age of Louis is 7, the weight of Gwen is 15 kg, the height of Bernard is 80 cm. We now add a penguin to the table: James, 12, 90, 12 What is the name of the last penguin sorted by alphabetic order? Options: (A) Louis (B) Bernard (C) Vincent (D) Gwen (E) James\n",
      "Reasoning: Let's think step by step in order to\u001B[32m produce the answer. We now have Louis, Bernard, Vincent, Gwen, and James. Sorting them alphabetically, the last penguin is Vincent.\n",
      "Answer: (C)\u001B[0m\n",
      "\n",
      "\n"
     ]
    }
   ],
   "source": [
    "llm.inspect_history(n=1)"
   ]
  },
  {
   "cell_type": "markdown",
   "id": "87f6e43ee6c7a5a9",
   "metadata": {
    "collapsed": false
   },
   "source": [
    "# Language Detection Example"
   ]
  },
  {
   "cell_type": "code",
   "execution_count": 31,
   "id": "ec2116702f05a0fc",
   "metadata": {
    "collapsed": false,
    "ExecuteTime": {
     "end_time": "2024-02-13T03:51:02.456726Z",
     "start_time": "2024-02-13T03:51:02.420746Z"
    }
   },
   "outputs": [],
   "source": [
    "import pandas as pd\n",
    "llm = dspy.OpenAI(model=\"gpt-3.5-turbo-1106\", max_tokens=250)\n",
    "dspy.settings.configure(lm=llm)\n",
    "\n",
    "df = pd.read_csv(\"lang_df.csv\")\n",
    "train_set = [dspy.Example(text=row.text, language=row.language).with_inputs(\"text\") for _, row in df[:100].iterrows()]\n",
    "val_set = [dspy.Example(text=row.text, language=row.language).with_inputs(\"text\") for _, row in df[100:200].iterrows()]"
   ]
  },
  {
   "cell_type": "code",
   "execution_count": 32,
   "id": "b58f91e865ae6b7d",
   "metadata": {
    "collapsed": false,
    "ExecuteTime": {
     "end_time": "2024-02-13T03:51:02.732603Z",
     "start_time": "2024-02-13T03:51:02.713851Z"
    }
   },
   "outputs": [
    {
     "name": "stdout",
     "output_type": "stream",
     "text": [
      "\n",
      "TEXT:\n",
      "\n",
      "Repost from organichomebg Лесно, бързо и мнооого вкусно! Петък вечер с аромат на пица! Приготвихме я с готов био блат без глутен и комбинирахме с доматен сос по провансалски, веган сирене delishu, ароматен риган, маслини, пресен босилек и чери домати. Запечена до хрупкавост и поднесена с кетчуп и майонеза без яйца. . . . . . #ilovedelishu #delishu #rawvegancheese #nutcheese #cashewcheese #vegancheese #plantcheese #rawcheese #probiotic #probiotics #slowfood #soulfood #delicious #vegan #veganpower #vegansecrets #whatveganseat #bestofvegan #veganfoodlovers #veganfood #veganeats #veganrecipes #veganfoodie #veganfoodshare #vegansofig #veganfoodporn #veganfood #veganisme #vegansofinstagram #veganonabudget\n",
      "\n",
      "LANGUAGE:\n",
      "\n",
      "bg\n"
     ]
    }
   ],
   "source": [
    "example = train_set[10]\n",
    "for k, v in example.items():\n",
    "    print(f\"\\n{k.upper()}:\\n\")\n",
    "    print(v)"
   ]
  },
  {
   "cell_type": "code",
   "execution_count": 33,
   "id": "4d3eed7237bf76d7",
   "metadata": {
    "collapsed": false,
    "ExecuteTime": {
     "end_time": "2024-02-13T03:51:03.035579Z",
     "start_time": "2024-02-13T03:51:03.022177Z"
    }
   },
   "outputs": [],
   "source": [
    "class Text2Language(dspy.Signature):\n",
    "    \"\"\"Detect the language of the text and only return the 2 letter iso639 code.\"\"\"\n",
    "\n",
    "    text = dspy.InputField()\n",
    "    language = dspy.OutputField(desc=\"The 2 letter iso639 code of the detected language.\")\n",
    "\n",
    "\n",
    "class Classifier(dspy.Module):\n",
    "    def __init__(self):\n",
    "        super().__init__()\n",
    "        self.prog = dspy.ChainOfThought(Text2Language)\n",
    "\n",
    "    def forward(self, text):\n",
    "        return self.prog(text=text)\n",
    "\n",
    "\n",
    "classifier = Classifier()"
   ]
  },
  {
   "cell_type": "code",
   "execution_count": 34,
   "id": "bd33342d3f1c55c0",
   "metadata": {
    "collapsed": false,
    "ExecuteTime": {
     "end_time": "2024-02-13T03:51:03.538160Z",
     "start_time": "2024-02-13T03:51:03.527441Z"
    }
   },
   "outputs": [
    {
     "data": {
      "text/plain": "Prediction(\n    rationale='produce the language. We see that the text contains Cyrillic characters, which are commonly used in Bulgarian.',\n    language='bg'\n)"
     },
     "execution_count": 34,
     "metadata": {},
     "output_type": "execute_result"
    }
   ],
   "source": [
    "classifier(text=example.text)"
   ]
  },
  {
   "cell_type": "code",
   "execution_count": 35,
   "id": "f5e1dbc3a309d2a2",
   "metadata": {
    "collapsed": false,
    "ExecuteTime": {
     "end_time": "2024-02-13T03:51:04.051235Z",
     "start_time": "2024-02-13T03:51:04.033792Z"
    }
   },
   "outputs": [
    {
     "name": "stdout",
     "output_type": "stream",
     "text": [
      "\n",
      "\n",
      "\n",
      "\n",
      "Detect the language of the text and only return the 2 letter iso639 code.\n",
      "\n",
      "---\n",
      "\n",
      "Follow the following format.\n",
      "\n",
      "Text: ${text}\n",
      "Reasoning: Let's think step by step in order to ${produce the language}. We ...\n",
      "Language: The 2 letter iso639 code of the detected language.\n",
      "\n",
      "---\n",
      "\n",
      "Text: Repost from organichomebg Лесно, бързо и мнооого вкусно! Петък вечер с аромат на пица! Приготвихме я с готов био блат без глутен и комбинирахме с доматен сос по провансалски, веган сирене delishu, ароматен риган, маслини, пресен босилек и чери домати. Запечена до хрупкавост и поднесена с кетчуп и майонеза без яйца. . . . . . #ilovedelishu #delishu #rawvegancheese #nutcheese #cashewcheese #vegancheese #plantcheese #rawcheese #probiotic #probiotics #slowfood #soulfood #delicious #vegan #veganpower #vegansecrets #whatveganseat #bestofvegan #veganfoodlovers #veganfood #veganeats #veganrecipes #veganfoodie #veganfoodshare #vegansofig #veganfoodporn #veganfood #veganisme #vegansofinstagram #veganonabudget\n",
      "Reasoning: Let's think step by step in order to\u001B[32m produce the language. We see that the text contains Cyrillic characters, which are commonly used in Bulgarian.\n",
      "Language: bg\u001B[0m\n",
      "\n"
     ]
    }
   ],
   "source": [
    "llm.inspect_history(n=1)"
   ]
  },
  {
   "cell_type": "code",
   "execution_count": 36,
   "id": "459ff6016119a201",
   "metadata": {
    "collapsed": false,
    "ExecuteTime": {
     "end_time": "2024-02-13T03:51:04.783137Z",
     "start_time": "2024-02-13T03:51:04.776478Z"
    }
   },
   "outputs": [],
   "source": [
    "def eval_metric(true, pred, trace=None):\n",
    "    return true.language == pred.language\n",
    "\n",
    "evaluate = Evaluate(devset=val_set, metric=eval_metric, num_threads=6, display_progress=True, display_table=5)"
   ]
  },
  {
   "cell_type": "code",
   "execution_count": 37,
   "id": "ebdd2ec73225fc03",
   "metadata": {
    "collapsed": false,
    "ExecuteTime": {
     "end_time": "2024-02-13T03:51:05.440589Z",
     "start_time": "2024-02-13T03:51:05.263225Z"
    }
   },
   "outputs": [
    {
     "name": "stderr",
     "output_type": "stream",
     "text": [
      "Average Metric: 79 / 100  (79.0): 100%|██████████| 100/100 [00:00<00:00, 1027.28it/s]"
     ]
    },
    {
     "name": "stdout",
     "output_type": "stream",
     "text": [
      "Average Metric: 79 / 100  (79.0%)\n"
     ]
    },
    {
     "name": "stderr",
     "output_type": "stream",
     "text": [
      "\n",
      "/Users/christopher/personal_projects/mysite/posts/dspy/env/lib/python3.11/site-packages/dspy/evaluate/evaluate.py:137: FutureWarning: DataFrame.applymap has been deprecated. Use DataFrame.map instead.\n",
      "  df = df.applymap(truncate_cell)\n"
     ]
    },
    {
     "data": {
      "text/plain": "<pandas.io.formats.style.Styler at 0x1666098d0>",
      "text/html": "<style type=\"text/css\">\n#T_735fd th {\n  text-align: left;\n}\n#T_735fd td {\n  text-align: left;\n}\n#T_735fd_row0_col0, #T_735fd_row0_col1, #T_735fd_row0_col2, #T_735fd_row0_col3, #T_735fd_row0_col4, #T_735fd_row1_col0, #T_735fd_row1_col1, #T_735fd_row1_col2, #T_735fd_row1_col3, #T_735fd_row1_col4, #T_735fd_row2_col0, #T_735fd_row2_col1, #T_735fd_row2_col2, #T_735fd_row2_col3, #T_735fd_row2_col4, #T_735fd_row3_col0, #T_735fd_row3_col1, #T_735fd_row3_col2, #T_735fd_row3_col3, #T_735fd_row3_col4, #T_735fd_row4_col0, #T_735fd_row4_col1, #T_735fd_row4_col2, #T_735fd_row4_col3, #T_735fd_row4_col4 {\n  text-align: left;\n  white-space: pre-wrap;\n  word-wrap: break-word;\n  max-width: 400px;\n}\n</style>\n<table id=\"T_735fd\">\n  <thead>\n    <tr>\n      <th class=\"blank level0\" >&nbsp;</th>\n      <th id=\"T_735fd_level0_col0\" class=\"col_heading level0 col0\" >text</th>\n      <th id=\"T_735fd_level0_col1\" class=\"col_heading level0 col1\" >example_language</th>\n      <th id=\"T_735fd_level0_col2\" class=\"col_heading level0 col2\" >rationale</th>\n      <th id=\"T_735fd_level0_col3\" class=\"col_heading level0 col3\" >pred_language</th>\n      <th id=\"T_735fd_level0_col4\" class=\"col_heading level0 col4\" >eval_metric</th>\n    </tr>\n  </thead>\n  <tbody>\n    <tr>\n      <th id=\"T_735fd_level0_row0\" class=\"row_heading level0 row0\" >0</th>\n      <td id=\"T_735fd_row0_col0\" class=\"data row0 col0\" >A rainbow appeared in the sky.. #rainbow #rainbowmagic #shadesinthesky #colors #soulfood #bluewhite #clouds #landscapephotography #nature #naturemagic #naturephotography #naturelovers #lovephotographing #haveaphotographyday #myhelsinki #visitfinland #thisisfinland #beautifulfinland #finland4seasons...</td>\n      <td id=\"T_735fd_row0_col1\" class=\"data row0 col1\" >fi</td>\n      <td id=\"T_735fd_row0_col2\" class=\"data row0 col2\" >detect the language. We will analyze the text and look for common words and patterns to determine the language.</td>\n      <td id=\"T_735fd_row0_col3\" class=\"data row0 col3\" >en</td>\n      <td id=\"T_735fd_row0_col4\" class=\"data row0 col4\" >False</td>\n    </tr>\n    <tr>\n      <th id=\"T_735fd_level0_row1\" class=\"row_heading level0 row1\" >1</th>\n      <td id=\"T_735fd_row1_col0\" class=\"data row1 col0\" >Αθήνα - Πόρος σε χρόνο ρεκόρ με τον καλύτερο οδηγό. #roadtrip #ontheroad #greece #poros #greeceislands #greece_travel #traveler #audi #audiq3 #visitgreece #argosaronikos #lovestory #lovecars #carsofinstagram #travelcar...</td>\n      <td id=\"T_735fd_row1_col1\" class=\"data row1 col1\" >el</td>\n      <td id=\"T_735fd_row1_col2\" class=\"data row1 col2\" >detect the language of the text. We will analyze the characters and patterns to determine the language.</td>\n      <td id=\"T_735fd_row1_col3\" class=\"data row1 col3\" >el</td>\n      <td id=\"T_735fd_row1_col4\" class=\"data row1 col4\" >✔️ [True]</td>\n    </tr>\n    <tr>\n      <th id=\"T_735fd_level0_row2\" class=\"row_heading level0 row2\" >2</th>\n      <td id=\"T_735fd_row2_col0\" class=\"data row2 col0\" >Természetes hatású szálas szemöldöktetoválás bájos vendégemnek! Microblading technikával készült! Bejelentkezés:Mariann 06-30-332-4011 Árak ,infók: u #smink #tartossmink #sminktetovalas #természetessminktetoválás #szálasszemöldöktetoválás #microblading #microbladingeyebrows #szemöldök #szemoldoktetovalas #sminktetováló #pmu...</td>\n      <td id=\"T_735fd_row2_col1\" class=\"data row2 col1\" >hu</td>\n      <td id=\"T_735fd_row2_col2\" class=\"data row2 col2\" >produce the language. We see that the text contains a lot of Hungarian words and hashtags, so it is likely written in Hungarian.</td>\n      <td id=\"T_735fd_row2_col3\" class=\"data row2 col3\" >hu</td>\n      <td id=\"T_735fd_row2_col4\" class=\"data row2 col4\" >✔️ [True]</td>\n    </tr>\n    <tr>\n      <th id=\"T_735fd_level0_row3\" class=\"row_heading level0 row3\" >3</th>\n      <td id=\"T_735fd_row3_col0\" class=\"data row3 col0\" >#bnw #blackandwhitephotography #turkiye #selcuk #historicturkey #blackandwhite #streetsofselcuk #attaturk #ageancoast #architecture #cntraveler #palmtrees #turkey</td>\n      <td id=\"T_735fd_row3_col1\" class=\"data row3 col1\" >tr</td>\n      <td id=\"T_735fd_row3_col2\" class=\"data row3 col2\" >detect the language. We can see that the hashtags include \"turkiye\" and \"attaturk\" which are related to Turkey, so the language is likely Turkish.</td>\n      <td id=\"T_735fd_row3_col3\" class=\"data row3 col3\" >tr</td>\n      <td id=\"T_735fd_row3_col4\" class=\"data row3 col4\" >✔️ [True]</td>\n    </tr>\n    <tr>\n      <th id=\"T_735fd_level0_row4\" class=\"row_heading level0 row4\" >4</th>\n      <td id=\"T_735fd_row4_col0\" class=\"data row4 col0\" >Chapter-495, అత్తvsకోడలు, Punchకి Reverse Punch, #justforfun #telugucomedy #ytshorts #instareels #reels</td>\n      <td id=\"T_735fd_row4_col1\" class=\"data row4 col1\" >te</td>\n      <td id=\"T_735fd_row4_col2\" class=\"data row4 col2\" >produce the language. We see that the text contains characters from the Telugu script, which is primarily used for the Telugu language.</td>\n      <td id=\"T_735fd_row4_col3\" class=\"data row4 col3\" >te</td>\n      <td id=\"T_735fd_row4_col4\" class=\"data row4 col4\" >✔️ [True]</td>\n    </tr>\n  </tbody>\n</table>\n"
     },
     "metadata": {},
     "output_type": "display_data"
    },
    {
     "data": {
      "text/plain": "<IPython.core.display.HTML object>",
      "text/html": "\n                <div style='\n                    text-align: center; \n                    font-size: 16px; \n                    font-weight: bold; \n                    color: #555; \n                    margin: 10px 0;'>\n                    ... 95 more rows not displayed ...\n                </div>\n                "
     },
     "metadata": {},
     "output_type": "display_data"
    },
    {
     "data": {
      "text/plain": "79.0"
     },
     "execution_count": 37,
     "metadata": {},
     "output_type": "execute_result"
    }
   ],
   "source": [
    "evaluate(classifier)"
   ]
  },
  {
   "cell_type": "code",
   "execution_count": 38,
   "id": "7ff8f5af8ff2155d",
   "metadata": {
    "collapsed": false,
    "ExecuteTime": {
     "end_time": "2024-02-13T03:51:05.762579Z",
     "start_time": "2024-02-13T03:51:05.482835Z"
    }
   },
   "outputs": [
    {
     "name": "stdout",
     "output_type": "stream",
     "text": [
      "\n",
      "\n",
      "\n",
      "\n",
      "Detect the language of the text and only return the 2 letter iso639 code.\n",
      "\n",
      "---\n",
      "\n",
      "Follow the following format.\n",
      "\n",
      "Text: ${text}\n",
      "Reasoning: Let's think step by step in order to ${produce the language}. We ...\n",
      "Language: The 2 letter iso639 code of the detected language.\n",
      "\n",
      "---\n",
      "\n",
      "Text: 農曆新年week 兔氣揚眉 虎盡甘來\n",
      "Reasoning: Let's think step by step in order to\u001B[32m detect the language. The characters used in the text are commonly used in Chinese languages, so it is likely to be Chinese.\n",
      "Language: zh\u001B[0m\n"
     ]
    }
   ],
   "source": [
    "llm.inspect_history(n=1)"
   ]
  },
  {
   "cell_type": "code",
   "execution_count": 39,
   "id": "57c3fe29b121b0bd",
   "metadata": {
    "collapsed": false,
    "ExecuteTime": {
     "end_time": "2024-02-13T03:51:06.742112Z",
     "start_time": "2024-02-13T03:51:05.665135Z"
    }
   },
   "outputs": [
    {
     "name": "stdout",
     "output_type": "stream",
     "text": [
      "Going to sample between 1 and 1 traces per predictor.\n",
      "Will attempt to train 1 candidate sets.\n"
     ]
    },
    {
     "name": "stderr",
     "output_type": "stream",
     "text": [
      "Average Metric: 79 / 100  (79.0): 100%|██████████| 100/100 [00:00<00:00, 3793.07it/s]\n",
      "/Users/christopher/personal_projects/mysite/posts/dspy/env/lib/python3.11/site-packages/dspy/evaluate/evaluate.py:137: FutureWarning: DataFrame.applymap has been deprecated. Use DataFrame.map instead.\n",
      "  df = df.applymap(truncate_cell)\n"
     ]
    },
    {
     "name": "stdout",
     "output_type": "stream",
     "text": [
      "Average Metric: 79 / 100  (79.0%)\n",
      "Score: 79.0 for set: [0]\n",
      "New best score: 79.0 for seed -3\n",
      "Scores so far: [79.0]\n",
      "Best score: 79.0\n"
     ]
    },
    {
     "name": "stderr",
     "output_type": "stream",
     "text": [
      "Average Metric: 89 / 100  (89.0): 100%|██████████| 100/100 [00:00<00:00, 688.51it/s]\n"
     ]
    },
    {
     "name": "stdout",
     "output_type": "stream",
     "text": [
      "Average Metric: 89 / 100  (89.0%)\n",
      "Score: 89.0 for set: [4]\n",
      "New best score: 89.0 for seed -2\n",
      "Scores so far: [79.0, 89.0]\n",
      "Best score: 89.0\n"
     ]
    },
    {
     "name": "stderr",
     "output_type": "stream",
     "text": [
      "  1%|          | 1/100 [00:00<00:00, 303.30it/s]\n"
     ]
    },
    {
     "name": "stdout",
     "output_type": "stream",
     "text": [
      "Bootstrapped 1 full traces after 2 examples in round 0.\n"
     ]
    },
    {
     "name": "stderr",
     "output_type": "stream",
     "text": [
      "Average Metric: 87 / 100  (87.0): 100%|██████████| 100/100 [00:00<00:00, 695.76it/s]\n"
     ]
    },
    {
     "name": "stdout",
     "output_type": "stream",
     "text": [
      "Average Metric: 87 / 100  (87.0%)\n",
      "Score: 87.0 for set: [4]\n",
      "Scores so far: [79.0, 89.0, 87.0]\n",
      "Best score: 89.0\n",
      "Average of max per entry across top 1 scores: 0.89\n",
      "Average of max per entry across top 2 scores: 0.95\n",
      "Average of max per entry across top 3 scores: 0.95\n",
      "Average of max per entry across top 5 scores: 0.95\n",
      "Average of max per entry across top 8 scores: 0.95\n",
      "Average of max per entry across top 9999 scores: 0.95\n"
     ]
    },
    {
     "name": "stderr",
     "output_type": "stream",
     "text": [
      "  1%|          | 1/100 [00:00<00:00, 756.96it/s]\n"
     ]
    },
    {
     "name": "stdout",
     "output_type": "stream",
     "text": [
      "Bootstrapped 1 full traces after 2 examples in round 0.\n"
     ]
    },
    {
     "name": "stderr",
     "output_type": "stream",
     "text": [
      "Average Metric: 94 / 100  (94.0): 100%|██████████| 100/100 [00:00<00:00, 625.86it/s]"
     ]
    },
    {
     "name": "stdout",
     "output_type": "stream",
     "text": [
      "Average Metric: 94 / 100  (94.0%)\n",
      "Score: 94.0 for set: [4]\n",
      "New best score: 94.0 for seed 0\n",
      "Scores so far: [79.0, 89.0, 87.0, 94.0]\n",
      "Best score: 94.0\n",
      "Average of max per entry across top 1 scores: 0.94\n",
      "Average of max per entry across top 2 scores: 0.96\n",
      "Average of max per entry across top 3 scores: 0.96\n",
      "Average of max per entry across top 5 scores: 0.96\n",
      "Average of max per entry across top 8 scores: 0.96\n",
      "Average of max per entry across top 9999 scores: 0.96\n",
      "4 candidate programs found.\n"
     ]
    },
    {
     "name": "stderr",
     "output_type": "stream",
     "text": [
      "\n"
     ]
    }
   ],
   "source": [
    "from dspy.teleprompt import BootstrapFewShotWithRandomSearch\n",
    "\n",
    "config = dict(max_bootstrapped_demos=1, max_labeled_demos=4, num_candidate_programs=1, num_threads=6)\n",
    "teleprompter = BootstrapFewShotWithRandomSearch(metric=eval_metric, **config)\n",
    "optimized_classifier = teleprompter.compile(classifier, trainset=train_set, valset=val_set)"
   ]
  },
  {
   "cell_type": "code",
   "execution_count": 40,
   "id": "d7ff5914ab996b03",
   "metadata": {
    "collapsed": false,
    "ExecuteTime": {
     "end_time": "2024-02-13T03:51:06.743033Z",
     "start_time": "2024-02-13T03:51:06.199642Z"
    }
   },
   "outputs": [
    {
     "name": "stdout",
     "output_type": "stream",
     "text": [
      "\n",
      "\n",
      "\n",
      "\n",
      "Detect the language of the text and only return the 2 letter iso639 code.\n",
      "\n",
      "---\n",
      "\n",
      "Follow the following format.\n",
      "\n",
      "Text: ${text}\n",
      "Reasoning: Let's think step by step in order to ${produce the language}. We ...\n",
      "Language: The 2 letter iso639 code of the detected language.\n",
      "\n",
      "---\n",
      "\n",
      "Text: 必嫵UIU假體隆乳，成就完美曲線 選擇必嫵： 安全 舒適 自然 疼痛感少 在術前醫生會對乳房的凸度、高度、寬度、挺度、聚攏度設計，根據不同求美者的基礎情況調整各項數據！ WhatsApp：+86 17620756861 LINE： #plasticsurgery #beauty #eyelidsurgery #rhinoplasty #DoubleJaw #Breastsurgery #viewplasticsurgery #korea #seoul #shenzhen #韓國整形 #韓國整容 #整形醫院 #韓國醫美 #顴骨縮小 #輪廓手術 #無痛隆胸 #必嫵隆胸 #假體隆胸 #隆胸手術 #隆乳手術\n",
      "Reasoning: Let's think step by step in order to produce the language. We see that the text contains Chinese characters and mentions Shenzhen and Korea, which are locations in China and South Korea.\n",
      "Language: zh\n",
      "\n",
      "---\n",
      "\n",
      "Text: כל המותגים במקום אחד במחירים הכי זולים שיש הרצל 21 לוד להזמנות 0547557707 שעות פתיחה 9:00 עד 21:00 #diesel #boss #lacoste #desquared2 #paulandshark #wjeans #robertovino #gant #recardo #hugo #asics #replay #dolcegabbana #reef#philippplein #pleinsport\n",
      "Language: he\n",
      "\n",
      "---\n",
      "\n",
      "Text: ……….. هایدرافاشیەڵ بە کۆمەڵی تایبەتمەندی ناوازەوە + میزۆ بۆ ڕوونکردنەوەی پێست + پلازما بۆ نوێکردنەوەی خانەکانی پێست + دێرماپین بۆ زیاتر دەرخستنی بریقە و گەشاوەی پێست + کۆمەڵی ئەنجامی ناوازەتر لە کلینیکی گوڵی ئارێزە بەدەست بێنە لەگەڵ کلینیکی گوڵی ئارێزە کوالیتی کارەکانتان باشتر دەبێت 07502773008 کلینیکی گوڵی ئارێزە -جادەی100مەتری نزیک خوشخانەی ڕزگاری »»»»»»»»»»»»» عنوان اربيل شارع 100مترى قرب مستشفي رزگاري #beautytips #beautycare #beautyclinic #botoxfacial #hydrafacial #kurdistan #erbil\n",
      "Language: ku\n",
      "\n",
      "---\n",
      "\n",
      "Text: #wildflowers #wildflowersofinstagram #flowerpic #flowerpics #flowerphotography #flowers #flowerstagram #flowergram #greekflowers #instaphotography #naturephotography #nature #plants #macro #macrophotography #plantphotography #plantlover#plantlife #photoediting #φύση #λουλούδια #ελλάδα #βουνό #φυτά\n",
      "Language: el\n",
      "\n",
      "---\n",
      "\n",
      "Text: In Love with 𝘈𝘯𝘪𝘮𝘦 𝘓𝘢𝘴𝘩𝘦𝘴 whatsapp - 0758575390 𝘖𝘭𝘢𝘳𝘪𝘶 𝘎𝘦𝘰𝘳𝘨𝘪𝘢𝘯𝘢 - 𝘓𝘢𝘴𝘩 𝘢𝘳𝘵𝘪𝘴𝘵 𝘢𝘯𝘥 𝘛𝘳𝘢𝘪𝘯𝘦𝘳 #extensiidegene #extensiidegeneiasi #extensiifircufir #iasi #geneiasi #genefircufir #genenicolina #nicolina #naturallashes #naturaleffect #beautyeyes #lashextensions #lashes #perfectlashes #lashextensionsiasi #lashartist #gene #efectnatural #extensiifrumoase #volumelashes #cursurigeneiasi #cursurigenefircuir #cursdegene #cursgene #cursgeneiasi #cursgenefircufir #lashcourses\n",
      "Reasoning: Let's think step by step in order to\u001B[32m produce the language. We see that the text contains Romanian words and mentions Iasi, which is a city in Romania.\n",
      "Language: ro\u001B[0m\n",
      "\n"
     ]
    }
   ],
   "source": [
    "llm.inspect_history(n=1)"
   ]
  },
  {
   "cell_type": "code",
   "execution_count": 41,
   "id": "1766e921b9d94171",
   "metadata": {
    "collapsed": false,
    "ExecuteTime": {
     "end_time": "2024-02-13T03:51:06.876442Z",
     "start_time": "2024-02-13T03:51:06.686520Z"
    }
   },
   "outputs": [
    {
     "name": "stderr",
     "output_type": "stream",
     "text": [
      "Average Metric: 94 / 100  (94.0): 100%|██████████| 100/100 [00:00<00:00, 4019.42it/s]"
     ]
    },
    {
     "name": "stdout",
     "output_type": "stream",
     "text": [
      "Average Metric: 94 / 100  (94.0%)\n"
     ]
    },
    {
     "name": "stderr",
     "output_type": "stream",
     "text": [
      "\n"
     ]
    },
    {
     "data": {
      "text/plain": "<pandas.io.formats.style.Styler at 0x1654d98d0>",
      "text/html": "<style type=\"text/css\">\n#T_6229f th {\n  text-align: left;\n}\n#T_6229f td {\n  text-align: left;\n}\n#T_6229f_row0_col0, #T_6229f_row0_col1, #T_6229f_row0_col2, #T_6229f_row0_col3, #T_6229f_row0_col4, #T_6229f_row1_col0, #T_6229f_row1_col1, #T_6229f_row1_col2, #T_6229f_row1_col3, #T_6229f_row1_col4, #T_6229f_row2_col0, #T_6229f_row2_col1, #T_6229f_row2_col2, #T_6229f_row2_col3, #T_6229f_row2_col4, #T_6229f_row3_col0, #T_6229f_row3_col1, #T_6229f_row3_col2, #T_6229f_row3_col3, #T_6229f_row3_col4, #T_6229f_row4_col0, #T_6229f_row4_col1, #T_6229f_row4_col2, #T_6229f_row4_col3, #T_6229f_row4_col4 {\n  text-align: left;\n  white-space: pre-wrap;\n  word-wrap: break-word;\n  max-width: 400px;\n}\n</style>\n<table id=\"T_6229f\">\n  <thead>\n    <tr>\n      <th class=\"blank level0\" >&nbsp;</th>\n      <th id=\"T_6229f_level0_col0\" class=\"col_heading level0 col0\" >text</th>\n      <th id=\"T_6229f_level0_col1\" class=\"col_heading level0 col1\" >example_language</th>\n      <th id=\"T_6229f_level0_col2\" class=\"col_heading level0 col2\" >rationale</th>\n      <th id=\"T_6229f_level0_col3\" class=\"col_heading level0 col3\" >pred_language</th>\n      <th id=\"T_6229f_level0_col4\" class=\"col_heading level0 col4\" >eval_metric</th>\n    </tr>\n  </thead>\n  <tbody>\n    <tr>\n      <th id=\"T_6229f_level0_row0\" class=\"row_heading level0 row0\" >0</th>\n      <td id=\"T_6229f_row0_col0\" class=\"data row0 col0\" >A rainbow appeared in the sky.. #rainbow #rainbowmagic #shadesinthesky #colors #soulfood #bluewhite #clouds #landscapephotography #nature #naturemagic #naturephotography #naturelovers #lovephotographing #haveaphotographyday #myhelsinki #visitfinland #thisisfinland #beautifulfinland #finland4seasons...</td>\n      <td id=\"T_6229f_row0_col1\" class=\"data row0 col1\" >fi</td>\n      <td id=\"T_6229f_row0_col2\" class=\"data row0 col2\" >produce the language. We see that the text contains English hashtags and mentions Helsinki, Finland, and the Finnish language.</td>\n      <td id=\"T_6229f_row0_col3\" class=\"data row0 col3\" >en</td>\n      <td id=\"T_6229f_row0_col4\" class=\"data row0 col4\" >False</td>\n    </tr>\n    <tr>\n      <th id=\"T_6229f_level0_row1\" class=\"row_heading level0 row1\" >1</th>\n      <td id=\"T_6229f_row1_col0\" class=\"data row1 col0\" >Αθήνα - Πόρος σε χρόνο ρεκόρ με τον καλύτερο οδηγό. #roadtrip #ontheroad #greece #poros #greeceislands #greece_travel #traveler #audi #audiq3 #visitgreece #argosaronikos #lovestory #lovecars #carsofinstagram #travelcar...</td>\n      <td id=\"T_6229f_row1_col1\" class=\"data row1 col1\" >el</td>\n      <td id=\"T_6229f_row1_col2\" class=\"data row1 col2\" >produce the language. We see that the text contains Greek characters and mentions Athens, Poros, and Greece, which are locations in Greece.</td>\n      <td id=\"T_6229f_row1_col3\" class=\"data row1 col3\" >el</td>\n      <td id=\"T_6229f_row1_col4\" class=\"data row1 col4\" >✔️ [True]</td>\n    </tr>\n    <tr>\n      <th id=\"T_6229f_level0_row2\" class=\"row_heading level0 row2\" >2</th>\n      <td id=\"T_6229f_row2_col0\" class=\"data row2 col0\" >Természetes hatású szálas szemöldöktetoválás bájos vendégemnek! Microblading technikával készült! Bejelentkezés:Mariann 06-30-332-4011 Árak ,infók: u #smink #tartossmink #sminktetovalas #természetessminktetoválás #szálasszemöldöktetoválás #microblading #microbladingeyebrows #szemöldök #szemoldoktetovalas #sminktetováló #pmu...</td>\n      <td id=\"T_6229f_row2_col1\" class=\"data row2 col1\" >hu</td>\n      <td id=\"T_6229f_row2_col2\" class=\"data row2 col2\" >produce the language. We see that the text contains Hungarian words and mentions a phone number with a Hungarian format.</td>\n      <td id=\"T_6229f_row2_col3\" class=\"data row2 col3\" >hu</td>\n      <td id=\"T_6229f_row2_col4\" class=\"data row2 col4\" >✔️ [True]</td>\n    </tr>\n    <tr>\n      <th id=\"T_6229f_level0_row3\" class=\"row_heading level0 row3\" >3</th>\n      <td id=\"T_6229f_row3_col0\" class=\"data row3 col0\" >#bnw #blackandwhitephotography #turkiye #selcuk #historicturkey #blackandwhite #streetsofselcuk #attaturk #ageancoast #architecture #cntraveler #palmtrees #turkey</td>\n      <td id=\"T_6229f_row3_col1\" class=\"data row3 col1\" >tr</td>\n      <td id=\"T_6229f_row3_col2\" class=\"data row3 col2\" >produce the language. We see that the text contains Turkish words and mentions Turkey.</td>\n      <td id=\"T_6229f_row3_col3\" class=\"data row3 col3\" >tr</td>\n      <td id=\"T_6229f_row3_col4\" class=\"data row3 col4\" >✔️ [True]</td>\n    </tr>\n    <tr>\n      <th id=\"T_6229f_level0_row4\" class=\"row_heading level0 row4\" >4</th>\n      <td id=\"T_6229f_row4_col0\" class=\"data row4 col0\" >Chapter-495, అత్తvsకోడలు, Punchకి Reverse Punch, #justforfun #telugucomedy #ytshorts #instareels #reels</td>\n      <td id=\"T_6229f_row4_col1\" class=\"data row4 col1\" >te</td>\n      <td id=\"T_6229f_row4_col2\" class=\"data row4 col2\" >produce the language. We see that the text contains Telugu characters and mentions a chapter number, which indicates that the language is Telugu.</td>\n      <td id=\"T_6229f_row4_col3\" class=\"data row4 col3\" >te</td>\n      <td id=\"T_6229f_row4_col4\" class=\"data row4 col4\" >✔️ [True]</td>\n    </tr>\n  </tbody>\n</table>\n"
     },
     "metadata": {},
     "output_type": "display_data"
    },
    {
     "data": {
      "text/plain": "<IPython.core.display.HTML object>",
      "text/html": "\n                <div style='\n                    text-align: center; \n                    font-size: 16px; \n                    font-weight: bold; \n                    color: #555; \n                    margin: 10px 0;'>\n                    ... 95 more rows not displayed ...\n                </div>\n                "
     },
     "metadata": {},
     "output_type": "display_data"
    },
    {
     "data": {
      "text/plain": "94.0"
     },
     "execution_count": 41,
     "metadata": {},
     "output_type": "execute_result"
    }
   ],
   "source": [
    "evaluate(optimized_classifier)"
   ]
  },
  {
   "cell_type": "markdown",
   "id": "3cd7a653a753abd8",
   "metadata": {
    "collapsed": false
   },
   "source": [
    "# Signatures"
   ]
  },
  {
   "cell_type": "code",
   "execution_count": null,
   "id": "737a05379344c65f",
   "metadata": {
    "collapsed": false
   },
   "outputs": [],
   "source": [
    "sentence = \"I love that shirt!\"\n",
    "classify = dspy.Predict(\"sentence -> sentiment\")\n",
    "classify(sentence=sentence)"
   ]
  },
  {
   "cell_type": "code",
   "execution_count": null,
   "id": "bf4b469d3882b2bb",
   "metadata": {
    "collapsed": false
   },
   "outputs": [],
   "source": [
    "llm.inspect_history()"
   ]
  },
  {
   "cell_type": "code",
   "execution_count": null,
   "id": "36518d2accf0f31c",
   "metadata": {
    "collapsed": false
   },
   "outputs": [],
   "source": [
    "# Example from the XSum dataset.\n",
    "document = \"\"\"The 21-year-old made seven appearances for the Hammers and netted his only goal for them in a Europa League qualification round match against Andorran side FC Lustrains last season. Lee had two loan spells in League One last term, with Blackpool and then Colchester United. He scored twice for the U's but was unable to save them from relegation. The length of Lee's contract with the promoted Tykes has not been revealed. Find all the latest football transfers on our dedicated page.\"\"\"\n",
    "\n",
    "summarize = dspy.ChainOfThought(\"document -> summary\")\n",
    "response = summarize(document=document)\n",
    "\n",
    "print(response.summary)"
   ]
  },
  {
   "cell_type": "code",
   "execution_count": null,
   "id": "fd2c5d13a33e5558",
   "metadata": {
    "collapsed": false
   },
   "outputs": [],
   "source": [
    "llm.inspect_history()"
   ]
  },
  {
   "cell_type": "code",
   "execution_count": null,
   "id": "c10a9de8a59ab19b",
   "metadata": {
    "collapsed": false
   },
   "outputs": [],
   "source": [
    "class Emotion(dspy.Signature):\n",
    "    \"\"\"Classify emotion among sadness, joy, love, anger, fear, surprise.\"\"\"\n",
    "\n",
    "    sentence = dspy.InputField()\n",
    "    sentiment = dspy.OutputField()\n",
    "\n",
    "\n",
    "sentence = \"i started feeling a little vulnerable when the giant spotlight started blinding me\"\n",
    "\n",
    "classify = dspy.Predict(Emotion)\n",
    "classify(sentence=sentence)"
   ]
  },
  {
   "cell_type": "code",
   "execution_count": null,
   "id": "8a1424d7a2f246a1",
   "metadata": {
    "collapsed": false
   },
   "outputs": [],
   "source": [
    "llm.inspect_history()"
   ]
  },
  {
   "cell_type": "code",
   "execution_count": null,
   "id": "715f5a3989bda8e8",
   "metadata": {
    "collapsed": false
   },
   "outputs": [],
   "source": [
    "class CheckCitationFaithfulness(dspy.Signature):\n",
    "    \"\"\"Verify that the text is based on the provided context.\"\"\"\n",
    "\n",
    "    context = dspy.InputField(desc=\"facts here are assumed to be true\")\n",
    "    text = dspy.InputField()\n",
    "    faithfulness = dspy.OutputField(desc=\"True/False indicating if text is faithful to context\")\n",
    "\n",
    "\n",
    "context = \"The 21-year-old made seven appearances for the Hammers and netted his only goal for them in a Europa League qualification round match against Andorran side FC Lustrains last season. Lee had two loan spells in League One last term, with Blackpool and then Colchester United. He scored twice for the U's but was unable to save them from relegation. The length of Lee's contract with the promoted Tykes has not been revealed. Find all the latest football transfers on our dedicated page.\"\n",
    "\n",
    "text = \"Lee scored 3 goals for Colchester United.\"\n",
    "\n",
    "faithfulness = dspy.ChainOfThought(CheckCitationFaithfulness)\n",
    "faithfulness(context=context, text=text)"
   ]
  },
  {
   "cell_type": "code",
   "execution_count": null,
   "id": "ebddfe2e4a99d158",
   "metadata": {
    "collapsed": false
   },
   "outputs": [],
   "source": [
    "llm.inspect_history()"
   ]
  },
  {
   "cell_type": "markdown",
   "id": "c6ea4feda3168dc8",
   "metadata": {
    "collapsed": false
   },
   "source": [
    "Note that we can set a different teacher LLM during the optimization like this for example:\n",
    "\n",
    "```python\n",
    "gpt4T = dspy.OpenAI(model='gpt-4-1106-preview', max_tokens=350, model_type='chat')\n",
    "turbo = dspy.OpenAI(model='gpt-3.5-turbo-1106', max_tokens=250, model_type='chat')\n",
    "dspy.settings.configure(lm=turbo)\n",
    "bootstrap_optimizer = BootstrapFewShotWithRandomSearch(\n",
    "    max_bootstrapped_demos=8,\n",
    "    max_labeled_demos=8,\n",
    "    num_candidate_programs=10,\n",
    "    num_threads=8,\n",
    "    metric=scone_accuracy,\n",
    "    teacher_settings=dict(lm=gpt4T))\n",
    "```"
   ]
  },
  {
   "cell_type": "markdown",
   "id": "9b770f0e4f4a9d16",
   "metadata": {
    "collapsed": false
   },
   "source": [
    "# Modules"
   ]
  },
  {
   "cell_type": "code",
   "execution_count": null,
   "id": "30a92cbacd661e42",
   "metadata": {
    "collapsed": false
   },
   "outputs": [],
   "source": [
    "question = \"What's something great about the ColBERT retrieval model?\"\n",
    "\n",
    "# 1) Declare with a signature, and pass some config.\n",
    "classify = dspy.ChainOfThought(\"question -> answer\", n=5)\n",
    "\n",
    "# 2) Call with input argument.\n",
    "response = classify(question=question)\n",
    "\n",
    "# 3) Access the outputs.\n",
    "response.completions.answer"
   ]
  },
  {
   "cell_type": "code",
   "execution_count": null,
   "id": "82519f15ef86fee6",
   "metadata": {
    "collapsed": false
   },
   "outputs": [],
   "source": [
    "print(f\"Rationale: {response.rationale}\")\n",
    "print(f\"Answer: {response.answer}\")"
   ]
  },
  {
   "cell_type": "code",
   "execution_count": null,
   "id": "6386d93dd1ab67ac",
   "metadata": {
    "collapsed": false
   },
   "outputs": [],
   "source": [
    "import dspy\n",
    "\n",
    "colbertv2_wiki17_abstracts = dspy.ColBERTv2(url=\"http://20.102.90.50:2017/wiki17_abstracts\")\n",
    "\n",
    "dspy.settings.configure(lm=llm, rm=colbertv2_wiki17_abstracts)"
   ]
  },
  {
   "cell_type": "code",
   "execution_count": null,
   "id": "102eeef870be330c",
   "metadata": {
    "collapsed": false
   },
   "outputs": [],
   "source": [
    "from dspy.datasets import HotPotQA\n",
    "\n",
    "# Load the dataset.\n",
    "dataset = HotPotQA(train_seed=1, train_size=20, eval_seed=2023, dev_size=50, test_size=0)\n",
    "\n",
    "# Tell DSPy that the 'question' field is the input. Any other fields are labels and/or metadata.\n",
    "trainset = [x.with_inputs(\"question\") for x in dataset.train]\n",
    "devset = [x.with_inputs(\"question\") for x in dataset.dev]\n",
    "\n",
    "len(trainset), len(devset)"
   ]
  },
  {
   "cell_type": "code",
   "execution_count": null,
   "id": "e2bb430f3143c251",
   "metadata": {
    "collapsed": false
   },
   "outputs": [],
   "source": [
    "trainset[0]"
   ]
  },
  {
   "cell_type": "code",
   "execution_count": null,
   "id": "880e6890c06b0b0c",
   "metadata": {
    "collapsed": false
   },
   "outputs": [],
   "source": [
    "class GenerateAnswer(dspy.Signature):\n",
    "    \"\"\"Answer questions with short factoid answers.\"\"\"\n",
    "\n",
    "    context = dspy.InputField(desc=\"may contain relevant facts\")\n",
    "    question = dspy.InputField()\n",
    "    answer = dspy.OutputField(desc=\"often between 1 and 5 words\")"
   ]
  },
  {
   "cell_type": "code",
   "execution_count": null,
   "id": "b212085f0ca57ea2",
   "metadata": {
    "collapsed": false
   },
   "outputs": [],
   "source": [
    "class RAG(dspy.Module):\n",
    "    def __init__(self, num_passages=3):\n",
    "        super().__init__()\n",
    "\n",
    "        self.retrieve = dspy.Retrieve(k=num_passages)\n",
    "        self.generate_answer = dspy.ChainOfThought(GenerateAnswer)\n",
    "\n",
    "    def forward(self, question):\n",
    "        context = self.retrieve(question).passages\n",
    "        prediction = self.generate_answer(context=context, question=question)\n",
    "        return dspy.Prediction(context=context, answer=prediction.answer)\n",
    "rag = RAG()"
   ]
  },
  {
   "cell_type": "code",
   "execution_count": null,
   "id": "ab801f76ccf72ae0",
   "metadata": {
    "collapsed": false
   },
   "outputs": [],
   "source": [
    "rag(\"At My Window was released by which American singer-songwriter?\")"
   ]
  },
  {
   "cell_type": "code",
   "execution_count": null,
   "id": "d793fbf4155fe74b",
   "metadata": {
    "collapsed": false
   },
   "outputs": [],
   "source": [
    "llm.inspect_history()"
   ]
  },
  {
   "cell_type": "code",
   "execution_count": null,
   "id": "a192430bbc21c367",
   "metadata": {
    "collapsed": false
   },
   "outputs": [],
   "source": [
    "from dspy.teleprompt import BootstrapFewShot\n",
    "\n",
    "\n",
    "# Validation logic: check that the predicted answer is correct.\n",
    "# Also check that the retrieved context does actually contain that answer.\n",
    "def validate_context_and_answer(example, pred, trace=None):\n",
    "    answer_EM = dspy.evaluate.answer_exact_match(example, pred)\n",
    "    answer_PM = dspy.evaluate.answer_passage_match(example, pred)\n",
    "    return answer_EM and answer_PM\n",
    "\n",
    "\n",
    "# Set up a basic teleprompter, which will compile our RAG program.\n",
    "teleprompter = BootstrapFewShot(metric=validate_context_and_answer)\n",
    "\n",
    "# Compile!\n",
    "compiled_rag = teleprompter.compile(rag, trainset=trainset)"
   ]
  },
  {
   "cell_type": "code",
   "execution_count": null,
   "id": "a2f2fd0b381bc216",
   "metadata": {
    "collapsed": false
   },
   "outputs": [],
   "source": [
    "# Ask any question you like to this simple RAG program.\n",
    "my_question = \"What castle did David Gregory inherit?\"\n",
    "\n",
    "# Get the prediction. This contains `pred.context` and `pred.answer`.\n",
    "pred = compiled_rag(my_question)\n",
    "\n",
    "# Print the contexts and the answer.\n",
    "print(f\"Question: {my_question}\")\n",
    "print(f\"Predicted Answer: {pred.answer}\")\n",
    "print(f\"Retrieved Contexts (truncated): {[c[:200] + '...' for c in pred.context]}\")"
   ]
  },
  {
   "cell_type": "code",
   "execution_count": null,
   "id": "8ae26f966c319586",
   "metadata": {
    "collapsed": false
   },
   "outputs": [],
   "source": [
    "llm.inspect_history()"
   ]
  },
  {
   "cell_type": "code",
   "execution_count": null,
   "id": "afb70464138137f8",
   "metadata": {
    "collapsed": false
   },
   "outputs": [],
   "source": [
    "from dspy.evaluate.evaluate import Evaluate\n",
    "\n",
    "# Set up the `evaluate_on_hotpotqa` function. We'll use this many times below.\n",
    "evaluate_on_hotpotqa = Evaluate(devset=devset, num_threads=1, display_progress=True, display_table=5)\n",
    "\n",
    "# Evaluate the `compiled_rag` program with the `answer_exact_match` metric.\n",
    "metric = dspy.evaluate.answer_exact_match\n",
    "evaluate_on_hotpotqa(compiled_rag, metric=metric)"
   ]
  },
  {
   "cell_type": "code",
   "execution_count": null,
   "id": "ce5b92d5-2732-4b71-832b-ecf8f22c020d",
   "metadata": {},
   "outputs": [],
   "source": []
  }
 ],
 "metadata": {
  "kernelspec": {
   "display_name": "Python 3 (ipykernel)",
   "language": "python",
   "name": "python3"
  },
  "language_info": {
   "codemirror_mode": {
    "name": "ipython",
    "version": 3
   },
   "file_extension": ".py",
   "mimetype": "text/x-python",
   "name": "python",
   "nbconvert_exporter": "python",
   "pygments_lexer": "ipython3",
   "version": "3.11.7"
  }
 },
 "nbformat": 4,
 "nbformat_minor": 5
}
