{
 "cells": [
  {
   "cell_type": "raw",
   "id": "d600661c5d27d391",
   "metadata": {
    "collapsed": false
   },
   "source": [
    "---\n",
    "title: DSPy\n",
    "author: Chris Levy\n",
    "date: '2024-02-12'\n",
    "date-modified: '2024-02-12'\n",
    "image: \"imgs/gpt_dspy_image.webp\"\n",
    "toc: true\n",
    "format:\n",
    "  html:\n",
    "    code-fold: show\n",
    "    page-layout: full\n",
    "bibliography: ../../bibliography.bib\n",
    "---"
   ]
  },
  {
   "cell_type": "markdown",
   "id": "95699614b2a8f988",
   "metadata": {
    "collapsed": false
   },
   "source": [
    "# Intro\n",
    "\n",
    "[`DSPy`](https://github.com/stanfordnlp/dspy) kept popping up on my X timeline and I thought it looked pretty interesting, so I decided to take a few days to look into it. I didn't get super deep into it yet, but I think I have a high level understanding. The library is fairly new IMO (as of writing this). There is excitement around it though and a growing community. I am hopeful that the documentation and library will continue to improve throughout the year. If you are completely new to `DSPy` I would suggest the following resources below.\n",
    "\n",
    "- Read through the newer documentation [here](https://dspy-docs.vercel.app/docs/intro).\n",
    "- Checkout the README from [`DSPY` GitHub repo](https://github.com/stanfordnlp/dspy) and the examples there.\n",
    "- Try and code up some simple examples on your own data.\n",
    "- Checkout the [Discord server](https://discord.gg/s7cFzpw3Mj).\n",
    "- Skim through or read some of the associated papers (see the paper links on the `DSPy` repo [README](https://github.com/stanfordnlp/dspy?tab=readme-ov-file#dspy-programmingnot-promptingfoundation-models)).\n",
    "- There are also some decent videos on YouTube. Simply Search for `DSPy` LLM etc. \n",
    "\n",
    "# ENV Setup\n",
    "\n",
    "```\n",
    "python3 -m venv env\n",
    "source env/bin/activate\n",
    "pip install dspy-ai\n",
    "pip install openai --upgrade\n",
    "pip install --upgrade notebook ipywidgets\n",
    "```\n",
    "\n",
    "```python\n",
    "import os\n",
    "os.environ[\"OPENAI_API_KEY\"] = \"YOUR_OPENAI_API_KEY\"\n",
    "```\n",
    "\n",
    "# BIG-Bench Hard Dataset - Penguins In a Table - Example\n",
    "\n",
    "Within the [BIG-Bench Hard dataset](https://github.com/suzgunmirac/BIG-Bench-Hard) [@suzgun2022challenging] there are various tasks. You can use one of these strings when using `load_dataset` to load in the corresponding records for that task.\n",
    "\n",
    "```python\n",
    "['tracking_shuffled_objects_seven_objects', 'salient_translation_error_detection', 'tracking_shuffled_objects_three_objects', 'geometric_shapes', 'object_counting', 'word_sorting', 'logical_deduction_five_objects', 'hyperbaton', 'sports_understanding', 'logical_deduction_seven_objects', 'multistep_arithmetic_two', 'ruin_names', 'causal_judgement', 'logical_deduction_three_objects', 'formal_fallacies', 'snarks', 'boolean_expressions', 'reasoning_about_colored_objects', 'dyck_languages', 'navigate', 'disambiguation_qa', 'temporal_sequences', 'web_of_lies', 'tracking_shuffled_objects_five_objects', 'penguins_in_a_table', 'movie_recommendation', 'date_understanding']\n",
    "```\n",
    "\n",
    "We will use the `penguins_in_a_table` task."
   ]
  },
  {
   "cell_type": "code",
   "execution_count": 3,
   "id": "2c4f768adf8645ba",
   "metadata": {
    "ExecuteTime": {
     "end_time": "2024-02-13T13:34:26.974310Z",
     "start_time": "2024-02-13T13:34:26.413150Z"
    },
    "collapsed": false
   },
   "outputs": [
    {
     "name": "stdout",
     "output_type": "stream",
     "text": [
      "There are 146 examples.\n"
     ]
    }
   ],
   "source": [
    "from datasets import load_dataset\n",
    "import dspy\n",
    "\n",
    "ds = load_dataset(\"maveriq/bigbenchhard\", \"penguins_in_a_table\")[\"train\"]\n",
    "examples = [dspy.Example({\"question\": r[\"input\"], \"answer\": r[\"target\"]}).with_inputs(\"question\") for r in ds]\n",
    "print(f\"There are {len(examples)} examples.\")\n",
    "trainset = examples[0:20]\n",
    "valset = examples[20:]"
   ]
  },
  {
   "cell_type": "code",
   "execution_count": 4,
   "id": "8537d9fba2cd8d45",
   "metadata": {
    "ExecuteTime": {
     "end_time": "2024-02-13T13:34:26.974563Z",
     "start_time": "2024-02-13T13:34:26.972407Z"
    },
    "collapsed": false
   },
   "outputs": [
    {
     "name": "stdout",
     "output_type": "stream",
     "text": [
      "\n",
      "QUESTION:\n",
      "\n",
      "Here is a table where the first line is a header and each subsequent line is a penguin:  name, age, height (cm), weight (kg) Louis, 7, 50, 11 Bernard, 5, 80, 13 Vincent, 9, 60, 11 Gwen, 8, 70, 15  For example: the age of Louis is 7, the weight of Gwen is 15 kg, the height of Bernard is 80 cm.  We then delete the penguin named Bernard from the table.\n",
      "How many penguins are more than 8 years old?\n",
      "Options:\n",
      "(A) 1\n",
      "(B) 2\n",
      "(C) 3\n",
      "(D) 4\n",
      "(E) 5\n",
      "\n",
      "ANSWER:\n",
      "\n",
      "(A)\n"
     ]
    }
   ],
   "source": [
    "example = trainset[10]\n",
    "for k, v in example.items():\n",
    "    print(f\"\\n{k.upper()}:\\n\")\n",
    "    print(v)"
   ]
  },
  {
   "cell_type": "markdown",
   "id": "1310881bd7e57c2b",
   "metadata": {
    "collapsed": false
   },
   "source": [
    "We will use the `DSPy` OpenAI connector to make calls to gpt-3.5. Note that `DSPy` caches\n",
    "API calls so that subsequent calls with the same input will read from the cache instead of calling OpenAI API a second time.  "
   ]
  },
  {
   "cell_type": "code",
   "execution_count": 5,
   "id": "23d8967a1bdc7524",
   "metadata": {
    "ExecuteTime": {
     "end_time": "2024-02-13T13:34:28.786722Z",
     "start_time": "2024-02-13T13:34:28.756072Z"
    },
    "collapsed": false
   },
   "outputs": [],
   "source": [
    "llm = dspy.OpenAI(model=\"gpt-3.5-turbo-0125\", max_tokens=250)\n",
    "dspy.settings.configure(lm=llm)"
   ]
  },
  {
   "cell_type": "markdown",
   "id": "60dafeca731af1a8",
   "metadata": {
    "collapsed": false
   },
   "source": [
    "We can test that the calls to OpenAI are working:"
   ]
  },
  {
   "cell_type": "code",
   "execution_count": 6,
   "id": "92b0072c63448051",
   "metadata": {
    "ExecuteTime": {
     "end_time": "2024-02-13T13:34:30.256708Z",
     "start_time": "2024-02-13T13:34:30.239655Z"
    },
    "collapsed": false
   },
   "outputs": [
    {
     "data": {
      "text/plain": "[\"Hello! I'm here to help. What can I assist you with today?\"]"
     },
     "execution_count": 6,
     "metadata": {},
     "output_type": "execute_result"
    }
   ],
   "source": [
    "llm(\"Testing testing, is anyone out there?\")"
   ]
  },
  {
   "cell_type": "code",
   "execution_count": 7,
   "id": "799fe0476563bfb8",
   "metadata": {
    "ExecuteTime": {
     "end_time": "2024-02-13T13:34:30.931400Z",
     "start_time": "2024-02-13T13:34:30.901739Z"
    },
    "collapsed": false
   },
   "outputs": [
    {
     "data": {
      "text/plain": "['There are 2 penguins who are more than 8 years old: Vincent (9 years old) and Gwen (8 years old). \\n\\nTherefore, the answer is (B) 2.']"
     },
     "execution_count": 7,
     "metadata": {},
     "output_type": "execute_result"
    }
   ],
   "source": [
    "llm(example.question)"
   ]
  },
  {
   "cell_type": "markdown",
   "id": "18bd28555a18ad",
   "metadata": {
    "collapsed": false
   },
   "source": [
    "At any point we can look at the last `n` calls to the llm:"
   ]
  },
  {
   "cell_type": "code",
   "execution_count": 8,
   "id": "28519e26fecc009c",
   "metadata": {
    "ExecuteTime": {
     "end_time": "2024-02-13T13:34:33.288955Z",
     "start_time": "2024-02-13T13:34:33.274636Z"
    },
    "collapsed": false
   },
   "outputs": [
    {
     "name": "stdout",
     "output_type": "stream",
     "text": [
      "\n",
      "\n",
      "\n",
      "\n",
      "Testing testing, is anyone out there?\u001B[32m Hello! I'm here to help. What can I assist you with today?\u001B[0m\n",
      "\n",
      "\n",
      "\n",
      "\n",
      "\n",
      "\n",
      "\n",
      "Here is a table where the first line is a header and each subsequent line is a penguin:  name, age, height (cm), weight (kg) Louis, 7, 50, 11 Bernard, 5, 80, 13 Vincent, 9, 60, 11 Gwen, 8, 70, 15  For example: the age of Louis is 7, the weight of Gwen is 15 kg, the height of Bernard is 80 cm.  We then delete the penguin named Bernard from the table.\n",
      "How many penguins are more than 8 years old?\n",
      "Options:\n",
      "(A) 1\n",
      "(B) 2\n",
      "(C) 3\n",
      "(D) 4\n",
      "(E) 5\u001B[32m There are 2 penguins who are more than 8 years old: Vincent (9 years old) and Gwen (8 years old). \n",
      "\n",
      "Therefore, the answer is (B) 2.\u001B[0m\n"
     ]
    }
   ],
   "source": [
    "llm.inspect_history(n=2)"
   ]
  },
  {
   "cell_type": "markdown",
   "id": "585980ac52de01df",
   "metadata": {
    "collapsed": false
   },
   "source": [
    "Our evaluation metric will check if the llm output contains the correct multiple choice \n",
    "answer. To define an evaluation metric in `DSPy` we create a function like the example below. The first two inputs\n",
    "should be instances of `dspy.Example`. The metric function can contain any logic you need to evaluate your task. You can read more about the `trace`\n",
    "argument in the [documentation](https://dspy-docs.vercel.app/docs/building-blocks/metrics#simple-metrics). It needs to be there, even if not explicitly using it."
   ]
  },
  {
   "cell_type": "code",
   "execution_count": 9,
   "id": "4d8c9a79e68c625b",
   "metadata": {
    "ExecuteTime": {
     "end_time": "2024-02-13T13:34:36.384216Z",
     "start_time": "2024-02-13T13:34:36.359351Z"
    },
    "collapsed": false
   },
   "outputs": [],
   "source": [
    "def eval_metric(true, prediction, trace=None):\n",
    "    prediction_answer = prediction.answer\n",
    "    parsed_answer = f\"({prediction_answer[prediction_answer.find('(') + 1]})\"\n",
    "    return parsed_answer == true.answer"
   ]
  },
  {
   "cell_type": "markdown",
   "id": "9113607bb403401d",
   "metadata": {
    "collapsed": false
   },
   "source": [
    "We set up an evaluation pipeline:"
   ]
  },
  {
   "cell_type": "code",
   "execution_count": 10,
   "id": "852bf997ff82bd4b",
   "metadata": {
    "ExecuteTime": {
     "end_time": "2024-02-13T13:34:37.476066Z",
     "start_time": "2024-02-13T13:34:37.461580Z"
    },
    "collapsed": false
   },
   "outputs": [],
   "source": [
    "from dspy.evaluate import Evaluate\n",
    "\n",
    "evaluate = Evaluate(devset=valset, metric=eval_metric, num_threads=6, display_progress=True, display_table=5)"
   ]
  },
  {
   "cell_type": "markdown",
   "id": "a45ff68f8553397",
   "metadata": {
    "collapsed": false
   },
   "source": [
    "Here is a simple module in `DSPy` for basic question and answer."
   ]
  },
  {
   "cell_type": "code",
   "execution_count": 11,
   "id": "858b1c03fc8cf95b",
   "metadata": {
    "ExecuteTime": {
     "end_time": "2024-02-13T13:34:42.155769Z",
     "start_time": "2024-02-13T13:34:42.126990Z"
    },
    "collapsed": false
   },
   "outputs": [],
   "source": [
    "class BasicQA(dspy.Module):\n",
    "    def __init__(self):\n",
    "        super().__init__()\n",
    "        self.prog = dspy.Predict(\"question -> answer\")\n",
    "\n",
    "    def forward(self, question):\n",
    "        return self.prog(question=question)\n",
    "\n",
    "\n",
    "basic_qa = BasicQA()"
   ]
  },
  {
   "cell_type": "markdown",
   "id": "d9ca93d777a79432",
   "metadata": {
    "collapsed": false
   },
   "source": [
    "The `forward` method calls `__call__` similar to how things work in pytorch."
   ]
  },
  {
   "cell_type": "code",
   "execution_count": 13,
   "id": "377050a46e338c02",
   "metadata": {
    "ExecuteTime": {
     "end_time": "2024-02-13T13:34:52.904344Z",
     "start_time": "2024-02-13T13:34:52.883839Z"
    },
    "collapsed": false
   },
   "outputs": [
    {
     "name": "stdout",
     "output_type": "stream",
     "text": [
      "\n",
      "QUESTION:\n",
      "\n",
      "Here is a table where the first line is a header and each subsequent line is a penguin:  name, age, height (cm), weight (kg) Louis, 7, 50, 11 Bernard, 5, 80, 13 Vincent, 9, 60, 11 Gwen, 8, 70, 15  For example: the age of Louis is 7, the weight of Gwen is 15 kg, the height of Bernard is 80 cm.  We then delete the penguin named Bernard from the table.\n",
      "How many penguins are more than 8 years old?\n",
      "Options:\n",
      "(A) 1\n",
      "(B) 2\n",
      "(C) 3\n",
      "(D) 4\n",
      "(E) 5\n",
      "\n",
      "ANSWER:\n",
      "\n",
      "(A)\n",
      "\n",
      "PREDICTION:\n",
      "\n",
      "(B) 2\n"
     ]
    }
   ],
   "source": [
    "pred = basic_qa(question=example.question)\n",
    "print(\"\\nQUESTION:\\n\")\n",
    "print(example.question)\n",
    "print(\"\\nANSWER:\\n\")\n",
    "print(example.answer)\n",
    "print(\"\\nPREDICTION:\\n\")\n",
    "print(pred.answer)"
   ]
  },
  {
   "cell_type": "code",
   "execution_count": 14,
   "id": "f08bfce2a7216c3f",
   "metadata": {
    "ExecuteTime": {
     "end_time": "2024-02-13T13:34:54.554627Z",
     "start_time": "2024-02-13T13:34:54.539972Z"
    },
    "collapsed": false
   },
   "outputs": [
    {
     "data": {
      "text/plain": "False"
     },
     "execution_count": 14,
     "metadata": {},
     "output_type": "execute_result"
    }
   ],
   "source": [
    "eval_metric(example, pred)"
   ]
  },
  {
   "cell_type": "code",
   "execution_count": 15,
   "id": "fc8d6b0c65783514",
   "metadata": {
    "ExecuteTime": {
     "end_time": "2024-02-13T13:34:55.833220Z",
     "start_time": "2024-02-13T13:34:55.814331Z"
    },
    "collapsed": false
   },
   "outputs": [
    {
     "name": "stdout",
     "output_type": "stream",
     "text": [
      "\n",
      "\n",
      "\n",
      "\n",
      "Given the fields `question`, produce the fields `answer`.\n",
      "\n",
      "---\n",
      "\n",
      "Follow the following format.\n",
      "\n",
      "Question: ${question}\n",
      "Answer: ${answer}\n",
      "\n",
      "---\n",
      "\n",
      "Question: Here is a table where the first line is a header and each subsequent line is a penguin: name, age, height (cm), weight (kg) Louis, 7, 50, 11 Bernard, 5, 80, 13 Vincent, 9, 60, 11 Gwen, 8, 70, 15 For example: the age of Louis is 7, the weight of Gwen is 15 kg, the height of Bernard is 80 cm. We then delete the penguin named Bernard from the table. How many penguins are more than 8 years old? Options: (A) 1 (B) 2 (C) 3 (D) 4 (E) 5\n",
      "Answer:\u001B[32m (B) 2\u001B[0m\n"
     ]
    }
   ],
   "source": [
    "llm.inspect_history(n=1)"
   ]
  },
  {
   "cell_type": "markdown",
   "id": "94542712d2a73d8d",
   "metadata": {
    "collapsed": false
   },
   "source": [
    "Now we can pass each example question through the LLM in the validation set and check if we get the correct answer:"
   ]
  },
  {
   "cell_type": "code",
   "execution_count": 16,
   "id": "a66c76cb38e8be7a",
   "metadata": {
    "ExecuteTime": {
     "end_time": "2024-02-13T13:35:01.408895Z",
     "start_time": "2024-02-13T13:35:01.388419Z"
    },
    "collapsed": false
   },
   "outputs": [],
   "source": [
    "# | echo: false\n",
    "from tqdm.notebook import tqdm\n",
    "\n",
    "tqdm._instances.clear()"
   ]
  },
  {
   "cell_type": "code",
   "execution_count": 17,
   "id": "fdc61aa81ef52a2b",
   "metadata": {
    "ExecuteTime": {
     "end_time": "2024-02-13T13:35:04.816840Z",
     "start_time": "2024-02-13T13:35:04.457813Z"
    },
    "collapsed": false
   },
   "outputs": [
    {
     "name": "stderr",
     "output_type": "stream",
     "text": [
      "Average Metric: 46 / 126  (36.5): 100%|██████████| 126/126 [00:00<00:00, 1344.98it/s]"
     ]
    },
    {
     "name": "stdout",
     "output_type": "stream",
     "text": [
      "Average Metric: 46 / 126  (36.5%)\n"
     ]
    },
    {
     "name": "stderr",
     "output_type": "stream",
     "text": [
      "\n",
      "/Users/christopher/personal_projects/mysite/posts/dspy/env/lib/python3.11/site-packages/dspy/evaluate/evaluate.py:137: FutureWarning: DataFrame.applymap has been deprecated. Use DataFrame.map instead.\n",
      "  df = df.applymap(truncate_cell)\n"
     ]
    },
    {
     "data": {
      "text/html": "<style type=\"text/css\">\n#T_14870 th {\n  text-align: left;\n}\n#T_14870 td {\n  text-align: left;\n}\n#T_14870_row0_col0, #T_14870_row0_col1, #T_14870_row0_col2, #T_14870_row0_col3, #T_14870_row1_col0, #T_14870_row1_col1, #T_14870_row1_col2, #T_14870_row1_col3, #T_14870_row2_col0, #T_14870_row2_col1, #T_14870_row2_col2, #T_14870_row2_col3, #T_14870_row3_col0, #T_14870_row3_col1, #T_14870_row3_col2, #T_14870_row3_col3, #T_14870_row4_col0, #T_14870_row4_col1, #T_14870_row4_col2, #T_14870_row4_col3 {\n  text-align: left;\n  white-space: pre-wrap;\n  word-wrap: break-word;\n  max-width: 400px;\n}\n</style>\n<table id=\"T_14870\">\n  <thead>\n    <tr>\n      <th class=\"blank level0\" >&nbsp;</th>\n      <th id=\"T_14870_level0_col0\" class=\"col_heading level0 col0\" >question</th>\n      <th id=\"T_14870_level0_col1\" class=\"col_heading level0 col1\" >example_answer</th>\n      <th id=\"T_14870_level0_col2\" class=\"col_heading level0 col2\" >pred_answer</th>\n      <th id=\"T_14870_level0_col3\" class=\"col_heading level0 col3\" >eval_metric</th>\n    </tr>\n  </thead>\n  <tbody>\n    <tr>\n      <th id=\"T_14870_level0_row0\" class=\"row_heading level0 row0\" >0</th>\n      <td id=\"T_14870_row0_col0\" class=\"data row0 col0\" >Here is a table where the first line is a header and each subsequent line is a penguin: name, age, height (cm), weight (kg) Louis,...</td>\n      <td id=\"T_14870_row0_col1\" class=\"data row0 col1\" >(A)</td>\n      <td id=\"T_14870_row0_col2\" class=\"data row0 col2\" >3</td>\n      <td id=\"T_14870_row0_col3\" class=\"data row0 col3\" >False</td>\n    </tr>\n    <tr>\n      <th id=\"T_14870_level0_row1\" class=\"row_heading level0 row1\" >1</th>\n      <td id=\"T_14870_row1_col0\" class=\"data row1 col0\" >Here is a table where the first line is a header and each subsequent line is a penguin: name, age, height (cm), weight (kg) Louis,...</td>\n      <td id=\"T_14870_row1_col1\" class=\"data row1 col1\" >(D)</td>\n      <td id=\"T_14870_row1_col2\" class=\"data row1 col2\" >(C) 50</td>\n      <td id=\"T_14870_row1_col3\" class=\"data row1 col3\" >False</td>\n    </tr>\n    <tr>\n      <th id=\"T_14870_level0_row2\" class=\"row_heading level0 row2\" >2</th>\n      <td id=\"T_14870_row2_col0\" class=\"data row2 col0\" >Here is a table where the first line is a header and each subsequent line is a penguin: name, age, height (cm), weight (kg) Louis,...</td>\n      <td id=\"T_14870_row2_col1\" class=\"data row2 col1\" >(A)</td>\n      <td id=\"T_14870_row2_col2\" class=\"data row2 col2\" >Answer: (C) 3</td>\n      <td id=\"T_14870_row2_col3\" class=\"data row2 col3\" >False</td>\n    </tr>\n    <tr>\n      <th id=\"T_14870_level0_row3\" class=\"row_heading level0 row3\" >3</th>\n      <td id=\"T_14870_row3_col0\" class=\"data row3 col0\" >Here is a table where the first line is a header and each subsequent line is a penguin: name, age, height (cm), weight (kg) Louis,...</td>\n      <td id=\"T_14870_row3_col1\" class=\"data row3 col1\" >(A)</td>\n      <td id=\"T_14870_row3_col2\" class=\"data row3 col2\" >Answer: (B) 2</td>\n      <td id=\"T_14870_row3_col3\" class=\"data row3 col3\" >False</td>\n    </tr>\n    <tr>\n      <th id=\"T_14870_level0_row4\" class=\"row_heading level0 row4\" >4</th>\n      <td id=\"T_14870_row4_col0\" class=\"data row4 col0\" >Here is a table where the first line is a header and each subsequent line is a penguin: name, age, height (cm), weight (kg) Louis,...</td>\n      <td id=\"T_14870_row4_col1\" class=\"data row4 col1\" >(B)</td>\n      <td id=\"T_14870_row4_col2\" class=\"data row4 col2\" >(B) 5</td>\n      <td id=\"T_14870_row4_col3\" class=\"data row4 col3\" >✔️ [True]</td>\n    </tr>\n  </tbody>\n</table>\n",
      "text/plain": "<pandas.io.formats.style.Styler at 0x14e98fb50>"
     },
     "metadata": {},
     "output_type": "display_data"
    },
    {
     "data": {
      "text/html": "\n                <div style='\n                    text-align: center; \n                    font-size: 16px; \n                    font-weight: bold; \n                    color: #555; \n                    margin: 10px 0;'>\n                    ... 121 more rows not displayed ...\n                </div>\n                ",
      "text/plain": "<IPython.core.display.HTML object>"
     },
     "metadata": {},
     "output_type": "display_data"
    },
    {
     "data": {
      "text/plain": "36.51"
     },
     "execution_count": 17,
     "metadata": {},
     "output_type": "execute_result"
    }
   ],
   "source": [
    "# | warning: false\n",
    "evaluate(basic_qa)"
   ]
  },
  {
   "cell_type": "markdown",
   "id": "d66f5426f7bc51f7",
   "metadata": {
    "collapsed": false
   },
   "source": [
    "`DSPy` uses optimizers to optimize the modules. In this example, optimization is a process that will choose which demos/examples\n",
    "are best to put into the prompt in order to increase the evaluation metric. At the time of writing the optimizers are called\n",
    "teleprompters (prompting from a distance). I think they will change the [name](https://dspy-docs.vercel.app/docs/building-blocks/optimizers) though to optimizers in future refactoring. The DSPy documentation stats that the optimizer can adjust/edit:\n",
    "\n",
    "- Demo examples in the prompt.\n",
    "- Instructions of the prompt.\n",
    "- Weights of the actual LLM (for example fine tuning an open source model).\n",
    "\n",
    "I have only played around with optimizers and methods that optimize which demos/examples to place in the prompt."
   ]
  },
  {
   "cell_type": "code",
   "execution_count": 18,
   "id": "b41adda1e77da9d7",
   "metadata": {
    "ExecuteTime": {
     "end_time": "2024-02-13T13:41:09.704335Z",
     "start_time": "2024-02-13T13:41:09.691327Z"
    },
    "collapsed": false
   },
   "outputs": [],
   "source": [
    "# | echo: false\n",
    "tqdm._instances.clear()"
   ]
  },
  {
   "cell_type": "code",
   "execution_count": 20,
   "id": "9aa0bfced96e9345",
   "metadata": {
    "ExecuteTime": {
     "end_time": "2024-02-13T13:41:44.882420Z",
     "start_time": "2024-02-13T13:41:44.270738Z"
    },
    "collapsed": false
   },
   "outputs": [
    {
     "name": "stdout",
     "output_type": "stream",
     "text": [
      "Going to sample between 1 and 2 traces per predictor.\n",
      "Will attempt to train 2 candidate sets.\n"
     ]
    },
    {
     "name": "stderr",
     "output_type": "stream",
     "text": [
      "Average Metric: 46 / 126  (36.5): 100%|██████████| 126/126 [00:00<00:00, 3789.82it/s]\n"
     ]
    },
    {
     "name": "stdout",
     "output_type": "stream",
     "text": [
      "Average Metric: 46 / 126  (36.5%)\n",
      "Score: 36.51 for set: [0]\n",
      "New best score: 36.51 for seed -3\n",
      "Scores so far: [36.51]\n",
      "Best score: 36.51\n"
     ]
    },
    {
     "name": "stderr",
     "output_type": "stream",
     "text": [
      "Average Metric: 47 / 126  (37.3): 100%|██████████| 126/126 [00:00<00:00, 5160.96it/s]\n"
     ]
    },
    {
     "name": "stdout",
     "output_type": "stream",
     "text": [
      "Average Metric: 47 / 126  (37.3%)\n",
      "Score: 37.3 for set: [4]\n",
      "New best score: 37.3 for seed -2\n",
      "Scores so far: [36.51, 37.3]\n",
      "Best score: 37.3\n"
     ]
    },
    {
     "name": "stderr",
     "output_type": "stream",
     "text": [
      " 50%|█████     | 10/20 [00:00<00:00, 7205.47it/s]\n"
     ]
    },
    {
     "name": "stdout",
     "output_type": "stream",
     "text": [
      "Bootstrapped 2 full traces after 11 examples in round 0.\n"
     ]
    },
    {
     "name": "stderr",
     "output_type": "stream",
     "text": [
      "Average Metric: 48 / 126  (38.1): 100%|██████████| 126/126 [00:00<00:00, 5059.81it/s]\n"
     ]
    },
    {
     "name": "stdout",
     "output_type": "stream",
     "text": [
      "Average Metric: 48 / 126  (38.1%)\n",
      "Score: 38.1 for set: [4]\n",
      "New best score: 38.1 for seed -1\n",
      "Scores so far: [36.51, 37.3, 38.1]\n",
      "Best score: 38.1\n",
      "Average of max per entry across top 1 scores: 0.38095238095238093\n",
      "Average of max per entry across top 2 scores: 0.5476190476190477\n",
      "Average of max per entry across top 3 scores: 0.6825396825396826\n",
      "Average of max per entry across top 5 scores: 0.6825396825396826\n",
      "Average of max per entry across top 8 scores: 0.6825396825396826\n",
      "Average of max per entry across top 9999 scores: 0.6825396825396826\n"
     ]
    },
    {
     "name": "stderr",
     "output_type": "stream",
     "text": [
      " 20%|██        | 4/20 [00:00<00:00, 6347.79it/s]\n"
     ]
    },
    {
     "name": "stdout",
     "output_type": "stream",
     "text": [
      "Bootstrapped 2 full traces after 5 examples in round 0.\n"
     ]
    },
    {
     "name": "stderr",
     "output_type": "stream",
     "text": [
      "Average Metric: 50 / 126  (39.7): 100%|██████████| 126/126 [00:00<00:00, 2962.69it/s]\n"
     ]
    },
    {
     "name": "stdout",
     "output_type": "stream",
     "text": [
      "Average Metric: 50 / 126  (39.7%)\n",
      "Score: 39.68 for set: [4]\n",
      "New best score: 39.68 for seed 0\n",
      "Scores so far: [36.51, 37.3, 38.1, 39.68]\n",
      "Best score: 39.68\n",
      "Average of max per entry across top 1 scores: 0.3968253968253968\n",
      "Average of max per entry across top 2 scores: 0.5079365079365079\n",
      "Average of max per entry across top 3 scores: 0.6031746031746031\n",
      "Average of max per entry across top 5 scores: 0.7222222222222222\n",
      "Average of max per entry across top 8 scores: 0.7222222222222222\n",
      "Average of max per entry across top 9999 scores: 0.7222222222222222\n"
     ]
    },
    {
     "name": "stderr",
     "output_type": "stream",
     "text": [
      "  5%|▌         | 1/20 [00:00<00:00, 3949.44it/s]"
     ]
    },
    {
     "name": "stdout",
     "output_type": "stream",
     "text": [
      "Bootstrapped 1 full traces after 2 examples in round 0.\n"
     ]
    },
    {
     "name": "stderr",
     "output_type": "stream",
     "text": [
      "\n",
      "Average Metric: 54 / 126  (42.9): 100%|██████████| 126/126 [00:00<00:00, 3787.18it/s]"
     ]
    },
    {
     "name": "stdout",
     "output_type": "stream",
     "text": [
      "Average Metric: 54 / 126  (42.9%)\n",
      "Score: 42.86 for set: [4]\n",
      "New best score: 42.86 for seed 1\n",
      "Scores so far: [36.51, 37.3, 38.1, 39.68, 42.86]\n",
      "Best score: 42.86\n",
      "Average of max per entry across top 1 scores: 0.42857142857142855\n",
      "Average of max per entry across top 2 scores: 0.5396825396825397\n",
      "Average of max per entry across top 3 scores: 0.6190476190476191\n",
      "Average of max per entry across top 5 scores: 0.7777777777777778\n",
      "Average of max per entry across top 8 scores: 0.7777777777777778\n",
      "Average of max per entry across top 9999 scores: 0.7777777777777778\n",
      "5 candidate programs found.\n"
     ]
    },
    {
     "name": "stderr",
     "output_type": "stream",
     "text": [
      "\n"
     ]
    }
   ],
   "source": [
    "# | output: false\n",
    "from dspy.teleprompt import BootstrapFewShotWithRandomSearch\n",
    "\n",
    "config = dict(max_bootstrapped_demos=2, max_labeled_demos=4, num_candidate_programs=2, num_threads=6)\n",
    "\n",
    "teleprompter = BootstrapFewShotWithRandomSearch(metric=eval_metric, **config)\n",
    "optimized_qa = teleprompter.compile(basic_qa, trainset=trainset, valset=valset)"
   ]
  },
  {
   "cell_type": "markdown",
   "id": "a9ead51a9d43a8a4",
   "metadata": {
    "collapsed": false
   },
   "source": [
    "There is a lot of output from the above code block which I am hiding to keep things cleaner.\n",
    "You can now evaluate the optimized model to see if the accuracy has improved."
   ]
  },
  {
   "cell_type": "code",
   "execution_count": 22,
   "id": "86e57496d0c2d48f",
   "metadata": {
    "ExecuteTime": {
     "end_time": "2024-02-13T13:42:57.133105Z",
     "start_time": "2024-02-13T13:42:57.035793Z"
    },
    "collapsed": false
   },
   "outputs": [
    {
     "name": "stderr",
     "output_type": "stream",
     "text": [
      "Average Metric: 54 / 126  (42.9): 100%|██████████| 126/126 [00:00<00:00, 4357.86it/s]"
     ]
    },
    {
     "name": "stdout",
     "output_type": "stream",
     "text": [
      "Average Metric: 54 / 126  (42.9%)\n"
     ]
    },
    {
     "name": "stderr",
     "output_type": "stream",
     "text": [
      "\n"
     ]
    },
    {
     "data": {
      "text/html": "<style type=\"text/css\">\n#T_5d9a9 th {\n  text-align: left;\n}\n#T_5d9a9 td {\n  text-align: left;\n}\n#T_5d9a9_row0_col0, #T_5d9a9_row0_col1, #T_5d9a9_row0_col2, #T_5d9a9_row0_col3, #T_5d9a9_row1_col0, #T_5d9a9_row1_col1, #T_5d9a9_row1_col2, #T_5d9a9_row1_col3, #T_5d9a9_row2_col0, #T_5d9a9_row2_col1, #T_5d9a9_row2_col2, #T_5d9a9_row2_col3, #T_5d9a9_row3_col0, #T_5d9a9_row3_col1, #T_5d9a9_row3_col2, #T_5d9a9_row3_col3, #T_5d9a9_row4_col0, #T_5d9a9_row4_col1, #T_5d9a9_row4_col2, #T_5d9a9_row4_col3 {\n  text-align: left;\n  white-space: pre-wrap;\n  word-wrap: break-word;\n  max-width: 400px;\n}\n</style>\n<table id=\"T_5d9a9\">\n  <thead>\n    <tr>\n      <th class=\"blank level0\" >&nbsp;</th>\n      <th id=\"T_5d9a9_level0_col0\" class=\"col_heading level0 col0\" >question</th>\n      <th id=\"T_5d9a9_level0_col1\" class=\"col_heading level0 col1\" >example_answer</th>\n      <th id=\"T_5d9a9_level0_col2\" class=\"col_heading level0 col2\" >pred_answer</th>\n      <th id=\"T_5d9a9_level0_col3\" class=\"col_heading level0 col3\" >eval_metric</th>\n    </tr>\n  </thead>\n  <tbody>\n    <tr>\n      <th id=\"T_5d9a9_level0_row0\" class=\"row_heading level0 row0\" >0</th>\n      <td id=\"T_5d9a9_row0_col0\" class=\"data row0 col0\" >Here is a table where the first line is a header and each subsequent line is a penguin: name, age, height (cm), weight (kg) Louis,...</td>\n      <td id=\"T_5d9a9_row0_col1\" class=\"data row0 col1\" >(A)</td>\n      <td id=\"T_5d9a9_row0_col2\" class=\"data row0 col2\" >(C)</td>\n      <td id=\"T_5d9a9_row0_col3\" class=\"data row0 col3\" >False</td>\n    </tr>\n    <tr>\n      <th id=\"T_5d9a9_level0_row1\" class=\"row_heading level0 row1\" >1</th>\n      <td id=\"T_5d9a9_row1_col0\" class=\"data row1 col0\" >Here is a table where the first line is a header and each subsequent line is a penguin: name, age, height (cm), weight (kg) Louis,...</td>\n      <td id=\"T_5d9a9_row1_col1\" class=\"data row1 col1\" >(D)</td>\n      <td id=\"T_5d9a9_row1_col2\" class=\"data row1 col2\" >(C) 50</td>\n      <td id=\"T_5d9a9_row1_col3\" class=\"data row1 col3\" >False</td>\n    </tr>\n    <tr>\n      <th id=\"T_5d9a9_level0_row2\" class=\"row_heading level0 row2\" >2</th>\n      <td id=\"T_5d9a9_row2_col0\" class=\"data row2 col0\" >Here is a table where the first line is a header and each subsequent line is a penguin: name, age, height (cm), weight (kg) Louis,...</td>\n      <td id=\"T_5d9a9_row2_col1\" class=\"data row2 col1\" >(A)</td>\n      <td id=\"T_5d9a9_row2_col2\" class=\"data row2 col2\" >(B)</td>\n      <td id=\"T_5d9a9_row2_col3\" class=\"data row2 col3\" >False</td>\n    </tr>\n    <tr>\n      <th id=\"T_5d9a9_level0_row3\" class=\"row_heading level0 row3\" >3</th>\n      <td id=\"T_5d9a9_row3_col0\" class=\"data row3 col0\" >Here is a table where the first line is a header and each subsequent line is a penguin: name, age, height (cm), weight (kg) Louis,...</td>\n      <td id=\"T_5d9a9_row3_col1\" class=\"data row3 col1\" >(A)</td>\n      <td id=\"T_5d9a9_row3_col2\" class=\"data row3 col2\" >(B)</td>\n      <td id=\"T_5d9a9_row3_col3\" class=\"data row3 col3\" >False</td>\n    </tr>\n    <tr>\n      <th id=\"T_5d9a9_level0_row4\" class=\"row_heading level0 row4\" >4</th>\n      <td id=\"T_5d9a9_row4_col0\" class=\"data row4 col0\" >Here is a table where the first line is a header and each subsequent line is a penguin: name, age, height (cm), weight (kg) Louis,...</td>\n      <td id=\"T_5d9a9_row4_col1\" class=\"data row4 col1\" >(B)</td>\n      <td id=\"T_5d9a9_row4_col2\" class=\"data row4 col2\" >(B)</td>\n      <td id=\"T_5d9a9_row4_col3\" class=\"data row4 col3\" >✔️ [True]</td>\n    </tr>\n  </tbody>\n</table>\n",
      "text/plain": "<pandas.io.formats.style.Styler at 0x14ff06b50>"
     },
     "metadata": {},
     "output_type": "display_data"
    },
    {
     "data": {
      "text/html": "\n                <div style='\n                    text-align: center; \n                    font-size: 16px; \n                    font-weight: bold; \n                    color: #555; \n                    margin: 10px 0;'>\n                    ... 121 more rows not displayed ...\n                </div>\n                ",
      "text/plain": "<IPython.core.display.HTML object>"
     },
     "metadata": {},
     "output_type": "display_data"
    },
    {
     "data": {
      "text/plain": "42.86"
     },
     "execution_count": 22,
     "metadata": {},
     "output_type": "execute_result"
    }
   ],
   "source": [
    "# | warning: false\n",
    "evaluate(optimized_qa)"
   ]
  },
  {
   "cell_type": "code",
   "execution_count": 24,
   "id": "67b8702b-e31d-492f-9cc4-0dcb4c8b3cca",
   "metadata": {
    "ExecuteTime": {
     "end_time": "2024-02-13T13:43:08.958120Z",
     "start_time": "2024-02-13T13:43:08.938316Z"
    }
   },
   "outputs": [
    {
     "name": "stdout",
     "output_type": "stream",
     "text": [
      "\n",
      "\n",
      "\n",
      "\n",
      "Given the fields `question`, produce the fields `answer`.\n",
      "\n",
      "---\n",
      "\n",
      "Follow the following format.\n",
      "\n",
      "Question: ${question}\n",
      "Answer: ${answer}\n",
      "\n",
      "---\n",
      "\n",
      "Question: Here is a table where the first line is a header and each subsequent line is a penguin: name, age, height (cm), weight (kg) Louis, 7, 50, 11 Bernard, 5, 80, 13 Vincent, 9, 60, 11 Gwen, 8, 70, 15 For example: the age of Louis is 7, the weight of Gwen is 15 kg, the height of Bernard is 80 cm. And here is a similar table, but listing giraffes: name, age, height (cm), weight (kg) Jody, 5, 430, 620 Gladys, 10, 420, 590 Marian, 2, 310, 410 Donna, 9, 440, 650 How many giraffes are more than 5 years old? Options: (A) 1 (B) 2 (C) 3 (D) 4 (E) 5\n",
      "Answer: (B)\n",
      "\n",
      "---\n",
      "\n",
      "Question: Here is a table where the first line is a header and each subsequent line is a penguin: name, age, height (cm), weight (kg) Louis, 7, 50, 11 Bernard, 5, 80, 13 Vincent, 9, 60, 11 Gwen, 8, 70, 15 For example: the age of Louis is 7, the weight of Gwen is 15 kg, the height of Bernard is 80 cm. What is the name of the last penguin sorted by alphabetic order? Options: (A) Louis (B) Bernard (C) Vincent (D) Gwen (E) James\n",
      "Answer: (C)\n",
      "\n",
      "---\n",
      "\n",
      "Question: Here is a table where the first line is a header and each subsequent line is a penguin: name, age, height (cm), weight (kg) Louis, 7, 50, 11 Bernard, 5, 80, 13 Vincent, 9, 60, 11 Gwen, 8, 70, 15 For example: the age of Louis is 7, the weight of Gwen is 15 kg, the height of Bernard is 80 cm. We now add a penguin to the table: James, 12, 90, 12 We then delete the penguin named Bernard from the table. How many penguins are more than 5 years old and weight more than 12 kg? Options: (A) 1 (B) 2 (C) 3 (D) 4 (E) 5\n",
      "Answer: (A)\n",
      "\n",
      "---\n",
      "\n",
      "Question: Here is a table where the first line is a header and each subsequent line is a penguin: name, age, height (cm), weight (kg) Louis, 7, 50, 11 Bernard, 5, 80, 13 Vincent, 9, 60, 11 Gwen, 8, 70, 15 For example: the age of Louis is 7, the weight of Gwen is 15 kg, the height of Bernard is 80 cm. How many animals are listed in the table? Options: (A) 1 (B) 2 (C) 3 (D) 4 (E) 5\n",
      "Answer: (D)\n",
      "\n",
      "---\n",
      "\n",
      "Question: Here is a table where the first line is a header and each subsequent line is a penguin: name, age, height (cm), weight (kg) Louis, 7, 50, 11 Bernard, 5, 80, 13 Vincent, 9, 60, 11 Gwen, 8, 70, 15 For example: the age of Louis is 7, the weight of Gwen is 15 kg, the height of Bernard is 80 cm. We now add a penguin to the table: James, 12, 90, 12 And here is a similar table, but listing giraffes: name, age, height (cm), weight (kg) Jody, 5, 430, 620 Gladys, 10, 420, 590 Marian, 2, 310, 410 Donna, 9, 440, 650 What is the cumulated age of the giraffes? Options: (A) 26 (B) 29 (C) 41 (D) 55 (E) 67\n",
      "Answer:\u001B[32m (C)\u001B[0m\n"
     ]
    }
   ],
   "source": [
    "llm.inspect_history()"
   ]
  },
  {
   "cell_type": "markdown",
   "id": "5e0a78838d9650ca",
   "metadata": {
    "collapsed": false
   },
   "source": [
    "Now we can try a [Chain of Thought](https://arxiv.org/abs/2201.11903) [@wei2023chainofthought] prompt."
   ]
  },
  {
   "cell_type": "code",
   "execution_count": 25,
   "id": "ec160516619d66a1",
   "metadata": {
    "ExecuteTime": {
     "end_time": "2024-02-13T13:44:00.339798Z",
     "start_time": "2024-02-13T13:44:00.331911Z"
    },
    "collapsed": false
   },
   "outputs": [],
   "source": [
    "class CoT(dspy.Module):\n",
    "    def __init__(self):\n",
    "        super().__init__()\n",
    "        self.prog = dspy.ChainOfThought(\"question -> answer\")\n",
    "\n",
    "    def forward(self, question):\n",
    "        return self.prog(question=question)\n",
    "\n",
    "\n",
    "cot_qa = CoT()"
   ]
  },
  {
   "cell_type": "code",
   "execution_count": 26,
   "id": "ade064e1da20466c",
   "metadata": {
    "collapsed": false,
    "ExecuteTime": {
     "end_time": "2024-02-13T13:44:10.626658Z",
     "start_time": "2024-02-13T13:44:10.429997Z"
    }
   },
   "outputs": [
    {
     "name": "stderr",
     "output_type": "stream",
     "text": [
      "Average Metric: 91 / 126  (72.2): 100%|██████████| 126/126 [00:00<00:00, 1018.03it/s]"
     ]
    },
    {
     "name": "stdout",
     "output_type": "stream",
     "text": [
      "Average Metric: 91 / 126  (72.2%)\n"
     ]
    },
    {
     "name": "stderr",
     "output_type": "stream",
     "text": [
      "\n"
     ]
    },
    {
     "data": {
      "text/plain": "<pandas.io.formats.style.Styler at 0x14fff1990>",
      "text/html": "<style type=\"text/css\">\n#T_688d6 th {\n  text-align: left;\n}\n#T_688d6 td {\n  text-align: left;\n}\n#T_688d6_row0_col0, #T_688d6_row0_col1, #T_688d6_row0_col2, #T_688d6_row0_col3, #T_688d6_row0_col4, #T_688d6_row1_col0, #T_688d6_row1_col1, #T_688d6_row1_col2, #T_688d6_row1_col3, #T_688d6_row1_col4, #T_688d6_row2_col0, #T_688d6_row2_col1, #T_688d6_row2_col2, #T_688d6_row2_col3, #T_688d6_row2_col4, #T_688d6_row3_col0, #T_688d6_row3_col1, #T_688d6_row3_col2, #T_688d6_row3_col3, #T_688d6_row3_col4, #T_688d6_row4_col0, #T_688d6_row4_col1, #T_688d6_row4_col2, #T_688d6_row4_col3, #T_688d6_row4_col4 {\n  text-align: left;\n  white-space: pre-wrap;\n  word-wrap: break-word;\n  max-width: 400px;\n}\n</style>\n<table id=\"T_688d6\">\n  <thead>\n    <tr>\n      <th class=\"blank level0\" >&nbsp;</th>\n      <th id=\"T_688d6_level0_col0\" class=\"col_heading level0 col0\" >question</th>\n      <th id=\"T_688d6_level0_col1\" class=\"col_heading level0 col1\" >example_answer</th>\n      <th id=\"T_688d6_level0_col2\" class=\"col_heading level0 col2\" >rationale</th>\n      <th id=\"T_688d6_level0_col3\" class=\"col_heading level0 col3\" >pred_answer</th>\n      <th id=\"T_688d6_level0_col4\" class=\"col_heading level0 col4\" >eval_metric</th>\n    </tr>\n  </thead>\n  <tbody>\n    <tr>\n      <th id=\"T_688d6_level0_row0\" class=\"row_heading level0 row0\" >0</th>\n      <td id=\"T_688d6_row0_col0\" class=\"data row0 col0\" >Here is a table where the first line is a header and each subsequent line is a penguin: name, age, height (cm), weight (kg) Louis,...</td>\n      <td id=\"T_688d6_row0_col1\" class=\"data row0 col1\" >(A)</td>\n      <td id=\"T_688d6_row0_col2\" class=\"data row0 col2\" >produce the answer. We first identify the penguins who are less than 8 years old. From the table, we see that Louis is 7 years...</td>\n      <td id=\"T_688d6_row0_col3\" class=\"data row0 col3\" >(B) 2</td>\n      <td id=\"T_688d6_row0_col4\" class=\"data row0 col4\" >False</td>\n    </tr>\n    <tr>\n      <th id=\"T_688d6_level0_row1\" class=\"row_heading level0 row1\" >1</th>\n      <td id=\"T_688d6_row1_col0\" class=\"data row1 col0\" >Here is a table where the first line is a header and each subsequent line is a penguin: name, age, height (cm), weight (kg) Louis,...</td>\n      <td id=\"T_688d6_row1_col1\" class=\"data row1 col1\" >(D)</td>\n      <td id=\"T_688d6_row1_col2\" class=\"data row1 col2\" >produce the answer. We need to add up the weights of all the penguins in the table. Louis weighs 11 kg, Bernard weighs 13 kg,...</td>\n      <td id=\"T_688d6_row1_col3\" class=\"data row1 col3\" >(D) 62</td>\n      <td id=\"T_688d6_row1_col4\" class=\"data row1 col4\" >✔️ [True]</td>\n    </tr>\n    <tr>\n      <th id=\"T_688d6_level0_row2\" class=\"row_heading level0 row2\" >2</th>\n      <td id=\"T_688d6_row2_col0\" class=\"data row2 col0\" >Here is a table where the first line is a header and each subsequent line is a penguin: name, age, height (cm), weight (kg) Louis,...</td>\n      <td id=\"T_688d6_row2_col1\" class=\"data row2 col1\" >(A)</td>\n      <td id=\"T_688d6_row2_col2\" class=\"data row2 col2\" >produce the answer. We need to go through each penguin's age and count how many are more than 8 years old.</td>\n      <td id=\"T_688d6_row2_col3\" class=\"data row2 col3\" >(C) 3</td>\n      <td id=\"T_688d6_row2_col4\" class=\"data row2 col4\" >False</td>\n    </tr>\n    <tr>\n      <th id=\"T_688d6_level0_row3\" class=\"row_heading level0 row3\" >3</th>\n      <td id=\"T_688d6_row3_col0\" class=\"data row3 col0\" >Here is a table where the first line is a header and each subsequent line is a penguin: name, age, height (cm), weight (kg) Louis,...</td>\n      <td id=\"T_688d6_row3_col1\" class=\"data row3 col1\" >(A)</td>\n      <td id=\"T_688d6_row3_col2\" class=\"data row3 col2\" >produce the answer. We need to identify the penguins who are both more than 5 years old and weigh more than 12 kg. Looking at...</td>\n      <td id=\"T_688d6_row3_col3\" class=\"data row3 col3\" >(C) 3</td>\n      <td id=\"T_688d6_row3_col4\" class=\"data row3 col4\" >False</td>\n    </tr>\n    <tr>\n      <th id=\"T_688d6_level0_row4\" class=\"row_heading level0 row4\" >4</th>\n      <td id=\"T_688d6_row4_col0\" class=\"data row4 col0\" >Here is a table where the first line is a header and each subsequent line is a penguin: name, age, height (cm), weight (kg) Louis,...</td>\n      <td id=\"T_688d6_row4_col1\" class=\"data row4 col1\" >(B)</td>\n      <td id=\"T_688d6_row4_col2\" class=\"data row4 col2\" >produce the answer. We can see from the table that Bernard's age is 5.</td>\n      <td id=\"T_688d6_row4_col3\" class=\"data row4 col3\" >(B) 5</td>\n      <td id=\"T_688d6_row4_col4\" class=\"data row4 col4\" >✔️ [True]</td>\n    </tr>\n  </tbody>\n</table>\n"
     },
     "metadata": {},
     "output_type": "display_data"
    },
    {
     "data": {
      "text/plain": "<IPython.core.display.HTML object>",
      "text/html": "\n                <div style='\n                    text-align: center; \n                    font-size: 16px; \n                    font-weight: bold; \n                    color: #555; \n                    margin: 10px 0;'>\n                    ... 121 more rows not displayed ...\n                </div>\n                "
     },
     "metadata": {},
     "output_type": "display_data"
    },
    {
     "data": {
      "text/plain": "72.22"
     },
     "execution_count": 26,
     "metadata": {},
     "output_type": "execute_result"
    }
   ],
   "source": [
    "# | warning: false\n",
    "evaluate(cot_qa)"
   ]
  },
  {
   "cell_type": "code",
   "execution_count": 27,
   "id": "be8740da41aa198",
   "metadata": {
    "collapsed": false,
    "ExecuteTime": {
     "end_time": "2024-02-13T13:44:16.205056Z",
     "start_time": "2024-02-13T13:44:16.170784Z"
    }
   },
   "outputs": [
    {
     "name": "stdout",
     "output_type": "stream",
     "text": [
      "\n",
      "\n",
      "\n",
      "\n",
      "Given the fields `question`, produce the fields `answer`.\n",
      "\n",
      "---\n",
      "\n",
      "Follow the following format.\n",
      "\n",
      "Question: ${question}\n",
      "Reasoning: Let's think step by step in order to ${produce the answer}. We ...\n",
      "Answer: ${answer}\n",
      "\n",
      "---\n",
      "\n",
      "Question: Here is a table where the first line is a header and each subsequent line is a penguin: name, age, height (cm), weight (kg) Louis, 7, 50, 11 Bernard, 5, 80, 13 Vincent, 9, 60, 11 Gwen, 8, 70, 15 For example: the age of Louis is 7, the weight of Gwen is 15 kg, the height of Bernard is 80 cm. What is the name of the first penguin sorted by alphabetic order? Options: (A) Louis (B) Bernard (C) Vincent (D) Gwen (E) James\n",
      "Reasoning: Let's think step by step in order to\u001B[32m produce the answer. We need to first extract the names of all the penguins and then sort them in alphabetical order to find the first one.\n",
      "Answer: (B) Bernard\u001B[0m\n"
     ]
    }
   ],
   "source": [
    "llm.inspect_history()"
   ]
  },
  {
   "cell_type": "markdown",
   "id": "9982769fae529079",
   "metadata": {
    "collapsed": false
   },
   "source": [
    "Now we will try and optimize our chain of thought program. I am also hiding the output from this cell to keep things cleaner."
   ]
  },
  {
   "cell_type": "code",
   "execution_count": 29,
   "outputs": [],
   "source": [
    "# | echo: false\n",
    "tqdm._instances.clear()"
   ],
   "metadata": {
    "collapsed": false,
    "ExecuteTime": {
     "end_time": "2024-02-13T13:45:48.939091Z",
     "start_time": "2024-02-13T13:45:48.923174Z"
    }
   },
   "id": "3b797f37f31aa580"
  },
  {
   "cell_type": "code",
   "execution_count": 30,
   "id": "48e120e593608a66",
   "metadata": {
    "collapsed": false,
    "ExecuteTime": {
     "end_time": "2024-02-13T13:45:50.384413Z",
     "start_time": "2024-02-13T13:45:49.370333Z"
    }
   },
   "outputs": [
    {
     "name": "stdout",
     "output_type": "stream",
     "text": [
      "Going to sample between 1 and 1 traces per predictor.\n",
      "Will attempt to train 4 candidate sets.\n"
     ]
    },
    {
     "name": "stderr",
     "output_type": "stream",
     "text": [
      "Average Metric: 91 / 126  (72.2): 100%|██████████| 126/126 [00:00<00:00, 3922.67it/s]\n"
     ]
    },
    {
     "name": "stdout",
     "output_type": "stream",
     "text": [
      "Average Metric: 91 / 126  (72.2%)\n",
      "Score: 72.22 for set: [0]\n",
      "New best score: 72.22 for seed -3\n",
      "Scores so far: [72.22]\n",
      "Best score: 72.22\n"
     ]
    },
    {
     "name": "stderr",
     "output_type": "stream",
     "text": [
      "Average Metric: 90 / 126  (71.4): 100%|██████████| 126/126 [00:00<00:00, 4362.29it/s]\n"
     ]
    },
    {
     "name": "stdout",
     "output_type": "stream",
     "text": [
      "Average Metric: 90 / 126  (71.4%)\n",
      "Score: 71.43 for set: [4]\n",
      "Scores so far: [72.22, 71.43]\n",
      "Best score: 72.22\n"
     ]
    },
    {
     "name": "stderr",
     "output_type": "stream",
     "text": [
      "  5%|▌         | 1/20 [00:00<00:00, 3663.15it/s]\n"
     ]
    },
    {
     "name": "stdout",
     "output_type": "stream",
     "text": [
      "Bootstrapped 1 full traces after 2 examples in round 0.\n"
     ]
    },
    {
     "name": "stderr",
     "output_type": "stream",
     "text": [
      "Average Metric: 74 / 126  (58.7): 100%|██████████| 126/126 [00:00<00:00, 4605.23it/s]\n"
     ]
    },
    {
     "name": "stdout",
     "output_type": "stream",
     "text": [
      "Average Metric: 74 / 126  (58.7%)\n",
      "Score: 58.73 for set: [4]\n",
      "Scores so far: [72.22, 71.43, 58.73]\n",
      "Best score: 72.22\n",
      "Average of max per entry across top 1 scores: 0.7222222222222222\n",
      "Average of max per entry across top 2 scores: 0.873015873015873\n",
      "Average of max per entry across top 3 scores: 0.9126984126984127\n",
      "Average of max per entry across top 5 scores: 0.9126984126984127\n",
      "Average of max per entry across top 8 scores: 0.9126984126984127\n",
      "Average of max per entry across top 9999 scores: 0.9126984126984127\n"
     ]
    },
    {
     "name": "stderr",
     "output_type": "stream",
     "text": [
      "  5%|▌         | 1/20 [00:00<00:00, 3876.44it/s]\n"
     ]
    },
    {
     "name": "stdout",
     "output_type": "stream",
     "text": [
      "Bootstrapped 1 full traces after 2 examples in round 0.\n"
     ]
    },
    {
     "name": "stderr",
     "output_type": "stream",
     "text": [
      "Average Metric: 102 / 126  (81.0): 100%|██████████| 126/126 [00:00<00:00, 1445.85it/s]\n"
     ]
    },
    {
     "name": "stdout",
     "output_type": "stream",
     "text": [
      "Average Metric: 102 / 126  (81.0%)\n",
      "Score: 80.95 for set: [4]\n",
      "New best score: 80.95 for seed 0\n",
      "Scores so far: [72.22, 71.43, 58.73, 80.95]\n",
      "Best score: 80.95\n",
      "Average of max per entry across top 1 scores: 0.8095238095238095\n",
      "Average of max per entry across top 2 scores: 0.9126984126984127\n",
      "Average of max per entry across top 3 scores: 0.9444444444444444\n",
      "Average of max per entry across top 5 scores: 0.9682539682539683\n",
      "Average of max per entry across top 8 scores: 0.9682539682539683\n",
      "Average of max per entry across top 9999 scores: 0.9682539682539683\n"
     ]
    },
    {
     "name": "stderr",
     "output_type": "stream",
     "text": [
      "  5%|▌         | 1/20 [00:00<00:00, 225.43it/s]\n"
     ]
    },
    {
     "name": "stdout",
     "output_type": "stream",
     "text": [
      "Bootstrapped 1 full traces after 2 examples in round 0.\n"
     ]
    },
    {
     "name": "stderr",
     "output_type": "stream",
     "text": [
      "Average Metric: 94 / 126  (74.6): 100%|██████████| 126/126 [00:00<00:00, 1328.78it/s]\n"
     ]
    },
    {
     "name": "stdout",
     "output_type": "stream",
     "text": [
      "Average Metric: 94 / 126  (74.6%)\n",
      "Score: 74.6 for set: [4]\n",
      "Scores so far: [72.22, 71.43, 58.73, 80.95, 74.6]\n",
      "Best score: 80.95\n",
      "Average of max per entry across top 1 scores: 0.8095238095238095\n",
      "Average of max per entry across top 2 scores: 0.9126984126984127\n",
      "Average of max per entry across top 3 scores: 0.9444444444444444\n",
      "Average of max per entry across top 5 scores: 0.9841269841269841\n",
      "Average of max per entry across top 8 scores: 0.9841269841269841\n",
      "Average of max per entry across top 9999 scores: 0.9841269841269841\n"
     ]
    },
    {
     "name": "stderr",
     "output_type": "stream",
     "text": [
      "  5%|▌         | 1/20 [00:00<00:00, 3021.83it/s]\n"
     ]
    },
    {
     "name": "stdout",
     "output_type": "stream",
     "text": [
      "Bootstrapped 1 full traces after 2 examples in round 0.\n"
     ]
    },
    {
     "name": "stderr",
     "output_type": "stream",
     "text": [
      "Average Metric: 95 / 126  (75.4): 100%|██████████| 126/126 [00:00<00:00, 4049.24it/s]\n"
     ]
    },
    {
     "name": "stdout",
     "output_type": "stream",
     "text": [
      "Average Metric: 95 / 126  (75.4%)\n",
      "Score: 75.4 for set: [4]\n",
      "Scores so far: [72.22, 71.43, 58.73, 80.95, 74.6, 75.4]\n",
      "Best score: 80.95\n",
      "Average of max per entry across top 1 scores: 0.8095238095238095\n",
      "Average of max per entry across top 2 scores: 0.9206349206349206\n",
      "Average of max per entry across top 3 scores: 0.9444444444444444\n",
      "Average of max per entry across top 5 scores: 0.9841269841269841\n",
      "Average of max per entry across top 8 scores: 0.9841269841269841\n",
      "Average of max per entry across top 9999 scores: 0.9841269841269841\n"
     ]
    },
    {
     "name": "stderr",
     "output_type": "stream",
     "text": [
      "  5%|▌         | 1/20 [00:00<00:00, 3075.00it/s]\n"
     ]
    },
    {
     "name": "stdout",
     "output_type": "stream",
     "text": [
      "Bootstrapped 1 full traces after 2 examples in round 0.\n"
     ]
    },
    {
     "name": "stderr",
     "output_type": "stream",
     "text": [
      "Average Metric: 96 / 126  (76.2): 100%|██████████| 126/126 [00:00<00:00, 3726.04it/s]"
     ]
    },
    {
     "name": "stdout",
     "output_type": "stream",
     "text": [
      "Average Metric: 96 / 126  (76.2%)\n",
      "Score: 76.19 for set: [4]\n",
      "Scores so far: [72.22, 71.43, 58.73, 80.95, 74.6, 75.4, 76.19]\n",
      "Best score: 80.95\n",
      "Average of max per entry across top 1 scores: 0.8095238095238095\n",
      "Average of max per entry across top 2 scores: 0.9206349206349206\n",
      "Average of max per entry across top 3 scores: 0.9603174603174603\n",
      "Average of max per entry across top 5 scores: 0.9682539682539683\n",
      "Average of max per entry across top 8 scores: 0.9920634920634921\n",
      "Average of max per entry across top 9999 scores: 0.9920634920634921\n",
      "7 candidate programs found.\n"
     ]
    },
    {
     "name": "stderr",
     "output_type": "stream",
     "text": [
      "\n"
     ]
    }
   ],
   "source": [
    "# | output: false\n",
    "tqdm._instances.clear()\n",
    "config = dict(max_bootstrapped_demos=1, max_labeled_demos=4, num_candidate_programs=4, num_threads=6)\n",
    "teleprompter = BootstrapFewShotWithRandomSearch(metric=eval_metric, **config)\n",
    "optimized_cot_qa = teleprompter.compile(cot_qa, trainset=trainset, valset=valset)"
   ]
  },
  {
   "cell_type": "code",
   "execution_count": 31,
   "id": "1d772d4c2a6a4ade",
   "metadata": {
    "collapsed": false,
    "ExecuteTime": {
     "end_time": "2024-02-13T13:45:56.544098Z",
     "start_time": "2024-02-13T13:45:56.385283Z"
    }
   },
   "outputs": [
    {
     "name": "stderr",
     "output_type": "stream",
     "text": [
      "Average Metric: 102 / 126  (81.0): 100%|██████████| 126/126 [00:00<00:00, 3808.83it/s]"
     ]
    },
    {
     "name": "stdout",
     "output_type": "stream",
     "text": [
      "Average Metric: 102 / 126  (81.0%)\n"
     ]
    },
    {
     "name": "stderr",
     "output_type": "stream",
     "text": [
      "\n"
     ]
    },
    {
     "data": {
      "text/plain": "<pandas.io.formats.style.Styler at 0x16ab29990>",
      "text/html": "<style type=\"text/css\">\n#T_56526 th {\n  text-align: left;\n}\n#T_56526 td {\n  text-align: left;\n}\n#T_56526_row0_col0, #T_56526_row0_col1, #T_56526_row0_col2, #T_56526_row0_col3, #T_56526_row0_col4, #T_56526_row1_col0, #T_56526_row1_col1, #T_56526_row1_col2, #T_56526_row1_col3, #T_56526_row1_col4, #T_56526_row2_col0, #T_56526_row2_col1, #T_56526_row2_col2, #T_56526_row2_col3, #T_56526_row2_col4, #T_56526_row3_col0, #T_56526_row3_col1, #T_56526_row3_col2, #T_56526_row3_col3, #T_56526_row3_col4, #T_56526_row4_col0, #T_56526_row4_col1, #T_56526_row4_col2, #T_56526_row4_col3, #T_56526_row4_col4 {\n  text-align: left;\n  white-space: pre-wrap;\n  word-wrap: break-word;\n  max-width: 400px;\n}\n</style>\n<table id=\"T_56526\">\n  <thead>\n    <tr>\n      <th class=\"blank level0\" >&nbsp;</th>\n      <th id=\"T_56526_level0_col0\" class=\"col_heading level0 col0\" >question</th>\n      <th id=\"T_56526_level0_col1\" class=\"col_heading level0 col1\" >example_answer</th>\n      <th id=\"T_56526_level0_col2\" class=\"col_heading level0 col2\" >rationale</th>\n      <th id=\"T_56526_level0_col3\" class=\"col_heading level0 col3\" >pred_answer</th>\n      <th id=\"T_56526_level0_col4\" class=\"col_heading level0 col4\" >eval_metric</th>\n    </tr>\n  </thead>\n  <tbody>\n    <tr>\n      <th id=\"T_56526_level0_row0\" class=\"row_heading level0 row0\" >0</th>\n      <td id=\"T_56526_row0_col0\" class=\"data row0 col0\" >Here is a table where the first line is a header and each subsequent line is a penguin: name, age, height (cm), weight (kg) Louis,...</td>\n      <td id=\"T_56526_row0_col1\" class=\"data row0 col1\" >(A)</td>\n      <td id=\"T_56526_row0_col2\" class=\"data row0 col2\" >produce the answer. After deleting Bernard, the penguins left are Louis, Vincent, and Gwen. Among them, Louis and Gwen are less than 8 years old.</td>\n      <td id=\"T_56526_row0_col3\" class=\"data row0 col3\" >(B) 2</td>\n      <td id=\"T_56526_row0_col4\" class=\"data row0 col4\" >False</td>\n    </tr>\n    <tr>\n      <th id=\"T_56526_level0_row1\" class=\"row_heading level0 row1\" >1</th>\n      <td id=\"T_56526_row1_col0\" class=\"data row1 col0\" >Here is a table where the first line is a header and each subsequent line is a penguin: name, age, height (cm), weight (kg) Louis,...</td>\n      <td id=\"T_56526_row1_col1\" class=\"data row1 col1\" >(D)</td>\n      <td id=\"T_56526_row1_col2\" class=\"data row1 col2\" >produce the answer. We sum up the weights of all the penguins: 11 + 13 + 11 + 15 + 12 = 62.</td>\n      <td id=\"T_56526_row1_col3\" class=\"data row1 col3\" >(D) 62</td>\n      <td id=\"T_56526_row1_col4\" class=\"data row1 col4\" >✔️ [True]</td>\n    </tr>\n    <tr>\n      <th id=\"T_56526_level0_row2\" class=\"row_heading level0 row2\" >2</th>\n      <td id=\"T_56526_row2_col0\" class=\"data row2 col0\" >Here is a table where the first line is a header and each subsequent line is a penguin: name, age, height (cm), weight (kg) Louis,...</td>\n      <td id=\"T_56526_row2_col1\" class=\"data row2 col1\" >(A)</td>\n      <td id=\"T_56526_row2_col2\" class=\"data row2 col2\" >produce the answer. We know that after deleting Bernard, the penguins left are Louis, Vincent, and Gwen. Among them, only Vincent is more than 8...</td>\n      <td id=\"T_56526_row2_col3\" class=\"data row2 col3\" >(A) 1</td>\n      <td id=\"T_56526_row2_col4\" class=\"data row2 col4\" >✔️ [True]</td>\n    </tr>\n    <tr>\n      <th id=\"T_56526_level0_row3\" class=\"row_heading level0 row3\" >3</th>\n      <td id=\"T_56526_row3_col0\" class=\"data row3 col0\" >Here is a table where the first line is a header and each subsequent line is a penguin: name, age, height (cm), weight (kg) Louis,...</td>\n      <td id=\"T_56526_row3_col1\" class=\"data row3 col1\" >(A)</td>\n      <td id=\"T_56526_row3_col2\" class=\"data row3 col2\" >produce the answer. We have Louis, Vincent, Gwen, and James in the table. Among them, only James is more than 5 years old and weighs...</td>\n      <td id=\"T_56526_row3_col3\" class=\"data row3 col3\" >(A) 1</td>\n      <td id=\"T_56526_row3_col4\" class=\"data row3 col4\" >✔️ [True]</td>\n    </tr>\n    <tr>\n      <th id=\"T_56526_level0_row4\" class=\"row_heading level0 row4\" >4</th>\n      <td id=\"T_56526_row4_col0\" class=\"data row4 col0\" >Here is a table where the first line is a header and each subsequent line is a penguin: name, age, height (cm), weight (kg) Louis,...</td>\n      <td id=\"T_56526_row4_col1\" class=\"data row4 col1\" >(B)</td>\n      <td id=\"T_56526_row4_col2\" class=\"data row4 col2\" >produce the answer. We know that the age of Bernard is 5 years old.</td>\n      <td id=\"T_56526_row4_col3\" class=\"data row4 col3\" >(B) 5</td>\n      <td id=\"T_56526_row4_col4\" class=\"data row4 col4\" >✔️ [True]</td>\n    </tr>\n  </tbody>\n</table>\n"
     },
     "metadata": {},
     "output_type": "display_data"
    },
    {
     "data": {
      "text/plain": "<IPython.core.display.HTML object>",
      "text/html": "\n                <div style='\n                    text-align: center; \n                    font-size: 16px; \n                    font-weight: bold; \n                    color: #555; \n                    margin: 10px 0;'>\n                    ... 121 more rows not displayed ...\n                </div>\n                "
     },
     "metadata": {},
     "output_type": "display_data"
    },
    {
     "data": {
      "text/plain": "80.95"
     },
     "execution_count": 31,
     "metadata": {},
     "output_type": "execute_result"
    }
   ],
   "source": [
    "# | warning: false\n",
    "evaluate(optimized_cot_qa)"
   ]
  },
  {
   "cell_type": "code",
   "execution_count": 32,
   "id": "067617e0-4af9-4cd2-ab13-34ee889366b5",
   "metadata": {
    "ExecuteTime": {
     "end_time": "2024-02-13T13:45:59.650592Z",
     "start_time": "2024-02-13T13:45:59.613332Z"
    }
   },
   "outputs": [
    {
     "name": "stdout",
     "output_type": "stream",
     "text": [
      "\n",
      "\n",
      "\n",
      "\n",
      "Given the fields `question`, produce the fields `answer`.\n",
      "\n",
      "---\n",
      "\n",
      "Follow the following format.\n",
      "\n",
      "Question: ${question}\n",
      "Reasoning: Let's think step by step in order to ${produce the answer}. We ...\n",
      "Answer: ${answer}\n",
      "\n",
      "---\n",
      "\n",
      "Question: Here is a table where the first line is a header and each subsequent line is a penguin: name, age, height (cm), weight (kg) Louis, 7, 50, 11 Bernard, 5, 80, 13 Vincent, 9, 60, 11 Gwen, 8, 70, 15 For example: the age of Louis is 7, the weight of Gwen is 15 kg, the height of Bernard is 80 cm. We then delete the penguin named Bernard from the table. How many penguins are more than 8 years old? Options: (A) 1 (B) 2 (C) 3 (D) 4 (E) 5\n",
      "Reasoning: Let's think step by step in order to produce the answer. We know that after deleting Bernard, the penguins left are Louis, Vincent, and Gwen. Among them, only Vincent is more than 8 years old.\n",
      "Answer: (A) 1\n",
      "\n",
      "---\n",
      "\n",
      "Question: Here is a table where the first line is a header and each subsequent line is a penguin: name, age, height (cm), weight (kg) Louis, 7, 50, 11 Bernard, 5, 80, 13 Vincent, 9, 60, 11 Gwen, 8, 70, 15 For example: the age of Louis is 7, the weight of Gwen is 15 kg, the height of Bernard is 80 cm. How many penguins are more than 5 years old? Options: (A) 1 (B) 2 (C) 3 (D) 4 (E) 5\n",
      "Answer: (C)\n",
      "\n",
      "---\n",
      "\n",
      "Question: Here is a table where the first line is a header and each subsequent line is a penguin: name, age, height (cm), weight (kg) Louis, 7, 50, 11 Bernard, 5, 80, 13 Vincent, 9, 60, 11 Gwen, 8, 70, 15 For example: the age of Louis is 7, the weight of Gwen is 15 kg, the height of Bernard is 80 cm. And here is a similar table, but listing giraffes: name, age, height (cm), weight (kg) Jody, 5, 430, 620 Gladys, 10, 420, 590 Marian, 2, 310, 410 Donna, 9, 440, 650 How many animals are more than 5 years old? Options: (A) 5 (B) 6 (C) 7 (D) 8 (E) 9\n",
      "Answer: (A)\n",
      "\n",
      "---\n",
      "\n",
      "Question: Here is a table where the first line is a header and each subsequent line is a penguin: name, age, height (cm), weight (kg) Louis, 7, 50, 11 Bernard, 5, 80, 13 Vincent, 9, 60, 11 Gwen, 8, 70, 15 For example: the age of Louis is 7, the weight of Gwen is 15 kg, the height of Bernard is 80 cm. Which penguin is older than Gwen? Options: (A) Louis (B) Bernard (C) Vincent (D) Gwen (E) James\n",
      "Answer: (C)\n",
      "\n",
      "---\n",
      "\n",
      "Question: Here is a table where the first line is a header and each subsequent line is a penguin: name, age, height (cm), weight (kg) Louis, 7, 50, 11 Bernard, 5, 80, 13 Vincent, 9, 60, 11 Gwen, 8, 70, 15 For example: the age of Louis is 7, the weight of Gwen is 15 kg, the height of Bernard is 80 cm. We now add a penguin to the table: James, 12, 90, 12 What is the name of the last penguin sorted by alphabetic order? Options: (A) Louis (B) Bernard (C) Vincent (D) Gwen (E) James\n",
      "Reasoning: Let's think step by step in order to\u001B[32m produce the answer. We now have Louis, Bernard, Vincent, Gwen, and James. Sorting them alphabetically, the last penguin is Vincent.\n",
      "Answer: (C)\u001B[0m\n"
     ]
    }
   ],
   "source": [
    "llm.inspect_history(n=1)"
   ]
  },
  {
   "cell_type": "markdown",
   "id": "87f6e43ee6c7a5a9",
   "metadata": {
    "collapsed": false
   },
   "source": [
    "# Language Detection Example"
   ]
  },
  {
   "cell_type": "code",
   "execution_count": 37,
   "id": "ec2116702f05a0fc",
   "metadata": {
    "collapsed": false,
    "ExecuteTime": {
     "end_time": "2024-02-13T15:22:06.159967Z",
     "start_time": "2024-02-13T15:22:06.131437Z"
    }
   },
   "outputs": [],
   "source": [
    "import pandas as pd\n",
    "\n",
    "llm = dspy.OpenAI(model=\"gpt-3.5-turbo-1106\", max_tokens=250)\n",
    "dspy.settings.configure(lm=llm)\n",
    "\n",
    "df = pd.read_csv(\"lang_df.csv\")\n",
    "train_set = [dspy.Example(text=row.text, language=row.language).with_inputs(\"text\") for _, row in df[:100].iterrows()]\n",
    "val_set = [dspy.Example(text=row.text, language=row.language).with_inputs(\"text\") for _, row in df[100:200].iterrows()]"
   ]
  },
  {
   "cell_type": "code",
   "execution_count": 38,
   "id": "b58f91e865ae6b7d",
   "metadata": {
    "collapsed": false,
    "ExecuteTime": {
     "end_time": "2024-02-13T15:22:10.639615Z",
     "start_time": "2024-02-13T15:22:10.616801Z"
    }
   },
   "outputs": [
    {
     "name": "stdout",
     "output_type": "stream",
     "text": [
      "\n",
      "TEXT:\n",
      "\n",
      "Repost from organichomebg Лесно, бързо и мнооого вкусно! Петък вечер с аромат на пица! Приготвихме я с готов био блат без глутен и комбинирахме с доматен сос по провансалски, веган сирене delishu, ароматен риган, маслини, пресен босилек и чери домати. Запечена до хрупкавост и поднесена с кетчуп и майонеза без яйца. . . . . . #ilovedelishu #delishu #rawvegancheese #nutcheese #cashewcheese #vegancheese #plantcheese #rawcheese #probiotic #probiotics #slowfood #soulfood #delicious #vegan #veganpower #vegansecrets #whatveganseat #bestofvegan #veganfoodlovers #veganfood #veganeats #veganrecipes #veganfoodie #veganfoodshare #vegansofig #veganfoodporn #veganfood #veganisme #vegansofinstagram #veganonabudget\n",
      "\n",
      "LANGUAGE:\n",
      "\n",
      "bg\n"
     ]
    }
   ],
   "source": [
    "example = train_set[10]\n",
    "for k, v in example.items():\n",
    "    print(f\"\\n{k.upper()}:\\n\")\n",
    "    print(v)"
   ]
  },
  {
   "cell_type": "code",
   "execution_count": 41,
   "id": "4d3eed7237bf76d7",
   "metadata": {
    "collapsed": false,
    "ExecuteTime": {
     "end_time": "2024-02-13T15:24:58.495048Z",
     "start_time": "2024-02-13T15:24:58.487934Z"
    }
   },
   "outputs": [],
   "source": [
    "class Text2Language(dspy.Signature):\n",
    "    \"\"\"Detect the language of the text and only return the 2 letter iso639 code.\"\"\"\n",
    "\n",
    "    text = dspy.InputField()\n",
    "    language = dspy.OutputField(desc=\"The 2 letter iso639 code of the detected language.\")\n",
    "\n",
    "\n",
    "class Classifier(dspy.Module):\n",
    "    def __init__(self):\n",
    "        super().__init__()\n",
    "        self.prog = dspy.ChainOfThought(Text2Language)\n",
    "\n",
    "    def forward(self, text):\n",
    "        return self.prog(text=text)\n",
    "\n",
    "\n",
    "classifier = Classifier()"
   ]
  },
  {
   "cell_type": "code",
   "execution_count": 42,
   "id": "bd33342d3f1c55c0",
   "metadata": {
    "collapsed": false,
    "ExecuteTime": {
     "end_time": "2024-02-13T15:24:58.905080Z",
     "start_time": "2024-02-13T15:24:58.887762Z"
    }
   },
   "outputs": [
    {
     "data": {
      "text/plain": "Prediction(\n    rationale='produce the language. We see that the text contains Cyrillic characters, which are commonly used in Bulgarian.',\n    language='bg'\n)"
     },
     "execution_count": 42,
     "metadata": {},
     "output_type": "execute_result"
    }
   ],
   "source": [
    "classifier(text=example.text)"
   ]
  },
  {
   "cell_type": "code",
   "execution_count": 43,
   "id": "f5e1dbc3a309d2a2",
   "metadata": {
    "collapsed": false,
    "ExecuteTime": {
     "end_time": "2024-02-13T15:24:59.372826Z",
     "start_time": "2024-02-13T15:24:59.354832Z"
    }
   },
   "outputs": [
    {
     "name": "stdout",
     "output_type": "stream",
     "text": [
      "\n",
      "\n",
      "\n",
      "\n",
      "Detect the language of the text and only return the 2 letter iso639 code.\n",
      "\n",
      "---\n",
      "\n",
      "Follow the following format.\n",
      "\n",
      "Text: ${text}\n",
      "Reasoning: Let's think step by step in order to ${produce the language}. We ...\n",
      "Language: The 2 letter iso639 code of the detected language.\n",
      "\n",
      "---\n",
      "\n",
      "Text: Repost from organichomebg Лесно, бързо и мнооого вкусно! Петък вечер с аромат на пица! Приготвихме я с готов био блат без глутен и комбинирахме с доматен сос по провансалски, веган сирене delishu, ароматен риган, маслини, пресен босилек и чери домати. Запечена до хрупкавост и поднесена с кетчуп и майонеза без яйца. . . . . . #ilovedelishu #delishu #rawvegancheese #nutcheese #cashewcheese #vegancheese #plantcheese #rawcheese #probiotic #probiotics #slowfood #soulfood #delicious #vegan #veganpower #vegansecrets #whatveganseat #bestofvegan #veganfoodlovers #veganfood #veganeats #veganrecipes #veganfoodie #veganfoodshare #vegansofig #veganfoodporn #veganfood #veganisme #vegansofinstagram #veganonabudget\n",
      "Reasoning: Let's think step by step in order to\u001B[32m produce the language. We see that the text contains Cyrillic characters, which are commonly used in Bulgarian.\n",
      "Language: bg\u001B[0m\n",
      "\n"
     ]
    }
   ],
   "source": [
    "llm.inspect_history(n=1)"
   ]
  },
  {
   "cell_type": "code",
   "execution_count": 44,
   "id": "459ff6016119a201",
   "metadata": {
    "collapsed": false,
    "ExecuteTime": {
     "end_time": "2024-02-13T15:24:59.803027Z",
     "start_time": "2024-02-13T15:24:59.795021Z"
    }
   },
   "outputs": [],
   "source": [
    "def eval_metric(true, pred, trace=None):\n",
    "    return true.language == pred.language\n",
    "\n",
    "\n",
    "evaluate = Evaluate(devset=val_set, metric=eval_metric, num_threads=6, display_progress=True, display_table=5)"
   ]
  },
  {
   "cell_type": "code",
   "execution_count": 45,
   "id": "ebdd2ec73225fc03",
   "metadata": {
    "collapsed": false,
    "ExecuteTime": {
     "end_time": "2024-02-13T15:25:00.771647Z",
     "start_time": "2024-02-13T15:25:00.540907Z"
    }
   },
   "outputs": [
    {
     "name": "stderr",
     "output_type": "stream",
     "text": [
      "Average Metric: 79 / 100  (79.0): 100%|██████████| 100/100 [00:00<00:00, 1158.77it/s]"
     ]
    },
    {
     "name": "stdout",
     "output_type": "stream",
     "text": [
      "Average Metric: 79 / 100  (79.0%)\n"
     ]
    },
    {
     "name": "stderr",
     "output_type": "stream",
     "text": [
      "\n",
      "/Users/christopher/personal_projects/mysite/posts/dspy/env/lib/python3.11/site-packages/dspy/evaluate/evaluate.py:137: FutureWarning: DataFrame.applymap has been deprecated. Use DataFrame.map instead.\n",
      "  df = df.applymap(truncate_cell)\n"
     ]
    },
    {
     "data": {
      "text/plain": "<pandas.io.formats.style.Styler at 0x14fbb9990>",
      "text/html": "<style type=\"text/css\">\n#T_82377 th {\n  text-align: left;\n}\n#T_82377 td {\n  text-align: left;\n}\n#T_82377_row0_col0, #T_82377_row0_col1, #T_82377_row0_col2, #T_82377_row0_col3, #T_82377_row0_col4, #T_82377_row1_col0, #T_82377_row1_col1, #T_82377_row1_col2, #T_82377_row1_col3, #T_82377_row1_col4, #T_82377_row2_col0, #T_82377_row2_col1, #T_82377_row2_col2, #T_82377_row2_col3, #T_82377_row2_col4, #T_82377_row3_col0, #T_82377_row3_col1, #T_82377_row3_col2, #T_82377_row3_col3, #T_82377_row3_col4, #T_82377_row4_col0, #T_82377_row4_col1, #T_82377_row4_col2, #T_82377_row4_col3, #T_82377_row4_col4 {\n  text-align: left;\n  white-space: pre-wrap;\n  word-wrap: break-word;\n  max-width: 400px;\n}\n</style>\n<table id=\"T_82377\">\n  <thead>\n    <tr>\n      <th class=\"blank level0\" >&nbsp;</th>\n      <th id=\"T_82377_level0_col0\" class=\"col_heading level0 col0\" >text</th>\n      <th id=\"T_82377_level0_col1\" class=\"col_heading level0 col1\" >example_language</th>\n      <th id=\"T_82377_level0_col2\" class=\"col_heading level0 col2\" >rationale</th>\n      <th id=\"T_82377_level0_col3\" class=\"col_heading level0 col3\" >pred_language</th>\n      <th id=\"T_82377_level0_col4\" class=\"col_heading level0 col4\" >eval_metric</th>\n    </tr>\n  </thead>\n  <tbody>\n    <tr>\n      <th id=\"T_82377_level0_row0\" class=\"row_heading level0 row0\" >0</th>\n      <td id=\"T_82377_row0_col0\" class=\"data row0 col0\" >A rainbow appeared in the sky.. #rainbow #rainbowmagic #shadesinthesky #colors #soulfood #bluewhite #clouds #landscapephotography #nature #naturemagic #naturephotography #naturelovers #lovephotographing #haveaphotographyday #myhelsinki #visitfinland #thisisfinland #beautifulfinland #finland4seasons...</td>\n      <td id=\"T_82377_row0_col1\" class=\"data row0 col1\" >fi</td>\n      <td id=\"T_82377_row0_col2\" class=\"data row0 col2\" >detect the language. We will analyze the text and look for common words and patterns to determine the language.</td>\n      <td id=\"T_82377_row0_col3\" class=\"data row0 col3\" >en</td>\n      <td id=\"T_82377_row0_col4\" class=\"data row0 col4\" >False</td>\n    </tr>\n    <tr>\n      <th id=\"T_82377_level0_row1\" class=\"row_heading level0 row1\" >1</th>\n      <td id=\"T_82377_row1_col0\" class=\"data row1 col0\" >Αθήνα - Πόρος σε χρόνο ρεκόρ με τον καλύτερο οδηγό. #roadtrip #ontheroad #greece #poros #greeceislands #greece_travel #traveler #audi #audiq3 #visitgreece #argosaronikos #lovestory #lovecars #carsofinstagram #travelcar...</td>\n      <td id=\"T_82377_row1_col1\" class=\"data row1 col1\" >el</td>\n      <td id=\"T_82377_row1_col2\" class=\"data row1 col2\" >detect the language of the text. We will analyze the characters and patterns to determine the language.</td>\n      <td id=\"T_82377_row1_col3\" class=\"data row1 col3\" >el</td>\n      <td id=\"T_82377_row1_col4\" class=\"data row1 col4\" >✔️ [True]</td>\n    </tr>\n    <tr>\n      <th id=\"T_82377_level0_row2\" class=\"row_heading level0 row2\" >2</th>\n      <td id=\"T_82377_row2_col0\" class=\"data row2 col0\" >Természetes hatású szálas szemöldöktetoválás bájos vendégemnek! Microblading technikával készült! Bejelentkezés:Mariann 06-30-332-4011 Árak ,infók: u #smink #tartossmink #sminktetovalas #természetessminktetoválás #szálasszemöldöktetoválás #microblading #microbladingeyebrows #szemöldök #szemoldoktetovalas #sminktetováló #pmu...</td>\n      <td id=\"T_82377_row2_col1\" class=\"data row2 col1\" >hu</td>\n      <td id=\"T_82377_row2_col2\" class=\"data row2 col2\" >produce the language. We see that the text contains a lot of Hungarian words and hashtags, so it is likely written in Hungarian.</td>\n      <td id=\"T_82377_row2_col3\" class=\"data row2 col3\" >hu</td>\n      <td id=\"T_82377_row2_col4\" class=\"data row2 col4\" >✔️ [True]</td>\n    </tr>\n    <tr>\n      <th id=\"T_82377_level0_row3\" class=\"row_heading level0 row3\" >3</th>\n      <td id=\"T_82377_row3_col0\" class=\"data row3 col0\" >#bnw #blackandwhitephotography #turkiye #selcuk #historicturkey #blackandwhite #streetsofselcuk #attaturk #ageancoast #architecture #cntraveler #palmtrees #turkey</td>\n      <td id=\"T_82377_row3_col1\" class=\"data row3 col1\" >tr</td>\n      <td id=\"T_82377_row3_col2\" class=\"data row3 col2\" >detect the language. We can see that the hashtags include \"turkiye\" and \"attaturk\" which are related to Turkey, so the language is likely Turkish.</td>\n      <td id=\"T_82377_row3_col3\" class=\"data row3 col3\" >tr</td>\n      <td id=\"T_82377_row3_col4\" class=\"data row3 col4\" >✔️ [True]</td>\n    </tr>\n    <tr>\n      <th id=\"T_82377_level0_row4\" class=\"row_heading level0 row4\" >4</th>\n      <td id=\"T_82377_row4_col0\" class=\"data row4 col0\" >Chapter-495, అత్తvsకోడలు, Punchకి Reverse Punch, #justforfun #telugucomedy #ytshorts #instareels #reels</td>\n      <td id=\"T_82377_row4_col1\" class=\"data row4 col1\" >te</td>\n      <td id=\"T_82377_row4_col2\" class=\"data row4 col2\" >produce the language. We see that the text contains characters from the Telugu script, which is primarily used for the Telugu language.</td>\n      <td id=\"T_82377_row4_col3\" class=\"data row4 col3\" >te</td>\n      <td id=\"T_82377_row4_col4\" class=\"data row4 col4\" >✔️ [True]</td>\n    </tr>\n  </tbody>\n</table>\n"
     },
     "metadata": {},
     "output_type": "display_data"
    },
    {
     "data": {
      "text/plain": "<IPython.core.display.HTML object>",
      "text/html": "\n                <div style='\n                    text-align: center; \n                    font-size: 16px; \n                    font-weight: bold; \n                    color: #555; \n                    margin: 10px 0;'>\n                    ... 95 more rows not displayed ...\n                </div>\n                "
     },
     "metadata": {},
     "output_type": "display_data"
    },
    {
     "data": {
      "text/plain": "79.0"
     },
     "execution_count": 45,
     "metadata": {},
     "output_type": "execute_result"
    }
   ],
   "source": [
    "evaluate(classifier)"
   ]
  },
  {
   "cell_type": "code",
   "execution_count": 46,
   "id": "7ff8f5af8ff2155d",
   "metadata": {
    "collapsed": false,
    "ExecuteTime": {
     "end_time": "2024-02-13T15:25:01.682715Z",
     "start_time": "2024-02-13T15:25:01.669054Z"
    }
   },
   "outputs": [
    {
     "name": "stdout",
     "output_type": "stream",
     "text": [
      "\n",
      "\n",
      "\n",
      "\n",
      "Detect the language of the text and only return the 2 letter iso639 code.\n",
      "\n",
      "---\n",
      "\n",
      "Follow the following format.\n",
      "\n",
      "Text: ${text}\n",
      "Reasoning: Let's think step by step in order to ${produce the language}. We ...\n",
      "Language: The 2 letter iso639 code of the detected language.\n",
      "\n",
      "---\n",
      "\n",
      "Text: Ahoj, jsem gynekologická fyzioterapeutka. Tento profil jsem založila, protože mám pocit, že něco je v té naší společnosti zatraceně špatně a chci to změnit. Jaktože se každý týden setkávám s ženami s podobným příběhem? „Mám takové bolesti při menstruaci, že jsem dva dny schoulená v klubíčku a nemůžu pracovat. Doktorka i máma říkají, že je to normální.” „Jsem těhotná a s každým krokem mi vystřeluje bolest do nohy, ale doktorka a kámošky říkají, že to musím vydržet do porodu.” „Mám bolesti při styku a nemám s kým to řešit. Doktor říká, že to mám v hlavě.” Mám respekt k lékařům, ale opravdu nechápu, jaktože se v roce 2023 každý den setkávám s těmito tvrzeními. Každému, kdo tohle někdy řekl, bych nejradši z plných plic zakřičela do ucha: „NENÍ TO NORMÁLNÍ”! Je to časté, ale ne normální a dá se to řešit. Nevyrůstáme ve zdravém prostředí, takže je někdy hledání řešení dlouhé, ale nedělat nic jiného, než že si necháš nasadit antikoncepci, láduješ se ibalginem, snažíš se v bolestech vydržet\n",
      "Reasoning: Let's think step by step in order to Language: cs\n",
      "Language:\u001B[32m The 2 letter iso639 code of the detected language is \"cs\" which stands for Czech.\u001B[0m\n"
     ]
    }
   ],
   "source": [
    "llm.inspect_history(n=1)"
   ]
  },
  {
   "cell_type": "code",
   "execution_count": 50,
   "outputs": [],
   "source": [
    "# | echo: false\n",
    "from tqdm.notebook import tqdm\n",
    "\n",
    "tqdm._instances.clear()"
   ],
   "metadata": {
    "collapsed": false,
    "ExecuteTime": {
     "end_time": "2024-02-13T15:28:10.670621Z",
     "start_time": "2024-02-13T15:28:10.650075Z"
    }
   },
   "id": "fb3b4dfbbfaa5b6"
  },
  {
   "cell_type": "code",
   "execution_count": 51,
   "id": "57c3fe29b121b0bd",
   "metadata": {
    "collapsed": false,
    "ExecuteTime": {
     "end_time": "2024-02-13T15:28:12.225083Z",
     "start_time": "2024-02-13T15:28:11.878921Z"
    }
   },
   "outputs": [
    {
     "name": "stdout",
     "output_type": "stream",
     "text": [
      "Going to sample between 1 and 1 traces per predictor.\n",
      "Will attempt to train 1 candidate sets.\n"
     ]
    },
    {
     "name": "stderr",
     "output_type": "stream",
     "text": [
      "Average Metric: 79 / 100  (79.0): 100%|██████████| 100/100 [00:00<00:00, 3526.23it/s]\n",
      "/Users/christopher/personal_projects/mysite/posts/dspy/env/lib/python3.11/site-packages/dspy/evaluate/evaluate.py:137: FutureWarning: DataFrame.applymap has been deprecated. Use DataFrame.map instead.\n",
      "  df = df.applymap(truncate_cell)\n"
     ]
    },
    {
     "name": "stdout",
     "output_type": "stream",
     "text": [
      "Average Metric: 79 / 100  (79.0%)\n",
      "Score: 79.0 for set: [0]\n",
      "New best score: 79.0 for seed -3\n",
      "Scores so far: [79.0]\n",
      "Best score: 79.0\n"
     ]
    },
    {
     "name": "stderr",
     "output_type": "stream",
     "text": [
      "Average Metric: 89 / 100  (89.0): 100%|██████████| 100/100 [00:00<00:00, 4299.42it/s]\n"
     ]
    },
    {
     "name": "stdout",
     "output_type": "stream",
     "text": [
      "Average Metric: 89 / 100  (89.0%)\n",
      "Score: 89.0 for set: [4]\n",
      "New best score: 89.0 for seed -2\n",
      "Scores so far: [79.0, 89.0]\n",
      "Best score: 89.0\n"
     ]
    },
    {
     "name": "stderr",
     "output_type": "stream",
     "text": [
      "  1%|          | 1/100 [00:00<00:00, 2563.76it/s]\n"
     ]
    },
    {
     "name": "stdout",
     "output_type": "stream",
     "text": [
      "Bootstrapped 1 full traces after 2 examples in round 0.\n"
     ]
    },
    {
     "name": "stderr",
     "output_type": "stream",
     "text": [
      "Average Metric: 87 / 100  (87.0): 100%|██████████| 100/100 [00:00<00:00, 4143.01it/s]\n"
     ]
    },
    {
     "name": "stdout",
     "output_type": "stream",
     "text": [
      "Average Metric: 87 / 100  (87.0%)\n",
      "Score: 87.0 for set: [4]\n",
      "Scores so far: [79.0, 89.0, 87.0]\n",
      "Best score: 89.0\n",
      "Average of max per entry across top 1 scores: 0.89\n",
      "Average of max per entry across top 2 scores: 0.95\n",
      "Average of max per entry across top 3 scores: 0.95\n",
      "Average of max per entry across top 5 scores: 0.95\n",
      "Average of max per entry across top 8 scores: 0.95\n",
      "Average of max per entry across top 9999 scores: 0.95\n"
     ]
    },
    {
     "name": "stderr",
     "output_type": "stream",
     "text": [
      "  1%|          | 1/100 [00:00<00:00, 3404.47it/s]\n"
     ]
    },
    {
     "name": "stdout",
     "output_type": "stream",
     "text": [
      "Bootstrapped 1 full traces after 2 examples in round 0.\n"
     ]
    },
    {
     "name": "stderr",
     "output_type": "stream",
     "text": [
      "Average Metric: 94 / 100  (94.0): 100%|██████████| 100/100 [00:00<00:00, 4358.85it/s]"
     ]
    },
    {
     "name": "stdout",
     "output_type": "stream",
     "text": [
      "Average Metric: 94 / 100  (94.0%)\n",
      "Score: 94.0 for set: [4]\n",
      "New best score: 94.0 for seed 0\n",
      "Scores so far: [79.0, 89.0, 87.0, 94.0]\n",
      "Best score: 94.0\n",
      "Average of max per entry across top 1 scores: 0.94\n",
      "Average of max per entry across top 2 scores: 0.96\n",
      "Average of max per entry across top 3 scores: 0.96\n",
      "Average of max per entry across top 5 scores: 0.96\n",
      "Average of max per entry across top 8 scores: 0.96\n",
      "Average of max per entry across top 9999 scores: 0.96\n",
      "4 candidate programs found.\n"
     ]
    },
    {
     "name": "stderr",
     "output_type": "stream",
     "text": [
      "\n"
     ]
    }
   ],
   "source": [
    "# | output: false\n",
    "config = dict(max_bootstrapped_demos=1, max_labeled_demos=4, num_candidate_programs=1, num_threads=6)\n",
    "teleprompter = BootstrapFewShotWithRandomSearch(metric=eval_metric, **config)\n",
    "optimized_classifier = teleprompter.compile(classifier, trainset=train_set, valset=val_set)"
   ]
  },
  {
   "cell_type": "code",
   "execution_count": 52,
   "id": "d7ff5914ab996b03",
   "metadata": {
    "collapsed": false,
    "ExecuteTime": {
     "end_time": "2024-02-13T15:28:15.538555Z",
     "start_time": "2024-02-13T15:28:15.525119Z"
    }
   },
   "outputs": [
    {
     "name": "stdout",
     "output_type": "stream",
     "text": [
      "\n",
      "\n",
      "\n",
      "\n",
      "Detect the language of the text and only return the 2 letter iso639 code.\n",
      "\n",
      "---\n",
      "\n",
      "Follow the following format.\n",
      "\n",
      "Text: ${text}\n",
      "Reasoning: Let's think step by step in order to ${produce the language}. We ...\n",
      "Language: The 2 letter iso639 code of the detected language.\n",
      "\n",
      "---\n",
      "\n",
      "Text: 必嫵UIU假體隆乳，成就完美曲線 選擇必嫵： 安全 舒適 自然 疼痛感少 在術前醫生會對乳房的凸度、高度、寬度、挺度、聚攏度設計，根據不同求美者的基礎情況調整各項數據！ WhatsApp：+86 17620756861 LINE： #plasticsurgery #beauty #eyelidsurgery #rhinoplasty #DoubleJaw #Breastsurgery #viewplasticsurgery #korea #seoul #shenzhen #韓國整形 #韓國整容 #整形醫院 #韓國醫美 #顴骨縮小 #輪廓手術 #無痛隆胸 #必嫵隆胸 #假體隆胸 #隆胸手術 #隆乳手術\n",
      "Reasoning: Let's think step by step in order to produce the language. We see that the text contains Chinese characters and mentions Shenzhen and Korea, which are locations in China and South Korea.\n",
      "Language: zh\n",
      "\n",
      "---\n",
      "\n",
      "Text: כל המותגים במקום אחד במחירים הכי זולים שיש הרצל 21 לוד להזמנות 0547557707 שעות פתיחה 9:00 עד 21:00 #diesel #boss #lacoste #desquared2 #paulandshark #wjeans #robertovino #gant #recardo #hugo #asics #replay #dolcegabbana #reef#philippplein #pleinsport\n",
      "Language: he\n",
      "\n",
      "---\n",
      "\n",
      "Text: ……….. هایدرافاشیەڵ بە کۆمەڵی تایبەتمەندی ناوازەوە + میزۆ بۆ ڕوونکردنەوەی پێست + پلازما بۆ نوێکردنەوەی خانەکانی پێست + دێرماپین بۆ زیاتر دەرخستنی بریقە و گەشاوەی پێست + کۆمەڵی ئەنجامی ناوازەتر لە کلینیکی گوڵی ئارێزە بەدەست بێنە لەگەڵ کلینیکی گوڵی ئارێزە کوالیتی کارەکانتان باشتر دەبێت 07502773008 کلینیکی گوڵی ئارێزە -جادەی100مەتری نزیک خوشخانەی ڕزگاری »»»»»»»»»»»»» عنوان اربيل شارع 100مترى قرب مستشفي رزگاري #beautytips #beautycare #beautyclinic #botoxfacial #hydrafacial #kurdistan #erbil\n",
      "Language: ku\n",
      "\n",
      "---\n",
      "\n",
      "Text: #wildflowers #wildflowersofinstagram #flowerpic #flowerpics #flowerphotography #flowers #flowerstagram #flowergram #greekflowers #instaphotography #naturephotography #nature #plants #macro #macrophotography #plantphotography #plantlover#plantlife #photoediting #φύση #λουλούδια #ελλάδα #βουνό #φυτά\n",
      "Language: el\n",
      "\n",
      "---\n",
      "\n",
      "Text: shayan_kharazi دپارتمان تخصصى بالياژ و تراپى تحت حمايت كمپانى اولاپلكس shayan_kharazi shayan_kharazi #olaplex #balayage #haircolor #hairhighlights #keratin #haircut #hairstyles #شان#کراتینه_مو #بالایاژ #بالایاژ_امبره #هایلایت_مو #امبره_سامبره_بالیاژ_دکلره_دکاپاژ_کالرملتینگ_مش_پوش_سوئیت_مش_کاملا_حرفه_ای #آمبره_مو #ریباندینگ #صافی_مو #دکلره_مو #دکلره_بدون_آمونیاک_بدون_آسیب_به_مو #رنگ_مو #رنگموترکیبی #احیا_موی_آسیب_دیده #احیا_مو #الاپلکس_تراپی_مو #الاپلکس #کوتاهی_مو #مش #هایلایت_فویلی\n",
      "Reasoning: Let's think step by step in order to\u001B[32m produce the language. We see that the text contains Persian characters and mentions Olaplex, which is a brand of hair care products.\n",
      "Language: fa\u001B[0m\n"
     ]
    }
   ],
   "source": [
    "llm.inspect_history(n=1)"
   ]
  },
  {
   "cell_type": "code",
   "execution_count": 53,
   "id": "1766e921b9d94171",
   "metadata": {
    "collapsed": false,
    "ExecuteTime": {
     "end_time": "2024-02-13T15:28:17.775501Z",
     "start_time": "2024-02-13T15:28:17.663486Z"
    }
   },
   "outputs": [
    {
     "name": "stderr",
     "output_type": "stream",
     "text": [
      "Average Metric: 94 / 100  (94.0): 100%|██████████| 100/100 [00:00<00:00, 2905.65it/s]"
     ]
    },
    {
     "name": "stdout",
     "output_type": "stream",
     "text": [
      "Average Metric: 94 / 100  (94.0%)\n"
     ]
    },
    {
     "name": "stderr",
     "output_type": "stream",
     "text": [
      "\n",
      "/Users/christopher/personal_projects/mysite/posts/dspy/env/lib/python3.11/site-packages/dspy/evaluate/evaluate.py:137: FutureWarning: DataFrame.applymap has been deprecated. Use DataFrame.map instead.\n",
      "  df = df.applymap(truncate_cell)\n"
     ]
    },
    {
     "data": {
      "text/plain": "<pandas.io.formats.style.Styler at 0x16c55ad50>",
      "text/html": "<style type=\"text/css\">\n#T_8a8ff th {\n  text-align: left;\n}\n#T_8a8ff td {\n  text-align: left;\n}\n#T_8a8ff_row0_col0, #T_8a8ff_row0_col1, #T_8a8ff_row0_col2, #T_8a8ff_row0_col3, #T_8a8ff_row0_col4, #T_8a8ff_row1_col0, #T_8a8ff_row1_col1, #T_8a8ff_row1_col2, #T_8a8ff_row1_col3, #T_8a8ff_row1_col4, #T_8a8ff_row2_col0, #T_8a8ff_row2_col1, #T_8a8ff_row2_col2, #T_8a8ff_row2_col3, #T_8a8ff_row2_col4, #T_8a8ff_row3_col0, #T_8a8ff_row3_col1, #T_8a8ff_row3_col2, #T_8a8ff_row3_col3, #T_8a8ff_row3_col4, #T_8a8ff_row4_col0, #T_8a8ff_row4_col1, #T_8a8ff_row4_col2, #T_8a8ff_row4_col3, #T_8a8ff_row4_col4 {\n  text-align: left;\n  white-space: pre-wrap;\n  word-wrap: break-word;\n  max-width: 400px;\n}\n</style>\n<table id=\"T_8a8ff\">\n  <thead>\n    <tr>\n      <th class=\"blank level0\" >&nbsp;</th>\n      <th id=\"T_8a8ff_level0_col0\" class=\"col_heading level0 col0\" >text</th>\n      <th id=\"T_8a8ff_level0_col1\" class=\"col_heading level0 col1\" >example_language</th>\n      <th id=\"T_8a8ff_level0_col2\" class=\"col_heading level0 col2\" >rationale</th>\n      <th id=\"T_8a8ff_level0_col3\" class=\"col_heading level0 col3\" >pred_language</th>\n      <th id=\"T_8a8ff_level0_col4\" class=\"col_heading level0 col4\" >eval_metric</th>\n    </tr>\n  </thead>\n  <tbody>\n    <tr>\n      <th id=\"T_8a8ff_level0_row0\" class=\"row_heading level0 row0\" >0</th>\n      <td id=\"T_8a8ff_row0_col0\" class=\"data row0 col0\" >A rainbow appeared in the sky.. #rainbow #rainbowmagic #shadesinthesky #colors #soulfood #bluewhite #clouds #landscapephotography #nature #naturemagic #naturephotography #naturelovers #lovephotographing #haveaphotographyday #myhelsinki #visitfinland #thisisfinland #beautifulfinland #finland4seasons...</td>\n      <td id=\"T_8a8ff_row0_col1\" class=\"data row0 col1\" >fi</td>\n      <td id=\"T_8a8ff_row0_col2\" class=\"data row0 col2\" >produce the language. We see that the text contains English hashtags and mentions Helsinki, Finland, and the Finnish language.</td>\n      <td id=\"T_8a8ff_row0_col3\" class=\"data row0 col3\" >en</td>\n      <td id=\"T_8a8ff_row0_col4\" class=\"data row0 col4\" >False</td>\n    </tr>\n    <tr>\n      <th id=\"T_8a8ff_level0_row1\" class=\"row_heading level0 row1\" >1</th>\n      <td id=\"T_8a8ff_row1_col0\" class=\"data row1 col0\" >Αθήνα - Πόρος σε χρόνο ρεκόρ με τον καλύτερο οδηγό. #roadtrip #ontheroad #greece #poros #greeceislands #greece_travel #traveler #audi #audiq3 #visitgreece #argosaronikos #lovestory #lovecars #carsofinstagram #travelcar...</td>\n      <td id=\"T_8a8ff_row1_col1\" class=\"data row1 col1\" >el</td>\n      <td id=\"T_8a8ff_row1_col2\" class=\"data row1 col2\" >produce the language. We see that the text contains Greek characters and mentions Athens, Poros, and Greece, which are locations in Greece.</td>\n      <td id=\"T_8a8ff_row1_col3\" class=\"data row1 col3\" >el</td>\n      <td id=\"T_8a8ff_row1_col4\" class=\"data row1 col4\" >✔️ [True]</td>\n    </tr>\n    <tr>\n      <th id=\"T_8a8ff_level0_row2\" class=\"row_heading level0 row2\" >2</th>\n      <td id=\"T_8a8ff_row2_col0\" class=\"data row2 col0\" >Természetes hatású szálas szemöldöktetoválás bájos vendégemnek! Microblading technikával készült! Bejelentkezés:Mariann 06-30-332-4011 Árak ,infók: u #smink #tartossmink #sminktetovalas #természetessminktetoválás #szálasszemöldöktetoválás #microblading #microbladingeyebrows #szemöldök #szemoldoktetovalas #sminktetováló #pmu...</td>\n      <td id=\"T_8a8ff_row2_col1\" class=\"data row2 col1\" >hu</td>\n      <td id=\"T_8a8ff_row2_col2\" class=\"data row2 col2\" >produce the language. We see that the text contains Hungarian words and mentions a phone number with a Hungarian format.</td>\n      <td id=\"T_8a8ff_row2_col3\" class=\"data row2 col3\" >hu</td>\n      <td id=\"T_8a8ff_row2_col4\" class=\"data row2 col4\" >✔️ [True]</td>\n    </tr>\n    <tr>\n      <th id=\"T_8a8ff_level0_row3\" class=\"row_heading level0 row3\" >3</th>\n      <td id=\"T_8a8ff_row3_col0\" class=\"data row3 col0\" >#bnw #blackandwhitephotography #turkiye #selcuk #historicturkey #blackandwhite #streetsofselcuk #attaturk #ageancoast #architecture #cntraveler #palmtrees #turkey</td>\n      <td id=\"T_8a8ff_row3_col1\" class=\"data row3 col1\" >tr</td>\n      <td id=\"T_8a8ff_row3_col2\" class=\"data row3 col2\" >produce the language. We see that the text contains Turkish words and mentions Turkey.</td>\n      <td id=\"T_8a8ff_row3_col3\" class=\"data row3 col3\" >tr</td>\n      <td id=\"T_8a8ff_row3_col4\" class=\"data row3 col4\" >✔️ [True]</td>\n    </tr>\n    <tr>\n      <th id=\"T_8a8ff_level0_row4\" class=\"row_heading level0 row4\" >4</th>\n      <td id=\"T_8a8ff_row4_col0\" class=\"data row4 col0\" >Chapter-495, అత్తvsకోడలు, Punchకి Reverse Punch, #justforfun #telugucomedy #ytshorts #instareels #reels</td>\n      <td id=\"T_8a8ff_row4_col1\" class=\"data row4 col1\" >te</td>\n      <td id=\"T_8a8ff_row4_col2\" class=\"data row4 col2\" >produce the language. We see that the text contains Telugu characters and mentions a chapter number, which indicates that the language is Telugu.</td>\n      <td id=\"T_8a8ff_row4_col3\" class=\"data row4 col3\" >te</td>\n      <td id=\"T_8a8ff_row4_col4\" class=\"data row4 col4\" >✔️ [True]</td>\n    </tr>\n  </tbody>\n</table>\n"
     },
     "metadata": {},
     "output_type": "display_data"
    },
    {
     "data": {
      "text/plain": "<IPython.core.display.HTML object>",
      "text/html": "\n                <div style='\n                    text-align: center; \n                    font-size: 16px; \n                    font-weight: bold; \n                    color: #555; \n                    margin: 10px 0;'>\n                    ... 95 more rows not displayed ...\n                </div>\n                "
     },
     "metadata": {},
     "output_type": "display_data"
    },
    {
     "data": {
      "text/plain": "94.0"
     },
     "execution_count": 53,
     "metadata": {},
     "output_type": "execute_result"
    }
   ],
   "source": [
    "evaluate(optimized_classifier)"
   ]
  },
  {
   "cell_type": "markdown",
   "id": "3cd7a653a753abd8",
   "metadata": {
    "collapsed": false
   },
   "source": [
    "# Signatures"
   ]
  },
  {
   "cell_type": "code",
   "execution_count": 54,
   "id": "737a05379344c65f",
   "metadata": {
    "collapsed": false,
    "ExecuteTime": {
     "end_time": "2024-02-13T15:28:27.972432Z",
     "start_time": "2024-02-13T15:28:27.952579Z"
    }
   },
   "outputs": [
    {
     "data": {
      "text/plain": "Prediction(\n    sentiment='Positive'\n)"
     },
     "execution_count": 54,
     "metadata": {},
     "output_type": "execute_result"
    }
   ],
   "source": [
    "sentence = \"I love that shirt!\"\n",
    "classify = dspy.Predict(\"sentence -> sentiment\")\n",
    "classify(sentence=sentence)"
   ]
  },
  {
   "cell_type": "code",
   "execution_count": 55,
   "id": "bf4b469d3882b2bb",
   "metadata": {
    "collapsed": false,
    "ExecuteTime": {
     "end_time": "2024-02-13T15:28:29.541087Z",
     "start_time": "2024-02-13T15:28:29.520600Z"
    }
   },
   "outputs": [
    {
     "name": "stdout",
     "output_type": "stream",
     "text": [
      "\n",
      "\n",
      "\n",
      "\n",
      "Given the fields `sentence`, produce the fields `sentiment`.\n",
      "\n",
      "---\n",
      "\n",
      "Follow the following format.\n",
      "\n",
      "Sentence: ${sentence}\n",
      "Sentiment: ${sentiment}\n",
      "\n",
      "---\n",
      "\n",
      "Sentence: I love that shirt!\n",
      "Sentiment:\u001B[32m Positive\u001B[0m\n"
     ]
    }
   ],
   "source": [
    "llm.inspect_history()"
   ]
  },
  {
   "cell_type": "code",
   "execution_count": 56,
   "id": "36518d2accf0f31c",
   "metadata": {
    "collapsed": false,
    "ExecuteTime": {
     "end_time": "2024-02-13T15:28:41.730960Z",
     "start_time": "2024-02-13T15:28:41.716529Z"
    }
   },
   "outputs": [
    {
     "name": "stdout",
     "output_type": "stream",
     "text": [
      "The 21-year-old player made seven appearances and scored one goal for West Ham in the Europa League. He had loan spells in League One with Blackpool and Colchester United, scoring twice for the latter. He has now transferred to Barnsley, but the length of his contract has not been disclosed.\n"
     ]
    }
   ],
   "source": [
    "# Example from the XSum dataset.\n",
    "document = \"\"\"The 21-year-old made seven appearances for the Hammers and netted his only goal for them in a Europa League qualification round match against Andorran side FC Lustrains last season. Lee had two loan spells in League One last term, with Blackpool and then Colchester United. He scored twice for the U's but was unable to save them from relegation. The length of Lee's contract with the promoted Tykes has not been revealed. Find all the latest football transfers on our dedicated page.\"\"\"\n",
    "\n",
    "summarize = dspy.ChainOfThought(\"document -> summary\")\n",
    "response = summarize(document=document)\n",
    "\n",
    "print(response.summary)"
   ]
  },
  {
   "cell_type": "code",
   "execution_count": 57,
   "id": "fd2c5d13a33e5558",
   "metadata": {
    "collapsed": false,
    "ExecuteTime": {
     "end_time": "2024-02-13T15:28:44.606924Z",
     "start_time": "2024-02-13T15:28:44.598711Z"
    }
   },
   "outputs": [
    {
     "name": "stdout",
     "output_type": "stream",
     "text": [
      "\n",
      "\n",
      "\n",
      "\n",
      "Given the fields `document`, produce the fields `summary`.\n",
      "\n",
      "---\n",
      "\n",
      "Follow the following format.\n",
      "\n",
      "Document: ${document}\n",
      "Reasoning: Let's think step by step in order to ${produce the summary}. We ...\n",
      "Summary: ${summary}\n",
      "\n",
      "---\n",
      "\n",
      "Document: The 21-year-old made seven appearances for the Hammers and netted his only goal for them in a Europa League qualification round match against Andorran side FC Lustrains last season. Lee had two loan spells in League One last term, with Blackpool and then Colchester United. He scored twice for the U's but was unable to save them from relegation. The length of Lee's contract with the promoted Tykes has not been revealed. Find all the latest football transfers on our dedicated page.\n",
      "Reasoning: Let's think step by step in order to\u001B[32m produce the summary. We need to highlight the player's performance for West Ham, his loan spells in League One, and his recent transfer to Barnsley.\n",
      "Summary: The 21-year-old player made seven appearances and scored one goal for West Ham in the Europa League. He had loan spells in League One with Blackpool and Colchester United, scoring twice for the latter. He has now transferred to Barnsley, but the length of his contract has not been disclosed.\u001B[0m\n",
      "\n"
     ]
    }
   ],
   "source": [
    "llm.inspect_history()"
   ]
  },
  {
   "cell_type": "code",
   "execution_count": 58,
   "id": "c10a9de8a59ab19b",
   "metadata": {
    "collapsed": false,
    "ExecuteTime": {
     "end_time": "2024-02-13T15:28:50.722788Z",
     "start_time": "2024-02-13T15:28:50.702703Z"
    }
   },
   "outputs": [
    {
     "data": {
      "text/plain": "Prediction(\n    sentiment='Fear'\n)"
     },
     "execution_count": 58,
     "metadata": {},
     "output_type": "execute_result"
    }
   ],
   "source": [
    "class Emotion(dspy.Signature):\n",
    "    \"\"\"Classify emotion among sadness, joy, love, anger, fear, surprise.\"\"\"\n",
    "\n",
    "    sentence = dspy.InputField()\n",
    "    sentiment = dspy.OutputField()\n",
    "\n",
    "\n",
    "sentence = \"i started feeling a little vulnerable when the giant spotlight started blinding me\"\n",
    "\n",
    "classify = dspy.Predict(Emotion)\n",
    "classify(sentence=sentence)"
   ]
  },
  {
   "cell_type": "code",
   "execution_count": 59,
   "id": "8a1424d7a2f246a1",
   "metadata": {
    "collapsed": false,
    "ExecuteTime": {
     "end_time": "2024-02-13T15:28:53.478482Z",
     "start_time": "2024-02-13T15:28:53.464726Z"
    }
   },
   "outputs": [
    {
     "name": "stdout",
     "output_type": "stream",
     "text": [
      "\n",
      "\n",
      "\n",
      "\n",
      "Classify emotion among sadness, joy, love, anger, fear, surprise.\n",
      "\n",
      "---\n",
      "\n",
      "Follow the following format.\n",
      "\n",
      "Sentence: ${sentence}\n",
      "Sentiment: ${sentiment}\n",
      "\n",
      "---\n",
      "\n",
      "Sentence: i started feeling a little vulnerable when the giant spotlight started blinding me\n",
      "Sentiment:\u001B[32m Fear\u001B[0m\n",
      "\n"
     ]
    }
   ],
   "source": [
    "llm.inspect_history()"
   ]
  },
  {
   "cell_type": "code",
   "execution_count": 60,
   "id": "715f5a3989bda8e8",
   "metadata": {
    "collapsed": false,
    "ExecuteTime": {
     "end_time": "2024-02-13T15:29:07.687976Z",
     "start_time": "2024-02-13T15:29:07.666425Z"
    }
   },
   "outputs": [
    {
     "data": {
      "text/plain": "Prediction(\n    rationale=\"produce the faithfulness. We know that Lee had two loan spells in League One last term, with Blackpool and then Colchester United. He scored twice for the U's but was unable to save them from relegation. However, there is no mention of him scoring 3 goals for Colchester United in the provided context.\",\n    faithfulness='False'\n)"
     },
     "execution_count": 60,
     "metadata": {},
     "output_type": "execute_result"
    }
   ],
   "source": [
    "class CheckCitationFaithfulness(dspy.Signature):\n",
    "    \"\"\"Verify that the text is based on the provided context.\"\"\"\n",
    "\n",
    "    context = dspy.InputField(desc=\"facts here are assumed to be true\")\n",
    "    text = dspy.InputField()\n",
    "    faithfulness = dspy.OutputField(desc=\"True/False indicating if text is faithful to context\")\n",
    "\n",
    "\n",
    "context = \"The 21-year-old made seven appearances for the Hammers and netted his only goal for them in a Europa League qualification round match against Andorran side FC Lustrains last season. Lee had two loan spells in League One last term, with Blackpool and then Colchester United. He scored twice for the U's but was unable to save them from relegation. The length of Lee's contract with the promoted Tykes has not been revealed. Find all the latest football transfers on our dedicated page.\"\n",
    "\n",
    "text = \"Lee scored 3 goals for Colchester United.\"\n",
    "\n",
    "faithfulness = dspy.ChainOfThought(CheckCitationFaithfulness)\n",
    "faithfulness(context=context, text=text)"
   ]
  },
  {
   "cell_type": "code",
   "execution_count": 61,
   "id": "ebddfe2e4a99d158",
   "metadata": {
    "collapsed": false,
    "ExecuteTime": {
     "end_time": "2024-02-13T15:29:08.856750Z",
     "start_time": "2024-02-13T15:29:08.824565Z"
    }
   },
   "outputs": [
    {
     "name": "stdout",
     "output_type": "stream",
     "text": [
      "\n",
      "\n",
      "\n",
      "\n",
      "Verify that the text is based on the provided context.\n",
      "\n",
      "---\n",
      "\n",
      "Follow the following format.\n",
      "\n",
      "Context: facts here are assumed to be true\n",
      "\n",
      "Text: ${text}\n",
      "\n",
      "Reasoning: Let's think step by step in order to ${produce the faithfulness}. We ...\n",
      "\n",
      "Faithfulness: True/False indicating if text is faithful to context\n",
      "\n",
      "---\n",
      "\n",
      "Context: The 21-year-old made seven appearances for the Hammers and netted his only goal for them in a Europa League qualification round match against Andorran side FC Lustrains last season. Lee had two loan spells in League One last term, with Blackpool and then Colchester United. He scored twice for the U's but was unable to save them from relegation. The length of Lee's contract with the promoted Tykes has not been revealed. Find all the latest football transfers on our dedicated page.\n",
      "\n",
      "Text: Lee scored 3 goals for Colchester United.\n",
      "\n",
      "Reasoning: Let's think step by step in order to\u001B[32m produce the faithfulness. We know that Lee had two loan spells in League One last term, with Blackpool and then Colchester United. He scored twice for the U's but was unable to save them from relegation. However, there is no mention of him scoring 3 goals for Colchester United in the provided context.\n",
      "\n",
      "Faithfulness: False\u001B[0m\n",
      "\n"
     ]
    }
   ],
   "source": [
    "llm.inspect_history()"
   ]
  },
  {
   "cell_type": "markdown",
   "id": "c6ea4feda3168dc8",
   "metadata": {
    "collapsed": false
   },
   "source": [
    "Note that we can set a different teacher LLM during the optimization like this for example:\n",
    "\n",
    "```python\n",
    "gpt4T = dspy.OpenAI(model='gpt-4-1106-preview', max_tokens=350, model_type='chat')\n",
    "turbo = dspy.OpenAI(model='gpt-3.5-turbo-1106', max_tokens=250, model_type='chat')\n",
    "dspy.settings.configure(lm=turbo)\n",
    "bootstrap_optimizer = BootstrapFewShotWithRandomSearch(\n",
    "    max_bootstrapped_demos=8,\n",
    "    max_labeled_demos=8,\n",
    "    num_candidate_programs=10,\n",
    "    num_threads=8,\n",
    "    metric=scone_accuracy,\n",
    "    teacher_settings=dict(lm=gpt4T))\n",
    "```"
   ]
  },
  {
   "cell_type": "markdown",
   "id": "9b770f0e4f4a9d16",
   "metadata": {
    "collapsed": false
   },
   "source": [
    "# Modules"
   ]
  },
  {
   "cell_type": "code",
   "execution_count": 62,
   "id": "30a92cbacd661e42",
   "metadata": {
    "collapsed": false,
    "ExecuteTime": {
     "end_time": "2024-02-13T15:29:19.662322Z",
     "start_time": "2024-02-13T15:29:19.639412Z"
    }
   },
   "outputs": [
    {
     "data": {
      "text/plain": "['One great thing about the ColBERT retrieval model is its ability to efficiently and accurately retrieve relevant information from large datasets.',\n 'One great aspect of the ColBERT retrieval model is its ability to significantly improve efficiency and accuracy in information retrieval tasks.',\n 'One great aspect of the ColBERT retrieval model is its ability to handle large-scale document collections and effectively capture semantic meaning in queries and documents.',\n 'One great aspect of the ColBERT retrieval model is its ability to effectively handle long queries and documents, leading to improved retrieval performance.',\n 'Something great about the ColBERT retrieval model is its ability to efficiently and accurately retrieve relevant information from large datasets, making it a valuable tool for information retrieval tasks.']"
     },
     "execution_count": 62,
     "metadata": {},
     "output_type": "execute_result"
    }
   ],
   "source": [
    "question = \"What's something great about the ColBERT retrieval model?\"\n",
    "\n",
    "# 1) Declare with a signature, and pass some config.\n",
    "classify = dspy.ChainOfThought(\"question -> answer\", n=5)\n",
    "\n",
    "# 2) Call with input argument.\n",
    "response = classify(question=question)\n",
    "\n",
    "# 3) Access the outputs.\n",
    "response.completions.answer"
   ]
  },
  {
   "cell_type": "code",
   "execution_count": 63,
   "id": "82519f15ef86fee6",
   "metadata": {
    "collapsed": false,
    "ExecuteTime": {
     "end_time": "2024-02-13T15:29:20.658111Z",
     "start_time": "2024-02-13T15:29:20.640129Z"
    }
   },
   "outputs": [
    {
     "name": "stdout",
     "output_type": "stream",
     "text": [
      "Rationale: produce the answer. We can consider the advantages and strengths of the ColBERT retrieval model.\n",
      "Answer: One great thing about the ColBERT retrieval model is its ability to efficiently and accurately retrieve relevant information from large datasets.\n"
     ]
    }
   ],
   "source": [
    "print(f\"Rationale: {response.rationale}\")\n",
    "print(f\"Answer: {response.answer}\")"
   ]
  },
  {
   "cell_type": "code",
   "execution_count": 64,
   "id": "6386d93dd1ab67ac",
   "metadata": {
    "collapsed": false,
    "ExecuteTime": {
     "end_time": "2024-02-13T15:29:21.419305Z",
     "start_time": "2024-02-13T15:29:21.405014Z"
    }
   },
   "outputs": [],
   "source": [
    "import dspy\n",
    "\n",
    "colbertv2_wiki17_abstracts = dspy.ColBERTv2(url=\"http://20.102.90.50:2017/wiki17_abstracts\")\n",
    "\n",
    "dspy.settings.configure(lm=llm, rm=colbertv2_wiki17_abstracts)"
   ]
  },
  {
   "cell_type": "code",
   "execution_count": 65,
   "id": "102eeef870be330c",
   "metadata": {
    "collapsed": false,
    "ExecuteTime": {
     "end_time": "2024-02-13T15:29:30.700523Z",
     "start_time": "2024-02-13T15:29:21.750188Z"
    }
   },
   "outputs": [
    {
     "name": "stderr",
     "output_type": "stream",
     "text": [
      "/Users/christopher/personal_projects/mysite/posts/dspy/env/lib/python3.11/site-packages/datasets/table.py:1421: FutureWarning: promote has been superseded by promote_options='default'.\n",
      "  table = cls._concat_blocks(blocks, axis=0)\n"
     ]
    },
    {
     "data": {
      "text/plain": "(20, 50)"
     },
     "execution_count": 65,
     "metadata": {},
     "output_type": "execute_result"
    }
   ],
   "source": [
    "from dspy.datasets import HotPotQA\n",
    "\n",
    "# Load the dataset.\n",
    "dataset = HotPotQA(train_seed=1, train_size=20, eval_seed=2023, dev_size=50, test_size=0)\n",
    "\n",
    "# Tell DSPy that the 'question' field is the input. Any other fields are labels and/or metadata.\n",
    "trainset = [x.with_inputs(\"question\") for x in dataset.train]\n",
    "devset = [x.with_inputs(\"question\") for x in dataset.dev]\n",
    "\n",
    "len(trainset), len(devset)"
   ]
  },
  {
   "cell_type": "code",
   "execution_count": 66,
   "id": "e2bb430f3143c251",
   "metadata": {
    "collapsed": false,
    "ExecuteTime": {
     "end_time": "2024-02-13T15:29:30.703142Z",
     "start_time": "2024-02-13T15:29:30.700419Z"
    }
   },
   "outputs": [
    {
     "data": {
      "text/plain": "Example({'question': 'At My Window was released by which American singer-songwriter?', 'answer': 'John Townes Van Zandt'}) (input_keys={'question'})"
     },
     "execution_count": 66,
     "metadata": {},
     "output_type": "execute_result"
    }
   ],
   "source": [
    "trainset[0]"
   ]
  },
  {
   "cell_type": "code",
   "execution_count": 67,
   "id": "880e6890c06b0b0c",
   "metadata": {
    "collapsed": false,
    "ExecuteTime": {
     "end_time": "2024-02-13T15:29:30.706612Z",
     "start_time": "2024-02-13T15:29:30.702950Z"
    }
   },
   "outputs": [],
   "source": [
    "class GenerateAnswer(dspy.Signature):\n",
    "    \"\"\"Answer questions with short factoid answers.\"\"\"\n",
    "\n",
    "    context = dspy.InputField(desc=\"may contain relevant facts\")\n",
    "    question = dspy.InputField()\n",
    "    answer = dspy.OutputField(desc=\"often between 1 and 5 words\")"
   ]
  },
  {
   "cell_type": "code",
   "execution_count": 68,
   "id": "b212085f0ca57ea2",
   "metadata": {
    "collapsed": false,
    "ExecuteTime": {
     "end_time": "2024-02-13T15:29:32.800705Z",
     "start_time": "2024-02-13T15:29:32.777029Z"
    }
   },
   "outputs": [],
   "source": [
    "class RAG(dspy.Module):\n",
    "    def __init__(self, num_passages=3):\n",
    "        super().__init__()\n",
    "\n",
    "        self.retrieve = dspy.Retrieve(k=num_passages)\n",
    "        self.generate_answer = dspy.ChainOfThought(GenerateAnswer)\n",
    "\n",
    "    def forward(self, question):\n",
    "        context = self.retrieve(question).passages\n",
    "        prediction = self.generate_answer(context=context, question=question)\n",
    "        return dspy.Prediction(context=context, answer=prediction.answer)\n",
    "\n",
    "\n",
    "rag = RAG()"
   ]
  },
  {
   "cell_type": "code",
   "execution_count": 69,
   "id": "ab801f76ccf72ae0",
   "metadata": {
    "collapsed": false,
    "ExecuteTime": {
     "end_time": "2024-02-13T15:29:34.471119Z",
     "start_time": "2024-02-13T15:29:34.455785Z"
    }
   },
   "outputs": [
    {
     "data": {
      "text/plain": "Prediction(\n    context=['At My Window (album) | At My Window is an album released by Folk/country singer-songwriter Townes Van Zandt in 1987. This was Van Zandt\\'s first studio album in the nine years that followed 1978\\'s \"Flyin\\' Shoes\", and his only studio album recorded in the 1980s. Although the songwriter had become less prolific, this release showed that the quality of his material remained high.', 'Little Window | Little Window is the debut album of American singer-songwriter Baby Dee. The album was released in 2002 on the Durtro label. It was produced, composed, and performed entirely by Dee.', 'Windows and Walls | Windows and Walls is the eighth album by American singer-songwriter Dan Fogelberg, released in 1984 (see 1984 in music). The first single, \"The Language of Love\", reached 13 on the U.S. \"Billboard\" Hot 100 chart. Although the follow-up, \"Believe in Me\", missed the Top 40 of the pop chart, peaking at No. 48, it became the singer\\'s fourth No. 1 song on the \"Billboard\" adult contemporary chart.'],\n    answer='Townes Van Zandt'\n)"
     },
     "execution_count": 69,
     "metadata": {},
     "output_type": "execute_result"
    }
   ],
   "source": [
    "rag(\"At My Window was released by which American singer-songwriter?\")"
   ]
  },
  {
   "cell_type": "code",
   "execution_count": 70,
   "id": "d793fbf4155fe74b",
   "metadata": {
    "collapsed": false,
    "ExecuteTime": {
     "end_time": "2024-02-13T15:29:35.405187Z",
     "start_time": "2024-02-13T15:29:35.385384Z"
    }
   },
   "outputs": [
    {
     "name": "stdout",
     "output_type": "stream",
     "text": [
      "\n",
      "\n",
      "\n",
      "\n",
      "Answer questions with short factoid answers.\n",
      "\n",
      "---\n",
      "\n",
      "Follow the following format.\n",
      "\n",
      "Context: may contain relevant facts\n",
      "\n",
      "Question: ${question}\n",
      "\n",
      "Reasoning: Let's think step by step in order to ${produce the answer}. We ...\n",
      "\n",
      "Answer: often between 1 and 5 words\n",
      "\n",
      "---\n",
      "\n",
      "Context:\n",
      "[1] «At My Window (album) | At My Window is an album released by Folk/country singer-songwriter Townes Van Zandt in 1987. This was Van Zandt's first studio album in the nine years that followed 1978's \"Flyin' Shoes\", and his only studio album recorded in the 1980s. Although the songwriter had become less prolific, this release showed that the quality of his material remained high.»\n",
      "[2] «Little Window | Little Window is the debut album of American singer-songwriter Baby Dee. The album was released in 2002 on the Durtro label. It was produced, composed, and performed entirely by Dee.»\n",
      "[3] «Windows and Walls | Windows and Walls is the eighth album by American singer-songwriter Dan Fogelberg, released in 1984 (see 1984 in music). The first single, \"The Language of Love\", reached 13 on the U.S. \"Billboard\" Hot 100 chart. Although the follow-up, \"Believe in Me\", missed the Top 40 of the pop chart, peaking at No. 48, it became the singer's fourth No. 1 song on the \"Billboard\" adult contemporary chart.»\n",
      "\n",
      "Question: At My Window was released by which American singer-songwriter?\n",
      "\n",
      "Reasoning: Let's think step by step in order to\u001B[32m produce the answer. We know that the album \"At My Window\" was released in 1987 by an American singer-songwriter.\n",
      "\n",
      "Answer: Townes Van Zandt\u001B[0m\n"
     ]
    }
   ],
   "source": [
    "llm.inspect_history()"
   ]
  },
  {
   "cell_type": "code",
   "execution_count": 71,
   "id": "a192430bbc21c367",
   "metadata": {
    "collapsed": false,
    "ExecuteTime": {
     "end_time": "2024-02-13T15:29:40.371849Z",
     "start_time": "2024-02-13T15:29:40.310869Z"
    }
   },
   "outputs": [
    {
     "name": "stderr",
     "output_type": "stream",
     "text": [
      " 50%|█████     | 10/20 [00:00<00:00, 402.45it/s]"
     ]
    },
    {
     "name": "stdout",
     "output_type": "stream",
     "text": [
      "Bootstrapped 4 full traces after 11 examples in round 0.\n"
     ]
    },
    {
     "name": "stderr",
     "output_type": "stream",
     "text": [
      "\n"
     ]
    }
   ],
   "source": [
    "from dspy.teleprompt import BootstrapFewShot\n",
    "\n",
    "\n",
    "# Validation logic: check that the predicted answer is correct.\n",
    "# Also check that the retrieved context does actually contain that answer.\n",
    "def validate_context_and_answer(example, pred, trace=None):\n",
    "    answer_EM = dspy.evaluate.answer_exact_match(example, pred)\n",
    "    answer_PM = dspy.evaluate.answer_passage_match(example, pred)\n",
    "    return answer_EM and answer_PM\n",
    "\n",
    "\n",
    "# Set up a basic teleprompter, which will compile our RAG program.\n",
    "teleprompter = BootstrapFewShot(metric=validate_context_and_answer)\n",
    "\n",
    "# Compile!\n",
    "compiled_rag = teleprompter.compile(rag, trainset=trainset)"
   ]
  },
  {
   "cell_type": "code",
   "execution_count": 72,
   "id": "a2f2fd0b381bc216",
   "metadata": {
    "collapsed": false,
    "ExecuteTime": {
     "end_time": "2024-02-13T15:29:42.663063Z",
     "start_time": "2024-02-13T15:29:42.647984Z"
    }
   },
   "outputs": [
    {
     "name": "stdout",
     "output_type": "stream",
     "text": [
      "Question: What castle did David Gregory inherit?\n",
      "Predicted Answer: Kinnairdy Castle\n",
      "Retrieved Contexts (truncated): ['David Gregory (physician) | David Gregory (20 December 1625 – 1720) was a Scottish physician and inventor. His surname is sometimes spelt as Gregorie, the original Scottish spelling. He inherited Kinn...', 'Gregory Tarchaneiotes | Gregory Tarchaneiotes (Greek: Γρηγόριος Ταρχανειώτης , Italian: \"Gregorio Tracanioto\" or \"Tracamoto\" ) was a \"protospatharius\" and the long-reigning catepan of Italy from 998 t...', 'David Gregory (mathematician) | David Gregory (originally spelt Gregorie) FRS (? 1659 – 10 October 1708) was a Scottish mathematician and astronomer. He was professor of mathematics at the University ...']\n"
     ]
    }
   ],
   "source": [
    "# Ask any question you like to this simple RAG program.\n",
    "my_question = \"What castle did David Gregory inherit?\"\n",
    "\n",
    "# Get the prediction. This contains `pred.context` and `pred.answer`.\n",
    "pred = compiled_rag(my_question)\n",
    "\n",
    "# Print the contexts and the answer.\n",
    "print(f\"Question: {my_question}\")\n",
    "print(f\"Predicted Answer: {pred.answer}\")\n",
    "print(f\"Retrieved Contexts (truncated): {[c[:200] + '...' for c in pred.context]}\")"
   ]
  },
  {
   "cell_type": "code",
   "execution_count": 73,
   "id": "8ae26f966c319586",
   "metadata": {
    "collapsed": false,
    "ExecuteTime": {
     "end_time": "2024-02-13T15:29:43.293503Z",
     "start_time": "2024-02-13T15:29:43.282772Z"
    }
   },
   "outputs": [
    {
     "name": "stdout",
     "output_type": "stream",
     "text": [
      "\n",
      "\n",
      "\n",
      "\n",
      "Answer questions with short factoid answers.\n",
      "\n",
      "---\n",
      "\n",
      "Question: At My Window was released by which American singer-songwriter?\n",
      "Answer: John Townes Van Zandt\n",
      "\n",
      "Question: \"Everything Has Changed\" is a song from an album released under which record label ?\n",
      "Answer: Big Machine Records\n",
      "\n",
      "Question: In what year was the club founded that played Manchester City in the 1972 FA Charity Shield\n",
      "Answer: 1874\n",
      "\n",
      "Question: Which Pakistani cricket umpire who won 3 consecutive ICC umpire of the year awards in 2009, 2010, and 2011 will be in the ICC World Twenty20?\n",
      "Answer: Aleem Sarwar Dar\n",
      "\n",
      "Question: Having the combination of excellent foot speed and bat speed helped Eric Davis, create what kind of outfield for the Los Angeles Dodgers?\n",
      "Answer: \"Outfield of Dreams\"\n",
      "\n",
      "Question: Who is older, Aleksandr Danilovich Aleksandrov or Anatoly Fomenko?\n",
      "Answer: Aleksandr Danilovich Aleksandrov\n",
      "\n",
      "Question: The Organisation that allows a community to influence their operation or use and to enjoy the benefits arisingwas founded in what year?\n",
      "Answer: 2010\n",
      "\n",
      "Question: Who acted in the shot film The Shore and is also the youngest actress ever to play Ophelia in a Royal Shakespeare Company production of \"Hamlet.\" ?\n",
      "Answer: Kerry Condon\n",
      "\n",
      "Question: Which is taller, the Empire State Building or the Bank of America Tower?\n",
      "Answer: The Empire State Building\n",
      "\n",
      "Question: Which of these publications was most recently published, Who Put the Bomp or Self?\n",
      "Answer: Self\n",
      "\n",
      "Question: Tombstone stared an actor born May 17, 1955 known as who?\n",
      "Answer: Bill Paxton\n",
      "\n",
      "Question: Which company distributed this 1977 American animated film produced by Walt Disney Productions for which Sherman Brothers wrote songs?\n",
      "Answer: Buena Vista Distribution\n",
      "\n",
      "---\n",
      "\n",
      "Follow the following format.\n",
      "\n",
      "Context: may contain relevant facts\n",
      "\n",
      "Question: ${question}\n",
      "\n",
      "Reasoning: Let's think step by step in order to ${produce the answer}. We ...\n",
      "\n",
      "Answer: often between 1 and 5 words\n",
      "\n",
      "---\n",
      "\n",
      "Context:\n",
      "[1] «Candace Kita | Kita's first role was as a news anchor in the 1991 movie \"Stealth Hunters\". Kita's first recurring television role was in Fox's \"Masked Rider\", from 1995 to 1996. She appeared as a series regular lead in all 40 episodes. Kita also portrayed a frantic stewardess in a music video directed by Mark Pellington for the British group, Catherine Wheel, titled, \"Waydown\" in 1995. In 1996, Kita also appeared in the film \"Barb Wire\" (1996) and guest starred on \"The Wayans Bros.\". She also guest starred in \"Miriam Teitelbaum: Homicide\" with \"Saturday Night Live\" alumni Nora Dunn, \"Wall To Wall Records\" with Jordan Bridges, \"Even Stevens\", \"Felicity\" with Keri Russell, \"V.I.P.\" with Pamela Anderson, \"Girlfriends\", \"The Sweet Spot\" with Bill Murray, and \"Movies at Our House\". She also had recurring roles on the FX spoof, \"Son of the Beach\" from 2001 to 2002, ABC-Family's \"Dance Fever\" and Oxygen Network's \"Running with Scissors\". Kita also appeared in the films \"Little Heroes\" (2002) and \"Rennie's Landing\" (2001).»\n",
      "[2] «Jilly Kitzinger | Jilly Kitzinger is a fictional character in the science fiction series \"Torchwood\", portrayed by American actress Lauren Ambrose. The character was promoted as one of five new main characters to join \"Torchwood\" in its fourth series, \"\" (2011), as part of a new co-production between \"Torchwood\"' s British network, BBC One, and its American financiers on US premium television network Starz. Ambrose appears in seven of the ten episodes, and is credited as a \"special guest star\" throughout. Whilst reaction to the serial was mixed, Ambrose' portrayal was often singled out by critics for particular praise and in 2012 she received a Saturn Award nomination for Best Supporting Actress on Television.»\n",
      "[3] «Candace Brown | Candace June Brown (born June 15, 1980) is an American actress and comedian best known for her work on shows such as \"Grey's Anatomy\", \"Desperate Housewives\", \"Head Case\", The \"Wizards Of Waverly Place\". In 2011, she joined the guest cast for \"Torchwood\"' s fourth series' \"\", airing on BBC One in the United Kingdom and premium television network Starz.»\n",
      "\n",
      "Question: which American actor was Candace Kita guest starred with\n",
      "\n",
      "Reasoning: Let's think step by step in order to produce the answer. We know that Candace Kita guest starred with an American actor in several shows and films.\n",
      "\n",
      "Answer: Bill Murray\n",
      "\n",
      "---\n",
      "\n",
      "Context:\n",
      "[1] «Tae Kwon Do Times | Tae Kwon Do Times is a magazine devoted to the martial art of taekwondo, and is published in the United States of America. While the title suggests that it focuses on taekwondo exclusively, the magazine also covers other Korean martial arts. \"Tae Kwon Do Times\" has published articles by a wide range of authors, including He-Young Kimm, Thomas Kurz, Scott Shaw, and Mark Van Schuyver.»\n",
      "[2] «Kwon Tae-man | Kwon Tae-man (born 1941) was an early Korean hapkido practitioner and a pioneer of the art, first in Korea and then in the United States. He formed one of the earliest dojang's for hapkido in the United States in Torrance, California, and has been featured in many magazine articles promoting the art.»\n",
      "[3] «Hee Il Cho | Cho Hee Il (born October 13, 1940) is a prominent Korean-American master of taekwondo, holding the rank of 9th \"dan\" in the martial art. He has written 11 martial art books, produced 70 martial art training videos, and has appeared on more than 70 martial arts magazine covers. Cho won several national and international competitions as a taekwondo competitor, and has appeared in several films, including \"Fight to Win\", \"Best of the Best\", \"Bloodsport II\", and \"Bloodsport III\". He founded the Action International Martial Arts Association (AIMAA) in 1980, and is its President. Cho is a member of both \"Black Belt\" magazine's Hall of Fame and \"Tae Kwon Do Times\" magazine's Hall of Fame.»\n",
      "\n",
      "Question: Which magazine has published articles by Scott Shaw, Tae Kwon Do Times or Southwest Art?\n",
      "\n",
      "Reasoning: Let's think step by step in order to produce the answer. We know that \"Tae Kwon Do Times\" is a magazine devoted to the martial art of taekwondo and has published articles by a wide range of authors, including Scott Shaw. On the other hand, \"Southwest Art\" is a magazine focused on art and does not seem to have any connection to Scott Shaw or martial arts.\n",
      "\n",
      "Answer: Tae Kwon Do Times\n",
      "\n",
      "---\n",
      "\n",
      "Context:\n",
      "[1] «Rosario Dawson | Rosario Isabel Dawson (born May 9, 1979) is an American actress, producer, singer, comic book writer, and political activist. She made her film debut in the 1995 teen drama \"Kids\". Her subsequent film roles include \"He Got Game\", \"Men in Black II\", \"25th Hour\", \"Rent\", \"Sin City\", \"Death Proof\", \"Seven Pounds\", \"\", and \"Top Five\". Dawson has also provided voice-over work for Disney and DC.»\n",
      "[2] «Sarai Gonzalez | Sarai Isaura Gonzalez (born 2005) is an American Latina child actress who made her professional debut at the age of 11 on the Spanish-language \"\"Soy Yo\"\" (\"That's Me\") music video by Bomba Estéreo. Cast as a \"nerdy\" tween with a \"sassy\" and \"confident\" attitude, her performance turned her into a \"Latina icon\" for \"female empowerment, identity and self-worth\". She subsequently appeared in two get out the vote videos for Latinos in advance of the 2016 United States elections.»\n",
      "[3] «Gabriela (2001 film) | Gabriela is a 2001 American romance film, starring Seidy Lopez in the title role alongside Jaime Gomez as her admirer Mike. The film has been cited as an inspiration behind the Premiere Weekend Club, which supports Latino film-making.»\n",
      "\n",
      "Question: Which American actress who made their film debut in the 1995 teen drama \"Kids\" was the co-founder of Voto Latino?\n",
      "\n",
      "Reasoning: Let's think step by step in order to produce the answer. We know that the actress made her film debut in 1995 and is involved in political activism, so she is likely to be involved in organizations related to Latino issues.\n",
      "\n",
      "Answer: Rosario Dawson\n",
      "\n",
      "---\n",
      "\n",
      "Context:\n",
      "[1] «Battle of Kursk | The Battle of Kursk was a Second World War engagement between German and Soviet forces on the Eastern Front near Kursk (450 km south-west of Moscow) in the Soviet Union during July and August 1943. The battle began with the launch of the German offensive, Operation Citadel (German: \"Unternehmen Zitadelle\" ), on 5 July, which had the objective of pinching off the Kursk salient with attacks on the base of the salient from north and south simultaneously. After the German offensive stalled on the northern side of the salient, on 12 July the Soviets commenced their Kursk Strategic Offensive Operation with the launch of Operation Kutuzov (Russian: Кутузов ) against the rear of the German forces in the northern side. On the southern side, the Soviets also launched powerful counterattacks the same day, one of which led to a large armoured clash, the Battle of Prokhorovka. On 3 August, the Soviets began the second phase of the Kursk Strategic Offensive Operation with the launch of Operation Polkovodets Rumyantsev (Russian: Полководец Румянцев ) against the German forces in the southern side of the Kursk salient.»\n",
      "[2] «Operation Mars | Operation Mars, also known as the Second Rzhev-Sychevka Offensive Operation (Russian: Вторая Ржевско-Сычёвская наступательная операция), was the codename for an offensive launched by Soviet forces against German forces during World War II. It took place between 25 November and 20 December 1942 around the Rzhev salient in the vicinity of Moscow.»\n",
      "[3] «Kholm Pocket | The Kholm Pocket (German: \"Kessel von Cholm\" ; Russian: Холмский котёл ) was the name given for the encirclement of German troops by the Red Army around Kholm south of Leningrad, during World War II on the Eastern Front, from 23 January 1942 until 5 May 1942. A much larger pocket was simultaneously surrounded in Demyansk, about 100 km to the northeast. These were the results of German retreat following their defeat during the Battle of Moscow.»\n",
      "\n",
      "Question: What is the code name for the German offensive that started this Second World War engagement on the Eastern Front (a few hundred kilometers from Moscow) between Soviet and German forces, which included 102nd Infantry Division?\n",
      "\n",
      "Reasoning: Let's think step by step in order to produce the answer. We know that the German offensive that started the Battle of Kursk was called Operation Citadel, so that must be the code name for the German offensive.\n",
      "\n",
      "Answer: Operation Citadel\n",
      "\n",
      "---\n",
      "\n",
      "Context:\n",
      "[1] «David Gregory (physician) | David Gregory (20 December 1625 – 1720) was a Scottish physician and inventor. His surname is sometimes spelt as Gregorie, the original Scottish spelling. He inherited Kinnairdy Castle in 1664. Three of his twenty-nine children became mathematics professors. He is credited with inventing a military cannon that Isaac Newton described as \"being destructive to the human species\". Copies and details of the model no longer exist. Gregory's use of a barometer to predict farming-related weather conditions led him to be accused of witchcraft by Presbyterian ministers from Aberdeen, although he was never convicted.»\n",
      "[2] «Gregory Tarchaneiotes | Gregory Tarchaneiotes (Greek: Γρηγόριος Ταρχανειώτης , Italian: \"Gregorio Tracanioto\" or \"Tracamoto\" ) was a \"protospatharius\" and the long-reigning catepan of Italy from 998 to 1006. In December 999, and again on February 2, 1002, he reinstituted and confirmed the possessions of the abbey and monks of Monte Cassino in Ascoli. In 1004, he fortified and expanded the castle of Dragonara on the Fortore. He gave it three circular towers and one square one. He also strengthened Lucera.»\n",
      "[3] «David Gregory (mathematician) | David Gregory (originally spelt Gregorie) FRS (? 1659 – 10 October 1708) was a Scottish mathematician and astronomer. He was professor of mathematics at the University of Edinburgh, Savilian Professor of Astronomy at the University of Oxford, and a commentator on Isaac Newton's \"Principia\".»\n",
      "\n",
      "Question: What castle did David Gregory inherit?\n",
      "\n",
      "Reasoning: Let's think step by step in order to\u001B[32m produce the answer. We know that David Gregory inherited Kinnairdy Castle in 1664.\n",
      "\n",
      "Answer: Kinnairdy Castle\u001B[0m\n"
     ]
    }
   ],
   "source": [
    "llm.inspect_history()"
   ]
  },
  {
   "cell_type": "code",
   "execution_count": 74,
   "id": "afb70464138137f8",
   "metadata": {
    "collapsed": false,
    "ExecuteTime": {
     "end_time": "2024-02-13T15:29:44.041190Z",
     "start_time": "2024-02-13T15:29:43.917916Z"
    }
   },
   "outputs": [
    {
     "name": "stderr",
     "output_type": "stream",
     "text": [
      "Average Metric: 27 / 50  (54.0): 100%|██████████| 50/50 [00:00<00:00, 472.42it/s]"
     ]
    },
    {
     "name": "stdout",
     "output_type": "stream",
     "text": [
      "Average Metric: 27 / 50  (54.0%)\n"
     ]
    },
    {
     "name": "stderr",
     "output_type": "stream",
     "text": [
      "\n",
      "/Users/christopher/personal_projects/mysite/posts/dspy/env/lib/python3.11/site-packages/dspy/evaluate/evaluate.py:137: FutureWarning: DataFrame.applymap has been deprecated. Use DataFrame.map instead.\n",
      "  df = df.applymap(truncate_cell)\n"
     ]
    },
    {
     "data": {
      "text/plain": "<pandas.io.formats.style.Styler at 0x16d791990>",
      "text/html": "<style type=\"text/css\">\n#T_27e18 th {\n  text-align: left;\n}\n#T_27e18 td {\n  text-align: left;\n}\n#T_27e18_row0_col0, #T_27e18_row0_col1, #T_27e18_row0_col2, #T_27e18_row0_col3, #T_27e18_row0_col4, #T_27e18_row0_col5, #T_27e18_row1_col0, #T_27e18_row1_col1, #T_27e18_row1_col2, #T_27e18_row1_col3, #T_27e18_row1_col4, #T_27e18_row1_col5, #T_27e18_row2_col0, #T_27e18_row2_col1, #T_27e18_row2_col2, #T_27e18_row2_col3, #T_27e18_row2_col4, #T_27e18_row2_col5, #T_27e18_row3_col0, #T_27e18_row3_col1, #T_27e18_row3_col2, #T_27e18_row3_col3, #T_27e18_row3_col4, #T_27e18_row3_col5, #T_27e18_row4_col0, #T_27e18_row4_col1, #T_27e18_row4_col2, #T_27e18_row4_col3, #T_27e18_row4_col4, #T_27e18_row4_col5 {\n  text-align: left;\n  white-space: pre-wrap;\n  word-wrap: break-word;\n  max-width: 400px;\n}\n</style>\n<table id=\"T_27e18\">\n  <thead>\n    <tr>\n      <th class=\"blank level0\" >&nbsp;</th>\n      <th id=\"T_27e18_level0_col0\" class=\"col_heading level0 col0\" >question</th>\n      <th id=\"T_27e18_level0_col1\" class=\"col_heading level0 col1\" >example_answer</th>\n      <th id=\"T_27e18_level0_col2\" class=\"col_heading level0 col2\" >gold_titles</th>\n      <th id=\"T_27e18_level0_col3\" class=\"col_heading level0 col3\" >context</th>\n      <th id=\"T_27e18_level0_col4\" class=\"col_heading level0 col4\" >pred_answer</th>\n      <th id=\"T_27e18_level0_col5\" class=\"col_heading level0 col5\" >answer_exact_match</th>\n    </tr>\n  </thead>\n  <tbody>\n    <tr>\n      <th id=\"T_27e18_level0_row0\" class=\"row_heading level0 row0\" >0</th>\n      <td id=\"T_27e18_row0_col0\" class=\"data row0 col0\" >Are both Cangzhou and Qionghai in the Hebei province of China?</td>\n      <td id=\"T_27e18_row0_col1\" class=\"data row0 col1\" >no</td>\n      <td id=\"T_27e18_row0_col2\" class=\"data row0 col2\" >{'Qionghai', 'Cangzhou'}</td>\n      <td id=\"T_27e18_row0_col3\" class=\"data row0 col3\" >['Cangzhou | Cangzhou () is a prefecture-level city in eastern Hebei province, People\\'s Republic of China. At the 2010 census, Cangzhou\\'s built-up (\"or metro\") area...</td>\n      <td id=\"T_27e18_row0_col4\" class=\"data row0 col4\" >No, Qionghai is in Hainan province, not Hebei province.</td>\n      <td id=\"T_27e18_row0_col5\" class=\"data row0 col5\" >False</td>\n    </tr>\n    <tr>\n      <th id=\"T_27e18_level0_row1\" class=\"row_heading level0 row1\" >1</th>\n      <td id=\"T_27e18_row1_col0\" class=\"data row1 col0\" >Who conducts the draft in which Marc-Andre Fleury was drafted to the Vegas Golden Knights for the 2017-18 season?</td>\n      <td id=\"T_27e18_row1_col1\" class=\"data row1 col1\" >National Hockey League</td>\n      <td id=\"T_27e18_row1_col2\" class=\"data row1 col2\" >{'2017 NHL Expansion Draft', '2017–18 Pittsburgh Penguins season'}</td>\n      <td id=\"T_27e18_row1_col3\" class=\"data row1 col3\" >['2017–18 Pittsburgh Penguins season | The 2017–18 Pittsburgh Penguins season will be the 51st season for the National Hockey League ice hockey team that was...</td>\n      <td id=\"T_27e18_row1_col4\" class=\"data row1 col4\" >National Hockey League</td>\n      <td id=\"T_27e18_row1_col5\" class=\"data row1 col5\" >✔️ [True]</td>\n    </tr>\n    <tr>\n      <th id=\"T_27e18_level0_row2\" class=\"row_heading level0 row2\" >2</th>\n      <td id=\"T_27e18_row2_col0\" class=\"data row2 col0\" >The Wings entered a new era, following the retirement of which Canadian retired professional ice hockey player and current general manager of the Tampa Bay...</td>\n      <td id=\"T_27e18_row2_col1\" class=\"data row2 col1\" >Steve Yzerman</td>\n      <td id=\"T_27e18_row2_col2\" class=\"data row2 col2\" >{'2006–07 Detroit Red Wings season', 'Steve Yzerman'}</td>\n      <td id=\"T_27e18_row2_col3\" class=\"data row2 col3\" >['Steve Yzerman | Stephen Gregory \"Steve\" Yzerman ( ; born May 9, 1965) is a Canadian retired professional ice hockey player and current general manager...</td>\n      <td id=\"T_27e18_row2_col4\" class=\"data row2 col4\" >Steve Yzerman</td>\n      <td id=\"T_27e18_row2_col5\" class=\"data row2 col5\" >✔️ [True]</td>\n    </tr>\n    <tr>\n      <th id=\"T_27e18_level0_row3\" class=\"row_heading level0 row3\" >3</th>\n      <td id=\"T_27e18_row3_col0\" class=\"data row3 col0\" >What river is near the Crichton Collegiate Church?</td>\n      <td id=\"T_27e18_row3_col1\" class=\"data row3 col1\" >the River Tyne</td>\n      <td id=\"T_27e18_row3_col2\" class=\"data row3 col2\" >{'Crichton Castle', 'Crichton Collegiate Church'}</td>\n      <td id=\"T_27e18_row3_col3\" class=\"data row3 col3\" >[\"Crichton Collegiate Church | Crichton Collegiate Church is situated about 0.6 mi south west of the hamlet of Crichton in Midlothian, Scotland. Crichton itself is...</td>\n      <td id=\"T_27e18_row3_col4\" class=\"data row3 col4\" >River Tyne</td>\n      <td id=\"T_27e18_row3_col5\" class=\"data row3 col5\" >✔️ [True]</td>\n    </tr>\n    <tr>\n      <th id=\"T_27e18_level0_row4\" class=\"row_heading level0 row4\" >4</th>\n      <td id=\"T_27e18_row4_col0\" class=\"data row4 col0\" >In the 10th Century A.D. Ealhswith had a son called Æthelweard by which English king?</td>\n      <td id=\"T_27e18_row4_col1\" class=\"data row4 col1\" >King Alfred the Great</td>\n      <td id=\"T_27e18_row4_col2\" class=\"data row4 col2\" >{'Ealhswith', 'Æthelweard (son of Alfred)'}</td>\n      <td id=\"T_27e18_row4_col3\" class=\"data row4 col3\" >[\"Æthelweard of East Anglia | Æthelweard (died 854) was a 9th-century king of East Anglia, the long-lived Anglo-Saxon kingdom which today includes the English counties...</td>\n      <td id=\"T_27e18_row4_col4\" class=\"data row4 col4\" >King Alfred the Great</td>\n      <td id=\"T_27e18_row4_col5\" class=\"data row4 col5\" >✔️ [True]</td>\n    </tr>\n  </tbody>\n</table>\n"
     },
     "metadata": {},
     "output_type": "display_data"
    },
    {
     "data": {
      "text/plain": "<IPython.core.display.HTML object>",
      "text/html": "\n                <div style='\n                    text-align: center; \n                    font-size: 16px; \n                    font-weight: bold; \n                    color: #555; \n                    margin: 10px 0;'>\n                    ... 45 more rows not displayed ...\n                </div>\n                "
     },
     "metadata": {},
     "output_type": "display_data"
    },
    {
     "data": {
      "text/plain": "54.0"
     },
     "execution_count": 74,
     "metadata": {},
     "output_type": "execute_result"
    }
   ],
   "source": [
    "from dspy.evaluate.evaluate import Evaluate\n",
    "\n",
    "# Set up the `evaluate_on_hotpotqa` function. We'll use this many times below.\n",
    "evaluate_on_hotpotqa = Evaluate(devset=devset, num_threads=1, display_progress=True, display_table=5)\n",
    "\n",
    "# Evaluate the `compiled_rag` program with the `answer_exact_match` metric.\n",
    "metric = dspy.evaluate.answer_exact_match\n",
    "evaluate_on_hotpotqa(compiled_rag, metric=metric)"
   ]
  }
 ],
 "metadata": {
  "kernelspec": {
   "display_name": "Python 3 (ipykernel)",
   "language": "python",
   "name": "python3"
  },
  "language_info": {
   "codemirror_mode": {
    "name": "ipython",
    "version": 3
   },
   "file_extension": ".py",
   "mimetype": "text/x-python",
   "name": "python",
   "nbconvert_exporter": "python",
   "pygments_lexer": "ipython3",
   "version": "3.11.7"
  }
 },
 "nbformat": 4,
 "nbformat_minor": 5
}
