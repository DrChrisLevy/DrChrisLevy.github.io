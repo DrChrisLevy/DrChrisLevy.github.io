{
 "cells": [
  {
   "cell_type": "raw",
   "id": "d600661c5d27d391",
   "metadata": {
    "collapsed": false
   },
   "source": [
    "---\n",
    "title: DSPy\n",
    "author: Chris Levy\n",
    "date: '2024-02-12'\n",
    "date-modified: '2024-02-12'\n",
    "image: \"imgs/gpt_dspy_image.webp\"\n",
    "toc: true\n",
    "format:\n",
    "  html:\n",
    "    code-fold: show\n",
    "    page-layout: full\n",
    "bibliography: ../../bibliography.bib\n",
    "---"
   ]
  },
  {
   "cell_type": "markdown",
   "id": "95699614b2a8f988",
   "metadata": {
    "collapsed": false
   },
   "source": [
    "# Intro\n",
    "\n",
    "[`DSPy`](https://github.com/stanfordnlp/dspy) kept popping up on my X timeline and I thought it looked pretty interesting, so I decided to take a few days to look into it. I didn't get super deep into it yet, but I think I have a high level understanding. The library is fairly new IMO (as of writing this). There is excitement around it though and a growing community. I am hopeful that the documentation and library will continue to improve throughout the year. If you are completely new to `DSPy` I would suggest the following resources below.\n",
    "\n",
    "- Read through the newer documentation [here](https://dspy-docs.vercel.app/docs/intro).\n",
    "- Checkout the README from [`DSPY` GitHub repo](https://github.com/stanfordnlp/dspy) and the examples there.\n",
    "- Try and code up some simple examples on your own data.\n",
    "- Checkout the [Discord server](https://discord.gg/s7cFzpw3Mj).\n",
    "- Skim through or read some of the associated papers (see the paper links on the `DSPy` repo [README](https://github.com/stanfordnlp/dspy?tab=readme-ov-file#dspy-programmingnot-promptingfoundation-models)).\n",
    "- There are also some decent videos on YouTube. Simply Search for `DSPy` LLM etc. \n",
    "\n",
    "# ENV Setup\n",
    "\n",
    "```\n",
    "python3 -m venv env\n",
    "source env/bin/activate\n",
    "pip install dspy-ai\n",
    "pip install openai --upgrade\n",
    "pip install --upgrade notebook ipywidgets\n",
    "```\n",
    "\n",
    "```python\n",
    "import os\n",
    "os.environ[\"OPENAI_API_KEY\"] = \"YOUR_OPENAI_API_KEY\"\n",
    "```\n",
    "\n",
    "# BIG-Bench Hard Dataset - Penguins In a Table - Example\n",
    "\n",
    "Within the [BIG-Bench Hard dataset](https://github.com/suzgunmirac/BIG-Bench-Hard) [@suzgun2022challenging] there are various tasks. You can use one of these strings when using `load_dataset` to load in the corresponding records for that task.\n",
    "\n",
    "```python\n",
    "['tracking_shuffled_objects_seven_objects', 'salient_translation_error_detection', 'tracking_shuffled_objects_three_objects', 'geometric_shapes', 'object_counting', 'word_sorting', 'logical_deduction_five_objects', 'hyperbaton', 'sports_understanding', 'logical_deduction_seven_objects', 'multistep_arithmetic_two', 'ruin_names', 'causal_judgement', 'logical_deduction_three_objects', 'formal_fallacies', 'snarks', 'boolean_expressions', 'reasoning_about_colored_objects', 'dyck_languages', 'navigate', 'disambiguation_qa', 'temporal_sequences', 'web_of_lies', 'tracking_shuffled_objects_five_objects', 'penguins_in_a_table', 'movie_recommendation', 'date_understanding']\n",
    "```\n",
    "\n",
    "We will use the `penguins_in_a_table` task."
   ]
  },
  {
   "cell_type": "code",
   "execution_count": 1,
   "id": "2c4f768adf8645ba",
   "metadata": {
    "collapsed": false,
    "ExecuteTime": {
     "end_time": "2024-02-13T15:40:47.485713Z",
     "start_time": "2024-02-13T15:40:45.860206Z"
    }
   },
   "outputs": [
    {
     "name": "stdout",
     "output_type": "stream",
     "text": [
      "There are 146 examples.\n"
     ]
    }
   ],
   "source": [
    "from datasets import load_dataset\n",
    "import dspy\n",
    "\n",
    "ds = load_dataset(\"maveriq/bigbenchhard\", \"penguins_in_a_table\")[\"train\"]\n",
    "examples = [dspy.Example({\"question\": r[\"input\"], \"answer\": r[\"target\"]}).with_inputs(\"question\") for r in ds]\n",
    "print(f\"There are {len(examples)} examples.\")\n",
    "trainset = examples[0:20]\n",
    "valset = examples[20:]"
   ]
  },
  {
   "cell_type": "code",
   "execution_count": 2,
   "id": "8537d9fba2cd8d45",
   "metadata": {
    "collapsed": false,
    "ExecuteTime": {
     "end_time": "2024-02-13T15:40:47.490278Z",
     "start_time": "2024-02-13T15:40:47.487207Z"
    }
   },
   "outputs": [
    {
     "name": "stdout",
     "output_type": "stream",
     "text": [
      "\n",
      "QUESTION:\n",
      "\n",
      "Here is a table where the first line is a header and each subsequent line is a penguin:  name, age, height (cm), weight (kg) Louis, 7, 50, 11 Bernard, 5, 80, 13 Vincent, 9, 60, 11 Gwen, 8, 70, 15  For example: the age of Louis is 7, the weight of Gwen is 15 kg, the height of Bernard is 80 cm.  We then delete the penguin named Bernard from the table.\n",
      "How many penguins are more than 8 years old?\n",
      "Options:\n",
      "(A) 1\n",
      "(B) 2\n",
      "(C) 3\n",
      "(D) 4\n",
      "(E) 5\n",
      "\n",
      "ANSWER:\n",
      "\n",
      "(A)\n"
     ]
    }
   ],
   "source": [
    "example = trainset[10]\n",
    "for k, v in example.items():\n",
    "    print(f\"\\n{k.upper()}:\\n\")\n",
    "    print(v)"
   ]
  },
  {
   "cell_type": "markdown",
   "id": "1310881bd7e57c2b",
   "metadata": {
    "collapsed": false
   },
   "source": [
    "We will use the `DSPy` OpenAI connector to make calls to gpt-3.5. Note that `DSPy` caches\n",
    "API calls so that subsequent calls with the same input will read from the cache instead of calling OpenAI API a second time.  "
   ]
  },
  {
   "cell_type": "code",
   "execution_count": 3,
   "id": "23d8967a1bdc7524",
   "metadata": {
    "collapsed": false,
    "ExecuteTime": {
     "end_time": "2024-02-13T15:40:47.494683Z",
     "start_time": "2024-02-13T15:40:47.488738Z"
    }
   },
   "outputs": [],
   "source": [
    "llm = dspy.OpenAI(model=\"gpt-3.5-turbo-0125\", max_tokens=250)\n",
    "dspy.settings.configure(lm=llm)"
   ]
  },
  {
   "cell_type": "markdown",
   "id": "60dafeca731af1a8",
   "metadata": {
    "collapsed": false
   },
   "source": [
    "We can test that the calls to OpenAI are working:"
   ]
  },
  {
   "cell_type": "code",
   "execution_count": 4,
   "id": "92b0072c63448051",
   "metadata": {
    "collapsed": false,
    "ExecuteTime": {
     "end_time": "2024-02-13T15:40:47.499360Z",
     "start_time": "2024-02-13T15:40:47.491995Z"
    }
   },
   "outputs": [
    {
     "data": {
      "text/plain": "[\"Hello! I'm here to help. What can I assist you with today?\"]"
     },
     "execution_count": 4,
     "metadata": {},
     "output_type": "execute_result"
    }
   ],
   "source": [
    "llm(\"Testing testing, is anyone out there?\")"
   ]
  },
  {
   "cell_type": "code",
   "execution_count": 5,
   "id": "799fe0476563bfb8",
   "metadata": {
    "collapsed": false,
    "ExecuteTime": {
     "end_time": "2024-02-13T15:40:47.506268Z",
     "start_time": "2024-02-13T15:40:47.498796Z"
    }
   },
   "outputs": [
    {
     "data": {
      "text/plain": "['There are 2 penguins who are more than 8 years old: Vincent (9 years old) and Gwen (8 years old). \\n\\nTherefore, the answer is (B) 2.']"
     },
     "execution_count": 5,
     "metadata": {},
     "output_type": "execute_result"
    }
   ],
   "source": [
    "llm(example.question)"
   ]
  },
  {
   "cell_type": "markdown",
   "id": "18bd28555a18ad",
   "metadata": {
    "collapsed": false
   },
   "source": [
    "At any point we can look at the last `n` calls to the llm:"
   ]
  },
  {
   "cell_type": "code",
   "execution_count": 6,
   "id": "28519e26fecc009c",
   "metadata": {
    "collapsed": false,
    "ExecuteTime": {
     "end_time": "2024-02-13T15:40:47.506399Z",
     "start_time": "2024-02-13T15:40:47.502875Z"
    }
   },
   "outputs": [
    {
     "name": "stdout",
     "output_type": "stream",
     "text": [
      "\n",
      "\n",
      "\n",
      "\n",
      "Testing testing, is anyone out there?\u001B[32m Hello! I'm here to help. What can I assist you with today?\u001B[0m\n",
      "\n",
      "\n",
      "\n",
      "\n",
      "\n",
      "\n",
      "\n",
      "Here is a table where the first line is a header and each subsequent line is a penguin:  name, age, height (cm), weight (kg) Louis, 7, 50, 11 Bernard, 5, 80, 13 Vincent, 9, 60, 11 Gwen, 8, 70, 15  For example: the age of Louis is 7, the weight of Gwen is 15 kg, the height of Bernard is 80 cm.  We then delete the penguin named Bernard from the table.\n",
      "How many penguins are more than 8 years old?\n",
      "Options:\n",
      "(A) 1\n",
      "(B) 2\n",
      "(C) 3\n",
      "(D) 4\n",
      "(E) 5\u001B[32m There are 2 penguins who are more than 8 years old: Vincent (9 years old) and Gwen (8 years old). \n",
      "\n",
      "Therefore, the answer is (B) 2.\u001B[0m\n",
      "\n",
      "\n"
     ]
    }
   ],
   "source": [
    "llm.inspect_history(n=2)"
   ]
  },
  {
   "cell_type": "markdown",
   "id": "585980ac52de01df",
   "metadata": {
    "collapsed": false
   },
   "source": [
    "Our evaluation metric will check if the llm output contains the correct multiple choice \n",
    "answer. To define an evaluation metric in `DSPy` we create a function like the example below. The first two inputs\n",
    "should be instances of `dspy.Example`. The metric function can contain any logic you need to evaluate your task. You can read more about the `trace`\n",
    "argument in the [documentation](https://dspy-docs.vercel.app/docs/building-blocks/metrics#simple-metrics). It needs to be there, even if not explicitly using it."
   ]
  },
  {
   "cell_type": "code",
   "execution_count": 7,
   "id": "4d8c9a79e68c625b",
   "metadata": {
    "collapsed": false,
    "ExecuteTime": {
     "end_time": "2024-02-13T15:40:47.568813Z",
     "start_time": "2024-02-13T15:40:47.505599Z"
    }
   },
   "outputs": [],
   "source": [
    "def eval_metric(true, prediction, trace=None):\n",
    "    prediction_answer = prediction.answer\n",
    "    parsed_answer = f\"({prediction_answer[prediction_answer.find('(') + 1]})\"\n",
    "    return parsed_answer == true.answer"
   ]
  },
  {
   "cell_type": "markdown",
   "id": "9113607bb403401d",
   "metadata": {
    "collapsed": false
   },
   "source": [
    "We set up an evaluation pipeline:"
   ]
  },
  {
   "cell_type": "code",
   "execution_count": 8,
   "id": "852bf997ff82bd4b",
   "metadata": {
    "collapsed": false,
    "ExecuteTime": {
     "end_time": "2024-02-13T15:40:47.569428Z",
     "start_time": "2024-02-13T15:40:47.507676Z"
    }
   },
   "outputs": [],
   "source": [
    "from dspy.evaluate import Evaluate\n",
    "\n",
    "evaluate = Evaluate(devset=valset, metric=eval_metric, num_threads=6, display_progress=True, display_table=5)"
   ]
  },
  {
   "cell_type": "markdown",
   "id": "a45ff68f8553397",
   "metadata": {
    "collapsed": false
   },
   "source": [
    "Here is a simple module in `DSPy` for basic question and answer."
   ]
  },
  {
   "cell_type": "code",
   "execution_count": 9,
   "id": "858b1c03fc8cf95b",
   "metadata": {
    "collapsed": false,
    "ExecuteTime": {
     "end_time": "2024-02-13T15:40:47.585718Z",
     "start_time": "2024-02-13T15:40:47.512651Z"
    }
   },
   "outputs": [],
   "source": [
    "class BasicQA(dspy.Module):\n",
    "    def __init__(self):\n",
    "        super().__init__()\n",
    "        self.prog = dspy.Predict(\"question -> answer\")\n",
    "\n",
    "    def forward(self, question):\n",
    "        return self.prog(question=question)\n",
    "\n",
    "\n",
    "basic_qa = BasicQA()"
   ]
  },
  {
   "cell_type": "markdown",
   "id": "d9ca93d777a79432",
   "metadata": {
    "collapsed": false
   },
   "source": [
    "The `forward` method calls `__call__` similar to how things work in pytorch."
   ]
  },
  {
   "cell_type": "code",
   "execution_count": 10,
   "id": "377050a46e338c02",
   "metadata": {
    "collapsed": false,
    "ExecuteTime": {
     "end_time": "2024-02-13T15:40:47.586043Z",
     "start_time": "2024-02-13T15:40:47.515549Z"
    }
   },
   "outputs": [
    {
     "name": "stdout",
     "output_type": "stream",
     "text": [
      "\n",
      "QUESTION:\n",
      "\n",
      "Here is a table where the first line is a header and each subsequent line is a penguin:  name, age, height (cm), weight (kg) Louis, 7, 50, 11 Bernard, 5, 80, 13 Vincent, 9, 60, 11 Gwen, 8, 70, 15  For example: the age of Louis is 7, the weight of Gwen is 15 kg, the height of Bernard is 80 cm.  We then delete the penguin named Bernard from the table.\n",
      "How many penguins are more than 8 years old?\n",
      "Options:\n",
      "(A) 1\n",
      "(B) 2\n",
      "(C) 3\n",
      "(D) 4\n",
      "(E) 5\n",
      "\n",
      "ANSWER:\n",
      "\n",
      "(A)\n",
      "\n",
      "PREDICTION:\n",
      "\n",
      "(B) 2\n"
     ]
    }
   ],
   "source": [
    "pred = basic_qa(question=example.question)\n",
    "print(\"\\nQUESTION:\\n\")\n",
    "print(example.question)\n",
    "print(\"\\nANSWER:\\n\")\n",
    "print(example.answer)\n",
    "print(\"\\nPREDICTION:\\n\")\n",
    "print(pred.answer)"
   ]
  },
  {
   "cell_type": "code",
   "execution_count": 11,
   "id": "f08bfce2a7216c3f",
   "metadata": {
    "collapsed": false,
    "ExecuteTime": {
     "end_time": "2024-02-13T15:40:47.586136Z",
     "start_time": "2024-02-13T15:40:47.519683Z"
    }
   },
   "outputs": [
    {
     "data": {
      "text/plain": "False"
     },
     "execution_count": 11,
     "metadata": {},
     "output_type": "execute_result"
    }
   ],
   "source": [
    "eval_metric(example, pred)"
   ]
  },
  {
   "cell_type": "code",
   "execution_count": 12,
   "id": "fc8d6b0c65783514",
   "metadata": {
    "collapsed": false,
    "ExecuteTime": {
     "end_time": "2024-02-13T15:40:47.586212Z",
     "start_time": "2024-02-13T15:40:47.522269Z"
    }
   },
   "outputs": [
    {
     "name": "stdout",
     "output_type": "stream",
     "text": [
      "\n",
      "\n",
      "\n",
      "\n",
      "Given the fields `question`, produce the fields `answer`.\n",
      "\n",
      "---\n",
      "\n",
      "Follow the following format.\n",
      "\n",
      "Question: ${question}\n",
      "Answer: ${answer}\n",
      "\n",
      "---\n",
      "\n",
      "Question: Here is a table where the first line is a header and each subsequent line is a penguin: name, age, height (cm), weight (kg) Louis, 7, 50, 11 Bernard, 5, 80, 13 Vincent, 9, 60, 11 Gwen, 8, 70, 15 For example: the age of Louis is 7, the weight of Gwen is 15 kg, the height of Bernard is 80 cm. We then delete the penguin named Bernard from the table. How many penguins are more than 8 years old? Options: (A) 1 (B) 2 (C) 3 (D) 4 (E) 5\n",
      "Answer:\u001B[32m (B) 2\u001B[0m\n",
      "\n",
      "\n"
     ]
    }
   ],
   "source": [
    "llm.inspect_history(n=1)"
   ]
  },
  {
   "cell_type": "markdown",
   "id": "94542712d2a73d8d",
   "metadata": {
    "collapsed": false
   },
   "source": [
    "Now we can pass each example question through the LLM in the validation set and check if we get the correct answer:"
   ]
  },
  {
   "cell_type": "code",
   "execution_count": 13,
   "id": "a66c76cb38e8be7a",
   "metadata": {
    "collapsed": false,
    "ExecuteTime": {
     "end_time": "2024-02-13T15:40:47.586320Z",
     "start_time": "2024-02-13T15:40:47.523917Z"
    }
   },
   "outputs": [],
   "source": [
    "# | echo: false\n",
    "from tqdm.notebook import tqdm\n",
    "\n",
    "tqdm._instances.clear()"
   ]
  },
  {
   "cell_type": "code",
   "execution_count": 14,
   "id": "fdc61aa81ef52a2b",
   "metadata": {
    "collapsed": false,
    "ExecuteTime": {
     "end_time": "2024-02-13T15:40:47.723685Z",
     "start_time": "2024-02-13T15:40:47.530610Z"
    }
   },
   "outputs": [
    {
     "name": "stderr",
     "output_type": "stream",
     "text": [
      "Average Metric: 46 / 126  (36.5): 100%|██████████| 126/126 [00:00<00:00, 1361.03it/s]"
     ]
    },
    {
     "name": "stdout",
     "output_type": "stream",
     "text": [
      "Average Metric: 46 / 126  (36.5%)\n"
     ]
    },
    {
     "name": "stderr",
     "output_type": "stream",
     "text": [
      "\n",
      "/Users/christopher/personal_projects/mysite/posts/dspy/env/lib/python3.11/site-packages/dspy/evaluate/evaluate.py:137: FutureWarning: DataFrame.applymap has been deprecated. Use DataFrame.map instead.\n",
      "  df = df.applymap(truncate_cell)\n"
     ]
    },
    {
     "data": {
      "text/plain": "<pandas.io.formats.style.Styler at 0x100dda990>",
      "text/html": "<style type=\"text/css\">\n#T_ec143 th {\n  text-align: left;\n}\n#T_ec143 td {\n  text-align: left;\n}\n#T_ec143_row0_col0, #T_ec143_row0_col1, #T_ec143_row0_col2, #T_ec143_row0_col3, #T_ec143_row1_col0, #T_ec143_row1_col1, #T_ec143_row1_col2, #T_ec143_row1_col3, #T_ec143_row2_col0, #T_ec143_row2_col1, #T_ec143_row2_col2, #T_ec143_row2_col3, #T_ec143_row3_col0, #T_ec143_row3_col1, #T_ec143_row3_col2, #T_ec143_row3_col3, #T_ec143_row4_col0, #T_ec143_row4_col1, #T_ec143_row4_col2, #T_ec143_row4_col3 {\n  text-align: left;\n  white-space: pre-wrap;\n  word-wrap: break-word;\n  max-width: 400px;\n}\n</style>\n<table id=\"T_ec143\">\n  <thead>\n    <tr>\n      <th class=\"blank level0\" >&nbsp;</th>\n      <th id=\"T_ec143_level0_col0\" class=\"col_heading level0 col0\" >question</th>\n      <th id=\"T_ec143_level0_col1\" class=\"col_heading level0 col1\" >example_answer</th>\n      <th id=\"T_ec143_level0_col2\" class=\"col_heading level0 col2\" >pred_answer</th>\n      <th id=\"T_ec143_level0_col3\" class=\"col_heading level0 col3\" >eval_metric</th>\n    </tr>\n  </thead>\n  <tbody>\n    <tr>\n      <th id=\"T_ec143_level0_row0\" class=\"row_heading level0 row0\" >0</th>\n      <td id=\"T_ec143_row0_col0\" class=\"data row0 col0\" >Here is a table where the first line is a header and each subsequent line is a penguin: name, age, height (cm), weight (kg) Louis,...</td>\n      <td id=\"T_ec143_row0_col1\" class=\"data row0 col1\" >(A)</td>\n      <td id=\"T_ec143_row0_col2\" class=\"data row0 col2\" >3</td>\n      <td id=\"T_ec143_row0_col3\" class=\"data row0 col3\" >False</td>\n    </tr>\n    <tr>\n      <th id=\"T_ec143_level0_row1\" class=\"row_heading level0 row1\" >1</th>\n      <td id=\"T_ec143_row1_col0\" class=\"data row1 col0\" >Here is a table where the first line is a header and each subsequent line is a penguin: name, age, height (cm), weight (kg) Louis,...</td>\n      <td id=\"T_ec143_row1_col1\" class=\"data row1 col1\" >(D)</td>\n      <td id=\"T_ec143_row1_col2\" class=\"data row1 col2\" >(C) 50</td>\n      <td id=\"T_ec143_row1_col3\" class=\"data row1 col3\" >False</td>\n    </tr>\n    <tr>\n      <th id=\"T_ec143_level0_row2\" class=\"row_heading level0 row2\" >2</th>\n      <td id=\"T_ec143_row2_col0\" class=\"data row2 col0\" >Here is a table where the first line is a header and each subsequent line is a penguin: name, age, height (cm), weight (kg) Louis,...</td>\n      <td id=\"T_ec143_row2_col1\" class=\"data row2 col1\" >(A)</td>\n      <td id=\"T_ec143_row2_col2\" class=\"data row2 col2\" >Answer: (C) 3</td>\n      <td id=\"T_ec143_row2_col3\" class=\"data row2 col3\" >False</td>\n    </tr>\n    <tr>\n      <th id=\"T_ec143_level0_row3\" class=\"row_heading level0 row3\" >3</th>\n      <td id=\"T_ec143_row3_col0\" class=\"data row3 col0\" >Here is a table where the first line is a header and each subsequent line is a penguin: name, age, height (cm), weight (kg) Louis,...</td>\n      <td id=\"T_ec143_row3_col1\" class=\"data row3 col1\" >(A)</td>\n      <td id=\"T_ec143_row3_col2\" class=\"data row3 col2\" >Answer: (B) 2</td>\n      <td id=\"T_ec143_row3_col3\" class=\"data row3 col3\" >False</td>\n    </tr>\n    <tr>\n      <th id=\"T_ec143_level0_row4\" class=\"row_heading level0 row4\" >4</th>\n      <td id=\"T_ec143_row4_col0\" class=\"data row4 col0\" >Here is a table where the first line is a header and each subsequent line is a penguin: name, age, height (cm), weight (kg) Louis,...</td>\n      <td id=\"T_ec143_row4_col1\" class=\"data row4 col1\" >(B)</td>\n      <td id=\"T_ec143_row4_col2\" class=\"data row4 col2\" >(B) 5</td>\n      <td id=\"T_ec143_row4_col3\" class=\"data row4 col3\" >✔️ [True]</td>\n    </tr>\n  </tbody>\n</table>\n"
     },
     "metadata": {},
     "output_type": "display_data"
    },
    {
     "data": {
      "text/plain": "<IPython.core.display.HTML object>",
      "text/html": "\n                <div style='\n                    text-align: center; \n                    font-size: 16px; \n                    font-weight: bold; \n                    color: #555; \n                    margin: 10px 0;'>\n                    ... 121 more rows not displayed ...\n                </div>\n                "
     },
     "metadata": {},
     "output_type": "display_data"
    },
    {
     "data": {
      "text/plain": "36.51"
     },
     "execution_count": 14,
     "metadata": {},
     "output_type": "execute_result"
    }
   ],
   "source": [
    "# | warning: false\n",
    "evaluate(basic_qa)"
   ]
  },
  {
   "cell_type": "markdown",
   "id": "d66f5426f7bc51f7",
   "metadata": {
    "collapsed": false
   },
   "source": [
    "`DSPy` uses optimizers to optimize the modules. In this example, optimization is a process that will choose which demos/examples\n",
    "are best to put into the prompt in order to increase the evaluation metric. At the time of writing the optimizers are called\n",
    "teleprompters (prompting from a distance). I think they will change the [name](https://dspy-docs.vercel.app/docs/building-blocks/optimizers) though to optimizers in future refactoring. The DSPy documentation stats that the optimizer can adjust/edit:\n",
    "\n",
    "- Demo examples in the prompt.\n",
    "- Instructions of the prompt.\n",
    "- Weights of the actual LLM (for example fine tuning an open source model).\n",
    "\n",
    "I have only played around with optimizers and methods that optimize which demos/examples to place in the prompt."
   ]
  },
  {
   "cell_type": "code",
   "execution_count": 15,
   "id": "b41adda1e77da9d7",
   "metadata": {
    "collapsed": false,
    "ExecuteTime": {
     "end_time": "2024-02-13T15:40:47.753333Z",
     "start_time": "2024-02-13T15:40:47.697337Z"
    }
   },
   "outputs": [],
   "source": [
    "# | echo: false\n",
    "tqdm._instances.clear()"
   ]
  },
  {
   "cell_type": "code",
   "execution_count": 16,
   "id": "9aa0bfced96e9345",
   "metadata": {
    "collapsed": false,
    "ExecuteTime": {
     "end_time": "2024-02-13T15:40:48.640682Z",
     "start_time": "2024-02-13T15:40:47.701459Z"
    }
   },
   "outputs": [
    {
     "name": "stdout",
     "output_type": "stream",
     "text": [
      "Going to sample between 1 and 2 traces per predictor.\n",
      "Will attempt to train 2 candidate sets.\n"
     ]
    },
    {
     "name": "stderr",
     "output_type": "stream",
     "text": [
      "Average Metric: 46 / 126  (36.5): 100%|██████████| 126/126 [00:00<00:00, 3612.37it/s]\n",
      "/Users/christopher/personal_projects/mysite/posts/dspy/env/lib/python3.11/site-packages/dspy/evaluate/evaluate.py:137: FutureWarning: DataFrame.applymap has been deprecated. Use DataFrame.map instead.\n",
      "  df = df.applymap(truncate_cell)\n"
     ]
    },
    {
     "name": "stdout",
     "output_type": "stream",
     "text": [
      "Average Metric: 46 / 126  (36.5%)\n",
      "Score: 36.51 for set: [0]\n",
      "New best score: 36.51 for seed -3\n",
      "Scores so far: [36.51]\n",
      "Best score: 36.51\n"
     ]
    },
    {
     "name": "stderr",
     "output_type": "stream",
     "text": [
      "Average Metric: 47 / 126  (37.3): 100%|██████████| 126/126 [00:00<00:00, 1404.72it/s]\n"
     ]
    },
    {
     "name": "stdout",
     "output_type": "stream",
     "text": [
      "Average Metric: 47 / 126  (37.3%)\n",
      "Score: 37.3 for set: [4]\n",
      "New best score: 37.3 for seed -2\n",
      "Scores so far: [36.51, 37.3]\n",
      "Best score: 37.3\n"
     ]
    },
    {
     "name": "stderr",
     "output_type": "stream",
     "text": [
      " 50%|█████     | 10/20 [00:00<00:00, 851.13it/s]\n"
     ]
    },
    {
     "name": "stdout",
     "output_type": "stream",
     "text": [
      "Bootstrapped 2 full traces after 11 examples in round 0.\n"
     ]
    },
    {
     "name": "stderr",
     "output_type": "stream",
     "text": [
      "Average Metric: 48 / 126  (38.1): 100%|██████████| 126/126 [00:00<00:00, 1140.51it/s]\n"
     ]
    },
    {
     "name": "stdout",
     "output_type": "stream",
     "text": [
      "Average Metric: 48 / 126  (38.1%)\n",
      "Score: 38.1 for set: [4]\n",
      "New best score: 38.1 for seed -1\n",
      "Scores so far: [36.51, 37.3, 38.1]\n",
      "Best score: 38.1\n",
      "Average of max per entry across top 1 scores: 0.38095238095238093\n",
      "Average of max per entry across top 2 scores: 0.5476190476190477\n",
      "Average of max per entry across top 3 scores: 0.6825396825396826\n",
      "Average of max per entry across top 5 scores: 0.6825396825396826\n",
      "Average of max per entry across top 8 scores: 0.6825396825396826\n",
      "Average of max per entry across top 9999 scores: 0.6825396825396826\n"
     ]
    },
    {
     "name": "stderr",
     "output_type": "stream",
     "text": [
      " 20%|██        | 4/20 [00:00<00:00, 623.94it/s]\n"
     ]
    },
    {
     "name": "stdout",
     "output_type": "stream",
     "text": [
      "Bootstrapped 2 full traces after 5 examples in round 0.\n"
     ]
    },
    {
     "name": "stderr",
     "output_type": "stream",
     "text": [
      "Average Metric: 50 / 126  (39.7): 100%|██████████| 126/126 [00:00<00:00, 1138.73it/s]\n"
     ]
    },
    {
     "name": "stdout",
     "output_type": "stream",
     "text": [
      "Average Metric: 50 / 126  (39.7%)\n",
      "Score: 39.68 for set: [4]\n",
      "New best score: 39.68 for seed 0\n",
      "Scores so far: [36.51, 37.3, 38.1, 39.68]\n",
      "Best score: 39.68\n",
      "Average of max per entry across top 1 scores: 0.3968253968253968\n",
      "Average of max per entry across top 2 scores: 0.5079365079365079\n",
      "Average of max per entry across top 3 scores: 0.6031746031746031\n",
      "Average of max per entry across top 5 scores: 0.7222222222222222\n",
      "Average of max per entry across top 8 scores: 0.7222222222222222\n",
      "Average of max per entry across top 9999 scores: 0.7222222222222222\n"
     ]
    },
    {
     "name": "stderr",
     "output_type": "stream",
     "text": [
      "  5%|▌         | 1/20 [00:00<00:00, 473.88it/s]\n"
     ]
    },
    {
     "name": "stdout",
     "output_type": "stream",
     "text": [
      "Bootstrapped 1 full traces after 2 examples in round 0.\n"
     ]
    },
    {
     "name": "stderr",
     "output_type": "stream",
     "text": [
      "Average Metric: 54 / 126  (42.9): 100%|██████████| 126/126 [00:00<00:00, 1234.24it/s]"
     ]
    },
    {
     "name": "stdout",
     "output_type": "stream",
     "text": [
      "Average Metric: 54 / 126  (42.9%)\n",
      "Score: 42.86 for set: [4]\n",
      "New best score: 42.86 for seed 1\n",
      "Scores so far: [36.51, 37.3, 38.1, 39.68, 42.86]\n",
      "Best score: 42.86\n",
      "Average of max per entry across top 1 scores: 0.42857142857142855\n",
      "Average of max per entry across top 2 scores: 0.5396825396825397\n",
      "Average of max per entry across top 3 scores: 0.6190476190476191\n",
      "Average of max per entry across top 5 scores: 0.7777777777777778\n",
      "Average of max per entry across top 8 scores: 0.7777777777777778\n",
      "Average of max per entry across top 9999 scores: 0.7777777777777778\n",
      "5 candidate programs found.\n"
     ]
    },
    {
     "name": "stderr",
     "output_type": "stream",
     "text": [
      "\n"
     ]
    }
   ],
   "source": [
    "# | output: false\n",
    "from dspy.teleprompt import BootstrapFewShotWithRandomSearch\n",
    "\n",
    "config = dict(max_bootstrapped_demos=2, max_labeled_demos=4, num_candidate_programs=2, num_threads=6)\n",
    "\n",
    "teleprompter = BootstrapFewShotWithRandomSearch(metric=eval_metric, **config)\n",
    "optimized_qa = teleprompter.compile(basic_qa, trainset=trainset, valset=valset)"
   ]
  },
  {
   "cell_type": "markdown",
   "id": "a9ead51a9d43a8a4",
   "metadata": {
    "collapsed": false
   },
   "source": [
    "There is a lot of output from the above code block which I am hiding to keep things cleaner.\n",
    "You can now evaluate the optimized model to see if the accuracy has improved."
   ]
  },
  {
   "cell_type": "code",
   "execution_count": 17,
   "id": "86e57496d0c2d48f",
   "metadata": {
    "collapsed": false,
    "ExecuteTime": {
     "end_time": "2024-02-13T15:40:48.783222Z",
     "start_time": "2024-02-13T15:40:48.459513Z"
    }
   },
   "outputs": [
    {
     "name": "stderr",
     "output_type": "stream",
     "text": [
      "Average Metric: 54 / 126  (42.9): 100%|██████████| 126/126 [00:00<00:00, 1675.22it/s]\n"
     ]
    },
    {
     "name": "stdout",
     "output_type": "stream",
     "text": [
      "Average Metric: 54 / 126  (42.9%)\n"
     ]
    },
    {
     "data": {
      "text/plain": "<pandas.io.formats.style.Styler at 0x14fcc4090>",
      "text/html": "<style type=\"text/css\">\n#T_42dfe th {\n  text-align: left;\n}\n#T_42dfe td {\n  text-align: left;\n}\n#T_42dfe_row0_col0, #T_42dfe_row0_col1, #T_42dfe_row0_col2, #T_42dfe_row0_col3, #T_42dfe_row1_col0, #T_42dfe_row1_col1, #T_42dfe_row1_col2, #T_42dfe_row1_col3, #T_42dfe_row2_col0, #T_42dfe_row2_col1, #T_42dfe_row2_col2, #T_42dfe_row2_col3, #T_42dfe_row3_col0, #T_42dfe_row3_col1, #T_42dfe_row3_col2, #T_42dfe_row3_col3, #T_42dfe_row4_col0, #T_42dfe_row4_col1, #T_42dfe_row4_col2, #T_42dfe_row4_col3 {\n  text-align: left;\n  white-space: pre-wrap;\n  word-wrap: break-word;\n  max-width: 400px;\n}\n</style>\n<table id=\"T_42dfe\">\n  <thead>\n    <tr>\n      <th class=\"blank level0\" >&nbsp;</th>\n      <th id=\"T_42dfe_level0_col0\" class=\"col_heading level0 col0\" >question</th>\n      <th id=\"T_42dfe_level0_col1\" class=\"col_heading level0 col1\" >example_answer</th>\n      <th id=\"T_42dfe_level0_col2\" class=\"col_heading level0 col2\" >pred_answer</th>\n      <th id=\"T_42dfe_level0_col3\" class=\"col_heading level0 col3\" >eval_metric</th>\n    </tr>\n  </thead>\n  <tbody>\n    <tr>\n      <th id=\"T_42dfe_level0_row0\" class=\"row_heading level0 row0\" >0</th>\n      <td id=\"T_42dfe_row0_col0\" class=\"data row0 col0\" >Here is a table where the first line is a header and each subsequent line is a penguin: name, age, height (cm), weight (kg) Louis,...</td>\n      <td id=\"T_42dfe_row0_col1\" class=\"data row0 col1\" >(A)</td>\n      <td id=\"T_42dfe_row0_col2\" class=\"data row0 col2\" >(C)</td>\n      <td id=\"T_42dfe_row0_col3\" class=\"data row0 col3\" >False</td>\n    </tr>\n    <tr>\n      <th id=\"T_42dfe_level0_row1\" class=\"row_heading level0 row1\" >1</th>\n      <td id=\"T_42dfe_row1_col0\" class=\"data row1 col0\" >Here is a table where the first line is a header and each subsequent line is a penguin: name, age, height (cm), weight (kg) Louis,...</td>\n      <td id=\"T_42dfe_row1_col1\" class=\"data row1 col1\" >(D)</td>\n      <td id=\"T_42dfe_row1_col2\" class=\"data row1 col2\" >(C) 50</td>\n      <td id=\"T_42dfe_row1_col3\" class=\"data row1 col3\" >False</td>\n    </tr>\n    <tr>\n      <th id=\"T_42dfe_level0_row2\" class=\"row_heading level0 row2\" >2</th>\n      <td id=\"T_42dfe_row2_col0\" class=\"data row2 col0\" >Here is a table where the first line is a header and each subsequent line is a penguin: name, age, height (cm), weight (kg) Louis,...</td>\n      <td id=\"T_42dfe_row2_col1\" class=\"data row2 col1\" >(A)</td>\n      <td id=\"T_42dfe_row2_col2\" class=\"data row2 col2\" >(B)</td>\n      <td id=\"T_42dfe_row2_col3\" class=\"data row2 col3\" >False</td>\n    </tr>\n    <tr>\n      <th id=\"T_42dfe_level0_row3\" class=\"row_heading level0 row3\" >3</th>\n      <td id=\"T_42dfe_row3_col0\" class=\"data row3 col0\" >Here is a table where the first line is a header and each subsequent line is a penguin: name, age, height (cm), weight (kg) Louis,...</td>\n      <td id=\"T_42dfe_row3_col1\" class=\"data row3 col1\" >(A)</td>\n      <td id=\"T_42dfe_row3_col2\" class=\"data row3 col2\" >(B)</td>\n      <td id=\"T_42dfe_row3_col3\" class=\"data row3 col3\" >False</td>\n    </tr>\n    <tr>\n      <th id=\"T_42dfe_level0_row4\" class=\"row_heading level0 row4\" >4</th>\n      <td id=\"T_42dfe_row4_col0\" class=\"data row4 col0\" >Here is a table where the first line is a header and each subsequent line is a penguin: name, age, height (cm), weight (kg) Louis,...</td>\n      <td id=\"T_42dfe_row4_col1\" class=\"data row4 col1\" >(B)</td>\n      <td id=\"T_42dfe_row4_col2\" class=\"data row4 col2\" >(B)</td>\n      <td id=\"T_42dfe_row4_col3\" class=\"data row4 col3\" >✔️ [True]</td>\n    </tr>\n  </tbody>\n</table>\n"
     },
     "metadata": {},
     "output_type": "display_data"
    },
    {
     "data": {
      "text/plain": "<IPython.core.display.HTML object>",
      "text/html": "\n                <div style='\n                    text-align: center; \n                    font-size: 16px; \n                    font-weight: bold; \n                    color: #555; \n                    margin: 10px 0;'>\n                    ... 121 more rows not displayed ...\n                </div>\n                "
     },
     "metadata": {},
     "output_type": "display_data"
    },
    {
     "data": {
      "text/plain": "42.86"
     },
     "execution_count": 17,
     "metadata": {},
     "output_type": "execute_result"
    }
   ],
   "source": [
    "# | warning: false\n",
    "evaluate(optimized_qa)"
   ]
  },
  {
   "cell_type": "code",
   "execution_count": 18,
   "id": "67b8702b-e31d-492f-9cc4-0dcb4c8b3cca",
   "metadata": {
    "ExecuteTime": {
     "end_time": "2024-02-13T15:40:48.783349Z",
     "start_time": "2024-02-13T15:40:48.558562Z"
    }
   },
   "outputs": [
    {
     "name": "stdout",
     "output_type": "stream",
     "text": [
      "\n",
      "\n",
      "\n",
      "\n",
      "Given the fields `question`, produce the fields `answer`.\n",
      "\n",
      "---\n",
      "\n",
      "Follow the following format.\n",
      "\n",
      "Question: ${question}\n",
      "Answer: ${answer}\n",
      "\n",
      "---\n",
      "\n",
      "Question: Here is a table where the first line is a header and each subsequent line is a penguin: name, age, height (cm), weight (kg) Louis, 7, 50, 11 Bernard, 5, 80, 13 Vincent, 9, 60, 11 Gwen, 8, 70, 15 For example: the age of Louis is 7, the weight of Gwen is 15 kg, the height of Bernard is 80 cm. And here is a similar table, but listing giraffes: name, age, height (cm), weight (kg) Jody, 5, 430, 620 Gladys, 10, 420, 590 Marian, 2, 310, 410 Donna, 9, 440, 650 How many giraffes are more than 5 years old? Options: (A) 1 (B) 2 (C) 3 (D) 4 (E) 5\n",
      "Answer: (B)\n",
      "\n",
      "---\n",
      "\n",
      "Question: Here is a table where the first line is a header and each subsequent line is a penguin: name, age, height (cm), weight (kg) Louis, 7, 50, 11 Bernard, 5, 80, 13 Vincent, 9, 60, 11 Gwen, 8, 70, 15 For example: the age of Louis is 7, the weight of Gwen is 15 kg, the height of Bernard is 80 cm. What is the name of the last penguin sorted by alphabetic order? Options: (A) Louis (B) Bernard (C) Vincent (D) Gwen (E) James\n",
      "Answer: (C)\n",
      "\n",
      "---\n",
      "\n",
      "Question: Here is a table where the first line is a header and each subsequent line is a penguin: name, age, height (cm), weight (kg) Louis, 7, 50, 11 Bernard, 5, 80, 13 Vincent, 9, 60, 11 Gwen, 8, 70, 15 For example: the age of Louis is 7, the weight of Gwen is 15 kg, the height of Bernard is 80 cm. We now add a penguin to the table: James, 12, 90, 12 We then delete the penguin named Bernard from the table. How many penguins are more than 5 years old and weight more than 12 kg? Options: (A) 1 (B) 2 (C) 3 (D) 4 (E) 5\n",
      "Answer: (A)\n",
      "\n",
      "---\n",
      "\n",
      "Question: Here is a table where the first line is a header and each subsequent line is a penguin: name, age, height (cm), weight (kg) Louis, 7, 50, 11 Bernard, 5, 80, 13 Vincent, 9, 60, 11 Gwen, 8, 70, 15 For example: the age of Louis is 7, the weight of Gwen is 15 kg, the height of Bernard is 80 cm. How many animals are listed in the table? Options: (A) 1 (B) 2 (C) 3 (D) 4 (E) 5\n",
      "Answer: (D)\n",
      "\n",
      "---\n",
      "\n",
      "Question: Here is a table where the first line is a header and each subsequent line is a penguin: name, age, height (cm), weight (kg) Louis, 7, 50, 11 Bernard, 5, 80, 13 Vincent, 9, 60, 11 Gwen, 8, 70, 15 For example: the age of Louis is 7, the weight of Gwen is 15 kg, the height of Bernard is 80 cm. How many penguins are less than 8 years old and weight more than 12 kg? Options: (A) 1 (B) 2 (C) 3 (D) 4 (E) 5\n",
      "Answer:\u001B[32m (B)\u001B[0m\n",
      "\n",
      "\n"
     ]
    }
   ],
   "source": [
    "llm.inspect_history()"
   ]
  },
  {
   "cell_type": "markdown",
   "id": "5e0a78838d9650ca",
   "metadata": {
    "collapsed": false
   },
   "source": [
    "Now we can try a [Chain of Thought](https://arxiv.org/abs/2201.11903) [@wei2023chainofthought] prompt."
   ]
  },
  {
   "cell_type": "code",
   "execution_count": 19,
   "id": "ec160516619d66a1",
   "metadata": {
    "collapsed": false,
    "ExecuteTime": {
     "end_time": "2024-02-13T15:40:48.784915Z",
     "start_time": "2024-02-13T15:40:48.560534Z"
    }
   },
   "outputs": [],
   "source": [
    "class CoT(dspy.Module):\n",
    "    def __init__(self):\n",
    "        super().__init__()\n",
    "        self.prog = dspy.ChainOfThought(\"question -> answer\")\n",
    "\n",
    "    def forward(self, question):\n",
    "        return self.prog(question=question)\n",
    "\n",
    "\n",
    "cot_qa = CoT()"
   ]
  },
  {
   "cell_type": "code",
   "execution_count": 20,
   "id": "ade064e1da20466c",
   "metadata": {
    "collapsed": false,
    "ExecuteTime": {
     "end_time": "2024-02-13T15:40:49.621090Z",
     "start_time": "2024-02-13T15:40:48.563564Z"
    }
   },
   "outputs": [
    {
     "name": "stderr",
     "output_type": "stream",
     "text": [
      "Average Metric: 91 / 126  (72.2): 100%|██████████| 126/126 [00:00<00:00, 1250.83it/s]"
     ]
    },
    {
     "name": "stdout",
     "output_type": "stream",
     "text": [
      "Average Metric: 91 / 126  (72.2%)\n"
     ]
    },
    {
     "name": "stderr",
     "output_type": "stream",
     "text": [
      "\n"
     ]
    },
    {
     "data": {
      "text/plain": "<pandas.io.formats.style.Styler at 0x14fa5ef90>",
      "text/html": "<style type=\"text/css\">\n#T_df8e0 th {\n  text-align: left;\n}\n#T_df8e0 td {\n  text-align: left;\n}\n#T_df8e0_row0_col0, #T_df8e0_row0_col1, #T_df8e0_row0_col2, #T_df8e0_row0_col3, #T_df8e0_row0_col4, #T_df8e0_row1_col0, #T_df8e0_row1_col1, #T_df8e0_row1_col2, #T_df8e0_row1_col3, #T_df8e0_row1_col4, #T_df8e0_row2_col0, #T_df8e0_row2_col1, #T_df8e0_row2_col2, #T_df8e0_row2_col3, #T_df8e0_row2_col4, #T_df8e0_row3_col0, #T_df8e0_row3_col1, #T_df8e0_row3_col2, #T_df8e0_row3_col3, #T_df8e0_row3_col4, #T_df8e0_row4_col0, #T_df8e0_row4_col1, #T_df8e0_row4_col2, #T_df8e0_row4_col3, #T_df8e0_row4_col4 {\n  text-align: left;\n  white-space: pre-wrap;\n  word-wrap: break-word;\n  max-width: 400px;\n}\n</style>\n<table id=\"T_df8e0\">\n  <thead>\n    <tr>\n      <th class=\"blank level0\" >&nbsp;</th>\n      <th id=\"T_df8e0_level0_col0\" class=\"col_heading level0 col0\" >question</th>\n      <th id=\"T_df8e0_level0_col1\" class=\"col_heading level0 col1\" >example_answer</th>\n      <th id=\"T_df8e0_level0_col2\" class=\"col_heading level0 col2\" >rationale</th>\n      <th id=\"T_df8e0_level0_col3\" class=\"col_heading level0 col3\" >pred_answer</th>\n      <th id=\"T_df8e0_level0_col4\" class=\"col_heading level0 col4\" >eval_metric</th>\n    </tr>\n  </thead>\n  <tbody>\n    <tr>\n      <th id=\"T_df8e0_level0_row0\" class=\"row_heading level0 row0\" >0</th>\n      <td id=\"T_df8e0_row0_col0\" class=\"data row0 col0\" >Here is a table where the first line is a header and each subsequent line is a penguin: name, age, height (cm), weight (kg) Louis,...</td>\n      <td id=\"T_df8e0_row0_col1\" class=\"data row0 col1\" >(A)</td>\n      <td id=\"T_df8e0_row0_col2\" class=\"data row0 col2\" >produce the answer. We first identify the penguins who are less than 8 years old. From the table, we see that Louis is 7 years...</td>\n      <td id=\"T_df8e0_row0_col3\" class=\"data row0 col3\" >(B) 2</td>\n      <td id=\"T_df8e0_row0_col4\" class=\"data row0 col4\" >False</td>\n    </tr>\n    <tr>\n      <th id=\"T_df8e0_level0_row1\" class=\"row_heading level0 row1\" >1</th>\n      <td id=\"T_df8e0_row1_col0\" class=\"data row1 col0\" >Here is a table where the first line is a header and each subsequent line is a penguin: name, age, height (cm), weight (kg) Louis,...</td>\n      <td id=\"T_df8e0_row1_col1\" class=\"data row1 col1\" >(D)</td>\n      <td id=\"T_df8e0_row1_col2\" class=\"data row1 col2\" >produce the answer. We need to add up the weights of all the penguins in the table. Louis weighs 11 kg, Bernard weighs 13 kg,...</td>\n      <td id=\"T_df8e0_row1_col3\" class=\"data row1 col3\" >(D) 62</td>\n      <td id=\"T_df8e0_row1_col4\" class=\"data row1 col4\" >✔️ [True]</td>\n    </tr>\n    <tr>\n      <th id=\"T_df8e0_level0_row2\" class=\"row_heading level0 row2\" >2</th>\n      <td id=\"T_df8e0_row2_col0\" class=\"data row2 col0\" >Here is a table where the first line is a header and each subsequent line is a penguin: name, age, height (cm), weight (kg) Louis,...</td>\n      <td id=\"T_df8e0_row2_col1\" class=\"data row2 col1\" >(A)</td>\n      <td id=\"T_df8e0_row2_col2\" class=\"data row2 col2\" >produce the answer. We need to go through each penguin's age and count how many are more than 8 years old.</td>\n      <td id=\"T_df8e0_row2_col3\" class=\"data row2 col3\" >(C) 3</td>\n      <td id=\"T_df8e0_row2_col4\" class=\"data row2 col4\" >False</td>\n    </tr>\n    <tr>\n      <th id=\"T_df8e0_level0_row3\" class=\"row_heading level0 row3\" >3</th>\n      <td id=\"T_df8e0_row3_col0\" class=\"data row3 col0\" >Here is a table where the first line is a header and each subsequent line is a penguin: name, age, height (cm), weight (kg) Louis,...</td>\n      <td id=\"T_df8e0_row3_col1\" class=\"data row3 col1\" >(A)</td>\n      <td id=\"T_df8e0_row3_col2\" class=\"data row3 col2\" >produce the answer. We need to identify the penguins who are both more than 5 years old and weigh more than 12 kg. Looking at...</td>\n      <td id=\"T_df8e0_row3_col3\" class=\"data row3 col3\" >(C) 3</td>\n      <td id=\"T_df8e0_row3_col4\" class=\"data row3 col4\" >False</td>\n    </tr>\n    <tr>\n      <th id=\"T_df8e0_level0_row4\" class=\"row_heading level0 row4\" >4</th>\n      <td id=\"T_df8e0_row4_col0\" class=\"data row4 col0\" >Here is a table where the first line is a header and each subsequent line is a penguin: name, age, height (cm), weight (kg) Louis,...</td>\n      <td id=\"T_df8e0_row4_col1\" class=\"data row4 col1\" >(B)</td>\n      <td id=\"T_df8e0_row4_col2\" class=\"data row4 col2\" >produce the answer. We can see from the table that Bernard's age is 5.</td>\n      <td id=\"T_df8e0_row4_col3\" class=\"data row4 col3\" >(B) 5</td>\n      <td id=\"T_df8e0_row4_col4\" class=\"data row4 col4\" >✔️ [True]</td>\n    </tr>\n  </tbody>\n</table>\n"
     },
     "metadata": {},
     "output_type": "display_data"
    },
    {
     "data": {
      "text/plain": "<IPython.core.display.HTML object>",
      "text/html": "\n                <div style='\n                    text-align: center; \n                    font-size: 16px; \n                    font-weight: bold; \n                    color: #555; \n                    margin: 10px 0;'>\n                    ... 121 more rows not displayed ...\n                </div>\n                "
     },
     "metadata": {},
     "output_type": "display_data"
    },
    {
     "data": {
      "text/plain": "72.22"
     },
     "execution_count": 20,
     "metadata": {},
     "output_type": "execute_result"
    }
   ],
   "source": [
    "# | warning: false\n",
    "evaluate(cot_qa)"
   ]
  },
  {
   "cell_type": "code",
   "execution_count": 21,
   "id": "be8740da41aa198",
   "metadata": {
    "collapsed": false,
    "ExecuteTime": {
     "end_time": "2024-02-13T15:40:49.621484Z",
     "start_time": "2024-02-13T15:40:48.679033Z"
    }
   },
   "outputs": [
    {
     "name": "stdout",
     "output_type": "stream",
     "text": [
      "\n",
      "\n",
      "\n",
      "\n",
      "Given the fields `question`, produce the fields `answer`.\n",
      "\n",
      "---\n",
      "\n",
      "Follow the following format.\n",
      "\n",
      "Question: ${question}\n",
      "Reasoning: Let's think step by step in order to ${produce the answer}. We ...\n",
      "Answer: ${answer}\n",
      "\n",
      "---\n",
      "\n",
      "Question: Here is a table where the first line is a header and each subsequent line is a penguin: name, age, height (cm), weight (kg) Louis, 7, 50, 11 Bernard, 5, 80, 13 Vincent, 9, 60, 11 Gwen, 8, 70, 15 For example: the age of Louis is 7, the weight of Gwen is 15 kg, the height of Bernard is 80 cm. We now add a penguin to the table: James, 12, 90, 12 Which penguin is taller than the other ones? Options: (A) Louis (B) Bernard (C) Vincent (D) Gwen (E) James\n",
      "Reasoning: Let's think step by step in order to\u001B[32m produce the answer. We need to compare the height of each penguin in the table and determine which one is the tallest. Louis is 50 cm tall, Bernard is 80 cm tall, Vincent is 60 cm tall, Gwen is 70 cm tall, and James is 90 cm tall. Therefore, James is taller than all the other penguins.\n",
      "Answer: (E) James\u001B[0m\n",
      "\n",
      "\n"
     ]
    }
   ],
   "source": [
    "llm.inspect_history()"
   ]
  },
  {
   "cell_type": "markdown",
   "id": "9982769fae529079",
   "metadata": {
    "collapsed": false
   },
   "source": [
    "Now we will try and optimize our chain of thought program. I am also hiding the output from this cell to keep things cleaner."
   ]
  },
  {
   "cell_type": "code",
   "execution_count": 22,
   "outputs": [],
   "source": [
    "# | echo: false\n",
    "tqdm._instances.clear()"
   ],
   "metadata": {
    "collapsed": false,
    "ExecuteTime": {
     "end_time": "2024-02-13T15:40:49.621558Z",
     "start_time": "2024-02-13T15:40:48.680782Z"
    }
   },
   "id": "3b797f37f31aa580"
  },
  {
   "cell_type": "code",
   "execution_count": 23,
   "id": "48e120e593608a66",
   "metadata": {
    "collapsed": false,
    "ExecuteTime": {
     "end_time": "2024-02-13T15:40:50.537842Z",
     "start_time": "2024-02-13T15:40:48.682548Z"
    }
   },
   "outputs": [
    {
     "name": "stdout",
     "output_type": "stream",
     "text": [
      "Going to sample between 1 and 1 traces per predictor.\n",
      "Will attempt to train 4 candidate sets.\n"
     ]
    },
    {
     "name": "stderr",
     "output_type": "stream",
     "text": [
      "Average Metric: 91 / 126  (72.2): 100%|██████████| 126/126 [00:00<00:00, 3864.08it/s]\n"
     ]
    },
    {
     "name": "stdout",
     "output_type": "stream",
     "text": [
      "Average Metric: 91 / 126  (72.2%)\n",
      "Score: 72.22 for set: [0]\n",
      "New best score: 72.22 for seed -3\n",
      "Scores so far: [72.22]\n",
      "Best score: 72.22\n"
     ]
    },
    {
     "name": "stderr",
     "output_type": "stream",
     "text": [
      "Average Metric: 90 / 126  (71.4): 100%|██████████| 126/126 [00:00<00:00, 637.02it/s]\n"
     ]
    },
    {
     "name": "stdout",
     "output_type": "stream",
     "text": [
      "Average Metric: 90 / 126  (71.4%)\n",
      "Score: 71.43 for set: [4]\n",
      "Scores so far: [72.22, 71.43]\n",
      "Best score: 72.22\n"
     ]
    },
    {
     "name": "stderr",
     "output_type": "stream",
     "text": [
      "  5%|▌         | 1/20 [00:00<00:00, 228.78it/s]\n"
     ]
    },
    {
     "name": "stdout",
     "output_type": "stream",
     "text": [
      "Bootstrapped 1 full traces after 2 examples in round 0.\n"
     ]
    },
    {
     "name": "stderr",
     "output_type": "stream",
     "text": [
      "Average Metric: 74 / 126  (58.7): 100%|██████████| 126/126 [00:00<00:00, 869.47it/s]\n"
     ]
    },
    {
     "name": "stdout",
     "output_type": "stream",
     "text": [
      "Average Metric: 74 / 126  (58.7%)\n",
      "Score: 58.73 for set: [4]\n",
      "Scores so far: [72.22, 71.43, 58.73]\n",
      "Best score: 72.22\n",
      "Average of max per entry across top 1 scores: 0.7222222222222222\n",
      "Average of max per entry across top 2 scores: 0.873015873015873\n",
      "Average of max per entry across top 3 scores: 0.9126984126984127\n",
      "Average of max per entry across top 5 scores: 0.9126984126984127\n",
      "Average of max per entry across top 8 scores: 0.9126984126984127\n",
      "Average of max per entry across top 9999 scores: 0.9126984126984127\n"
     ]
    },
    {
     "name": "stderr",
     "output_type": "stream",
     "text": [
      "  5%|▌         | 1/20 [00:00<00:00, 245.40it/s]\n"
     ]
    },
    {
     "name": "stdout",
     "output_type": "stream",
     "text": [
      "Bootstrapped 1 full traces after 2 examples in round 0.\n"
     ]
    },
    {
     "name": "stderr",
     "output_type": "stream",
     "text": [
      "Average Metric: 102 / 126  (81.0): 100%|██████████| 126/126 [00:00<00:00, 1000.44it/s]\n"
     ]
    },
    {
     "name": "stdout",
     "output_type": "stream",
     "text": [
      "Average Metric: 102 / 126  (81.0%)\n",
      "Score: 80.95 for set: [4]\n",
      "New best score: 80.95 for seed 0\n",
      "Scores so far: [72.22, 71.43, 58.73, 80.95]\n",
      "Best score: 80.95\n",
      "Average of max per entry across top 1 scores: 0.8095238095238095\n",
      "Average of max per entry across top 2 scores: 0.9126984126984127\n",
      "Average of max per entry across top 3 scores: 0.9444444444444444\n",
      "Average of max per entry across top 5 scores: 0.9682539682539683\n",
      "Average of max per entry across top 8 scores: 0.9682539682539683\n",
      "Average of max per entry across top 9999 scores: 0.9682539682539683\n"
     ]
    },
    {
     "name": "stderr",
     "output_type": "stream",
     "text": [
      "  5%|▌         | 1/20 [00:00<00:00, 160.66it/s]\n"
     ]
    },
    {
     "name": "stdout",
     "output_type": "stream",
     "text": [
      "Bootstrapped 1 full traces after 2 examples in round 0.\n"
     ]
    },
    {
     "name": "stderr",
     "output_type": "stream",
     "text": [
      "Average Metric: 94 / 126  (74.6): 100%|██████████| 126/126 [00:00<00:00, 827.22it/s]\n"
     ]
    },
    {
     "name": "stdout",
     "output_type": "stream",
     "text": [
      "Average Metric: 94 / 126  (74.6%)\n",
      "Score: 74.6 for set: [4]\n",
      "Scores so far: [72.22, 71.43, 58.73, 80.95, 74.6]\n",
      "Best score: 80.95\n",
      "Average of max per entry across top 1 scores: 0.8095238095238095\n",
      "Average of max per entry across top 2 scores: 0.9126984126984127\n",
      "Average of max per entry across top 3 scores: 0.9444444444444444\n",
      "Average of max per entry across top 5 scores: 0.9841269841269841\n",
      "Average of max per entry across top 8 scores: 0.9841269841269841\n",
      "Average of max per entry across top 9999 scores: 0.9841269841269841\n"
     ]
    },
    {
     "name": "stderr",
     "output_type": "stream",
     "text": [
      "  5%|▌         | 1/20 [00:00<00:00, 523.90it/s]\n"
     ]
    },
    {
     "name": "stdout",
     "output_type": "stream",
     "text": [
      "Bootstrapped 1 full traces after 2 examples in round 0.\n"
     ]
    },
    {
     "name": "stderr",
     "output_type": "stream",
     "text": [
      "Average Metric: 95 / 126  (75.4): 100%|██████████| 126/126 [00:00<00:00, 1160.16it/s]\n"
     ]
    },
    {
     "name": "stdout",
     "output_type": "stream",
     "text": [
      "Average Metric: 95 / 126  (75.4%)\n",
      "Score: 75.4 for set: [4]\n",
      "Scores so far: [72.22, 71.43, 58.73, 80.95, 74.6, 75.4]\n",
      "Best score: 80.95\n",
      "Average of max per entry across top 1 scores: 0.8095238095238095\n",
      "Average of max per entry across top 2 scores: 0.9206349206349206\n",
      "Average of max per entry across top 3 scores: 0.9444444444444444\n",
      "Average of max per entry across top 5 scores: 0.9841269841269841\n",
      "Average of max per entry across top 8 scores: 0.9841269841269841\n",
      "Average of max per entry across top 9999 scores: 0.9841269841269841\n"
     ]
    },
    {
     "name": "stderr",
     "output_type": "stream",
     "text": [
      "  5%|▌         | 1/20 [00:00<00:00, 431.78it/s]\n"
     ]
    },
    {
     "name": "stdout",
     "output_type": "stream",
     "text": [
      "Bootstrapped 1 full traces after 2 examples in round 0.\n"
     ]
    },
    {
     "name": "stderr",
     "output_type": "stream",
     "text": [
      "Average Metric: 96 / 126  (76.2): 100%|██████████| 126/126 [00:00<00:00, 1157.23it/s]\n"
     ]
    },
    {
     "name": "stdout",
     "output_type": "stream",
     "text": [
      "Average Metric: 96 / 126  (76.2%)\n",
      "Score: 76.19 for set: [4]\n",
      "Scores so far: [72.22, 71.43, 58.73, 80.95, 74.6, 75.4, 76.19]\n",
      "Best score: 80.95\n",
      "Average of max per entry across top 1 scores: 0.8095238095238095\n",
      "Average of max per entry across top 2 scores: 0.9206349206349206\n",
      "Average of max per entry across top 3 scores: 0.9603174603174603\n",
      "Average of max per entry across top 5 scores: 0.9682539682539683\n",
      "Average of max per entry across top 8 scores: 0.9920634920634921\n",
      "Average of max per entry across top 9999 scores: 0.9920634920634921\n",
      "7 candidate programs found.\n"
     ]
    }
   ],
   "source": [
    "# | output: false\n",
    "tqdm._instances.clear()\n",
    "config = dict(max_bootstrapped_demos=1, max_labeled_demos=4, num_candidate_programs=4, num_threads=6)\n",
    "teleprompter = BootstrapFewShotWithRandomSearch(metric=eval_metric, **config)\n",
    "optimized_cot_qa = teleprompter.compile(cot_qa, trainset=trainset, valset=valset)"
   ]
  },
  {
   "cell_type": "code",
   "execution_count": 24,
   "id": "1d772d4c2a6a4ade",
   "metadata": {
    "collapsed": false,
    "ExecuteTime": {
     "end_time": "2024-02-13T15:40:50.913516Z",
     "start_time": "2024-02-13T15:40:49.695871Z"
    }
   },
   "outputs": [
    {
     "name": "stderr",
     "output_type": "stream",
     "text": [
      "Average Metric: 102 / 126  (81.0): 100%|██████████| 126/126 [00:00<00:00, 2902.22it/s]"
     ]
    },
    {
     "name": "stdout",
     "output_type": "stream",
     "text": [
      "Average Metric: 102 / 126  (81.0%)\n"
     ]
    },
    {
     "name": "stderr",
     "output_type": "stream",
     "text": [
      "\n"
     ]
    },
    {
     "data": {
      "text/plain": "<pandas.io.formats.style.Styler at 0x14fdf7b50>",
      "text/html": "<style type=\"text/css\">\n#T_9ed22 th {\n  text-align: left;\n}\n#T_9ed22 td {\n  text-align: left;\n}\n#T_9ed22_row0_col0, #T_9ed22_row0_col1, #T_9ed22_row0_col2, #T_9ed22_row0_col3, #T_9ed22_row0_col4, #T_9ed22_row1_col0, #T_9ed22_row1_col1, #T_9ed22_row1_col2, #T_9ed22_row1_col3, #T_9ed22_row1_col4, #T_9ed22_row2_col0, #T_9ed22_row2_col1, #T_9ed22_row2_col2, #T_9ed22_row2_col3, #T_9ed22_row2_col4, #T_9ed22_row3_col0, #T_9ed22_row3_col1, #T_9ed22_row3_col2, #T_9ed22_row3_col3, #T_9ed22_row3_col4, #T_9ed22_row4_col0, #T_9ed22_row4_col1, #T_9ed22_row4_col2, #T_9ed22_row4_col3, #T_9ed22_row4_col4 {\n  text-align: left;\n  white-space: pre-wrap;\n  word-wrap: break-word;\n  max-width: 400px;\n}\n</style>\n<table id=\"T_9ed22\">\n  <thead>\n    <tr>\n      <th class=\"blank level0\" >&nbsp;</th>\n      <th id=\"T_9ed22_level0_col0\" class=\"col_heading level0 col0\" >question</th>\n      <th id=\"T_9ed22_level0_col1\" class=\"col_heading level0 col1\" >example_answer</th>\n      <th id=\"T_9ed22_level0_col2\" class=\"col_heading level0 col2\" >rationale</th>\n      <th id=\"T_9ed22_level0_col3\" class=\"col_heading level0 col3\" >pred_answer</th>\n      <th id=\"T_9ed22_level0_col4\" class=\"col_heading level0 col4\" >eval_metric</th>\n    </tr>\n  </thead>\n  <tbody>\n    <tr>\n      <th id=\"T_9ed22_level0_row0\" class=\"row_heading level0 row0\" >0</th>\n      <td id=\"T_9ed22_row0_col0\" class=\"data row0 col0\" >Here is a table where the first line is a header and each subsequent line is a penguin: name, age, height (cm), weight (kg) Louis,...</td>\n      <td id=\"T_9ed22_row0_col1\" class=\"data row0 col1\" >(A)</td>\n      <td id=\"T_9ed22_row0_col2\" class=\"data row0 col2\" >produce the answer. After deleting Bernard, the penguins left are Louis, Vincent, and Gwen. Among them, Louis and Gwen are less than 8 years old.</td>\n      <td id=\"T_9ed22_row0_col3\" class=\"data row0 col3\" >(B) 2</td>\n      <td id=\"T_9ed22_row0_col4\" class=\"data row0 col4\" >False</td>\n    </tr>\n    <tr>\n      <th id=\"T_9ed22_level0_row1\" class=\"row_heading level0 row1\" >1</th>\n      <td id=\"T_9ed22_row1_col0\" class=\"data row1 col0\" >Here is a table where the first line is a header and each subsequent line is a penguin: name, age, height (cm), weight (kg) Louis,...</td>\n      <td id=\"T_9ed22_row1_col1\" class=\"data row1 col1\" >(D)</td>\n      <td id=\"T_9ed22_row1_col2\" class=\"data row1 col2\" >produce the answer. We sum up the weights of all the penguins: 11 + 13 + 11 + 15 + 12 = 62.</td>\n      <td id=\"T_9ed22_row1_col3\" class=\"data row1 col3\" >(D) 62</td>\n      <td id=\"T_9ed22_row1_col4\" class=\"data row1 col4\" >✔️ [True]</td>\n    </tr>\n    <tr>\n      <th id=\"T_9ed22_level0_row2\" class=\"row_heading level0 row2\" >2</th>\n      <td id=\"T_9ed22_row2_col0\" class=\"data row2 col0\" >Here is a table where the first line is a header and each subsequent line is a penguin: name, age, height (cm), weight (kg) Louis,...</td>\n      <td id=\"T_9ed22_row2_col1\" class=\"data row2 col1\" >(A)</td>\n      <td id=\"T_9ed22_row2_col2\" class=\"data row2 col2\" >produce the answer. We know that after deleting Bernard, the penguins left are Louis, Vincent, and Gwen. Among them, only Vincent is more than 8...</td>\n      <td id=\"T_9ed22_row2_col3\" class=\"data row2 col3\" >(A) 1</td>\n      <td id=\"T_9ed22_row2_col4\" class=\"data row2 col4\" >✔️ [True]</td>\n    </tr>\n    <tr>\n      <th id=\"T_9ed22_level0_row3\" class=\"row_heading level0 row3\" >3</th>\n      <td id=\"T_9ed22_row3_col0\" class=\"data row3 col0\" >Here is a table where the first line is a header and each subsequent line is a penguin: name, age, height (cm), weight (kg) Louis,...</td>\n      <td id=\"T_9ed22_row3_col1\" class=\"data row3 col1\" >(A)</td>\n      <td id=\"T_9ed22_row3_col2\" class=\"data row3 col2\" >produce the answer. We have Louis, Vincent, Gwen, and James in the table. Among them, only James is more than 5 years old and weighs...</td>\n      <td id=\"T_9ed22_row3_col3\" class=\"data row3 col3\" >(A) 1</td>\n      <td id=\"T_9ed22_row3_col4\" class=\"data row3 col4\" >✔️ [True]</td>\n    </tr>\n    <tr>\n      <th id=\"T_9ed22_level0_row4\" class=\"row_heading level0 row4\" >4</th>\n      <td id=\"T_9ed22_row4_col0\" class=\"data row4 col0\" >Here is a table where the first line is a header and each subsequent line is a penguin: name, age, height (cm), weight (kg) Louis,...</td>\n      <td id=\"T_9ed22_row4_col1\" class=\"data row4 col1\" >(B)</td>\n      <td id=\"T_9ed22_row4_col2\" class=\"data row4 col2\" >produce the answer. We know that the age of Bernard is 5 years old.</td>\n      <td id=\"T_9ed22_row4_col3\" class=\"data row4 col3\" >(B) 5</td>\n      <td id=\"T_9ed22_row4_col4\" class=\"data row4 col4\" >✔️ [True]</td>\n    </tr>\n  </tbody>\n</table>\n"
     },
     "metadata": {},
     "output_type": "display_data"
    },
    {
     "data": {
      "text/plain": "<IPython.core.display.HTML object>",
      "text/html": "\n                <div style='\n                    text-align: center; \n                    font-size: 16px; \n                    font-weight: bold; \n                    color: #555; \n                    margin: 10px 0;'>\n                    ... 121 more rows not displayed ...\n                </div>\n                "
     },
     "metadata": {},
     "output_type": "display_data"
    },
    {
     "data": {
      "text/plain": "80.95"
     },
     "execution_count": 24,
     "metadata": {},
     "output_type": "execute_result"
    }
   ],
   "source": [
    "# | warning: false\n",
    "evaluate(optimized_cot_qa)"
   ]
  },
  {
   "cell_type": "code",
   "execution_count": 25,
   "id": "067617e0-4af9-4cd2-ab13-34ee889366b5",
   "metadata": {
    "ExecuteTime": {
     "end_time": "2024-02-13T15:40:50.915530Z",
     "start_time": "2024-02-13T15:40:49.775836Z"
    }
   },
   "outputs": [
    {
     "name": "stdout",
     "output_type": "stream",
     "text": [
      "\n",
      "\n",
      "\n",
      "\n",
      "Given the fields `question`, produce the fields `answer`.\n",
      "\n",
      "---\n",
      "\n",
      "Follow the following format.\n",
      "\n",
      "Question: ${question}\n",
      "Reasoning: Let's think step by step in order to ${produce the answer}. We ...\n",
      "Answer: ${answer}\n",
      "\n",
      "---\n",
      "\n",
      "Question: Here is a table where the first line is a header and each subsequent line is a penguin: name, age, height (cm), weight (kg) Louis, 7, 50, 11 Bernard, 5, 80, 13 Vincent, 9, 60, 11 Gwen, 8, 70, 15 For example: the age of Louis is 7, the weight of Gwen is 15 kg, the height of Bernard is 80 cm. We then delete the penguin named Bernard from the table. How many penguins are more than 8 years old? Options: (A) 1 (B) 2 (C) 3 (D) 4 (E) 5\n",
      "Reasoning: Let's think step by step in order to produce the answer. We know that after deleting Bernard, the penguins left are Louis, Vincent, and Gwen. Among them, only Vincent is more than 8 years old.\n",
      "Answer: (A) 1\n",
      "\n",
      "---\n",
      "\n",
      "Question: Here is a table where the first line is a header and each subsequent line is a penguin: name, age, height (cm), weight (kg) Louis, 7, 50, 11 Bernard, 5, 80, 13 Vincent, 9, 60, 11 Gwen, 8, 70, 15 For example: the age of Louis is 7, the weight of Gwen is 15 kg, the height of Bernard is 80 cm. How many penguins are more than 5 years old? Options: (A) 1 (B) 2 (C) 3 (D) 4 (E) 5\n",
      "Answer: (C)\n",
      "\n",
      "---\n",
      "\n",
      "Question: Here is a table where the first line is a header and each subsequent line is a penguin: name, age, height (cm), weight (kg) Louis, 7, 50, 11 Bernard, 5, 80, 13 Vincent, 9, 60, 11 Gwen, 8, 70, 15 For example: the age of Louis is 7, the weight of Gwen is 15 kg, the height of Bernard is 80 cm. And here is a similar table, but listing giraffes: name, age, height (cm), weight (kg) Jody, 5, 430, 620 Gladys, 10, 420, 590 Marian, 2, 310, 410 Donna, 9, 440, 650 How many animals are more than 5 years old? Options: (A) 5 (B) 6 (C) 7 (D) 8 (E) 9\n",
      "Answer: (A)\n",
      "\n",
      "---\n",
      "\n",
      "Question: Here is a table where the first line is a header and each subsequent line is a penguin: name, age, height (cm), weight (kg) Louis, 7, 50, 11 Bernard, 5, 80, 13 Vincent, 9, 60, 11 Gwen, 8, 70, 15 For example: the age of Louis is 7, the weight of Gwen is 15 kg, the height of Bernard is 80 cm. Which penguin is older than Gwen? Options: (A) Louis (B) Bernard (C) Vincent (D) Gwen (E) James\n",
      "Answer: (C)\n",
      "\n",
      "---\n",
      "\n",
      "Question: Here is a table where the first line is a header and each subsequent line is a penguin: name, age, height (cm), weight (kg) Louis, 7, 50, 11 Bernard, 5, 80, 13 Vincent, 9, 60, 11 Gwen, 8, 70, 15 For example: the age of Louis is 7, the weight of Gwen is 15 kg, the height of Bernard is 80 cm. We now add a penguin to the table: James, 12, 90, 12 We then delete the penguin named Bernard from the table. What is the cumulated age of the penguins? Options: (A) 24 (B) 29 (C) 36 (D) 41 (E) 48\n",
      "Reasoning: Let's think step by step in order to\u001B[32m produce the answer. We know that after deleting Bernard, the penguins left are Louis, Vincent, Gwen, and James. The sum of their ages is 7 + 9 + 8 + 12 = 36.\n",
      "Answer: (C) 36\u001B[0m\n"
     ]
    }
   ],
   "source": [
    "llm.inspect_history(n=1)"
   ]
  }
 ],
 "metadata": {
  "kernelspec": {
   "display_name": "Python 3 (ipykernel)",
   "language": "python",
   "name": "python3"
  },
  "language_info": {
   "codemirror_mode": {
    "name": "ipython",
    "version": 3
   },
   "file_extension": ".py",
   "mimetype": "text/x-python",
   "name": "python",
   "nbconvert_exporter": "python",
   "pygments_lexer": "ipython3",
   "version": "3.11.7"
  }
 },
 "nbformat": 4,
 "nbformat_minor": 5
}
