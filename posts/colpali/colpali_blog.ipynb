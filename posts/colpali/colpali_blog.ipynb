{
 "cells": [
  {
   "cell_type": "raw",
   "id": "7908ac58af685d94",
   "metadata": {
    "collapsed": false,
    "vscode": {
     "languageId": "raw"
    }
   },
   "source": [
    "---\n",
    "title: Chat with PDF App using ColPali, Modal, and FastHTML\n",
    "author: Chris Levy\n",
    "date: '2024-10-24'\n",
    "date-modified: '2024-10-24'\n",
    "image: imgs/intro.png\n",
    "toc: true\n",
    "format:\n",
    "  html:\n",
    "    code-fold: show\n",
    "    page-layout: full\n",
    "include-in-header:\n",
    "  - text: |\n",
    "      <style>\n",
    "      .cell-output-stdout code {\n",
    "        word-break: break-wor !important;\n",
    "        white-space: pre-wrap !important;\n",
    "      }\n",
    "      </style>\n",
    "bibliography: ../../bibliography.bib\n",
    "resources:\n",
    "    - imgs/modal.mp4\n",
    "---"
   ]
  },
  {
   "cell_type": "markdown",
   "id": "a088ff1f",
   "metadata": {},
   "source": [
    "# Intro\n",
    "\n",
    "\n",
    "Lately, I've been following [FastHTML](https://about.fastht.ml/) from a distance. As someone who sticks to backend Python development, frontend development has always been a bit foreign to me, but I'm interested in giving it a shot. FastHTML feels like a good way to get started with some basics by building small apps.\n",
    "\n",
    "I've also noticed a lot of chatter on X about [Colpali](https://github.com/illuin-tech/colpali) and document retrieval with vision language models, which caught my attention. I like exploring new stuff so I want to see what that is all about.\n",
    "\n",
    "On top of that, I'm still enjoying [Modal](https://modal.com/), which I’ve written about before [here](https://drchrislevy.github.io/posts/modal_fun/modal_blog.html) and [here](https://drchrislevy.github.io/posts/intro_modal/intro_modal.html). I figured why not combine all these tools into a simple app and see what I can learn from it.\n",
    "\n",
    "\n"
   ]
  },
  {
   "cell_type": "markdown",
   "id": "1e545913",
   "metadata": {
    "vscode": {
     "languageId": "raw"
    }
   },
   "source": [
    "# Resources\n",
    "\n",
    "- [Colpali paper](https://arxiv.org/pdf/2407.01449v2)\n",
    "- [Colbert paper](https://arxiv.org/pdf/2004.12832)\n",
    "- [Colbert V2 paper](https://arxiv.org/pdf/2112.01488)\n",
    "- [PaliGemma](https://arxiv.org/pdf/2407.07726)\n",
    "- [A little pooling goes a long way for multi-vector representations: Blog answer.ai](https://www.answer.ai/posts/colbert-pooling.html)\n",
    "    - [Reducing the Footprint of Multi-Vector Retrieval with Minimal Performance Impact via Token Pooling, Paper](https://arxiv.org/pdf/2409.14683)\n",
    "- [PLAID paper](https://arxiv.org/pdf/2205.09707)\n",
    "- [Beyond the Basics of Retrieval for Augmenting Generation (w/ Ben Clavié), Youtube Talk](https://www.youtube.com/watch?v=0nA5QG3087g)\n",
    "- [RAG is more than dense embedding, Google Slides, Ben Clavié](https://docs.google.com/presentation/d/1Zczs5Sk3FsCO06ZLDznqkOOhbTe96PwJa4_7FwyMBrA/edit#slide=id.p)\n",
    "- The quick start in the README [Original ColPali Repo](https://github.com/illuin-tech/colpali) as well as the sample [inference code](https://github.com/illuin-tech/colpali/blob/main/scripts/infer/run_inference_with_python.py)\n",
    "- [Hugging Face Model Cards](https://huggingface.co/vidore/colpali-v1.2)\n",
    "- [The Future of Search: Vision Models and the Rise of Multi-Model Retrieval](https://mcplusa.com/the-future-of-search-vision-models-and-the-rise-of-multi-model-retrieval/)\n",
    "- [Jo Kristian Bergum: X](https://x.com/jobergum)\n",
    "- [Manuel Faysse: X](https://x.com/ManuelFaysse)\n",
    "- [Tony Wu: X](https://x.com/tonywu_71)\n",
    "- [fastHTML](https://about.fastht.ml/)"
   ]
  },
  {
   "cell_type": "markdown",
   "id": "6a9db69f",
   "metadata": {},
   "source": []
  }
 ],
 "metadata": {
  "kernelspec": {
   "display_name": "Python 3",
   "language": "python",
   "name": "python3"
  },
  "language_info": {
   "codemirror_mode": {
    "name": "ipython",
    "version": 3
   },
   "file_extension": ".py",
   "mimetype": "text/x-python",
   "name": "python",
   "nbconvert_exporter": "python",
   "pygments_lexer": "ipython3",
   "version": "3.11.7"
  }
 },
 "nbformat": 4,
 "nbformat_minor": 5
}
