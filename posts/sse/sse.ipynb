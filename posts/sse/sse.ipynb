{
 "cells": [
  {
   "cell_type": "raw",
   "metadata": {
    "vscode": {
     "languageId": "raw"
    }
   },
   "source": [
    "---\n",
    "title: Server-Sent Events (SSE) in FastHTML\n",
    "author: Chris Levy\n",
    "date: '2025-03-03'\n",
    "date-modified: '2025-03-03'\n",
    "image: sse_diag.png\n",
    "toc: true\n",
    "description: In this blog post, I learn about Server-Sent Events (SSE) in FastHTML.\n",
    "tags:\n",
    "  - FastHTML\n",
    "  - SSE\n",
    "  - htmx\n",
    "---"
   ]
  },
  {
   "cell_type": "markdown",
   "metadata": {},
   "source": [
    "# Intro\n",
    "\n",
    "Server-Sent Events (SSE) are a web technology that allow servers to push real-time updates to web clients over a single HTTP connection. Unlike traditional HTTP requests where the client must repeatedly ask for new data, SSE creates a one-way channel from the server to the client that stays open, allowing the server to send updates whenever they're available.\n",
    "\n",
    "![SSE Diagram](static_blog_imgs/sse_diag.png)\n",
    "\n",
    "Some key characteristics of SSE:\n",
    "\n",
    "- One-directional: Data flows only from server to client\n",
    "- Uses standard HTTP (unlike WebSockets which use a different protocol)\n",
    "    - WebSockets are bidirectional, meaning data can flow both ways - from server to client and from client to server over the same connection. This makes WebSockets suitable for applications requiring real-time communication in both directions, like chat applications or multiplayer games.\n",
    "    - In contrast, SSE are strictly one-directional (server to client only).\n",
    "    - This fundamental difference in communication flow is one of the key factors to consider when choosing between these technologies for your application.\n",
    "- Automatically reconnects if the connection is lost\n",
    "- Lightweight compared to alternatives like WebSockets\n",
    "- Built into browsers with the EventSource API"
   ]
  },
  {
   "cell_type": "markdown",
   "metadata": {},
   "source": [
    "# Example 1: Basic SSE Implementation\n",
    "\n",
    "Let's look at a basic example first to see how SSE works.\n",
    "In this example an SSE connection is setup when the page is loaded."
   ]
  },
  {
   "cell_type": "code",
   "execution_count": 1,
   "metadata": {},
   "outputs": [
    {
     "data": {
      "text/markdown": [
       "```python\n",
       "# ruff: noqa: F403, F405\n",
       "from asyncio import sleep\n",
       "\n",
       "from fasthtml.common import *\n",
       "from monsterui.all import *\n",
       "\n",
       "app, rt = fast_app(\n",
       "    hdrs=(\n",
       "        Theme.blue.headers(highlightjs=True),  # monsterui styling\n",
       "        Script(src=\"https://unpkg.com/htmx-ext-sse@2.2.1/sse.js\"),  # Include this to use the SSE extension\n",
       "    ),\n",
       "    live=True,\n",
       ")\n",
       "\n",
       "\n",
       "@rt(\"/\")\n",
       "def index():\n",
       "    return Container(\n",
       "        H3(\"Intro SSE Example\"),\n",
       "        Div(\n",
       "            P(\"The contents of this <div> will be updated in real time with each SSE message received.\"),\n",
       "            hx_ext=\"sse\",  # To connect to an SSE server, use the hx_ext=\"sse\" attribute to install the extension on that HTML element\n",
       "            sse_swap=\"EventName\",  # This default event name is \"message\" if we don't specify it otherwise\n",
       "            sse_connect=\"/sse-stream\",  # This is the URL of the SSE endpoint we create and connect to\n",
       "            hx_swap=\"beforeend show:bottom\",  # Determines how the content will be inserted into that target element. Here, each new message is added at the end of the div and the page automatically scrolls to show the new message\n",
       "            hx_target=None,  # None is the default. By not specifying a target for the swap, it defaults to the element that triggered the request i.e. id=\"sse-content\"\n",
       "            id=\"sse-content\",\n",
       "        ),\n",
       "    )\n",
       "\n",
       "\n",
       "async def message_generator():\n",
       "    # This sse_message function converts an HTML element into the specific format required for Server-Sent Events (SSE) streaming.\n",
       "    # The first argument is an FT component (FastHTML element) that you want to send via SSE.\n",
       "    # The second argument is the name of the SSE event (defaults to \"message\" if not specified).\n",
       "    # It must match the sse_swap attribute above i.e. event=\"EventName\"\n",
       "\n",
       "    for i in range(10):\n",
       "        yield sse_message(Div(P(f\"message number {i}\")), event=\"EventName\")\n",
       "        await sleep(0.5)\n",
       "\n",
       "    yield sse_message(Div(P(\"DONE\")), event=\"EventName\")\n",
       "\n",
       "\n",
       "@rt(\"/sse-stream\")\n",
       "async def sse_stream():\n",
       "    return EventStream(message_generator())\n",
       "\n",
       "\n",
       "serve(port=5010)\n",
       "\n",
       "```"
      ],
      "text/plain": [
       "<IPython.core.display.Markdown object>"
      ]
     },
     "metadata": {},
     "output_type": "display_data"
    }
   ],
   "source": [
    "# | echo: false\n",
    "from IPython.display import Markdown, display\n",
    "\n",
    "\n",
    "def import_python_as_markdown(file_path):\n",
    "    with open(file_path, \"r\") as file:\n",
    "        content = file.read()\n",
    "    return f\"```python\\n{content}\\n```\"\n",
    "\n",
    "\n",
    "file_path = \"sse1.py\"\n",
    "markdown_content = import_python_as_markdown(file_path)\n",
    "display(Markdown(markdown_content))"
   ]
  },
  {
   "cell_type": "markdown",
   "metadata": {},
   "source": [
    "** TODO: Run The Example as A Video Or Embedded App In the BLOG!**\n",
    "\n",
    "## Breaking Down The Example in Details\n",
    "\n",
    "### Initial Page Load\n",
    "\n",
    "When a user navigates to the root URL, the browser sends a `GET` request to the server.\n",
    "The server responds with the HTML generated by the `index()` function, which creates:\n",
    "\n",
    "- A container with a heading \"Intro SSE Example\"\n",
    "\n",
    "- A div with ID \"sse-content\" containing an introductory paragraph. This div has several HTMX attributes that configure SSE behavior\n",
    "\n",
    "\n",
    "- The browser renders this initial HTML, showing the heading and the introductory paragraph.\n",
    "\n",
    "### SSE Connection Establishment\n",
    "\n",
    "The browser sees the `hx_ext=\"sse\"` and `sse_connect=\"/sse-stream\"` attributes on the div and recognizes that it needs to establish a Server-Sent Events connection.\n",
    "The browser automatically opens an `EventSource` connection to the `/sse-stream` endpoint.\n",
    "On the server, when this connection request arrives, it triggers the `sse_stream()` function, which:\n",
    "\n",
    "- Creates a new instance of the `message_generator()` coroutine\n",
    "- Wraps it in an `EventStream` response object\n",
    "- Sends the appropriate HTTP headers to establish an SSE connection\n",
    "\n",
    "\n",
    "### Message Streaming Process\n",
    "\n",
    "Once the connection is established, the `message_generator()` coroutine begins execution:\n",
    "For each iteration (0-9):\n",
    "\n",
    "- It creates an HTML message containing \"message number {i}\"\n",
    "- Converts this to SSE format with the event name \"EventName\"\n",
    "- Yields this message, which is immediately sent to the browser\n",
    "- Pauses for 0.5 seconds using `await sleep(0.5)`\n",
    "- During this pause, the server can handle other requests because of the use of `async`\n",
    "\n",
    "\n",
    "After the 10 numbered messages, it sends a final message containing \"DONE\".\n",
    "\n",
    "### Client-Side Processing\n",
    "\n",
    "As each SSE message arrives at the browser, HTMX intercepts it because of the `hx_ext=\"sse\"` attribute.\n",
    "It checks the event name in the message (\"EventName\") and matches it against the `sse_swap=\"EventName\"` attribute.\n",
    "Since they match, HTMX processes this message\n",
    "\n",
    "\n",
    "The content of each message is inserted into the div according to the `hx_swap=\"beforeend show:bottom\"` attribute:\n",
    "\n",
    "- `beforeend`: Each new message is added at the end of the existing content\n",
    "- `show:bottom`: The page automatically scrolls to show the new content\n",
    "\n",
    "The user sees each message appear approximately every half second, with the page scrolling to keep the latest message visible.\n",
    "\n",
    "### Connection Behavior After Completion\n",
    "\n",
    "After the final \"DONE\" message, the generator is exhausted, but the SSE connection doesn't automatically close.\n",
    "The browser's `EventSource` implementation will detect the end of the stream and automatically attempt to reconnect after a brief delay.\n",
    "This reconnection will trigger another call to `sse_stream()`, creating a new instance of `message_generator()`, and the sequence will start over.\n",
    "This cycle will continue indefinitely, with the div accumulating more and more messages, unless the page is navigated away from or the connection is explicitly closed.\n",
    "\n",
    "This was a surprise to me when first learning about SSE. I expected the connection to close after the initial `for` loop completed.\n",
    "\n",
    "**TODO: Add Video of Example 2 Running. Show what button does but show that it doesn't work as expected.**"
   ]
  },
  {
   "cell_type": "markdown",
   "metadata": {},
   "source": []
  },
  {
   "cell_type": "markdown",
   "metadata": {},
   "source": [
    "# Example 2: How NOT to Start SSE with Button Click\n",
    "\n",
    "Next I wanted to show how to start an SSE connection with a button click, but what I thought would work didn't.\n",
    "So this example shows how **NOT** to do it. It's still a learning opportunity worth documenting.\n",
    "\n",
    "It's the same code as in Example 1 with the following changes:\n",
    "\n",
    "- Add a form around a button and put the SSE connection attributes on the button.\n",
    "\n"
   ]
  },
  {
   "cell_type": "code",
   "execution_count": 2,
   "metadata": {},
   "outputs": [
    {
     "data": {
      "text/markdown": [
       "```python\n",
       "# ruff: noqa: F403, F405\n",
       "from asyncio import sleep\n",
       "\n",
       "from fasthtml.common import *\n",
       "from monsterui.all import *\n",
       "\n",
       "app, rt = fast_app(\n",
       "    hdrs=(\n",
       "        Theme.blue.headers(highlightjs=True),\n",
       "        Script(src=\"https://unpkg.com/htmx-ext-sse@2.2.1/sse.js\"),\n",
       "    ),\n",
       "    live=True,\n",
       ")\n",
       "\n",
       "\n",
       "@rt(\"/\")\n",
       "def index():\n",
       "    return Container(\n",
       "        H3(\"How NOT to Start SSE with Button Click\"),\n",
       "        Form(\n",
       "            Button(\n",
       "                \"Start SSE\",\n",
       "                hx_ext=\"sse\",\n",
       "                sse_swap=\"EventName\",\n",
       "                sse_connect=\"/sse-stream\",\n",
       "                hx_swap=\"beforeend show:bottom\",\n",
       "                hx_target=\"#sse-content\",  # This is the target element that will receive the SSE messages\n",
       "            ),\n",
       "        ),\n",
       "        Div(\n",
       "            P(\"The contents of this <div> will be updated in real time with each SSE message received.\"),\n",
       "            id=\"sse-content\",\n",
       "        ),\n",
       "    )\n",
       "\n",
       "\n",
       "async def message_generator():\n",
       "    for i in range(10):\n",
       "        yield sse_message(Div(P(f\"message number {i}\")), event=\"EventName\")\n",
       "        await sleep(0.5)\n",
       "\n",
       "    yield sse_message(Div(P(\"DONE\")), event=\"EventName\")\n",
       "\n",
       "\n",
       "@rt(\"/sse-stream\")\n",
       "async def sse_stream():\n",
       "    return EventStream(message_generator())\n",
       "\n",
       "\n",
       "serve(port=5010)\n",
       "\n",
       "```"
      ],
      "text/plain": [
       "<IPython.core.display.Markdown object>"
      ]
     },
     "metadata": {},
     "output_type": "display_data"
    }
   ],
   "source": [
    "# | echo: false\n",
    "file_path = \"sse2.py\"\n",
    "markdown_content = import_python_as_markdown(file_path)\n",
    "display(Markdown(markdown_content))"
   ]
  },
  {
   "cell_type": "markdown",
   "metadata": {},
   "source": [
    "\n",
    "\n",
    "In this example, the SSE stream starts before the button is clicked because of how the HTMX SSE extension works with the attributes on the button.\n",
    "The key issue is that the SSE connection attributes are **directly on the button element**:\n",
    "\n",
    "```python\n",
    "Button(\n",
    "    \"Start SSE\",\n",
    "    hx_ext=\"sse\",\n",
    "    sse_swap=\"EventName\",\n",
    "    sse_connect=\"/sse-stream\",\n",
    "    hx_swap=\"beforeend show:bottom\",\n",
    "    hx_target=\"#sse-content\",  # This is the target element that will receive the SSE messages\n",
    ")\n",
    "```\n",
    "\n",
    "With this configuration, the SSE connection is established immediately when the page is loaded because:\n",
    "\n",
    "- The HTMX SSE extension is loaded (`hx_ext=\"sse\"`).\n",
    "- The `sse_connect` attribute is present.\n",
    "- When both of these conditions are met, HTMX automatically initiates the SSE connection.\n",
    "\n",
    "This was not quite what I was going for. Clicking the button does start a new SSE connection, however\n",
    "my plan was to start the SSE connection **only** when the button is clicked, not on the initial page load.\n",
    "In the next example I show one way of doing this.\n",
    "\n"
   ]
  },
  {
   "cell_type": "markdown",
   "metadata": {},
   "source": [
    "# Example 3: How to Start SSE with Button Click (Not On Page Load)\n",
    "\n",
    "The main difference in this example is that \n",
    "SSE connection attributes are **not** on the main page which loads first.\n",
    "Instead, when we click the button, we trigger a GET request to a new endpoint, `/start-sse`.\n",
    "This endpoint returns a div with the SSE connection attributes, hence creating the initial SSE connection. \n",
    "It will replace the existing div with same id `sse-content`. The HTMX SSE connection is established and messages are streamed to the client.\n",
    "\n",
    "\n",
    "\n",
    "**TODO: Add Video of Example 3 Running. Show what button does**"
   ]
  },
  {
   "cell_type": "code",
   "execution_count": 3,
   "metadata": {},
   "outputs": [
    {
     "data": {
      "text/markdown": [
       "```python\n",
       "# ruff: noqa: F403, F405\n",
       "from asyncio import sleep\n",
       "\n",
       "from fasthtml.common import *\n",
       "from monsterui.all import *\n",
       "\n",
       "app, rt = fast_app(\n",
       "    hdrs=(\n",
       "        Theme.blue.headers(highlightjs=True),\n",
       "        Script(src=\"https://unpkg.com/htmx-ext-sse@2.2.1/sse.js\"),\n",
       "    ),\n",
       "    live=True,\n",
       ")\n",
       "\n",
       "\n",
       "@rt(\"/\")\n",
       "def index():\n",
       "    return Container(\n",
       "        H3(\"How to Start SSE with Button Click\"),\n",
       "        Form(\n",
       "            Button(\n",
       "                \"Start SSE\",\n",
       "                hx_get=\"/start-sse\",\n",
       "                hx_target=\"#sse-content\",\n",
       "            ),\n",
       "        ),\n",
       "        Div(\n",
       "            P(\"The contents of this <div> will be updated in real time with each SSE message received.\"),\n",
       "            id=\"sse-content\",\n",
       "        ),\n",
       "    )\n",
       "\n",
       "\n",
       "async def message_generator():\n",
       "    for i in range(10):\n",
       "        yield sse_message(Div(P(f\"message number {i}\")), event=\"EventName\")\n",
       "        await sleep(0.5)\n",
       "\n",
       "    yield sse_message(Div(P(\"DONE\")), event=\"EventName\")\n",
       "\n",
       "\n",
       "@rt(\"/start-sse\")\n",
       "def start_sse():\n",
       "    return (\n",
       "        Div(\n",
       "            P(\"The contents of this <div> will be updated in real time with each SSE message received.\"),\n",
       "            hx_ext=\"sse\",\n",
       "            sse_swap=\"EventName\",\n",
       "            sse_connect=\"/sse-stream\",\n",
       "            hx_swap=\"beforeend show:bottom\",\n",
       "            hx_target=\"#sse-content\",\n",
       "            id=\"sse-content\",\n",
       "        ),\n",
       "    )\n",
       "\n",
       "\n",
       "@rt(\"/sse-stream\")\n",
       "async def sse_stream():\n",
       "    return EventStream(message_generator())\n",
       "\n",
       "\n",
       "serve(port=5010)\n",
       "\n",
       "```"
      ],
      "text/plain": [
       "<IPython.core.display.Markdown object>"
      ]
     },
     "metadata": {},
     "output_type": "display_data"
    }
   ],
   "source": [
    "# | echo: false\n",
    "file_path = \"sse3.py\"\n",
    "markdown_content = import_python_as_markdown(file_path)\n",
    "display(Markdown(markdown_content))"
   ]
  },
  {
   "cell_type": "markdown",
   "metadata": {},
   "source": [
    "Note that after the SSE connection is established, it stays open and the messages are streamed to the client indefinitely as in the previous examples."
   ]
  },
  {
   "cell_type": "markdown",
   "metadata": {},
   "source": [
    "# Example 4: Closing The SSE Connection Gracefully\n",
    "\n",
    "In some cases you may want to close the SSE connection gracefully when a specific message is received.\n",
    "You can use the `sse_close` attribute in this case.\n",
    "This next example is the same as Example 3 except for that we add a special message to `close` the connection.\n",
    "The only difference from the previous example is the two lines of code which are both commented on below."
   ]
  },
  {
   "cell_type": "code",
   "execution_count": 4,
   "metadata": {},
   "outputs": [
    {
     "data": {
      "text/markdown": [
       "```python\n",
       "# ruff: noqa: F403, F405\n",
       "from asyncio import sleep\n",
       "\n",
       "from fasthtml.common import *\n",
       "from monsterui.all import *\n",
       "\n",
       "app, rt = fast_app(\n",
       "    hdrs=(\n",
       "        Theme.blue.headers(highlightjs=True),\n",
       "        Script(src=\"https://unpkg.com/htmx-ext-sse@2.2.1/sse.js\"),\n",
       "    ),\n",
       "    live=True,\n",
       ")\n",
       "\n",
       "\n",
       "@rt(\"/\")\n",
       "def index():\n",
       "    return Container(\n",
       "        H3(\"How to Start SSE with Button Click\"),\n",
       "        Form(\n",
       "            Button(\n",
       "                \"Start SSE\",\n",
       "                hx_get=\"/start-sse\",\n",
       "                hx_target=\"#sse-content\",\n",
       "            ),\n",
       "        ),\n",
       "        Div(\n",
       "            P(\"The contents of this <div> will be updated in real time with each SSE message received.\"),\n",
       "            id=\"sse-content\",\n",
       "        ),\n",
       "    )\n",
       "\n",
       "\n",
       "async def message_generator():\n",
       "    for i in range(10):\n",
       "        yield sse_message(Div(P(f\"message number {i}\")), event=\"EventName\")\n",
       "        await sleep(0.5)\n",
       "\n",
       "    yield sse_message(Div(P(\"DONE\")), event=\"EventName\")\n",
       "    yield sse_message(Div(), event=\"close\") # A special event message to close the connection\n",
       "\n",
       "\n",
       "@rt(\"/start-sse\")\n",
       "def start_sse():\n",
       "    return (\n",
       "        Div(\n",
       "            P(\"The contents of this <div> will be updated in real time with each SSE message received.\"),\n",
       "            hx_ext=\"sse\",\n",
       "            sse_swap=\"EventName\",\n",
       "            sse_connect=\"/sse-stream\",\n",
       "            sse_close=\"close\", # When this event is received, the SSE connection will be closed\n",
       "            hx_swap=\"beforeend show:bottom\",\n",
       "            hx_target=\"#sse-content\",\n",
       "            id=\"sse-content\",\n",
       "        ),\n",
       "    )\n",
       "\n",
       "\n",
       "@rt(\"/sse-stream\")\n",
       "async def sse_stream():\n",
       "    return EventStream(message_generator())\n",
       "\n",
       "\n",
       "serve(port=5010)\n",
       "\n",
       "```"
      ],
      "text/plain": [
       "<IPython.core.display.Markdown object>"
      ]
     },
     "metadata": {},
     "output_type": "display_data"
    }
   ],
   "source": [
    "# | echo: false\n",
    "file_path = \"sse4.py\"\n",
    "markdown_content = import_python_as_markdown(file_path)\n",
    "display(Markdown(markdown_content))"
   ]
  },
  {
   "cell_type": "markdown",
   "metadata": {},
   "source": [
    "**TODO: Add Video of Example 4 Running.**"
   ]
  },
  {
   "cell_type": "markdown",
   "metadata": {},
   "source": [
    "# Example 5: Receiving Multiple Named Events\n",
    "\n",
    "You can also listen to multiple events from a single EventSource. \n",
    "The listeners can be either:\n",
    "\n",
    "- the same element that contains the `hx_ext` and `sse_connect` attributes\n",
    "- or child elements of the element containing the `hx_ext` and `sse_connect` attributes\n",
    "\n",
    "## Example 5a: Multiple Listeners on the Same Element\n",
    "\n",
    "## Example 5b: Multiple Listeners on Child Elements\n"
   ]
  },
  {
   "cell_type": "markdown",
   "metadata": {},
   "source": [
    "# Example 6: `hx_trigger` example\n",
    "\n",
    "\n",
    "# Example 7: Similar to FastHTML Example with Shutdown thing"
   ]
  },
  {
   "cell_type": "markdown",
   "metadata": {},
   "source": [
    "# Recap of Main Attributes for Server Sent Events in FastHTML\n",
    "\n",
    "The [htmx.org website](https://htmx.org/extensions/sse/) has a great explanation of how to use the htmx Server Sent Event (SSE) extension. Here's a quick summary. We will use the `FastHTML` naming convention for the attributes. For example,\n",
    "`hx-ext` becomes `hx_ext`, `sse-connect` becomes `sse_connect`, etc.\n",
    "\n",
    "- `hx_ext=\"sse\"` - This is required to use the SSE extension.\n",
    "- `sse_connect=\"<url>\"` - The URL of the SSE endpoint\n",
    "- `sse_swap=\"<message-name>\"` - The name of the message to swap into the DOM.\n",
    "- `hx_trigger=\"sse:<message-name>\"` - SSE messages can also trigger HTTP callbacks using the hx-trigger attribute.\n",
    "- `sse_close=<message-name>` - To close the EventStream gracefully when that message is received. This might be helpful if you want to send information to a client that will eventually stop.\n"
   ]
  },
  {
   "cell_type": "markdown",
   "metadata": {},
   "source": [
    "# Chat Bot Example"
   ]
  },
  {
   "cell_type": "markdown",
   "metadata": {},
   "source": []
  }
 ],
 "metadata": {
  "kernelspec": {
   "display_name": ".venv",
   "language": "python",
   "name": "python3"
  },
  "language_info": {
   "codemirror_mode": {
    "name": "ipython",
    "version": 3
   },
   "file_extension": ".py",
   "mimetype": "text/x-python",
   "name": "python",
   "nbconvert_exporter": "python",
   "pygments_lexer": "ipython3",
   "version": "3.11.7"
  }
 },
 "nbformat": 4,
 "nbformat_minor": 2
}
