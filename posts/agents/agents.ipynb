{
 "cells": [
  {
   "cell_type": "raw",
   "id": "7908ac58af685d94",
   "metadata": {
    "collapsed": false,
    "vscode": {
     "languageId": "raw"
    }
   },
   "source": [
    "---\n",
    "title: Agents WIP\n",
    "author: Chris Levy\n",
    "draft: false\n",
    "date: '2025-01-04'\n",
    "date-modified: '2025-01-04'\n",
    "image: imgs/say_agentic_one_more_time.jpeg\n",
    "toc: true\n",
    "format:\n",
    "  html:\n",
    "    code-fold: show\n",
    "    page-layout: full\n",
    "include-in-header:\n",
    "  - text: |\n",
    "      <style>\n",
    "      .cell-output-stdout code {\n",
    "        word-break: break-wor !important;\n",
    "        white-space: pre-wrap !important;\n",
    "      }\n",
    "      </style>\n",
    "bibliography: ../../bibliography.bib\n",
    "---"
   ]
  },
  {
   "cell_type": "markdown",
   "id": "fcb7feb7",
   "metadata": {},
   "source": [
    "# Intro\n",
    "\n",
    "It's time for me to start learning about agents.\n",
    "\n",
    "\n",
    "## What are agents?\n",
    "\n",
    "![[image source: Tweet from Abhishek Thakur](https://x.com/abhi1thakur/status/1873697074405122144)](imgs/say_agentic_one_more_time.jpeg)\n",
    "\n",
    "Let's start with some definitions of agents from different sources.\n",
    "\n",
    "\n",
    "::: {.callout-note}\n",
    "## Agent Definition from LangChain Blog Post - [source](https://blog.langchain.dev/what-is-an-agent/)\n",
    "An AI agent is a system that uses an LLM to decide the control flow of an application.\n",
    ":::\n",
    "\n",
    "::: {.callout-note}\n",
    "## Agent Definition from AWS - [source](https://aws.amazon.com/what-is/ai-agents/)\n",
    "An artificial intelligence (AI) agent is a software program that can interact with its environment, collect data, and use the data to perform self-determined tasks to meet predetermined goals. Humans set goals, but an AI agent independently chooses the best actions it needs to perform to achieve those goals.\n",
    ":::\n",
    "\n",
    "::: {.callout-note}\n",
    "## Agent Definition from Chip Huyen's Book \"AI Engineering\" - [source](https://learning.oreilly.com/library/view/ai-engineering/9781098166298/ch06.html#ch06_agents_1730157386572111)\n",
    "\n",
    "An **agent** is anything that can perceive its environment and act upon that environment. This means that an **agent** is characterized by the environment it operates in and the set of actions it can perform.\n",
    ":::\n",
    "\n",
    "\n",
    "\n",
    "::: {.callout-note}\n",
    "## Agent Definition from Mongo DB Blog Post - [source](https://www.mongodb.com/resources/basics/artificial-intelligence/ai-agents#what-is-an-ai-agent)\n",
    "\n",
    "An AI **agent** is a computational entity with an awareness of its environment that’s equipped with faculties that enable perception through input, action through tool use, and cognitive abilities through foundation models backed by long-term and short-term memory.\n",
    ":::\n",
    "\n",
    "::: {.callout-note}\n",
    "## Agent Definition from Anthropic - [source](https://www.anthropic.com/research/building-effective-agents)\n",
    "\n",
    "**\"Agent\"** can be defined in several ways. Some customers define agents as fully autonomous systems that operate independently over extended periods, using various tools to accomplish complex tasks. Others use the term to describe more prescriptive implementations that follow predefined workflows. At Anthropic, we categorize all these variations as **agentic** systems, but draw an important architectural distinction between **workflows** and **agents**:\n",
    "\n",
    "**Workflows** are systems where LLMs and tools are orchestrated through predefined code paths.\n",
    "\n",
    "**Agents**, on the other hand, are systems where LLMs dynamically direct their own processes and tool usage, maintaining control over how they accomplish tasks.\n",
    ":::\n",
    "\n",
    "\n",
    "::: {.callout-note}\n",
    "## Agent Definition from Hugging Face Blog Post on `smolagents` - [source](https://huggingface.co/blog/smolagents)\n",
    "\n",
    "Any efficient system using AI will need to provide LLMs some kind of access to the real world: for instance the possibility to call a search tool to get external information, or to act on certain programs in order to solve a task. In other words, LLMs should have agency. Agentic programs are the gateway to the outside world for LLMs.\n",
    "\n",
    "\n",
    "**Agents** are programs where LLM outputs control the workflow. Note that with this definition, **\"agent\"** is not a discrete, 0 or 1 definition: instead, \"agency\" evolves on a continuous spectrum, as you give more or less power to the LLM on your workflow.\n",
    ":::\n",
    "\n",
    "\n",
    "## Is it an Agent? Is it Agentic? It's more like a spectrum with a lot of gray area!\n",
    "\n",
    "![[image source: Tweet from Andrew Ng](https://x.com/AndrewYNg/status/1801295202788983136)](imgs/its_agentic.jpg)\n",
    "\n",
    "There is a lot of debate and discussion on what exactly is an agent and what is not an agent. I think there is a lot of gray area here and something we \n",
    "have to just accept, at least for now. I think Andrew Ng makes some really good points in this [tweet](https://x.com/AndrewYNg/status/1801295202788983136). As Andrew points out, rather than engaging in binary debates about whether something qualifies as a \"true agent,\" we should think about systems as existing on a spectrum of agent-like qualities.  The adjective \"agentic\" itself becomes particularly useful here, allowing us to describe systems that incorporate agent-like patterns to different degrees without getting caught in restrictive definitions.\n",
    "\n",
    "This spectrum-based view is reinforced by Anthropic's recent [blog post](https://www.anthropic.com/research/building-effective-agents) on agents. They acknowledge that while they draw an architectural distinction between workflows (systems with predefined code paths) and agents (systems with dynamic control), they categorize both under the broader umbrella of \"agentic systems.\" Similarly, we saw from one of our definitions above that \"agent\" isn't a discrete, 0 or 1 definition, but rather evolves on a continuous spectrum as you give more or less power to the LLM in your system. This aligns with Andrew Ng's observation that there's a gray zone between what clearly is not an agent (prompting a model once) and what clearly is (an autonomous system that plans, uses tools, and executes multiple steps independently).\n",
    "\n",
    "![[image source: Blog post from Nathan Lambert on the AI Agent Spectrum](https://www.interconnects.ai/p/the-ai-agent-spectrum)](imgs/llm_loop_is_agent.webp)\n",
    "\n",
    "Nathan Lambert also writes about the AI agent spectrum in this [blog post](https://www.interconnects.ai/p/the-ai-agent-spectrum). Nathan discusses that the simplest system on this spectrum would be any tool-use language model and that the spectrum of agents increases in complexity from there. I like how Nathan makes the point that the spectrum will continue to evolve and that the definition of an agent will continue to change as the field evolves. Over time, certain technologies will reach milestones where they become definitive examples of AI agents. Therefore at some point, basic tool use with an LLM may not be considered an agent, even though it's the basic starting point on the agentic spectrum.\n",
    "\n",
    "![[image source: Tweet from Hamel Husain](https://x.com/HamelHusain/status/1867289397898752222)](imgs/llm_workflow_vs_loop.png)\n",
    "\n",
    "Personally, agents and agentic workflows are still so new to me and I have a lot to learn on this topic. I have deployed LLMs in production as well as built some applications where LLMs use function calling (tools) within a conversational chat interface. So I think some of my previous work has fallen somewhere within this AI agentic spectrum, even if it's at one end of the spectrum. I'm going to  keep an open mind and avoid getting caught up in debates about categorical definitions. I'll try to avoid the hype and marketing fluff but be on the lookout for innovation and practical applications. \n",
    "\n"
   ]
  },
  {
   "cell_type": "markdown",
   "id": "dc1396e2",
   "metadata": {
    "vscode": {
     "languageId": "raw"
    }
   },
   "source": [
    "# The Tool Calling Loop: The Foundation of Agentic Systems\n",
    "\n",
    "\n",
    "![[image source: Tweet from Abhishek Thakur](https://x.com/abhi1thakur/status/1875159964785987904)](imgs/just_loops_meme.jpeg)\n",
    "\n",
    "So where do we even start on this spectrum of AI agents? Practically, I think the first step is to start with an LLM equipped with tools.\n",
    "I think this is what Anthropic refers to as the [\"The augmented LLM\"](https://www.anthropic.com/research/building-effective-agents).\n",
    "\n",
    "![[image source: Blog post from Anthropic on Building effective agents](https://www.anthropic.com/research/building-effective-agents)](imgs/the_augmented_llm.png)\n",
    "\n",
    "This is the building block, an LLM equipped with tools. I think we need to take it slightly further and make it clear we need a tool calling loop. There are two distinct loops here\n",
    "I want to discuss. The entire process is kicked off by sending the user request to the LLM. The LLM then decides on the initial tool calls. These tool calls can be executed in parallel since the results of each tool call are independent of one another. The second loop is to handle follow up tool calls. These are tool calls that are dependent on the results of previous tool calls. Implementing this logic together is what I refer to as the \"tool calling loop\". \n",
    "\n",
    "I wrote about this tool calling loop in a previous [blog_post](https://drchrislevy.github.io/posts/anthropic/anthropic.html#my-own-wrapper-with-an-emphasis-on-the-tool-calling-loop). Here is an image I created during the writing of that post to illustrate the concept. \n",
    "\n",
    "![[image source: previous blog post](https://drchrislevy.github.io/posts/anthropic/anthropic.html#my-own-wrapper-with-an-emphasis-on-the-tool-calling-loop)](imgs/llm_tool_call_loop.png)\n",
    "\n",
    "\n",
    "Here is one such implementation of the tool calling loop. It assumes the typical JSON format for the tool calls and uses the OpenAI chat completion API format.\n",
    "I'm using the [`litellm`](https://github.com/BerriAI/litellm) library to call the OpenAI API since I can easily switch to another model (such as Anthropic)\n",
    "and still use the same OpenAI API format. If you have never used `litellm` before that is fine! This is my first time using it.\n",
    "All you need to know is that `from litellm import completion` is the same as calling `chat.completions.create(...)` from the `openai` library.\n"
   ]
  },
  {
   "cell_type": "code",
   "execution_count": 1,
   "id": "5ef45c75",
   "metadata": {},
   "outputs": [
    {
     "name": "stderr",
     "output_type": "stream",
     "text": [
      "/Users/christopher/personal_projects/DrChrisLevy.github.io/posts/agents/env/lib/python3.11/site-packages/pydantic/_internal/_config.py:345: UserWarning: Valid config keys have changed in V2:\n",
      "* 'fields' has been removed\n",
      "  warnings.warn(message, UserWarning)\n"
     ]
    }
   ],
   "source": [
    "# | echo: false\n",
    "# | warning: false\n",
    "import dotenv\n",
    "\n",
    "dotenv.load_dotenv()\n",
    "\n",
    "\n",
    "from IPython.display import Markdown, display\n",
    "\n",
    "\n",
    "def import_python_as_markdown(file_path):\n",
    "    with open(file_path, \"r\") as file:\n",
    "        content = file.read()\n",
    "    return f\"```python\\n{content}\\n```\"\n",
    "\n",
    "\n",
    "from tool_calling_loop import *"
   ]
  },
  {
   "cell_type": "code",
   "execution_count": 2,
   "id": "61bfd71a",
   "metadata": {},
   "outputs": [
    {
     "data": {
      "text/markdown": [
       "```python\n",
       "import json\n",
       "from concurrent import futures\n",
       "from typing import Any, Callable, Dict\n",
       "\n",
       "from litellm import completion\n",
       "\n",
       "\n",
       "def call_tool(tool: Callable, tool_args: Dict) -> Any:\n",
       "    return tool(**tool_args)\n",
       "\n",
       "\n",
       "def run_step(messages, tools=None, tools_lookup=None, model=\"gpt-4o-mini\", **kwargs):\n",
       "    response = completion(model=model, messages=messages, tools=tools, **kwargs)\n",
       "    response_message = response.choices[0].message.model_dump()\n",
       "    response_message.pop(\"function_call\", None)\n",
       "    tool_calls = response_message.get(\"tool_calls\", [])\n",
       "    messages.append(response_message)\n",
       "\n",
       "    if not tool_calls:\n",
       "        response_message.pop(\"tool_calls\", None)\n",
       "        return messages\n",
       "\n",
       "    tools_args_list = [json.loads(t[\"function\"][\"arguments\"]) for t in tool_calls]\n",
       "    tools_callables = [tools_lookup[t[\"function\"][\"name\"]] for t in tool_calls]\n",
       "    tasks = [(tools_callables[i], tools_args_list[i]) for i in range(len(tool_calls))]\n",
       "\n",
       "    with futures.ThreadPoolExecutor(max_workers=10) as executor:\n",
       "        tool_results = list(executor.map(lambda p: call_tool(p[0], p[1]), tasks))\n",
       "\n",
       "    for tool_call, tool_result in zip(tool_calls, tool_results):\n",
       "        messages.append(\n",
       "            {\n",
       "                \"tool_call_id\": tool_call[\"id\"],\n",
       "                \"role\": \"tool\",\n",
       "                \"content\": str(tool_result),\n",
       "                \"name\": tool_call[\"function\"][\"name\"],\n",
       "            }\n",
       "        )\n",
       "    return messages\n",
       "\n",
       "\n",
       "def llm_with_tools(messages, tools=None, tools_lookup=None, model=\"gpt-4o-mini\", max_steps=10, **kwargs):\n",
       "    done_calling_tools = False\n",
       "    for counter in range(max_steps):\n",
       "        print(f\"ITERATION {counter=}\")\n",
       "        messages = run_step(messages, tools, tools_lookup, model=\"gpt-4o-mini\", **kwargs)\n",
       "        done_calling_tools = messages[-1][\"role\"] == \"assistant\" and messages[-1].get(\"content\") and not messages[-1].get(\"tool_calls\")\n",
       "        if done_calling_tools:\n",
       "            break\n",
       "    return messages\n",
       "\n",
       "```"
      ],
      "text/plain": [
       "<IPython.core.display.Markdown object>"
      ]
     },
     "metadata": {},
     "output_type": "display_data"
    }
   ],
   "source": [
    "# | echo: false\n",
    "file_path = \"tool_calling_loop.py\"\n",
    "markdown_content = import_python_as_markdown(file_path)\n",
    "display(Markdown(markdown_content))"
   ]
  },
  {
   "cell_type": "markdown",
   "id": "b7a1a600",
   "metadata": {},
   "source": [
    "Let's go through some examples to see how this works.\n",
    "First we will run a single step which is a single LLM call.\n",
    "We will not add any tools to this LLM call."
   ]
  },
  {
   "cell_type": "code",
   "execution_count": null,
   "id": "d506e327",
   "metadata": {},
   "outputs": [],
   "source": [
    "messages = [\n",
    "    {\"role\": \"user\", \"content\": \"Hello friend!\"},\n",
    "]\n",
    "run_step(messages)"
   ]
  },
  {
   "cell_type": "markdown",
   "id": "133f0d48",
   "metadata": {},
   "source": [
    "Now let's define some tools.\n",
    "These tools are a list of functions that we can call.\n",
    "We also have a lookup dictionary that maps the tool name to the tool function."
   ]
  },
  {
   "cell_type": "code",
   "execution_count": 3,
   "id": "06ffe313",
   "metadata": {},
   "outputs": [
    {
     "data": {
      "text/plain": [
       "{'web_search': <function tools.web_search(query: str) -> str>,\n",
       " 'execute_python_code': <function python_sandbox.execute_python_code(code: str, sandbox=None) -> dict>,\n",
       " 'visit_web_page': <function tools.visit_web_page(url)>}"
      ]
     },
     "execution_count": 3,
     "metadata": {},
     "output_type": "execute_result"
    }
   ],
   "source": [
    "from tools import TOOL_LKP, TOOLS\n",
    "\n",
    "TOOL_LKP"
   ]
  },
  {
   "cell_type": "markdown",
   "id": "db58bdcc",
   "metadata": {},
   "source": [
    "Let's see how each tool works first.\n",
    "This tool allows me to execute arbitrary python code. It's actually running in a [Modal Sandbox](https://modal.com/docs/guide/sandbox). \n",
    "It's an awesome feature of Modal where you can run arbitrary code in a secure environment. For now, just think of it as a way to execute python code\n",
    "and get back the results."
   ]
  },
  {
   "cell_type": "code",
   "execution_count": null,
   "id": "cf151728",
   "metadata": {},
   "outputs": [],
   "source": [
    "TOOL_LKP[\"execute_python_code\"](code=\"print('Hello World!')\")"
   ]
  },
  {
   "cell_type": "code",
   "execution_count": null,
   "id": "89a14f35",
   "metadata": {},
   "outputs": [],
   "source": [
    "TOOL_LKP[\"execute_python_code\"](code=\"import math; x = math.sqrt(4); print(x); y=2; x-y\")"
   ]
  },
  {
   "cell_type": "markdown",
   "id": "0a402224",
   "metadata": {},
   "source": [
    "The next tool uses `duckduckgo-search` to search the web."
   ]
  },
  {
   "cell_type": "code",
   "execution_count": null,
   "id": "165672a7",
   "metadata": {},
   "outputs": [],
   "source": [
    "TOOL_LKP[\"web_search\"](query=\"What sporting events are happening today?\")"
   ]
  },
  {
   "cell_type": "markdown",
   "id": "cb145a64",
   "metadata": {},
   "source": [
    "And the next tool visits a web page and converts it to markdown."
   ]
  },
  {
   "cell_type": "code",
   "execution_count": null,
   "id": "6b4614fd",
   "metadata": {},
   "outputs": [],
   "source": [
    "print(TOOL_LKP[\"visit_web_page\"](url=\"https://drchrislevy.github.io/\"))"
   ]
  },
  {
   "cell_type": "markdown",
   "id": "b14aecda",
   "metadata": {},
   "source": [
    "To pass these tools to the LLM, we use the typical JSON format used within the OpenAI API format."
   ]
  },
  {
   "cell_type": "code",
   "execution_count": null,
   "id": "326313b5",
   "metadata": {},
   "outputs": [],
   "source": [
    "TOOLS"
   ]
  },
  {
   "cell_type": "markdown",
   "id": "ac31609a",
   "metadata": {},
   "source": [
    "Okay so let's run the tool calling loop now with the tools defined above to illustrate how it works."
   ]
  },
  {
   "cell_type": "code",
   "execution_count": 7,
   "id": "c79ca913",
   "metadata": {},
   "outputs": [
    {
     "name": "stdout",
     "output_type": "stream",
     "text": [
      "ITERATION counter=0\n",
      "ITERATION counter=1\n",
      "ITERATION counter=2\n"
     ]
    },
    {
     "data": {
      "text/plain": [
       "[{'role': 'system',\n",
       "  'content': 'You are a helpful assistant. Use the supplied tools to assist the user. Always use python to do math. Todays date is 2025-01-03.'},\n",
       " {'role': 'user',\n",
       "  'content': '\\n        Recently Steph Curry made a series of 3 pointers in one game without missing. \\n        How many did he make?\\n        How many points did he score in total?\\n        Calculate the total points scored by both teams and then the percentage of those points that were made by Steph Curry alone.\\n\\n        Also, how old is Lebron James and how many points did he score in his game on Jan 2 2025\\n        '},\n",
       " {'content': None,\n",
       "  'role': 'assistant',\n",
       "  'tool_calls': [{'function': {'arguments': '{\"query\": \"Steph Curry made 3 pointers in game January 2025\"}',\n",
       "     'name': 'web_search'},\n",
       "    'id': 'call_NZ4gy1ediupcUQHqjqPIstN2',\n",
       "    'type': 'function'},\n",
       "   {'function': {'arguments': '{\"query\": \"LeBron James age January 2025\"}',\n",
       "     'name': 'web_search'},\n",
       "    'id': 'call_LIfwPKYgL3gg1rlyBdhjAihC',\n",
       "    'type': 'function'},\n",
       "   {'function': {'arguments': '{\"query\": \"LeBron James points scored in game January 2 2025\"}',\n",
       "     'name': 'web_search'},\n",
       "    'id': 'call_iKa4q7oq75aHpmXOMz6ZXStM',\n",
       "    'type': 'function'}]},\n",
       " {'tool_call_id': 'call_NZ4gy1ediupcUQHqjqPIstN2',\n",
       "  'role': 'tool',\n",
       "  'content': '[{\\'title\\': \\'NBA: Stephen Curry makes history as Golden State Warriors rout ...\\', \\'href\\': \\'https://www.bbc.com/sport/basketball/articles/crk034g1levo\\', \\'body\\': \\'Stephen Curry sets a new three-pointer record as the Golden State Warriors defeat the Philadelphia 76ers 139-105 in the NBA. ... 3 January 2025. ... Curry, 36, made all eight of his three-point ...\\'}, {\\'title\\': \\'Curry breaks NBA three-pointer record as Warriors trounce 76ers\\', \\'href\\': \\'https://www.aljazeera.com/sports/2025/1/3/curry-breaks-nba-three-pointer-record-as-warriors-trounce-76ers\\', \\'body\\': \\'Published On 3 Jan 2025 3 Jan 2025. Stephen Curry had 30 points and made all eight of his 3-point attempts as the Golden State Warriors beat the Philadelphia 76ers 139-105 in San Francisco ...\\'}, {\\'title\\': \"Stephen Curry\\'s 3-point perfection caps an anomalous win the Warriors ...\", \\'href\\': \\'https://www.nytimes.com/athletic/6035422/2025/01/03/stephen-curry-warriors-8-for-8-3-pointers-76ers/\\', \\'body\\': \"He\\'s down to 22.3 points per game, on pace for his lowest since 2011-12, not counting his five-game season in 2019-20. His average of 4.3 made 3-pointers per game is on pace for his fewest since ...\"}, {\\'title\\': \\'Steph Curry perfect from 3 as Warriors blow out 76ers - The Mercury News\\', \\'href\\': \\'https://www.mercurynews.com/2025/01/02/curry-perfect-from-3-as-warriors-start-2025-hot-in-blowout-win-over-76ers/\\', \\'body\\': \"Golden State Warriors\\' Stephen Curry (30) celebrates his first three-point basket against the Philadelphia 76ers in the first quarter of an NBA game at Chase Center in San Francisco, Calif., on ...\"}, {\\'title\\': \\'Stephen Curry tastes 3-point perfection as Warriors pound 76ers\\', \\'href\\': \\'https://www.reuters.com/sports/basketball/stephen-curry-tastes-3-point-perfection-warriors-pound-76ers-2025-01-03/\\', \\'body\\': \\'January 3 - Stephen Curry added to his 3-point-shooting lore Thursday night, making all eight of his attempts for the first time in his career as the Golden State Warriors routed the Philadelphia ...\\'}]',\n",
       "  'name': 'web_search'},\n",
       " {'tool_call_id': 'call_LIfwPKYgL3gg1rlyBdhjAihC',\n",
       "  'role': 'tool',\n",
       "  'content': '[{\\'title\\': \\'LeBron Reflects on Playing High Level Ball at the Age of 40\\', \\'href\\': \\'https://basketballforever.com/2025/01/01/lebron-reflects-on-playing-high-level-ball-at-the-age-of-40\\', \\'body\\': \\'LeBron James had a candid chat with the NBA media on his 40th birthday about his storied NBA career on Monday. ... Posted on January 1, 2025 January 1, 2025 by Sam Pasfield. LeBron had a candid chat with the NBA media on his 40th birthday about his career. \"I had a decade of the 30s, so to just wake up and just be like, \\\\\\'Oh shoot, oh damn ...\\'}, {\\'title\\': \\'LeBron James Turns 40 Years Old: His Historic Achievements In 22-Year ...\\', \\'href\\': \\'https://fadeawayworld.net/nba/los-angeles-lakers/lebron-james-40-year-old-historic-achievements-22-year-career\\', \\'body\\': \\'LeBron James, the oldest active player in the NBA, turns 40 today, marking not only a personal milestone but also a moment to reflect on one of the most extraordinary careers in sports history. 57,579 MINS - Most minutes in NBA history 41,131 PTS - Most points in NBA history 11,219 AST - 4th highest assists in NBA history\\'}, {\\'title\\': \\'LeBron James turns 40: A look at statistical NBA milestones at that age ...\\', \\'href\\': \\'https://www.fox32chicago.com/sports/lebron-james-turns-40-look-statistical-nba-milestones-age\\', \\'body\\': \"LeBron James turned 40 on Monday, and the Los Angeles Lakers star is about to join a small list of NBA players who have been in the league at that age. There\\'s been only one 40-point game by a ...\"}, {\\'title\\': \\'LeBron James joins another elite group after big night, following ...\\', \\'href\\': \\'https://nbaanalysis.net/lebron-james-makes-history-in-his-first-game-after-turning-40-years-old-key-stat-shows-his-longevity/\\', \\'body\\': \\'LeBron James celebrated his 40th birthday in style, putting on a solid display despite the loss against his former team. ... Fans take it for granted, but what LeBron James is doing is unparalleled. No player to reach 40 years of age has played at such a high level in the NBA. ... — Tim Reynolds (@ByTimReynolds) January 1, 2025. View Tweet.\\'}, {\\'title\\': \\'LeBron James Becomes First NBA Player To Compete As A Teenager And Over ...\\', \\'href\\': \\'https://sports.ndtv.com/basketball/lebron-james-becomes-first-nba-player-to-compete-as-a-teenager-and-over-40-7376643\\', \\'body\\': \\'LeBron James became the first player in NBA history to play both as a teenager and past the age of 40 as Los Angeles Lakers lost to the Cleveland Cavaliers 110-122. ... January 01, 2025 04:25 pm ...\\'}]',\n",
       "  'name': 'web_search'},\n",
       " {'tool_call_id': 'call_iKa4q7oq75aHpmXOMz6ZXStM',\n",
       "  'role': 'tool',\n",
       "  'content': '[{\\'title\\': \"LeBron James breaks Jordan\\'s record for 30-point games in Lakers\\' 119 ...\", \\'href\\': \\'https://apnews.com/article/lakers-hawks-score-lebron-093d374b84d9e987b0203beb361d1c5d\\', \\'body\\': \"LeBron James scored 30 points to become the NBA\\'s career leader in 30-point games, ... Hawks guard Trae Young, second from right, as Young complains to a referee during the first half of an NBA basketball game, Friday, Jan. 3, 2025, in Los Angeles. (AP Photo/Mark J. Terrill)\"}, {\\'title\\': \"LeBron James breaks Michael Jordan\\'s record for 30-point games in ...\", \\'href\\': \\'https://www.nbclosangeles.com/news/sports/lebron-james-breaks-michael-jordans-record-for-30-point-games-in-lakers-119-102-win-over-hawks/3594358/\\', \\'body\\': \"LeBron James scored 30 points to become the NBA\\'s career leader in 30-point games, surpassing Michael Jordan\\'s record during the Los Angeles Lakers\\' 119-102 victory over the Atlanta Hawks.\"}, {\\'title\\': \\'LeBron James breaks another Michael Jordan record in Lakers win - Los ...\\', \\'href\\': \\'https://www.latimes.com/sports/lakers/story/2025-01-03/lakers-lebron-james-michael-jordan-atlanta-hawks\\', \\'body\\': \"LeBron James finishes with 30 points, breaking Michael Jordan\\'s record for most career 30-point games in the Lakers\\' 119-102 win over the Atlanta Hawks.\"}, {\\'title\\': \"LeBron James breaks Michael Jordan\\'s record for 30-point ... - KSAT.com\", \\'href\\': \\'https://www.ksat.com/sports/2025/01/04/lebron-james-breaks-michael-jordans-record-for-30-point-games-with-his-563rd/\\', \\'body\\': \\'Los Angeles Lakers forward LeBron James, left, shoots as Portland Trail Blazers center Donovan Clingan defends during the second half of an NBA basketball game, Thursday, Jan. 2, 2025, in Los Angeles.\\'}, {\\'title\\': \"LeBron James breaks Michael Jordan\\'s record for 30-point games with his ...\", \\'href\\': \\'https://www.wsls.com/sports/2025/01/04/lebron-james-breaks-michael-jordans-record-for-30-point-games-with-his-563rd/\\', \\'body\\': \\'Los Angeles Lakers forward LeBron James, left, shoots as Portland Trail Blazers center Donovan Clingan defends during the second half of an NBA basketball game, Thursday, Jan. 2, 2025, in Los Angeles.\\'}]',\n",
       "  'name': 'web_search'},\n",
       " {'content': None,\n",
       "  'role': 'assistant',\n",
       "  'tool_calls': [{'function': {'arguments': '{\"code\":\"# Calculating total points and percentage scored by Steph Curry\\\\n# Given data\\\\ncurry_3_pointers = 8\\\\ncurry_points = 30\\\\nopponent_points = 105\\\\nwarriors_points = 139\\\\n\\\\n# Total points scored by both teams\\\\ntotal_points = warriors_points + opponent_points\\\\n\\\\n# Percentage of points scored by Steph Curry\\\\npercentage_curry_points = (curry_points / total_points) * 100\\\\n\\\\n(total_points, percentage_curry_points)\"}',\n",
       "     'name': 'execute_python_code'},\n",
       "    'id': 'call_riukdaII9IVIKHvrXQB5D9bo',\n",
       "    'type': 'function'}]},\n",
       " {'tool_call_id': 'call_riukdaII9IVIKHvrXQB5D9bo',\n",
       "  'role': 'tool',\n",
       "  'content': \"{'stdout': 'Out[1]: (244, 12.295081967213115)\\\\n', 'stderr': '', 'success': True, 'result': '(244, 12.295081967213115)', 'error': None}\",\n",
       "  'name': 'execute_python_code'},\n",
       " {'content': \"Here are the details regarding Steph Curry's performance and LeBron James's information:\\n\\n1. **Steph Curry's Performance:**\\n   - **3-Pointers Made:** 8\\n   - **Total Points Scored:** 30\\n   - **Total Points Scored by Both Teams:** 244\\n   - **Percentage of Points Scored by Steph Curry Alone:** Approximately 12.30%\\n\\n2. **LeBron James Information:**\\n   - **Age (as of January 2025):** 40 years old\\n   - **Points Scored in the Game on January 2, 2025:** 30 points\\n\\nIf you have any more questions or need further assistance, feel free to ask!\",\n",
       "  'role': 'assistant'}]"
      ]
     },
     "execution_count": 7,
     "metadata": {},
     "output_type": "execute_result"
    }
   ],
   "source": [
    "messages = [\n",
    "    {\n",
    "        \"role\": \"system\",\n",
    "        \"content\": \"You are a helpful assistant. Use the supplied tools to assist the user. Always use python to do math. Todays date is 2025-01-03.\",\n",
    "    },\n",
    "    {\n",
    "        \"role\": \"user\",\n",
    "        \"content\": \"\"\"\n",
    "        Recently Steph Curry made a series of 3 pointers in one game without missing. \n",
    "        How many did he make?\n",
    "        How many points did he score in total?\n",
    "        Calculate the total points scored by both teams and then the percentage of those points that were made by Steph Curry alone.\n",
    "\n",
    "        Also, how old is Lebron James and how many points did he score in his game on Jan 2 2025\n",
    "        \"\"\",\n",
    "    },\n",
    "]\n",
    "llm_with_tools(messages, tools=TOOLS, tools_lookup=TOOL_LKP)"
   ]
  },
  {
   "cell_type": "markdown",
   "id": "cb47392c",
   "metadata": {},
   "source": [
    "# TODO Thoughts\n",
    "\n",
    "- the idea of agent writing code instead of just JSON. As discussed in the [Hugging Face Blog Post on `smolagents`](https://huggingface.co/blog/smolagents) as well as the paper [Executable Code Actions Elicit Better LLM Agents](https://huggingface.co/papers/2402.01030)\n",
    "- HF collection of papers on agents - [source](https://huggingface.co/collections/m-ric/agents-65ba776fbd9e29f771c07d4e)\n",
    "- [ReAct Paper - main paper on agents?](https://huggingface.co/papers/2210.03629)\n",
    "- [Secure Code Execution with E2B](https://huggingface.co/docs/smolagents/tutorials/secure_code_execution)\n",
    "    - But I would like to look into Modal Sand Box too\n",
    "- [Which AI Agent framework should i use? (CrewAI, Langgraph, Majestic-one and pure code)](https://medium.com/@aydinKerem/which-ai-agent-framework-i-should-use-crewai-langgraph-majestic-one-and-pure-code-e16a6e4d9252)\n",
    "- [321 real-world gen AI use cases from the world's leading organizations](https://cloud.google.com/transform/101-real-world-generative-ai-use-cases-from-industry-leaders)\n",
    "    - maybe some interesting ideas here for agents?\n",
    "- a single LLM call is not agentic!\n",
    "- an augmented LLM with tools may not be an agent but rather on the agentic spectrum, according to anthropic blog post.\n",
    "- one cool thing about multi agents is that each agent is modular and can be good at one thing. Also these agents can be different models/prompts/providers etc.\n",
    "- from CrewAI - role playing, focus, tools, cooperation, guardrails, memory\n",
    "    - role playing - give the agent a role/persona with system prompt, careful consideration of role and backstory for the agent\n",
    "    - focus - Too much tools, too much context, etc. Make agent focus on one thing. Don't let agent do too much. \n",
    "    - tools - too many tools or overload of tools can lead to issues. Choose the tools carefully for each agent and not too many.\n",
    "    - cooperation - multi agent cooperation. Just like human can intteract with ChatGPT in iterative manner to get better results/outputs, the LLM agents can interact with each other anc accept feedback, delegate tasks.\n",
    "    - guardrails - agents getting stuck doing loops, derailing, etc. Many frameworks have guardrails built in.\n",
    "    - memory - ability for the agent to remember what it has done, what it has learned, etc. Short term memory is mmemory during execution of a task. share knowledge, activities. and learnings with agents. sharing intermedia information even before task completion. Long term memory - after the crew is finished. Stored in DB. LOng term memory can be used in future tasks. Leads to self improving agents.\n",
    "    - process i.e. process.hierarchical\n",
    "- CrewAI advice:\n",
    "    - think like a manager \n",
    "    - Cache tool responses across all agents \n",
    "    - Tools should be versatile and fault tolerant \n",
    "    - I feel like this is simply good SWE practice.\n",
    "\n",
    "\n",
    "# Frameworks and Platforms\n",
    "\n",
    "- crewAI\n",
    "- Langgraph\n",
    "- Smolagents\n",
    "- autogen\n",
    "- [Amazon Bedrock Agents](https://aws.amazon.com/bedrock/agents/)"
   ]
  },
  {
   "cell_type": "markdown",
   "id": "989dae99",
   "metadata": {},
   "source": [
    "# Resources\n",
    "\n",
    "[OpenAI Note Book - Prerequisite to Swarm - Orchestrating Agents: Routines and Handoffs](https://github.com/openai/openai-cookbook/blob/main/examples/Orchestrating_agents.ipynb)\n",
    "\n",
    "[Anthropic Blog - Building effective agents](https://docs.anthropic.com/en/docs/build/agents/building-effective-agentshttps://www.anthropic.com/research/building-effective-agents)\n",
    "\n",
    "[AI Engineering Book - By Chip Huyen](https://learning.oreilly.com/library/view/ai-engineering/9781098166298/)\n",
    "\n",
    "[Hugging Face Blog Post - Introducing smolagents, a simple library to build agents](https://huggingface.co/blog/smolagents)\n",
    "\n",
    "[litelllm - GIthub](https://github.com/BerriAI/litellm)\n",
    "\n",
    "[Executable Code Actions Elicit Better LLM Agents](https://huggingface.co/papers/2402.01030)\n",
    "\n",
    "[Hugging Face Collection of Papers on Agents](https://huggingface.co/collections/m-ric/agents-65ba776fbd9e29f771c07d4e)\n",
    "\n",
    "[Deep Learning AI Course -  Multi AI Agent Systems with crewAI](https://www.deeplearning.ai/short-courses/multi-ai-agent-systems-with-crewai/)\n",
    "\n",
    "\n",
    "[Raising the bar on SWE-bench Verified with Claude 3.5 Sonnet](https://www.anthropic.com/research/swe-bench-sonnet)\n",
    "\n",
    "[Building Effective Agents Cookbook](https://github.com/anthropics/anthropic-cookbook/tree/main/patterns/agents)\n",
    "\n",
    "[deeplearning.ai - The Batch - Issue 281 - Recap of 2024 - with some agentic thoughts](https://www.deeplearning.ai/the-batch/issue-281/)\n",
    "\n",
    "[LangChain Blog Post - What is an Agent?](https://blog.langchain.dev/what-is-an-agent/)\n",
    "\n",
    "\n",
    "[Lindy](https://www.lindy.ai/)\n",
    "\n",
    "\n",
    "[\"Say Agentic One More Time\" Meme](https://x.com/abhi1thakur/status/1873697074405122144)\n",
    "\n",
    "\n",
    "[AWS: What is an Agent?](https://aws.amazon.com/what-is/ai-agents/)\n",
    "\n",
    "[Chapter 6 Agents from AI Engineering Book by Chip Huyen](https://learning.oreilly.com/library/view/ai-engineering/9781098166298/ch06.html#ch06_agents_1730157386572111)\n",
    "\n",
    "[tweet from Andrew Ng on AI Agent Spectrum](https://x.com/AndrewYNg/status/1801295202788983136)\n",
    "\n",
    "[Nathan Lambert Blog Post on the AI Agent Spectrum](https://www.interconnects.ai/p/the-ai-agent-spectrum)\n",
    "\n",
    "[Lang Chain Academy - AI Agents with LangGraph](https://academy.langchain.com/courses/take/intro-to-langgraph/lessons/56295530-getting-set-up-video-guide)\n",
    "\n",
    "[Deep Learning AI Course - LangGraph AI Agents](https://www.deeplearning.ai/short-courses/ai-agents-in-langgraph/)\n",
    "\n",
    "\n",
    "[A simple Python implementation of the ReAct pattern for LLMs](https://til.simonwillison.net/llms/python-react-pattern)\n",
    "\n",
    "[AI Agents That Matter](https://agents.cs.princeton.edu/)\n",
    "\n",
    "[Demystifying AI Agents: A Guide for Beginners](https://www.mongodb.com/resources/basics/artificial-intelligence/ai-agents)\n",
    "\n",
    "\n"
   ]
  }
 ],
 "metadata": {
  "kernelspec": {
   "display_name": "Python 3",
   "language": "python",
   "name": "python3"
  },
  "language_info": {
   "codemirror_mode": {
    "name": "ipython",
    "version": 3
   },
   "file_extension": ".py",
   "mimetype": "text/x-python",
   "name": "python",
   "nbconvert_exporter": "python",
   "pygments_lexer": "ipython3",
   "version": "3.11.7"
  }
 },
 "nbformat": 4,
 "nbformat_minor": 5
}
