{
 "cells": [
  {
   "cell_type": "raw",
   "id": "7908ac58af685d94",
   "metadata": {
    "collapsed": false,
    "vscode": {
     "languageId": "raw"
    }
   },
   "source": [
    "---\n",
    "title: Agents WIP\n",
    "author: Chris Levy\n",
    "draft: false\n",
    "date: '2024-12-29'\n",
    "date-modified: '2024-12-29'\n",
    "image: imgs/intro.png\n",
    "toc: true\n",
    "format:\n",
    "  html:\n",
    "    code-fold: show\n",
    "    page-layout: full\n",
    "include-in-header:\n",
    "  - text: |\n",
    "      <style>\n",
    "      .cell-output-stdout code {\n",
    "        word-break: break-wor !important;\n",
    "        white-space: pre-wrap !important;\n",
    "      }\n",
    "      </style>\n",
    "bibliography: ../../bibliography.bib\n",
    "---"
   ]
  },
  {
   "cell_type": "markdown",
   "id": "fcb7feb7",
   "metadata": {},
   "source": [
    "# Intro\n",
    "\n",
    "It's time for me to do a deep dive into agents.\n",
    "\n",
    "\n",
    "# What are agents?\n",
    "\n",
    "Let's start with some definitions of agents from different sources.\n",
    "\n",
    "::: {.callout-note}\n",
    "## Agent Definition from AWS - [source](https://aws.amazon.com/what-is/ai-agents/)\n",
    "An artificial intelligence (AI) agent is a software program that can interact with its environment, collect data, and use the data to perform self-determined tasks to meet predetermined goals. Humans set goals, but an AI agent independently chooses the best actions it needs to perform to achieve those goals.\n",
    ":::\n",
    "\n",
    "::: {.callout-note}\n",
    "## Agent Definition from Anthropic - [source](https://www.anthropic.com/research/building-effective-agents)\n",
    "\n",
    "**Agentic**\n",
    "\n",
    "- Fully autonomous systems that operate independently over extended periods, using various tools to accomplish complex tasks. \n",
    "- Prescriptive implementations that follow predefined workflows. \n",
    "- At Anthropic, we categorize all these variations as **agentic** systems, but draw an important architectural distinction between **workflows** and **agents**:\n",
    "\n",
    "**Workflows** \n",
    "\n",
    "- are systems where LLMs and tools are orchestrated through predefined code paths.\n",
    "\n",
    "**Agents**\n",
    "\n",
    "- are systems where LLMs dynamically direct their own processes and tool usage, maintaining control over how they accomplish tasks.\n",
    ":::\n",
    "\n",
    "\n",
    "::: {.callout-note}\n",
    "## Agent Definition from Chip Huyen's Book \"AI Engineering\" - [source](https://learning.oreilly.com/library/view/ai-engineering/9781098166298/ch06.html#ch06_agents_1730157386572111)\n",
    "\n",
    "An **agent** is anything that can perceive its environment and act upon that environment. This means that an **agent** is characterized by the environment it operates in and the set of actions it can perform.\n",
    ":::\n",
    "\n",
    "\n",
    "\n",
    "\n",
    "\n",
    "\n"
   ]
  },
  {
   "cell_type": "code",
   "execution_count": 1,
   "id": "4385f121",
   "metadata": {},
   "outputs": [
    {
     "data": {
      "text/plain": [
       "True"
      ]
     },
     "execution_count": 1,
     "metadata": {},
     "output_type": "execute_result"
    }
   ],
   "source": [
    "import dotenv\n",
    "\n",
    "dotenv.load_dotenv()\n",
    "\n"
   ]
  },
  {
   "cell_type": "markdown",
   "id": "989dae99",
   "metadata": {},
   "source": [
    "# Resources\n",
    "\n",
    "[OpenAI Note Book - Prerequisite to Swarm - Orchestrating Agents: Routines and Handoffs](https://github.com/openai/openai-cookbook/blob/main/examples/Orchestrating_agents.ipynb)\n",
    "\n",
    "[Anthropic Blog - Building effective agents](https://docs.anthropic.com/en/docs/build/agents/building-effective-agentshttps://www.anthropic.com/research/building-effective-agents)\n",
    "\n",
    "[AI Engineering Book - By Chip Huyen](https://learning.oreilly.com/library/view/ai-engineering/9781098166298/)\n",
    "\n",
    "[Deep Learning AI Course -  Multi AI Agent Systems with crewAI](https://www.deeplearning.ai/short-courses/multi-ai-agent-systems-with-crewai/)"
   ]
  },
  {
   "cell_type": "code",
   "execution_count": 3,
   "id": "628b5f5e",
   "metadata": {},
   "outputs": [],
   "source": []
  },
  {
   "cell_type": "code",
   "execution_count": null,
   "id": "fc87123e",
   "metadata": {},
   "outputs": [],
   "source": []
  },
  {
   "cell_type": "code",
   "execution_count": null,
   "id": "b000c93b",
   "metadata": {},
   "outputs": [],
   "source": []
  }
 ],
 "metadata": {
  "kernelspec": {
   "display_name": "Python 3",
   "language": "python",
   "name": "python3"
  },
  "language_info": {
   "codemirror_mode": {
    "name": "ipython",
    "version": 3
   },
   "file_extension": ".py",
   "mimetype": "text/x-python",
   "name": "python",
   "nbconvert_exporter": "python",
   "pygments_lexer": "ipython3",
   "version": "3.11.7"
  }
 },
 "nbformat": 4,
 "nbformat_minor": 5
}
