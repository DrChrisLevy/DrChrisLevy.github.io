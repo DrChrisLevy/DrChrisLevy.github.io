{
 "cells": [
  {
   "cell_type": "raw",
   "id": "7908ac58af685d94",
   "metadata": {
    "collapsed": false,
    "vscode": {
     "languageId": "raw"
    }
   },
   "source": [
    "---\n",
    "title: Agents WIP\n",
    "author: Chris Levy\n",
    "draft: false\n",
    "date: '2025-01-04'\n",
    "date-modified: '2025-01-04'\n",
    "image: imgs/say_agentic_one_more_time.jpeg\n",
    "toc: true\n",
    "format:\n",
    "  html:\n",
    "    code-fold: show\n",
    "    page-layout: full\n",
    "include-in-header:\n",
    "  - text: |\n",
    "      <style>\n",
    "      .cell-output-stdout code {\n",
    "        word-break: break-wor !important;\n",
    "        white-space: pre-wrap !important;\n",
    "      }\n",
    "      </style>\n",
    "bibliography: ../../bibliography.bib\n",
    "---"
   ]
  },
  {
   "cell_type": "markdown",
   "id": "fcb7feb7",
   "metadata": {},
   "source": [
    "# Intro\n",
    "\n",
    "It's time for me to start learning about agents.\n",
    "\n",
    "\n",
    "## What are agents?\n",
    "\n",
    "![[Meme/Image source](https://x.com/abhi1thakur/status/1873697074405122144)](imgs/say_agentic_one_more_time.jpeg)\n",
    "\n",
    "Let's start with some definitions of agents from different sources.\n",
    "\n",
    "\n",
    "::: {.callout-note}\n",
    "## Agent Definition from LangChain Blog Post - [source](https://blog.langchain.dev/what-is-an-agent/)\n",
    "An AI agent is a system that uses an LLM to decide the control flow of an application.\n",
    ":::\n",
    "\n",
    "::: {.callout-note}\n",
    "## Agent Definition from AWS - [source](https://aws.amazon.com/what-is/ai-agents/)\n",
    "An artificial intelligence (AI) agent is a software program that can interact with its environment, collect data, and use the data to perform self-determined tasks to meet predetermined goals. Humans set goals, but an AI agent independently chooses the best actions it needs to perform to achieve those goals.\n",
    ":::\n",
    "\n",
    "::: {.callout-note}\n",
    "## Agent Definition from Chip Huyen's Book \"AI Engineering\" - [source](https://learning.oreilly.com/library/view/ai-engineering/9781098166298/ch06.html#ch06_agents_1730157386572111)\n",
    "\n",
    "An **agent** is anything that can perceive its environment and act upon that environment. This means that an **agent** is characterized by the environment it operates in and the set of actions it can perform.\n",
    ":::\n",
    "\n",
    "\n",
    "\n",
    "::: {.callout-note}\n",
    "## Agent Definition from Mongo DB Blog Post - [source](https://www.mongodb.com/resources/basics/artificial-intelligence/ai-agents#what-is-an-ai-agent)\n",
    "\n",
    "An AI **agent** is a computational entity with an awareness of its environment that’s equipped with faculties that enable perception through input, action through tool use, and cognitive abilities through foundation models backed by long-term and short-term memory.\n",
    ":::\n",
    "\n",
    "::: {.callout-note}\n",
    "## Agent Definition from Anthropic - [source](https://www.anthropic.com/research/building-effective-agents)\n",
    "\n",
    "**\"Agent\"** can be defined in several ways. Some customers define agents as fully autonomous systems that operate independently over extended periods, using various tools to accomplish complex tasks. Others use the term to describe more prescriptive implementations that follow predefined workflows. At Anthropic, we categorize all these variations as **agentic** systems, but draw an important architectural distinction between **workflows** and **agents**:\n",
    "\n",
    "**Workflows** are systems where LLMs and tools are orchestrated through predefined code paths.\n",
    "\n",
    "**Agents**, on the other hand, are systems where LLMs dynamically direct their own processes and tool usage, maintaining control over how they accomplish tasks.\n",
    ":::\n",
    "\n",
    "\n",
    "::: {.callout-note}\n",
    "## Agent Definition from Hugging Face Blog Post on `smolagents` - [source](https://huggingface.co/blog/smolagents)\n",
    "\n",
    "Any efficient system using AI will need to provide LLMs some kind of access to the real world: for instance the possibility to call a search tool to get external information, or to act on certain programs in order to solve a task. In other words, LLMs should have agency. Agentic programs are the gateway to the outside world for LLMs.\n",
    "\n",
    "\n",
    "**Agents** are programs where LLM outputs control the workflow. Note that with this definition, **\"agent\"** is not a discrete, 0 or 1 definition: instead, \"agency\" evolves on a continuous spectrum, as you give more or less power to the LLM on your workflow\n",
    ":::\n",
    "\n",
    "\n",
    "## Is it an Agent? Is it Agentic? It's more like a spectrum with a lot of gray area!\n",
    "\n",
    "![[tweet from Andrew Ng](https://x.com/AndrewYNg/status/1801295202788983136)](imgs/its_agentic.jpg)\n",
    "\n",
    "There is a lot of debate and discussion on what exactly is an agent and what is not an agent. I think there is a lot of gray area here and something we \n",
    "have to just accept, at least for now. I think Andrew Ng makes some really good points in this [tweet](https://x.com/AndrewYNg/status/1801295202788983136). As Andrew points out, rather than engaging in binary debates about whether something qualifies as a \"true agent,\" we should think about systems as existing on a spectrum of agent-like qualities.  The adjective \"agentic\" itself becomes particularly useful here, allowing us to describe systems that incorporate agent-like patterns to different degrees without getting caught in restrictive definitions.\n",
    "\n",
    "This spectrum-based view is reinforced by Anthropic's recent [blog post](https://www.anthropic.com/research/building-effective-agents) on agents. They acknowledge that while they draw an architectural distinction between workflows (systems with predefined code paths) and agents (systems with dynamic control), they categorize both under the broader umbrella of \"agentic systems.\" Similarly, we saw from one of our definitions above that \"agent\" isn't a discrete, 0 or 1 definition, but rather evolves on a continuous spectrum as you give more or less power to the LLM in your system. This aligns with Andrew Ng's observation that there's a gray zone between what clearly is not an agent (prompting a model once) and what clearly is (an autonomous system that plans, uses tools, and executes multiple steps independently).\n",
    "\n",
    "![[Nathan Lambert Blog Post on the AI Agent Spectrum](https://www.interconnects.ai/p/the-ai-agent-spectrum)](imgs/llm_loop_is_agent.webp)\n",
    "\n",
    "Nathan Lambert also writes about the AI agent spectrum in this [blog post](https://www.interconnects.ai/p/the-ai-agent-spectrum). Nathan discusses that the simplest system on this spectrum would be any tool-use language model and that the spectrum of agents increases in complexity from there. I like how Nathan makes the point that the spectrum will continue to evolve and that the definition of an agent will continue to change as the field evolves. Over time, certain technologies will reach milestones where they become definitive examples of AI agents. Therefore at some point, basic tool use with an LLM may not be considered an agent, even though it's the basic starting point on the agentic spectrum.\n",
    "\n",
    "![](imgs/llm_workflow_vs_loop.png)\n",
    "\n",
    "Personally, agents and agentic workflows are still so new to me and I have a lot to learn on this topic. I have deployed LLMs in production as well as built some applications where LLMs use function calling (tools) within a conversational chat interface. So I think some of my previous work has fallen somewhere within this AI agentic spectrum, even if it's at one end of the spectrum. I'm going to  keep an open mind and avoid getting caught up in debates about categorical definitions. I'll try to avoid the hype and marketing fluff but be on the lookout for innovation and practical applications. \n",
    "\n"
   ]
  },
  {
   "cell_type": "markdown",
   "id": "dc1396e2",
   "metadata": {
    "vscode": {
     "languageId": "raw"
    }
   },
   "source": [
    "# The Tool Calling Loop - The Foundation of Agentic Systems\n",
    "\n",
    "![[meme source](https://x.com/abhi1thakur/status/1875159964785987904)](imgs/just_loops_meme.jpeg)\n",
    "\n",
    "\n"
   ]
  },
  {
   "cell_type": "code",
   "execution_count": null,
   "id": "0d2e51b4",
   "metadata": {},
   "outputs": [
    {
     "ename": "",
     "evalue": "",
     "output_type": "error",
     "traceback": [
      "\u001b[1;31mnotebook controller is DISPOSED. \n",
      "\u001b[1;31mView Jupyter <a href='command:jupyter.viewOutput'>log</a> for further details."
     ]
    },
    {
     "ename": "",
     "evalue": "",
     "output_type": "error",
     "traceback": [
      "\u001b[1;31mnotebook controller is DISPOSED. \n",
      "\u001b[1;31mView Jupyter <a href='command:jupyter.viewOutput'>log</a> for further details."
     ]
    }
   ],
   "source": [
    "import dotenv\n",
    "\n",
    "dotenv.load_dotenv()"
   ]
  },
  {
   "cell_type": "code",
   "execution_count": 1,
   "id": "d506e327",
   "metadata": {},
   "outputs": [
    {
     "name": "stderr",
     "output_type": "stream",
     "text": [
      "/Users/christopher/personal_projects/DrChrisLevy.github.io/posts/agents/env/lib/python3.11/site-packages/pydantic/_internal/_config.py:345: UserWarning: Valid config keys have changed in V2:\n",
      "* 'fields' has been removed\n",
      "  warnings.warn(message, UserWarning)\n"
     ]
    }
   ],
   "source": [
    "import json\n",
    "from concurrent import futures\n",
    "from typing import Any, Callable, Dict\n",
    "\n",
    "from litellm import completion\n",
    "from tools import TOOL_LKP, TOOLS\n",
    "\n",
    "\n",
    "def call_tool(tool: Callable, tool_args: Dict) -> Any:\n",
    "    return tool(**tool_args)\n",
    "\n",
    "\n",
    "def run_step(messages):\n",
    "    response = completion(\n",
    "        model=\"gpt-4o-mini\",\n",
    "        messages=messages,\n",
    "        temperature=0,\n",
    "        tools=TOOLS,\n",
    "    )\n",
    "    response_message = response.choices[0].message.model_dump()  # TODO: model_dump\n",
    "    response_message.pop(\"function_call\", None)\n",
    "    tool_calls = response_message.get(\"tool_calls\", [])\n",
    "    messages.append(response_message)\n",
    "\n",
    "    if not tool_calls:\n",
    "        response_message.pop(\"tool_calls\", None)\n",
    "        return messages\n",
    "\n",
    "    tools_args_list = [json.loads(t[\"function\"][\"arguments\"]) for t in tool_calls]\n",
    "    tools_callables = [TOOL_LKP[t[\"function\"][\"name\"]] for t in tool_calls]\n",
    "    tasks = [(tools_callables[i], tools_args_list[i]) for i in range(len(tool_calls))]\n",
    "\n",
    "    with futures.ThreadPoolExecutor(max_workers=10) as executor:\n",
    "        tool_results = list(executor.map(lambda p: call_tool(p[0], p[1]), tasks))\n",
    "\n",
    "    for tool_call, tool_result in zip(tool_calls, tool_results):\n",
    "        messages.append(\n",
    "            {\n",
    "                \"tool_call_id\": tool_call[\"id\"],\n",
    "                \"role\": \"tool\",\n",
    "                \"content\": str(tool_result),\n",
    "            }\n",
    "        )\n",
    "    return messages\n",
    "\n",
    "\n",
    "def tool_calling_loop(messages, max_steps=10):\n",
    "    for counter in range(max_steps):\n",
    "        print(f\"ITERATION {counter=}\")\n",
    "        messages = run_step(messages)\n",
    "        if messages[-1][\"role\"] == \"assistant\" and messages[-1][\"content\"]:  # TODO\n",
    "            break\n",
    "    return messages"
   ]
  },
  {
   "cell_type": "code",
   "execution_count": 2,
   "id": "6b4614fd",
   "metadata": {},
   "outputs": [
    {
     "name": "stdout",
     "output_type": "stream",
     "text": [
      "ITERATION counter=0\n"
     ]
    },
    {
     "data": {
      "text/plain": [
       "[{'role': 'user', 'content': 'Hello friend!'},\n",
       " {'content': 'Hello! How can I assist you today?', 'role': 'assistant'}]"
      ]
     },
     "execution_count": 2,
     "metadata": {},
     "output_type": "execute_result"
    }
   ],
   "source": [
    "messages = [\n",
    "    {\"role\": \"user\", \"content\": \"Hello friend!\"},\n",
    "]\n",
    "tool_calling_loop(messages)"
   ]
  },
  {
   "cell_type": "code",
   "execution_count": 3,
   "id": "c79ca913",
   "metadata": {},
   "outputs": [
    {
     "name": "stdout",
     "output_type": "stream",
     "text": [
      "ITERATION counter=0\n",
      "ITERATION counter=1\n",
      "ITERATION counter=2\n"
     ]
    },
    {
     "data": {
      "text/plain": [
       "[{'role': 'system',\n",
       "  'content': 'You are a helpful assistant. Use the supplied tools to assist the user. Todays date is 2025-01-03.'},\n",
       " {'role': 'user',\n",
       "  'content': 'Recently Steph Curry made 3 pointers in one game without missing. How many did he make? What was the score of the game? Calculate the percentage of the two teams combined points were made by Steph Curry. Also how old is Lebron James and how many points did he score on Jan 2 2025?'},\n",
       " {'content': None,\n",
       "  'role': 'assistant',\n",
       "  'tool_calls': [{'function': {'arguments': '{\"query\": \"Steph Curry 3 pointers made in one game without missing January 2025\"}',\n",
       "     'name': 'web_search'},\n",
       "    'id': 'call_1ytPzVp1ymTRhr8anFucj64c',\n",
       "    'type': 'function'},\n",
       "   {'function': {'arguments': '{\"query\": \"LeBron James age January 2025\"}',\n",
       "     'name': 'web_search'},\n",
       "    'id': 'call_isgJuv0uCf3AVsoJA10qm1XY',\n",
       "    'type': 'function'},\n",
       "   {'function': {'arguments': '{\"query\": \"LeBron James points scored January 2 2025\"}',\n",
       "     'name': 'web_search'},\n",
       "    'id': 'call_ttiFyjTycxpZssHCSaaHPtkP',\n",
       "    'type': 'function'}]},\n",
       " {'tool_call_id': 'call_1ytPzVp1ymTRhr8anFucj64c',\n",
       "  'role': 'tool',\n",
       "  'content': '[{\\'title\\': \\'Stephen Curry accomplishes rare 3-point feat for first time in his ...\\', \\'href\\': \\'https://www.cbssports.com/nba/news/stephen-curry-accomplishes-rare-3-point-feat-for-first-time-in-his-career-in-warriors-win-over-76ers/\\', \\'body\\': \"This is the first time that Curry has made that many 3-pointers at a 100% clip in a single game, and he is just the ninth player in NBA history to do so. ... January 3, 2025. Curry\\'s previous high ...\"}, {\\'title\\': \\'Steph Curry perfect from 3 as Warriors blow out 76ers - The Mercury News\\', \\'href\\': \\'https://www.mercurynews.com/2025/01/02/curry-perfect-from-3-as-warriors-start-2025-hot-in-blowout-win-over-76ers/\\', \\'body\\': \"Steph Curry went 8-for-98 from 3-point land as the Warriors routed Philadelphia. ... January 3, 2025 at 6:57 AM PST. ... but he\\'d never made that many without missing a single one. His previous ...\"}, {\\'title\\': \"Stephen Curry\\'s Perfect 3-Point Shooting Night Propels Warriors to 34 ...\", \\'href\\': \\'https://www.nba.com/warriors/news/gameday-recap-20250102\\', \\'body\\': \"Stephen Curry scored 30 points, dished out 10 assists and made eight 3-pointers without a miss in the Warriors\\' 139-105 win over the Philadelphia 76ers at Chase Center on Thursday. Curry\\'s eight 3 ...\"}, {\\'title\\': \"Stephen Curry\\'s 3-point perfection caps an anomalous win the Warriors ...\", \\'href\\': \\'https://www.nytimes.com/athletic/6035422/2025/01/03/stephen-curry-warriors-8-for-8-3-pointers-76ers/\\', \\'body\\': \"He\\'s down to 22.3 points per game, on pace for his lowest since 2011-12, not counting his five-game season in 2019-20. His average of 4.3 made 3-pointers per game is on pace for his fewest since ...\"}, {\\'title\\': \\'NBA: Stephen Curry makes history as Golden State Warriors rout ...\\', \\'href\\': \\'https://www.bbc.com/sport/basketball/articles/crk034g1levo\\', \\'body\\': \\'Stephen Curry sets a new three-pointer record as the Golden State Warriors defeat the Philadelphia 76ers 139-105 in the NBA. ... 3 January 2025. ... Curry, 36, made all eight of his three-point ...\\'}]'},\n",
       " {'tool_call_id': 'call_isgJuv0uCf3AVsoJA10qm1XY',\n",
       "  'role': 'tool',\n",
       "  'content': '[{\\'title\\': \\'LeBron James turns 40: A look at statistical NBA milestones at that age ...\\', \\'href\\': \\'https://www.fox32chicago.com/sports/lebron-james-turns-40-look-statistical-nba-milestones-age\\', \\'body\\': \"LeBron James turned 40 on Monday, and the Los Angeles Lakers star is about to join a small list of NBA players who have been in the league at that age. There\\'s been only one 40-point game by a ...\"}, {\\'title\\': \\'LeBron James Turns 40 Years Old: His Historic Achievements In 22-Year ...\\', \\'href\\': \\'https://fadeawayworld.net/nba/los-angeles-lakers/lebron-james-40-year-old-historic-achievements-22-year-career\\', \\'body\\': \\'LeBron James, the oldest active player in the NBA, turns 40 today, marking not only a personal milestone but also a moment to reflect on one of the most extraordinary careers in sports history. 57,579 MINS - Most minutes in NBA history 41,131 PTS - Most points in NBA history 11,219 AST - 4th highest assists in NBA history\\'}, {\\'title\\': \\'LeBron Reflects on Playing High Level Ball at the Age of 40\\', \\'href\\': \\'https://basketballforever.com/2025/01/01/lebron-reflects-on-playing-high-level-ball-at-the-age-of-40\\', \\'body\\': \\'LeBron James had a candid chat with the NBA media on his 40th birthday about his storied NBA career on Monday. ... Posted on January 1, 2025 January 1, 2025 by Sam Pasfield. LeBron had a candid chat with the NBA media on his 40th birthday about his career. \"I had a decade of the 30s, so to just wake up and just be like, \\\\\\'Oh shoot, oh damn ...\\'}, {\\'title\\': \\'LeBron James joins another elite group after big night, following ...\\', \\'href\\': \\'https://nbaanalysis.net/lebron-james-makes-history-in-his-first-game-after-turning-40-years-old-key-stat-shows-his-longevity/\\', \\'body\\': \\'LeBron James celebrated his 40th birthday in style, putting on a solid display despite the loss against his former team. ... Fans take it for granted, but what LeBron James is doing is unparalleled. No player to reach 40 years of age has played at such a high level in the NBA. ... — Tim Reynolds (@ByTimReynolds) January 1, 2025. View Tweet.\\'}, {\\'title\\': \\'LeBron James Becomes First NBA Player To Compete As A Teenager And Over ...\\', \\'href\\': \\'https://sports.ndtv.com/basketball/lebron-james-becomes-first-nba-player-to-compete-as-a-teenager-and-over-40-7376643\\', \\'body\\': \\'LeBron James became the first player in NBA history to play both as a teenager and past the age of 40 as Los Angeles Lakers lost to the Cleveland Cavaliers 110-122. ... January 01, 2025 04:25 pm ...\\'}]'},\n",
       " {'tool_call_id': 'call_ttiFyjTycxpZssHCSaaHPtkP',\n",
       "  'role': 'tool',\n",
       "  'content': '[{\\'title\\': \\'Lakers 114-106 Trail Blazers (Jan 2, 2025) Final Score - ESPN\\', \\'href\\': \\'https://www.espn.com/nba/game?gameId=401705034\\', \\'body\\': \\'Game summary of the Los Angeles Lakers vs. Portland Trail Blazers NBA game, final score 114-106, from January 2, 2025 on ESPN. ... — LeBron James scored 38 points, Max Christie had a career-high ...\\'}, {\\'title\\': \\'LeBron James, Max Christie carry Lakers past Blazers 114-106 for their ...\\', \\'href\\': \\'https://apnews.com/article/lakers-blazers-score-lebron-6ed76fdd53d949a38bc0eadab4981959\\', \\'body\\': \"LeBron James scored 38 points, Max Christie had a career-high 28 and the Los Angeles Lakers overcame Anthony Davis\\' absence for a 114-106 victory over the Portland Trail Blazers. ... Jan. 2, 2025, in Los Angeles. (AP Photo/Mark J. Terrill) Read More. 6 of 6 | Los Angeles Lakers forward Rui Hachimura dunks during the first half of an NBA ...\"}, {\\'title\\': \\'LeBron James, Max Christie power Lakers past Blazers for win\\', \\'href\\': \\'https://www.silverscreenandroll.com/2025/1/2/24334743/lakers-vs-trail-blazers-final-score-recap-stats-box-score-lebron-james-max-christie-austin-reaves\\', \\'body\\': \"LeBron has 27 points on 15 FGA\\'s with 7 assists, and Reaves has 13 points, 11 assists and 7 boards. — Mike Trudell (@LakersReporter) January 3, 2025 The Lakers opened up the final frame with a ...\"}, {\\'title\\': \\'James, Christie carry Lakers past Blazers 114-106\\', \\'href\\': \\'https://www.columbian.com/news/2025/jan/02/james-christie-carry-lakers-past-blazers-114-106/\\', \\'body\\': \"LeBron James scored 38 points, Max Christie had a career-high 28 and the Los Angeles Lakers overcame Anthony Davis\\' absence for a 114-106 victory over the Portland Trail Blazers.\"}, {\\'title\\': \\'LeBron James and Max Christie lead Lakers to win over Portland - Los ...\\', \\'href\\': \\'https://www.latimes.com/sports/lakers/story/2025-01-02/lebron-james-max-christie-lakers-portland-trail-blazers\\', \\'body\\': \"Jan. 1, 2025 LeBron James and Max Christie combined to score 66 points, Christie finishing with a career-best 28, in the Lakers\\' 114-106 win over the Trail Blazers.\"}]'},\n",
       " {'content': None,\n",
       "  'role': 'assistant',\n",
       "  'tool_calls': [{'function': {'arguments': '{\"code\":\"# Given data\\\\ncurry_points = 30  # points scored by Steph Curry\\\\ncurry_3_pointers = 8  # 3-pointers made by Steph Curry\\\\nlakers_score = 114  # score of the Lakers\\\\nblazers_score = 106  # score of the Blazers\\\\n\\\\n# Total points scored in the game\\\\ntotal_points = lakers_score + blazers_score\\\\n\\\\n# Calculate the percentage of points scored by Steph Curry\\\\npercentage_curry_points = (curry_points / total_points) * 100\\\\npercentage_curry_points\"}',\n",
       "     'name': 'execute_python_code'},\n",
       "    'id': 'call_JeT6Y3J15UShTvkqWuAmq3Al',\n",
       "    'type': 'function'}]},\n",
       " {'tool_call_id': 'call_JeT6Y3J15UShTvkqWuAmq3Al',\n",
       "  'role': 'tool',\n",
       "  'content': \"{'stdout': 'Out[1]: 13.636363636363635\\\\n', 'stderr': '', 'success': True, 'result': '13.636363636363635', 'error': None}\"},\n",
       " {'content': \"On January 2, 2025, Steph Curry made **8 three-pointers** without missing, scoring a total of **30 points** in the Golden State Warriors' game against the Philadelphia 76ers, which they won with a score of **139-105**.\\n\\nThe combined score of both teams was **244 points** (139 + 105). The percentage of the total points scored by Steph Curry is approximately **13.64%**.\\n\\nAs for LeBron James, he turned **40 years old** on January 1, 2025, and he scored **38 points** in the Los Angeles Lakers' game against the Portland Trail Blazers on January 2, 2025, where the Lakers won with a score of **114-106**.\",\n",
       "  'role': 'assistant'}]"
      ]
     },
     "execution_count": 3,
     "metadata": {},
     "output_type": "execute_result"
    }
   ],
   "source": [
    "messages = [\n",
    "    {\"role\": \"system\", \"content\": \"You are a helpful assistant. Use the supplied tools to assist the user. Todays date is 2025-01-03.\"},\n",
    "    {\n",
    "        \"role\": \"user\",\n",
    "        \"content\": \"Recently Steph Curry made 3 pointers in one game without missing. How many did he make? What was the score of the game? Calculate the percentage of the two teams combined points were made by Steph Curry. Also how old is Lebron James and how many points did he score on Jan 2 2025?\",\n",
    "    },\n",
    "]\n",
    "tool_calling_loop(messages)"
   ]
  },
  {
   "cell_type": "markdown",
   "id": "cb47392c",
   "metadata": {},
   "source": [
    "# TODO Thoughts\n",
    "\n",
    "- the idea of agent writing code instead of just JSON. As discussed in the [Hugging Face Blog Post on `smolagents`](https://huggingface.co/blog/smolagents) as well as the paper [Executable Code Actions Elicit Better LLM Agents](https://huggingface.co/papers/2402.01030)\n",
    "- HF collection of papers on agents - [source](https://huggingface.co/collections/m-ric/agents-65ba776fbd9e29f771c07d4e)\n",
    "- [ReAct Paper - main paper on agents?](https://huggingface.co/papers/2210.03629)\n",
    "- [Secure Code Execution with E2B](https://huggingface.co/docs/smolagents/tutorials/secure_code_execution)\n",
    "    - But I would like to look into Modal Sand Box too\n",
    "- [Which AI Agent framework should i use? (CrewAI, Langgraph, Majestic-one and pure code)](https://medium.com/@aydinKerem/which-ai-agent-framework-i-should-use-crewai-langgraph-majestic-one-and-pure-code-e16a6e4d9252)\n",
    "- [321 real-world gen AI use cases from the world's leading organizations](https://cloud.google.com/transform/101-real-world-generative-ai-use-cases-from-industry-leaders)\n",
    "    - maybe some interesting ideas here for agents?\n",
    "- a single LLM call is not agentic!\n",
    "- an augmented LLM with tools may not be an agent but rather on the agentic spectrum, according to anthropic blog post.\n",
    "- one cool thing about multi agents is that each agent is modular and can be good at one thing. Also these agents can be different models/prompts/providers etc.\n",
    "- from CrewAI - role playing, focus, tools, cooperation, guardrails, memory\n",
    "    - role playing - give the agent a role/persona with system prompt, careful consideration of role and backstory for the agent\n",
    "    - focus - Too much tools, too much context, etc. Make agent focus on one thing. Don't let agent do too much. \n",
    "    - tools - too many tools or overload of tools can lead to issues. Choose the tools carefully for each agent and not too many.\n",
    "    - cooperation - multi agent cooperation. Just like human can intteract with ChatGPT in iterative manner to get better results/outputs, the LLM agents can interact with each other anc accept feedback, delegate tasks.\n",
    "    - guardrails - agents getting stuck doing loops, derailing, etc. Many frameworks have guardrails built in.\n",
    "    - memory - ability for the agent to remember what it has done, what it has learned, etc. Short term memory is mmemory during execution of a task. share knowledge, activities. and learnings with agents. sharing intermedia information even before task completion. Long term memory - after the crew is finished. Stored in DB. LOng term memory can be used in future tasks. Leads to self improving agents.\n",
    "    - process i.e. process.hierarchical\n",
    "- CrewAI advice:\n",
    "    - think like a manager \n",
    "    - Cache tool responses across all agents \n",
    "    - Tools should be versatile and fault tolerant \n",
    "    - I feel like this is simply good SWE practice.\n",
    "\n",
    "\n",
    "# Frameworks and Platforms\n",
    "\n",
    "- crewAI\n",
    "- Langgraph\n",
    "- Smolagents\n",
    "- autogen\n",
    "- [Amazon Bedrock Agents](https://aws.amazon.com/bedrock/agents/)"
   ]
  },
  {
   "cell_type": "markdown",
   "id": "989dae99",
   "metadata": {},
   "source": [
    "# Resources\n",
    "\n",
    "[OpenAI Note Book - Prerequisite to Swarm - Orchestrating Agents: Routines and Handoffs](https://github.com/openai/openai-cookbook/blob/main/examples/Orchestrating_agents.ipynb)\n",
    "\n",
    "[Anthropic Blog - Building effective agents](https://docs.anthropic.com/en/docs/build/agents/building-effective-agentshttps://www.anthropic.com/research/building-effective-agents)\n",
    "\n",
    "[AI Engineering Book - By Chip Huyen](https://learning.oreilly.com/library/view/ai-engineering/9781098166298/)\n",
    "\n",
    "[Hugging Face Blog Post - Introducing smolagents, a simple library to build agents](https://huggingface.co/blog/smolagents)\n",
    "\n",
    "[litelllm - GIthub](https://github.com/BerriAI/litellm)\n",
    "\n",
    "[Executable Code Actions Elicit Better LLM Agents](https://huggingface.co/papers/2402.01030)\n",
    "\n",
    "[Hugging Face Collection of Papers on Agents](https://huggingface.co/collections/m-ric/agents-65ba776fbd9e29f771c07d4e)\n",
    "\n",
    "[Deep Learning AI Course -  Multi AI Agent Systems with crewAI](https://www.deeplearning.ai/short-courses/multi-ai-agent-systems-with-crewai/)\n",
    "\n",
    "\n",
    "[Raising the bar on SWE-bench Verified with Claude 3.5 Sonnet](https://www.anthropic.com/research/swe-bench-sonnet)\n",
    "\n",
    "[Building Effective Agents Cookbook](https://github.com/anthropics/anthropic-cookbook/tree/main/patterns/agents)\n",
    "\n",
    "[deeplearning.ai - The Batch - Issue 281 - Recap of 2024 - with some agentic thoughts](https://www.deeplearning.ai/the-batch/issue-281/)\n",
    "\n",
    "[LangChain Blog Post - What is an Agent?](https://blog.langchain.dev/what-is-an-agent/)\n",
    "\n",
    "\n",
    "[Lindy](https://www.lindy.ai/)\n",
    "\n",
    "\n",
    "[\"Say Agentic One More Time\" Meme](https://x.com/abhi1thakur/status/1873697074405122144)\n",
    "\n",
    "\n",
    "[AWS: What is an Agent?](https://aws.amazon.com/what-is/ai-agents/)\n",
    "\n",
    "[Chapter 6 Agents from AI Engineering Book by Chip Huyen](https://learning.oreilly.com/library/view/ai-engineering/9781098166298/ch06.html#ch06_agents_1730157386572111)\n",
    "\n",
    "[tweet from Andrew Ng on AI Agent Spectrum](https://x.com/AndrewYNg/status/1801295202788983136)\n",
    "\n",
    "[Nathan Lambert Blog Post on the AI Agent Spectrum](https://www.interconnects.ai/p/the-ai-agent-spectrum)\n",
    "\n",
    "[Lang Chain Academy - AI Agents with LangGraph](https://academy.langchain.com/courses/take/intro-to-langgraph/lessons/56295530-getting-set-up-video-guide)\n",
    "\n",
    "[Deep Learning AI Course - LangGraph AI Agents](https://www.deeplearning.ai/short-courses/ai-agents-in-langgraph/)\n",
    "\n",
    "\n",
    "[A simple Python implementation of the ReAct pattern for LLMs](https://til.simonwillison.net/llms/python-react-pattern)\n",
    "\n",
    "[AI Agents That Matter](https://agents.cs.princeton.edu/)\n",
    "\n",
    "[Demystifying AI Agents: A Guide for Beginners](https://www.mongodb.com/resources/basics/artificial-intelligence/ai-agents)\n",
    "\n",
    "[Meme From Hamel Husain about agents vs LLM with Function Calling](https://x.com/HamelHusain/status/1867289397898752222)\n",
    "\n"
   ]
  }
 ],
 "metadata": {
  "kernelspec": {
   "display_name": "Python 3",
   "language": "python",
   "name": "python3"
  },
  "language_info": {
   "codemirror_mode": {
    "name": "ipython",
    "version": 3
   },
   "file_extension": ".py",
   "mimetype": "text/x-python",
   "name": "python",
   "nbconvert_exporter": "python",
   "pygments_lexer": "ipython3",
   "version": "3.11.7"
  }
 },
 "nbformat": 4,
 "nbformat_minor": 5
}
