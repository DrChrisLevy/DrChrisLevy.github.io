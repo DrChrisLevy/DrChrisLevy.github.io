{
 "cells": [
  {
   "cell_type": "raw",
   "id": "4f99077ebb2266ab",
   "metadata": {
    "collapsed": false
   },
   "source": []
  },
  {
   "cell_type": "raw",
   "id": "5686b8e03ec69ef3",
   "metadata": {
    "collapsed": false
   },
   "source": [
    "---\n",
    "title: LLM Tool Calling and Evaluation\n",
    "author: Chris Levy\n",
    "date: '2024-06-26'\n",
    "date-modified: '2024-06-26'\n",
    "image: imgs/bits_and_bytes.webp\n",
    "toc: true\n",
    "format:\n",
    "  html:\n",
    "    code-fold: show\n",
    "    page-layout: full\n",
    "include-in-header:\n",
    "  - text: |\n",
    "      <style>\n",
    "      .cell-output-stdout code {\n",
    "        word-break: break-wor !important;\n",
    "        white-space: pre-wrap !important;\n",
    "      }\n",
    "      </style>\n",
    "bibliography: ../../bibliography.bib\n",
    "---"
   ]
  },
  {
   "cell_type": "code",
   "execution_count": 1,
   "id": "a1543eae9cda5ac1",
   "metadata": {
    "collapsed": false,
    "ExecuteTime": {
     "end_time": "2024-06-26T12:22:20.406725Z",
     "start_time": "2024-06-26T12:22:20.114761Z"
    }
   },
   "outputs": [],
   "source": [
    "from llm import OpenAICompatibleChatCompletion, LLModel\n",
    "from tqdm import tqdm\n",
    "from concurrent.futures import ThreadPoolExecutor, as_completed\n",
    "from ecommerce import questions, ecommerce_metrics, sales_channels, brands\n",
    "import numpy as np\n",
    "import json"
   ]
  },
  {
   "cell_type": "code",
   "execution_count": 2,
   "id": "fa5cb4ef22666a04",
   "metadata": {
    "collapsed": false,
    "ExecuteTime": {
     "end_time": "2024-06-26T12:22:21.788454Z",
     "start_time": "2024-06-26T12:22:20.616887Z"
    }
   },
   "outputs": [
    {
     "data": {
      "text/plain": "{'message': {'content': \"Ahoy matey! What be ye needin' help with, me heartie?\",\n  'role': 'assistant'},\n 'model': 'gpt-3.5-turbo-0125'}"
     },
     "execution_count": 2,
     "metadata": {},
     "output_type": "execute_result"
    }
   ],
   "source": [
    "llm = OpenAICompatibleChatCompletion()\n",
    "llm.call(messages=[{\"role\": \"system\", \"content\": \"Talk like a pirate and return JSON\"}, {\"role\": \"user\", \"content\": \"hey\"}], **LLModel.GPT3_0125)"
   ]
  },
  {
   "cell_type": "code",
   "execution_count": null,
   "id": "5a4d41dd17801e83",
   "metadata": {
    "collapsed": false,
    "is_executing": true,
    "ExecuteTime": {
     "start_time": "2024-06-26T12:22:21.790851Z"
    }
   },
   "outputs": [],
   "source": [
    "def prepare_embedding_input(rec):\n",
    "    return f'{rec[\"name\"]}\\n{rec[\"enum\"]}'\n",
    "\n",
    "\n",
    "ecommerce_metrics_embeddings = llm.get_embeddings([prepare_embedding_input(rec) for rec in ecommerce_metrics])\n",
    "brands_embeddings = llm.get_embeddings([prepare_embedding_input(rec) for rec in brands])"
   ]
  },
  {
   "cell_type": "code",
   "execution_count": null,
   "id": "12f38cd42a1a9351",
   "metadata": {
    "collapsed": false
   },
   "outputs": [],
   "source": []
  },
  {
   "cell_type": "code",
   "execution_count": null,
   "id": "531f5041b12d0e5e",
   "metadata": {
    "collapsed": false
   },
   "outputs": [],
   "source": []
  },
  {
   "cell_type": "code",
   "execution_count": null,
   "id": "91166700ab5ec344",
   "metadata": {
    "collapsed": false
   },
   "outputs": [],
   "source": []
  },
  {
   "cell_type": "code",
   "execution_count": null,
   "id": "85e5247962de5106",
   "metadata": {
    "collapsed": false
   },
   "outputs": [],
   "source": []
  },
  {
   "cell_type": "code",
   "execution_count": null,
   "id": "a9ddf9d4f3ffddd6",
   "metadata": {
    "collapsed": false
   },
   "outputs": [],
   "source": []
  },
  {
   "cell_type": "code",
   "execution_count": null,
   "id": "9c5c797f513cd3b9",
   "metadata": {
    "collapsed": false
   },
   "outputs": [],
   "source": []
  },
  {
   "cell_type": "code",
   "execution_count": null,
   "id": "9e27d9b3bbf7b2af",
   "metadata": {
    "collapsed": false
   },
   "outputs": [],
   "source": []
  },
  {
   "cell_type": "code",
   "execution_count": null,
   "id": "15f6ee3af5001d",
   "metadata": {
    "collapsed": false
   },
   "outputs": [],
   "source": []
  },
  {
   "cell_type": "code",
   "execution_count": null,
   "id": "446476b22d4a3a1a",
   "metadata": {
    "collapsed": false
   },
   "outputs": [],
   "source": [
    "get_backend_metric_tool = {\n",
    "    \"type\": \"function\",\n",
    "    \"function\": {\n",
    "        \"name\": \"get_backend_metric\",\n",
    "        \"description\": \"\"\"Takes in the user requested metric and \n",
    "        uses ML/AI to return the k nearest neighbors for the most likely related backend ENUM metrics.\"\"\",\n",
    "        \"parameters\": {\n",
    "            \"type\": \"object\",\n",
    "            \"properties\": {\n",
    "                \"user_requested_metric\": {\n",
    "                    \"type\": \"string\",\n",
    "                    \"description\": \"The metric requested by the user.\",\n",
    "                },\n",
    "            },\n",
    "            \"required\": [\"user_requested_metric\"],\n",
    "        },\n",
    "    },\n",
    "}\n",
    "get_backend_brands_tool = {\n",
    "    \"type\": \"function\",\n",
    "    \"function\": {\n",
    "        \"name\": \"get_backend_brands\",\n",
    "        \"description\": \"\"\"Takes in the user requested brand(s) and \n",
    "        uses ML/AI to return the k nearest neighbors for the most likely related backend ENUM brands per requested brands.\"\"\",\n",
    "        \"parameters\": {\n",
    "            \"type\": \"object\",\n",
    "            \"properties\": {\n",
    "                \"user_requested_brands\": {\n",
    "                    \"type\": \"array\",\n",
    "                    \"items\": {\n",
    "                        \"type\": \"string\",\n",
    "                    },\n",
    "                    \"default\": [],\n",
    "                    \"description\": \"The list of brand(s) requested by the user.\",\n",
    "                },\n",
    "            },\n",
    "            \"required\": [\"user_requested_brands\"],\n",
    "        },\n",
    "    },\n",
    "}\n",
    "get_sales_data_tool = {\n",
    "    \"type\": \"function\",\n",
    "    \"function\": {\n",
    "        \"name\": \"get_sales_data\",\n",
    "        \"description\": \"\"\"Get the sales data from the backend system.\"\"\",\n",
    "        \"parameters\": {\n",
    "            \"type\": \"object\",\n",
    "            \"properties\": {\n",
    "                \"backend_metric\": {\n",
    "                    \"type\": \"string\",\n",
    "                    \"description\": \"This is the backend metric ENUM.\",\n",
    "                },\n",
    "                \"backend_brands\": {\n",
    "                    \"type\": \"array\",\n",
    "                    \"items\": {\n",
    "                        \"type\": \"string\",\n",
    "                    },\n",
    "                    \"default\": [],\n",
    "                    \"description\": \"The list of backend ENUM brands.\",\n",
    "                },\n",
    "                \"sales_channels\": {\n",
    "                    \"type\": \"array\",\n",
    "                    \"items\": {\n",
    "                        \"type\": \"string\",\n",
    "                        \"enum\": [x[\"enum\"] for x in sales_channels],\n",
    "                    },\n",
    "                    \"default\": [],\n",
    "                    \"description\": \"The list of sales channels.\",\n",
    "                },\n",
    "                \"current_period_start_date\": {\n",
    "                    \"type\": \"string\",\n",
    "                    \"description\": \"The start of the current reporting period.\",\n",
    "                },\n",
    "                \"current_period_end_date\": {\n",
    "                    \"type\": \"string\",\n",
    "                    \"description\": \"The end of the current reporting period.\",\n",
    "                },\n",
    "            },\n",
    "            \"required\": [\n",
    "                \"backend_metric\",\n",
    "                \"backend_brands\",\n",
    "                \"current_period_start_date\",\n",
    "                \"current_period_end_date\",\n",
    "            ],\n",
    "        },\n",
    "    },\n",
    "}\n",
    "tools = [get_backend_metric_tool, get_backend_brands_tool, get_sales_data_tool]"
   ]
  },
  {
   "cell_type": "code",
   "execution_count": null,
   "id": "2cb382967e68713c",
   "metadata": {
    "collapsed": false
   },
   "outputs": [],
   "source": [
    "def find_k_nearest_neighbors(embeddings, input_embedding, k):\n",
    "    # Calculate distances\n",
    "    distances = np.linalg.norm(embeddings - input_embedding, axis=1)\n",
    "\n",
    "    # Get indices of k smallest distances\n",
    "    nearest_indices = np.argpartition(distances, k)[:k]\n",
    "\n",
    "    # Sort the k nearest indices by distance\n",
    "    nearest_indices = nearest_indices[np.argsort(distances[nearest_indices])]\n",
    "\n",
    "    return nearest_indices"
   ]
  },
  {
   "cell_type": "code",
   "execution_count": null,
   "id": "a8d0311b7fca66c7",
   "metadata": {
    "collapsed": false
   },
   "outputs": [],
   "source": []
  },
  {
   "cell_type": "code",
   "execution_count": null,
   "id": "e806a86fafce5a62",
   "metadata": {
    "collapsed": false
   },
   "outputs": [],
   "source": [
    "def get_backend_metric(user_requested_metric: str):\n",
    "    return {\n",
    "        \"data\": [ecommerce_metrics[i] for i in find_k_nearest_neighbors(llm.get_embeddings([user_requested_metric]), ecommerce_metrics_embeddings, 3)]\n",
    "    }\n",
    "\n",
    "\n",
    "def get_backend_brands(user_requested_brands: list[str]):\n",
    "    data = dict()\n",
    "    for brand in user_requested_brands:\n",
    "        data[brand] = [brands[i] for i in find_k_nearest_neighbors(llm.get_embeddings([brand]), brands_embeddings, 3)]\n",
    "    return {\"data\": data}\n",
    "\n",
    "\n",
    "def get_sales_data(*args, **kwargs):\n",
    "    return {\"data\": 10}\n",
    "\n",
    "\n",
    "functions_look_up = {\"get_backend_metric\": get_backend_metric, \"get_backend_brands\": get_backend_brands, \"get_sales_data\": get_sales_data}"
   ]
  },
  {
   "cell_type": "code",
   "execution_count": null,
   "id": "b2b6f013f46ed53c",
   "metadata": {
    "collapsed": false
   },
   "outputs": [],
   "source": [
    "get_backend_brands([\"shopify\", \"nike\"])"
   ]
  },
  {
   "cell_type": "code",
   "execution_count": null,
   "id": "e3f3a57be72dd8a5",
   "metadata": {
    "collapsed": false
   },
   "outputs": [],
   "source": [
    "system_prompt = \"\"\"\n",
    "You will be asked a question by the user about retrieving sales data.\n",
    "Use the available tools but only call the tools when needed.\n",
    "If you need further clarification then ask. \n",
    "\n",
    "There are hundreds of metrics and hundreds of brands in the backend system.\n",
    "The user will not know all these metrics and brands or how to refer to them exactly.\n",
    "You do not know them all of them either, so I have provided some helper tools for you.\n",
    "\n",
    "In general you will follow the typical flow when answering questions:\n",
    "1. Extract the user requested metric and the user requested brand(s).\n",
    "2. \n",
    "    \n",
    "    a) Pass the user requested metric to the the tool get_backend_metric to\n",
    "    get the list of most likely corresponding backend metric ENUMs. \n",
    "    Then choose the most appropriate from this list. \n",
    "    \n",
    "    b) Pass the user requested brand(s) to the the tool get_backend_brands to\n",
    "    get the list of most likely corresponding backend brand ENUMs. \n",
    "    Then choose the most appropriate from this list. \n",
    "    \n",
    "3. Extract any sales channels if mentioned.\n",
    "4. Pass the relevant arguments into the get_sales_data tool.\n",
    "\n",
    "\n",
    "Today's date is Monday, June 10, 2024\n",
    "\"\"\""
   ]
  },
  {
   "cell_type": "code",
   "execution_count": null,
   "id": "e00722d809b2bcc0",
   "metadata": {
    "collapsed": false
   },
   "outputs": [],
   "source": [
    "def eval_llm_resp(question: dict, llm_resp: dict):\n",
    "    if not llm_resp.get(\"tool_calls_details\"):\n",
    "        args_predicted = dict()\n",
    "    else:\n",
    "        args_predicted = [\n",
    "            json.loads(x[\"function\"][\"arguments\"]) for x in llm_resp[\"tool_calls_details\"].values() if x[\"function\"][\"name\"] == \"get_sales_data\"\n",
    "        ][0]\n",
    "    return {\n",
    "        \"question\": question[\"question\"],\n",
    "        \"expected_metric\": question[\"expected_metric\"],\n",
    "        \"predicted_metric\": args_predicted.get(\"backend_metric\", \"\"),\n",
    "        \"metric_correct\": question[\"expected_metric\"] == args_predicted.get(\"backend_metric\", \"\"),\n",
    "        \"expected_brands\": sorted(question[\"expected_brands\"]),\n",
    "        \"predicted_brands\": sorted(args_predicted.get(\"backend_brands\", [])),\n",
    "        \"brands_correct\": sorted(question[\"expected_brands\"]) == sorted(args_predicted.get(\"backend_brands\", [])),\n",
    "        \"expected_sales_channels\": sorted(question[\"expected_sales_channels\"]),\n",
    "        \"predicted_sales_channels\": sorted(args_predicted.get(\"sales_channels\", [])),\n",
    "        \"sales_channels_correct\": sorted(question[\"expected_sales_channels\"]) == sorted(args_predicted.get(\"sales_channels\", [])),\n",
    "        \"expected_current_period_start_date\": question[\"current_period_start_date\"],\n",
    "        \"predicted_current_period_start_date\": args_predicted.get(\"current_period_start_date\", \"\"),\n",
    "        \"current_period_start_date_correct\": question[\"current_period_start_date\"] == args_predicted.get(\"current_period_start_date\", \"\"),\n",
    "        \"expected_current_period_end_date\": question[\"current_period_end_date\"],\n",
    "        \"predicted_current_period_end_date\": args_predicted.get(\"current_period_end_date\", \"\"),\n",
    "        \"current_period_end_date_correct\": question[\"current_period_end_date\"] == args_predicted.get(\"current_period_end_date\", \"\"),\n",
    "    }\n",
    "\n",
    "\n",
    "def eval_questions(questions: list[dict]):\n",
    "    def task(question: dict):\n",
    "        llm_resp = OpenAICompatibleChatCompletion.generate_with_function_calling(\n",
    "            messages=[\n",
    "                {\"role\": \"system\", \"content\": system_prompt},\n",
    "                {\n",
    "                    \"role\": \"user\",\n",
    "                    \"content\": question[\"question\"],\n",
    "                },\n",
    "            ],\n",
    "            tools=tools,\n",
    "            functions_look_up=functions_look_up,\n",
    "            **LLModel.GPT3_0125,\n",
    "        )\n",
    "        llm_resp.update(eval_llm_resp(question, llm_resp))\n",
    "        return llm_resp\n",
    "\n",
    "    eval_res = []\n",
    "    with ThreadPoolExecutor(max_workers=10) as executor:\n",
    "        futures = [executor.submit(task, question) for question in questions]\n",
    "\n",
    "        for future in tqdm(as_completed(futures), total=len(questions), desc=\"Evaluating questions\"):\n",
    "            eval_res.append(future.result())\n",
    "\n",
    "    return eval_res"
   ]
  },
  {
   "cell_type": "code",
   "execution_count": null,
   "id": "d7330e3ec9caa69e",
   "metadata": {
    "collapsed": false
   },
   "outputs": [],
   "source": [
    "import pandas as pd\n",
    "\n",
    "df = pd.DataFrame(eval_questions(questions[:40]))"
   ]
  },
  {
   "cell_type": "code",
   "execution_count": null,
   "id": "6535088ab05a4c9",
   "metadata": {
    "collapsed": false
   },
   "outputs": [],
   "source": [
    "df"
   ]
  },
  {
   "cell_type": "code",
   "execution_count": null,
   "id": "2beed42509f965c3",
   "metadata": {
    "collapsed": false
   },
   "outputs": [],
   "source": [
    "def calculate_accuracies(df):\n",
    "    accuracies = {}\n",
    "    for col in df.columns:\n",
    "        if col.endswith(\"_correct\"):\n",
    "            accuracy = df[col].sum() / df.shape[0]\n",
    "            accuracies[col.replace(\"correct\", \"accuracy\")] = f\"{accuracy:.2%}\"\n",
    "    return accuracies\n",
    "\n",
    "\n",
    "accuracies = calculate_accuracies(df)\n",
    "print(accuracies)"
   ]
  },
  {
   "cell_type": "code",
   "execution_count": null,
   "id": "8e16d2baa0c1c97f",
   "metadata": {
    "collapsed": false
   },
   "outputs": [],
   "source": [
    "df[~df[\"sales_channels_correct\"]]"
   ]
  },
  {
   "cell_type": "code",
   "execution_count": null,
   "id": "c1aec09a80bfc4e0",
   "metadata": {
    "collapsed": false
   },
   "outputs": [],
   "source": []
  },
  {
   "cell_type": "code",
   "execution_count": null,
   "id": "a8a3037e47f58d66",
   "metadata": {
    "collapsed": false
   },
   "outputs": [],
   "source": [
    "import anthropic\n",
    "\n",
    "client = anthropic.Anthropic()\n",
    "model = \"claude-3-5-sonnet-20240620\"\n",
    "message = client.messages.create(\n",
    "    model=model,\n",
    "    max_tokens=1000,\n",
    "    temperature=0,\n",
    "    system=\"You are a world-class poet. Respond only with short poems.\",\n",
    "    messages=[{\"role\": \"user\", \"content\": \"Why is the ocean salty?\"}, {\"role\": \"assistant\", \"content\": \"No, as an AI\"}],\n",
    ")\n",
    "print(message)\n",
    "\n",
    "m = {\"role\": \"user\", \"content\": \"I'm Jeremy\"}\n",
    "r = client.messages.create(messages=[m], model=model, max_tokens=100)\n",
    "r"
   ]
  }
 ],
 "metadata": {
  "kernelspec": {
   "display_name": "Python 3 (ipykernel)",
   "language": "python",
   "name": "python3"
  },
  "language_info": {
   "codemirror_mode": {
    "name": "ipython",
    "version": 3
   },
   "file_extension": ".py",
   "mimetype": "text/x-python",
   "name": "python",
   "nbconvert_exporter": "python",
   "pygments_lexer": "ipython3",
   "version": "3.11.7"
  }
 },
 "nbformat": 4,
 "nbformat_minor": 5
}
