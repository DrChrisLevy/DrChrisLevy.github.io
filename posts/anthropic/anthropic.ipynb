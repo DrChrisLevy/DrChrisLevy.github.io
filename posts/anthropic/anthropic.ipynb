{
 "cells": [
  {
   "cell_type": "raw",
   "id": "4f99077ebb2266ab",
   "metadata": {
    "collapsed": false
   },
   "source": []
  },
  {
   "cell_type": "raw",
   "id": "5686b8e03ec69ef3",
   "metadata": {
    "collapsed": false
   },
   "source": [
    "---\n",
    "title: LLM Tool Calling and Evaluation\n",
    "author: Chris Levy\n",
    "date: '2024-06-26'\n",
    "date-modified: '2024-06-26'\n",
    "image: imgs/bits_and_bytes.webp\n",
    "toc: true\n",
    "format:\n",
    "  html:\n",
    "    code-fold: show\n",
    "    page-layout: full\n",
    "include-in-header:\n",
    "  - text: |\n",
    "      <style>\n",
    "      .cell-output-stdout code {\n",
    "        word-break: break-wor !important;\n",
    "        white-space: pre-wrap !important;\n",
    "      }\n",
    "      </style>\n",
    "bibliography: ../../bibliography.bib\n",
    "---"
   ]
  },
  {
   "cell_type": "code",
   "execution_count": null,
   "id": "a1543eae9cda5ac1",
   "metadata": {
    "collapsed": false
   },
   "outputs": [],
   "source": [
    "from llm import OpenAICompatibleChatCompletion, LLModel, AnthropicLLM\n",
    "from tqdm import tqdm\n",
    "from concurrent.futures import ThreadPoolExecutor, as_completed\n",
    "from ecommerce import questions, ecommerce_metrics, sales_channels, brands\n",
    "import numpy as np\n",
    "import json"
   ]
  },
  {
   "cell_type": "code",
   "execution_count": null,
   "id": "fa5cb4ef22666a04",
   "metadata": {
    "collapsed": false
   },
   "outputs": [],
   "source": [
    "llm = OpenAICompatibleChatCompletion()\n",
    "llm.call(messages=[{\"role\": \"system\", \"content\": \"Talk like a pirate and return JSON\"}, {\"role\": \"user\", \"content\": \"hey\"}], **LLModel.GPT3_0125)"
   ]
  },
  {
   "cell_type": "code",
   "execution_count": null,
   "id": "5a4d41dd17801e83",
   "metadata": {
    "collapsed": false
   },
   "outputs": [],
   "source": [
    "def prepare_embedding_input(rec):\n",
    "    return f'{rec[\"name\"]} {rec[\"enum\"]}'"
   ]
  },
  {
   "cell_type": "code",
   "execution_count": null,
   "id": "12f38cd42a1a9351",
   "metadata": {
    "collapsed": false
   },
   "outputs": [],
   "source": [
    "[prepare_embedding_input(rec) for rec in ecommerce_metrics]"
   ]
  },
  {
   "cell_type": "code",
   "execution_count": null,
   "id": "531f5041b12d0e5e",
   "metadata": {
    "collapsed": false
   },
   "outputs": [],
   "source": [
    "ecommerce_metrics_embeddings = llm.get_embeddings([prepare_embedding_input(rec) for rec in ecommerce_metrics])\n",
    "brands_embeddings = llm.get_embeddings([prepare_embedding_input(rec) for rec in brands])"
   ]
  },
  {
   "cell_type": "code",
   "execution_count": null,
   "id": "446476b22d4a3a1a",
   "metadata": {
    "collapsed": false
   },
   "outputs": [],
   "source": [
    "get_backend_metric_tool = {\n",
    "    \"type\": \"function\",\n",
    "    \"function\": {\n",
    "        \"name\": \"get_backend_metric\",\n",
    "        \"description\": \"\"\"Takes in the user requested metric and \n",
    "        uses ML/AI to return the k nearest neighbors for the most likely related backend ENUM metrics.\"\"\",\n",
    "        \"parameters\": {\n",
    "            \"type\": \"object\",\n",
    "            \"properties\": {\n",
    "                \"user_requested_metric\": {\n",
    "                    \"type\": \"string\",\n",
    "                    \"description\": \"The metric requested by the user.\",\n",
    "                },\n",
    "            },\n",
    "            \"required\": [\"user_requested_metric\"],\n",
    "        },\n",
    "    },\n",
    "}\n",
    "get_backend_brands_tool = {\n",
    "    \"type\": \"function\",\n",
    "    \"function\": {\n",
    "        \"name\": \"get_backend_brands\",\n",
    "        \"description\": \"\"\"Takes in the user requested brand(s) and \n",
    "        uses ML/AI to return the k nearest neighbors for the most likely related backend ENUM brands per requested brands.\"\"\",\n",
    "        \"parameters\": {\n",
    "            \"type\": \"object\",\n",
    "            \"properties\": {\n",
    "                \"user_requested_brands\": {\n",
    "                    \"type\": \"array\",\n",
    "                    \"items\": {\n",
    "                        \"type\": \"string\",\n",
    "                    },\n",
    "                    \"default\": [],\n",
    "                    \"description\": \"The list of brand(s) requested by the user.\",\n",
    "                },\n",
    "            },\n",
    "            \"required\": [\"user_requested_brands\"],\n",
    "        },\n",
    "    },\n",
    "}\n",
    "get_sales_data_tool = {\n",
    "    \"type\": \"function\",\n",
    "    \"function\": {\n",
    "        \"name\": \"get_sales_data\",\n",
    "        \"description\": \"\"\"Get the sales data from the backend system.\"\"\",\n",
    "        \"parameters\": {\n",
    "            \"type\": \"object\",\n",
    "            \"properties\": {\n",
    "                \"backend_metric\": {\n",
    "                    \"type\": \"string\",\n",
    "                    \"description\": \"This is the backend metric ENUM.\",\n",
    "                },\n",
    "                \"backend_brands\": {\n",
    "                    \"type\": \"array\",\n",
    "                    \"items\": {\n",
    "                        \"type\": \"string\",\n",
    "                    },\n",
    "                    \"default\": [],\n",
    "                    \"description\": \"The list of backend ENUM brands.\",\n",
    "                },\n",
    "                \"sales_channels\": {\n",
    "                    \"type\": \"array\",\n",
    "                    \"items\": {\n",
    "                        \"type\": \"string\",\n",
    "                        \"enum\": [x[\"enum\"] for x in sales_channels],\n",
    "                    },\n",
    "                    \"default\": [],\n",
    "                    \"description\": \"The list of sales channels.\",\n",
    "                },\n",
    "                \"current_period_start_date\": {\n",
    "                    \"type\": \"string\",\n",
    "                    \"description\": \"The start of the current reporting period.\",\n",
    "                },\n",
    "                \"current_period_end_date\": {\n",
    "                    \"type\": \"string\",\n",
    "                    \"description\": \"The end of the current reporting period.\",\n",
    "                },\n",
    "            },\n",
    "            \"required\": [\n",
    "                \"backend_metric\",\n",
    "                \"backend_brands\",\n",
    "                \"current_period_start_date\",\n",
    "                \"current_period_end_date\",\n",
    "            ],\n",
    "        },\n",
    "    },\n",
    "}\n",
    "tools = [get_backend_metric_tool, get_backend_brands_tool, get_sales_data_tool]"
   ]
  },
  {
   "cell_type": "code",
   "execution_count": null,
   "id": "2cb382967e68713c",
   "metadata": {
    "collapsed": false
   },
   "outputs": [],
   "source": [
    "def find_k_nearest_neighbors(embeddings, input_embedding, k):\n",
    "    # Calculate distances\n",
    "    distances = np.linalg.norm(embeddings - input_embedding, axis=1)\n",
    "    # Get indices of k smallest distances\n",
    "    nearest_indices = np.argpartition(distances, k)[:k]\n",
    "    # Sort the k nearest indices by distance\n",
    "    nearest_indices = nearest_indices[np.argsort(distances[nearest_indices])]\n",
    "    return nearest_indices"
   ]
  },
  {
   "cell_type": "code",
   "execution_count": null,
   "id": "e806a86fafce5a62",
   "metadata": {
    "collapsed": false
   },
   "outputs": [],
   "source": [
    "def get_backend_metric(user_requested_metric: str):\n",
    "    return {\n",
    "        \"data\": [ecommerce_metrics[i] for i in find_k_nearest_neighbors(llm.get_embeddings([user_requested_metric]), ecommerce_metrics_embeddings, 3)]\n",
    "    }\n",
    "\n",
    "\n",
    "def get_backend_brands(user_requested_brands: list[str]):\n",
    "    data = dict()\n",
    "    for brand in user_requested_brands:\n",
    "        data[brand] = [brands[i] for i in find_k_nearest_neighbors(llm.get_embeddings([brand]), brands_embeddings, 3)]\n",
    "    return {\"data\": data}\n",
    "\n",
    "\n",
    "def get_sales_data(*args, **kwargs):\n",
    "    return {\"data\": 10}\n",
    "\n",
    "\n",
    "functions_look_up = {\"get_backend_metric\": get_backend_metric, \"get_backend_brands\": get_backend_brands, \"get_sales_data\": get_sales_data}"
   ]
  },
  {
   "cell_type": "code",
   "execution_count": null,
   "id": "b2b6f013f46ed53c",
   "metadata": {
    "collapsed": false
   },
   "outputs": [],
   "source": [
    "get_backend_brands([\"shopify\", \"nike\"])"
   ]
  },
  {
   "cell_type": "code",
   "execution_count": null,
   "id": "e3f3a57be72dd8a5",
   "metadata": {
    "collapsed": false
   },
   "outputs": [],
   "source": [
    "system_prompt = \"\"\"\n",
    "You will be asked a question by the user about retrieving sales data.\n",
    "Use the available tools but only call the tools when needed.\n",
    "If you need further clarification then ask. \n",
    "\n",
    "There are hundreds of metrics and hundreds of brands in the backend system.\n",
    "The user will not know all these metrics and brands, or how to refer to them exactly.\n",
    "You do not know them either, so I have provided some helper tools for you.\n",
    "\n",
    "In general you will follow the typical flow when answering questions:\n",
    "1. Extract the user requested metric and the user requested brand(s).\n",
    "2. \n",
    "    \n",
    "    a) Pass the user requested metric to the the tool get_backend_metric to\n",
    "    get the list of most likely corresponding backend metric ENUMs. \n",
    "    Then choose the most appropriate from this list. \n",
    "    \n",
    "    b) Pass the user requested brand(s) to the the tool get_backend_brands to\n",
    "    get the list of most likely corresponding backend brand ENUMs. \n",
    "    Then choose the most appropriate from this list. \n",
    "    \n",
    "3. Extract any sales channels if mentioned.\n",
    "4. Pass the relevant arguments into the get_sales_data tool.\n",
    "\n",
    "\n",
    "Today's date is Monday, June 10, 2024\n",
    "\"\"\""
   ]
  },
  {
   "cell_type": "code",
   "execution_count": null,
   "id": "e00722d809b2bcc0",
   "metadata": {
    "collapsed": false
   },
   "outputs": [],
   "source": [
    "def eval_llm_resp(question: dict, llm_resp: dict):\n",
    "    if not llm_resp.get(\"tool_calls_details\"):\n",
    "        args_predicted = dict()\n",
    "    else:\n",
    "        args_predicted = [\n",
    "            json.loads(x[\"function\"][\"arguments\"]) for x in llm_resp[\"tool_calls_details\"].values() if x[\"function\"][\"name\"] == \"get_sales_data\"\n",
    "        ][0]\n",
    "    return {\n",
    "        \"question\": question[\"question\"],\n",
    "        \"expected_metric\": question[\"expected_metric\"],\n",
    "        \"predicted_metric\": args_predicted.get(\"backend_metric\", \"\"),\n",
    "        \"metric_correct\": question[\"expected_metric\"] == args_predicted.get(\"backend_metric\", \"\"),\n",
    "        \"expected_brands\": sorted(question[\"expected_brands\"]),\n",
    "        \"predicted_brands\": sorted(args_predicted.get(\"backend_brands\", [])),\n",
    "        \"brands_correct\": sorted(question[\"expected_brands\"]) == sorted(args_predicted.get(\"backend_brands\", [])),\n",
    "        \"expected_sales_channels\": sorted(question[\"expected_sales_channels\"]),\n",
    "        \"predicted_sales_channels\": sorted(args_predicted.get(\"sales_channels\", [])),\n",
    "        \"sales_channels_correct\": sorted(question[\"expected_sales_channels\"]) == sorted(args_predicted.get(\"sales_channels\", [])),\n",
    "        \"expected_current_period_start_date\": question[\"current_period_start_date\"],\n",
    "        \"predicted_current_period_start_date\": args_predicted.get(\"current_period_start_date\", \"\"),\n",
    "        \"current_period_start_date_correct\": question[\"current_period_start_date\"] == args_predicted.get(\"current_period_start_date\", \"\"),\n",
    "        \"expected_current_period_end_date\": question[\"current_period_end_date\"],\n",
    "        \"predicted_current_period_end_date\": args_predicted.get(\"current_period_end_date\", \"\"),\n",
    "        \"current_period_end_date_correct\": question[\"current_period_end_date\"] == args_predicted.get(\"current_period_end_date\", \"\"),\n",
    "    }\n",
    "\n",
    "\n",
    "def eval_questions(questions: list[dict]):\n",
    "    def task(question: dict):\n",
    "        llm_resp = OpenAICompatibleChatCompletion.generate_with_function_calling(\n",
    "            messages=[\n",
    "                {\"role\": \"system\", \"content\": system_prompt},\n",
    "                {\n",
    "                    \"role\": \"user\",\n",
    "                    \"content\": question[\"question\"],\n",
    "                },\n",
    "            ],\n",
    "            tools=tools,\n",
    "            functions_look_up=functions_look_up,\n",
    "            **LLModel.GPT3_0125,\n",
    "        )\n",
    "        llm_resp.update(eval_llm_resp(question, llm_resp))\n",
    "        return llm_resp\n",
    "\n",
    "    eval_res = []\n",
    "    with ThreadPoolExecutor(max_workers=10) as executor:\n",
    "        futures = [executor.submit(task, question) for question in questions]\n",
    "\n",
    "        for future in tqdm(as_completed(futures), total=len(questions), desc=\"Evaluating questions\"):\n",
    "            eval_res.append(future.result())\n",
    "\n",
    "    return eval_res"
   ]
  },
  {
   "cell_type": "code",
   "execution_count": null,
   "id": "3ccd93cc66433387",
   "metadata": {
    "collapsed": false
   },
   "outputs": [],
   "source": []
  },
  {
   "cell_type": "code",
   "execution_count": null,
   "id": "d7330e3ec9caa69e",
   "metadata": {
    "collapsed": false
   },
   "outputs": [],
   "source": [
    "import pandas as pd\n",
    "\n",
    "df = pd.DataFrame(eval_questions(questions))"
   ]
  },
  {
   "cell_type": "code",
   "execution_count": null,
   "id": "2beed42509f965c3",
   "metadata": {
    "collapsed": false
   },
   "outputs": [],
   "source": [
    "def calculate_accuracies(df):\n",
    "    accuracies = {}\n",
    "    for col in df.columns:\n",
    "        if col.endswith(\"_correct\"):\n",
    "            accuracy = df[col].sum() / df.shape[0]\n",
    "            accuracies[col.replace(\"correct\", \"accuracy\")] = f\"{accuracy:.2%}\"\n",
    "    return accuracies\n",
    "\n",
    "\n",
    "accuracies = calculate_accuracies(df)\n",
    "print(accuracies)"
   ]
  },
  {
   "cell_type": "code",
   "execution_count": null,
   "id": "8e16d2baa0c1c97f",
   "metadata": {
    "collapsed": false
   },
   "outputs": [],
   "source": [
    "df[~df[\"sales_channels_correct\"]]"
   ]
  },
  {
   "cell_type": "code",
   "execution_count": null,
   "id": "c1aec09a80bfc4e0",
   "metadata": {
    "collapsed": false
   },
   "outputs": [],
   "source": [
    "llm = AnthropicLLM()\n",
    "\n",
    "resp = llm.call(\n",
    "    model=\"claude-3-5-sonnet-20240620\",\n",
    "    max_tokens=50,\n",
    "    temperature=0,\n",
    "    messages=[{\"role\": \"system\", \"content\": \"Speak like a Pirate\"}, {\"role\": \"user\", \"content\": \"Why is the ocean salty?\"}],\n",
    ")"
   ]
  },
  {
   "cell_type": "code",
   "execution_count": null,
   "id": "a8a3037e47f58d66",
   "metadata": {
    "collapsed": false
   },
   "outputs": [],
   "source": [
    "resp"
   ]
  },
  {
   "cell_type": "code",
   "execution_count": null,
   "id": "b0b4e0345f919aaf",
   "metadata": {
    "collapsed": false
   },
   "outputs": [],
   "source": [
    "import anthropic\n",
    "\n",
    "client = anthropic.Anthropic()\n",
    "\n",
    "response = client.messages.create(\n",
    "    model=\"claude-3-5-sonnet-20240620\",\n",
    "    max_tokens=1024,\n",
    "    tools=[\n",
    "        {\n",
    "            \"name\": \"get_weather\",\n",
    "            \"description\": \"Get the current weather in a given location\",\n",
    "            \"input_schema\": {\n",
    "                \"type\": \"object\",\n",
    "                \"properties\": {\n",
    "                    \"location\": {\"type\": \"string\", \"description\": \"The city and state, e.g. San Francisco, CA\"},\n",
    "                    \"unit\": {\n",
    "                        \"type\": \"string\",\n",
    "                        \"enum\": [\"celsius\", \"fahrenheit\"],\n",
    "                        \"description\": \"The unit of temperature, either 'celsius' or 'fahrenheit'\",\n",
    "                    },\n",
    "                },\n",
    "                \"required\": [\"location\"],\n",
    "            },\n",
    "        },\n",
    "        {\n",
    "            \"name\": \"get_time\",\n",
    "            \"description\": \"Get the current time in a given time zone\",\n",
    "            \"input_schema\": {\n",
    "                \"type\": \"object\",\n",
    "                \"properties\": {\"timezone\": {\"type\": \"string\", \"description\": \"The IANA time zone name, e.g. America/Los_Angeles\"}},\n",
    "                \"required\": [\"timezone\"],\n",
    "            },\n",
    "        },\n",
    "    ],\n",
    "    messages=[{\"role\": \"user\", \"content\": \"What is the weather like right now in New York? Also what time is it there?\"}],\n",
    ")\n",
    "print(response)"
   ]
  },
  {
   "cell_type": "code",
   "execution_count": null,
   "id": "6193c9411571fdfd",
   "metadata": {
    "collapsed": false
   },
   "outputs": [],
   "source": [
    "response.content"
   ]
  },
  {
   "cell_type": "code",
   "execution_count": null,
   "id": "3599f38e22035d2f",
   "metadata": {
    "collapsed": false
   },
   "outputs": [],
   "source": [
    "response.model_dump()"
   ]
  },
  {
   "cell_type": "code",
   "execution_count": 1,
   "id": "d3bf79a42812281f",
   "metadata": {
    "collapsed": false,
    "ExecuteTime": {
     "end_time": "2024-07-02T21:27:49.282060Z",
     "start_time": "2024-07-02T21:27:49.016851Z"
    }
   },
   "outputs": [],
   "source": [
    "from llm import AnthropicLLM, OpenAICompatibleChatCompletion"
   ]
  },
  {
   "cell_type": "code",
   "execution_count": 2,
   "id": "86e9148837ef517b",
   "metadata": {
    "collapsed": false,
    "ExecuteTime": {
     "end_time": "2024-07-02T21:27:49.479384Z",
     "start_time": "2024-07-02T21:27:49.478039Z"
    }
   },
   "outputs": [],
   "source": [
    "model = \"claude-3-5-sonnet-20240620\"\n",
    "max_tokens = 1024\n",
    "tools = [\n",
    "    {\n",
    "        \"name\": \"get_weather\",\n",
    "        \"description\": \"Get the current weather in a given location\",\n",
    "        \"input_schema\": {\n",
    "            \"type\": \"object\",\n",
    "            \"properties\": {\n",
    "                \"location\": {\"type\": \"string\", \"description\": \"The city and state, e.g. San Francisco, CA\"},\n",
    "                \"unit\": {\n",
    "                    \"type\": \"string\",\n",
    "                    \"enum\": [\"celsius\", \"fahrenheit\"],\n",
    "                    \"description\": \"The unit of temperature, either 'celsius' or 'fahrenheit'\",\n",
    "                },\n",
    "            },\n",
    "            \"required\": [\"location\"],\n",
    "        },\n",
    "    },\n",
    "    {\n",
    "        \"name\": \"get_time\",\n",
    "        \"description\": \"Get the current time in a given time zone\",\n",
    "        \"input_schema\": {\n",
    "            \"type\": \"object\",\n",
    "            \"properties\": {\"timezone\": {\"type\": \"string\", \"description\": \"The IANA time zone name, e.g. America/Los_Angeles\"}},\n",
    "            \"required\": [\"timezone\"],\n",
    "        },\n",
    "    },\n",
    "]\n",
    "\n",
    "\n",
    "def get_weather(*args, **kwargs):\n",
    "    return {\"data\": \"snowy\"}\n",
    "\n",
    "\n",
    "def get_time(*args, **kwargs):\n",
    "    return {\"data\": \"10pm\"}\n",
    "\n",
    "\n",
    "functions_look_up = {\"get_weather\": get_weather, \"get_time\": get_time}\n",
    "\n",
    "messages = [\n",
    "    {\"role\": \"system\", \"content\": \"Calls tools together. Be brief. Dont say what tools you will use before calling them.\"},\n",
    "    {\"role\": \"user\", \"content\": \"What is the weather like right now in New York? Also what time is it there?\"},\n",
    "]\n",
    "cls = AnthropicLLM"
   ]
  },
  {
   "cell_type": "code",
   "execution_count": 3,
   "id": "b6923fc46cba3bda",
   "metadata": {
    "collapsed": false,
    "ExecuteTime": {
     "end_time": "2024-07-02T21:27:56.433310Z",
     "start_time": "2024-07-02T21:27:51.442407Z"
    }
   },
   "outputs": [],
   "source": [
    "llm_resp1 = cls.generate_with_function_calling(messages, tools=tools, functions_look_up=functions_look_up, max_tokens=4000)"
   ]
  },
  {
   "cell_type": "code",
   "execution_count": 4,
   "id": "29e083c352011ef8",
   "metadata": {
    "collapsed": false,
    "ExecuteTime": {
     "end_time": "2024-07-02T21:27:56.441714Z",
     "start_time": "2024-07-02T21:27:56.437049Z"
    }
   },
   "outputs": [],
   "source": [
    "tools = [\n",
    "    {\n",
    "        \"type\": \"function\",\n",
    "        \"function\": {\n",
    "            \"name\": \"get_weather\",\n",
    "            \"description\": \"Get the current weather in a given location\",\n",
    "            \"parameters\": {\n",
    "                \"type\": \"object\",\n",
    "                \"properties\": {\n",
    "                    \"location\": {\"type\": \"string\", \"description\": \"The city and state, e.g. San Francisco, CA\"},\n",
    "                    \"unit\": {\n",
    "                        \"type\": \"string\",\n",
    "                        \"enum\": [\"celsius\", \"fahrenheit\"],\n",
    "                        \"description\": \"The unit of temperature, either 'celsius' or 'fahrenheit'\",\n",
    "                    },\n",
    "                },\n",
    "                \"required\": [\"location\"],\n",
    "            },\n",
    "        },\n",
    "    },\n",
    "    {\n",
    "        \"type\": \"function\",\n",
    "        \"function\": {\n",
    "            \"name\": \"get_time\",\n",
    "            \"description\": \"Get the current time in a given time zone\",\n",
    "            \"parameters\": {\n",
    "                \"type\": \"object\",\n",
    "                \"properties\": {\"timezone\": {\"type\": \"string\", \"description\": \"The IANA time zone name, e.g. America/Los_Angeles\"}},\n",
    "                \"required\": [\"timezone\"],\n",
    "            },\n",
    "        },\n",
    "    },\n",
    "]"
   ]
  },
  {
   "cell_type": "code",
   "execution_count": 5,
   "id": "3afe64bb6073ced7",
   "metadata": {
    "collapsed": false,
    "ExecuteTime": {
     "end_time": "2024-07-02T21:27:58.668387Z",
     "start_time": "2024-07-02T21:27:56.440272Z"
    }
   },
   "outputs": [],
   "source": [
    "cls = OpenAICompatibleChatCompletion\n",
    "llm_resp2 = cls.generate_with_function_calling(messages, tools=tools, functions_look_up=functions_look_up, max_tokens=4000)"
   ]
  },
  {
   "cell_type": "code",
   "execution_count": 6,
   "id": "da80eadbeb00ea15",
   "metadata": {
    "collapsed": false,
    "ExecuteTime": {
     "end_time": "2024-07-02T21:27:58.682252Z",
     "start_time": "2024-07-02T21:27:58.674594Z"
    }
   },
   "outputs": [
    {
     "data": {
      "text/plain": "{'toolu_014xN3NohXUGTR2bpiLDVrT5': {'tool_result': {'data': 'snowy'},\n  'id': 'toolu_014xN3NohXUGTR2bpiLDVrT5',\n  'input': {'location': 'New York, NY', 'unit': 'fahrenheit'},\n  'name': 'get_weather',\n  'type': 'tool_use'},\n 'toolu_01XSagFB4DoE8JEpxxtrbw3p': {'tool_result': {'data': '10pm'},\n  'id': 'toolu_01XSagFB4DoE8JEpxxtrbw3p',\n  'input': {'timezone': 'America/New_York'},\n  'name': 'get_time',\n  'type': 'tool_use'}}"
     },
     "execution_count": 6,
     "metadata": {},
     "output_type": "execute_result"
    }
   ],
   "source": [
    "llm_resp1[\"tool_calls_details\"]"
   ]
  },
  {
   "cell_type": "code",
   "execution_count": 7,
   "id": "4b7dbbd089106700",
   "metadata": {
    "collapsed": false,
    "ExecuteTime": {
     "end_time": "2024-07-02T21:27:58.682598Z",
     "start_time": "2024-07-02T21:27:58.679449Z"
    }
   },
   "outputs": [
    {
     "data": {
      "text/plain": "{'call_MgdKr4yTVhfxf4SlYGVUMbBP': {'tool_result': {'data': 'snowy'},\n  'id': 'call_MgdKr4yTVhfxf4SlYGVUMbBP',\n  'input': {'location': 'New York', 'unit': 'celsius'},\n  'name': 'get_weather',\n  'type': 'tool_use'},\n 'call_IyvIjPvEQGNnLFaiJGAlos8e': {'tool_result': {'data': '10pm'},\n  'id': 'call_IyvIjPvEQGNnLFaiJGAlos8e',\n  'input': {'timezone': 'America/New_York'},\n  'name': 'get_time',\n  'type': 'tool_use'}}"
     },
     "execution_count": 7,
     "metadata": {},
     "output_type": "execute_result"
    }
   ],
   "source": [
    "llm_resp2[\"tool_calls_details\"]"
   ]
  },
  {
   "cell_type": "code",
   "execution_count": 8,
   "id": "5d7bb0b61093d28a",
   "metadata": {
    "collapsed": false,
    "ExecuteTime": {
     "end_time": "2024-07-02T21:27:58.693984Z",
     "start_time": "2024-07-02T21:27:58.684016Z"
    }
   },
   "outputs": [
    {
     "data": {
      "text/plain": "{'message': {'content': \"Based on the information I've retrieved:\\n\\nThe current weather in New York is snowy. \\n\\nAs for the time, it's currently 10pm in New York.\\n\\nIt seems like it's a snowy evening in New York right now. If you're in the area or planning to visit, make sure to dress warmly and be prepared for snowy conditions!\",\n  'role': 'assistant'},\n 'new_messages': [{'role': 'assistant',\n   'content': [{'text': \"Certainly! I'll check the current weather in New York and the local time for you. Let me use the available tools to get that information.\",\n     'type': 'text'},\n    {'id': 'toolu_014xN3NohXUGTR2bpiLDVrT5',\n     'input': {'location': 'New York, NY', 'unit': 'fahrenheit'},\n     'name': 'get_weather',\n     'type': 'tool_use'},\n    {'id': 'toolu_01XSagFB4DoE8JEpxxtrbw3p',\n     'input': {'timezone': 'America/New_York'},\n     'name': 'get_time',\n     'type': 'tool_use'}]},\n  {'role': 'user',\n   'content': [{'tool_use_id': 'toolu_014xN3NohXUGTR2bpiLDVrT5',\n     'type': 'tool_result',\n     'content': 'snowy'},\n    {'tool_use_id': 'toolu_01XSagFB4DoE8JEpxxtrbw3p',\n     'type': 'tool_result',\n     'content': '10pm'}]},\n  {'role': 'assistant',\n   'content': [{'text': \"Based on the information I've retrieved:\\n\\nThe current weather in New York is snowy. \\n\\nAs for the time, it's currently 10pm in New York.\\n\\nIt seems like it's a snowy evening in New York right now. If you're in the area or planning to visit, make sure to dress warmly and be prepared for snowy conditions!\",\n     'type': 'text'}]}],\n 'model': 'claude-3-5-sonnet-20240620',\n 'tool_calls_details': {'toolu_014xN3NohXUGTR2bpiLDVrT5': {'tool_result': {'data': 'snowy'},\n   'id': 'toolu_014xN3NohXUGTR2bpiLDVrT5',\n   'input': {'location': 'New York, NY', 'unit': 'fahrenheit'},\n   'name': 'get_weather',\n   'type': 'tool_use'},\n  'toolu_01XSagFB4DoE8JEpxxtrbw3p': {'tool_result': {'data': '10pm'},\n   'id': 'toolu_01XSagFB4DoE8JEpxxtrbw3p',\n   'input': {'timezone': 'America/New_York'},\n   'name': 'get_time',\n   'type': 'tool_use'}},\n 'token_usage': {'completion_tokens': 81,\n  'prompt_tokens': 745,\n  'total_tokens': 826}}"
     },
     "execution_count": 8,
     "metadata": {},
     "output_type": "execute_result"
    }
   ],
   "source": [
    "llm_resp1"
   ]
  },
  {
   "cell_type": "code",
   "execution_count": 9,
   "id": "dd3057a21cdbe80",
   "metadata": {
    "collapsed": false,
    "ExecuteTime": {
     "end_time": "2024-07-02T21:27:58.725910Z",
     "start_time": "2024-07-02T21:27:58.688314Z"
    }
   },
   "outputs": [
    {
     "data": {
      "text/plain": "{'message': {'content': 'The weather in New York is currently snowy, and the time there is 10:00 PM.',\n  'role': 'assistant'},\n 'new_messages': [{'content': None,\n   'role': 'assistant',\n   'tool_calls': [{'id': 'call_MgdKr4yTVhfxf4SlYGVUMbBP',\n     'function': {'arguments': '{\"location\": \"New York\", \"unit\": \"celsius\"}',\n      'name': 'get_weather'},\n     'type': 'function'},\n    {'id': 'call_IyvIjPvEQGNnLFaiJGAlos8e',\n     'function': {'arguments': '{\"timezone\": \"America/New_York\"}',\n      'name': 'get_time'},\n     'type': 'function'}]},\n  {'tool_call_id': 'call_MgdKr4yTVhfxf4SlYGVUMbBP',\n   'role': 'tool',\n   'name': 'get_weather',\n   'content': 'snowy'},\n  {'tool_call_id': 'call_IyvIjPvEQGNnLFaiJGAlos8e',\n   'role': 'tool',\n   'name': 'get_time',\n   'content': '10pm'},\n  {'content': 'The weather in New York is currently snowy, and the time there is 10:00 PM.',\n   'role': 'assistant'}],\n 'model': 'gpt-3.5-turbo-0125',\n 'tool_calls_details': {'call_MgdKr4yTVhfxf4SlYGVUMbBP': {'tool_result': {'data': 'snowy'},\n   'id': 'call_MgdKr4yTVhfxf4SlYGVUMbBP',\n   'input': {'location': 'New York', 'unit': 'celsius'},\n   'name': 'get_weather',\n   'type': 'tool_use'},\n  'call_IyvIjPvEQGNnLFaiJGAlos8e': {'tool_result': {'data': '10pm'},\n   'id': 'call_IyvIjPvEQGNnLFaiJGAlos8e',\n   'input': {'timezone': 'America/New_York'},\n   'name': 'get_time',\n   'type': 'tool_use'}},\n 'token_usage': {'completion_tokens': 21,\n  'prompt_tokens': 239,\n  'total_tokens': 260}}"
     },
     "execution_count": 9,
     "metadata": {},
     "output_type": "execute_result"
    }
   ],
   "source": [
    "llm_resp2"
   ]
  },
  {
   "cell_type": "code",
   "execution_count": null,
   "outputs": [],
   "source": [],
   "metadata": {
    "collapsed": false
   },
   "id": "ec808999d7f2bd61"
  }
 ],
 "metadata": {
  "kernelspec": {
   "display_name": "Python 3 (ipykernel)",
   "language": "python",
   "name": "python3"
  },
  "language_info": {
   "codemirror_mode": {
    "name": "ipython",
    "version": 3
   },
   "file_extension": ".py",
   "mimetype": "text/x-python",
   "name": "python",
   "nbconvert_exporter": "python",
   "pygments_lexer": "ipython3",
   "version": "3.11.7"
  }
 },
 "nbformat": 4,
 "nbformat_minor": 5
}
