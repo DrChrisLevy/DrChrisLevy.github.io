{
 "cells": [
  {
   "cell_type": "raw",
   "id": "4f99077ebb2266ab",
   "metadata": {
    "collapsed": false
   },
   "source": []
  },
  {
   "cell_type": "raw",
   "id": "5686b8e03ec69ef3",
   "metadata": {
    "collapsed": false
   },
   "source": [
    "---\n",
    "title: LLM Tool Calling and Evaluation\n",
    "author: Chris Levy\n",
    "date: '2024-07-06'\n",
    "date-modified: '2024-07-06'\n",
    "image: imgs/bits_and_bytes.webp\n",
    "toc: true\n",
    "format:\n",
    "  html:\n",
    "    code-fold: show\n",
    "    page-layout: full\n",
    "include-in-header:\n",
    "  - text: |\n",
    "      <style>\n",
    "      .cell-output-stdout code {\n",
    "        word-break: break-wor !important;\n",
    "        white-space: pre-wrap !important;\n",
    "      }\n",
    "      </style>\n",
    "bibliography: ../../bibliography.bib\n",
    "---"
   ]
  },
  {
   "cell_type": "markdown",
   "id": "d8fbf57c23f9f070",
   "metadata": {
    "collapsed": false
   },
   "source": [
    "# Intro\n",
    "\n",
    "In this post I will share some thoughts and ideas on using LLMs along with function calling.\n",
    "I'm going to do this in the context of working on a \"synthetic\" problem with synthetic data.\n",
    "This \"fake\" problem has some similarities related to some other projects\n",
    "I've been working on recently. I'm also going to compare OpenAI and Anthropic in \n",
    "terms of their APIs as well as model performance through a custom evaluation.\n",
    "\n",
    "# Problem Description\n",
    "\n",
    "All of this data has been synthetically created. I was using Anthropic's claude-3-5-sonnet in the browser and just hacking together some prompts and copying/pasting data. It could have been streamlined, but unfortunately I didn't really document this part.\n",
    "\n",
    "Suppose there is an ecommerce platform connected to backend APIs, databases, etc. The backend data contains various metrics, brands, and sales channels. Also assume that the platform has a front end, allowing end users to create dashboards and reports with the data. Then suppose we want to add a natural language chat interface so users can ask questions and get answers from their questions about this data. Why do this? Because leadership is excited about generative AI and wants to add chatbots and AI to the platform to show off some AI \"magic\". \n",
    "\n",
    "Now let's go through some of the data and explain it."
   ]
  },
  {
   "cell_type": "code",
   "execution_count": 13,
   "id": "a45a1dfc378c6ab8",
   "metadata": {
    "ExecuteTime": {
     "end_time": "2024-07-06T17:05:22.038807Z",
     "start_time": "2024-07-06T17:05:22.033993Z"
    },
    "collapsed": false
   },
   "outputs": [],
   "source": [
    "import pandas as pd\n",
    "from ecommerce import questions, ecommerce_metrics, sales_channels, brands\n",
    "from itables import show"
   ]
  },
  {
   "cell_type": "markdown",
   "id": "c43e62a40cca447d",
   "metadata": {
    "collapsed": false
   },
   "source": [
    "## Metrics\n",
    "\n",
    "First there are the ecommerce metrics. When a user asks a question it will be about at least one of these metrics.\n",
    "The user will use some natural description to reference these metrics. Possibly using similar wording to the `name` or `description` columns below.\n",
    "Then there is an associated `enum` value for each metric which is used in the backend when calling the backend APIs. There are about 150 metrics."
   ]
  },
  {
   "cell_type": "code",
   "execution_count": 16,
   "id": "ed6887e682647f59",
   "metadata": {
    "ExecuteTime": {
     "end_time": "2024-07-06T17:11:22.114750Z",
     "start_time": "2024-07-06T17:11:22.109466Z"
    },
    "collapsed": false
   },
   "outputs": [
    {
     "data": {
      "text/html": "<table id=\"itables_9a9c59c6_180d_4622_82d9_ac8410a51878\" class=\"display nowrap\" data-quarto-disable-processing=\"true\" style=\"table-layout:auto;width:auto;margin:auto;caption-side:bottom\">\n<thead>\n    <tr style=\"text-align: right;\">\n      \n      <th>name</th>\n      <th>enum</th>\n      <th>description</th>\n    </tr>\n  </thead><tbody><tr>\n<td style=\"vertical-align:middle; text-align:left\">\n<div style=\"float:left; margin-right: 10px;\">\n<a href=https://mwouts.github.io/itables/><svg class=\"main-svg\" xmlns=\"http://www.w3.org/2000/svg\" xmlns:xlink=\"http://www.w3.org/1999/xlink\"\nwidth=\"64\" viewBox=\"0 0 500 400\" style=\"font-family: 'Droid Sans', sans-serif;\">\n    <g style=\"fill:#d9d7fc\">\n        <path d=\"M100,400H500V357H100Z\" />\n        <path d=\"M100,300H400V257H100Z\" />\n        <path d=\"M0,200H400V157H0Z\" />\n        <path d=\"M100,100H500V57H100Z\" />\n        <path d=\"M100,350H500V307H100Z\" />\n        <path d=\"M100,250H400V207H100Z\" />\n        <path d=\"M0,150H400V107H0Z\" />\n        <path d=\"M100,50H500V7H100Z\" />\n    </g>\n    <g style=\"fill:#1a1366;stroke:#1a1366;\">\n   <rect x=\"100\" y=\"7\" width=\"400\" height=\"43\">\n    <animate\n      attributeName=\"width\"\n      values=\"0;400;0\"\n      dur=\"5s\"\n      repeatCount=\"indefinite\" />\n      <animate\n      attributeName=\"x\"\n      values=\"100;100;500\"\n      dur=\"5s\"\n      repeatCount=\"indefinite\" />\n  </rect>\n        <rect x=\"0\" y=\"107\" width=\"400\" height=\"43\">\n    <animate\n      attributeName=\"width\"\n      values=\"0;400;0\"\n      dur=\"3.5s\"\n      repeatCount=\"indefinite\" />\n    <animate\n      attributeName=\"x\"\n      values=\"0;0;400\"\n      dur=\"3.5s\"\n      repeatCount=\"indefinite\" />\n  </rect>\n        <rect x=\"100\" y=\"207\" width=\"300\" height=\"43\">\n    <animate\n      attributeName=\"width\"\n      values=\"0;300;0\"\n      dur=\"3s\"\n      repeatCount=\"indefinite\" />\n    <animate\n      attributeName=\"x\"\n      values=\"100;100;400\"\n      dur=\"3s\"\n      repeatCount=\"indefinite\" />\n  </rect>\n        <rect x=\"100\" y=\"307\" width=\"400\" height=\"43\">\n    <animate\n      attributeName=\"width\"\n      values=\"0;400;0\"\n      dur=\"4s\"\n      repeatCount=\"indefinite\" />\n      <animate\n      attributeName=\"x\"\n      values=\"100;100;500\"\n      dur=\"4s\"\n      repeatCount=\"indefinite\" />\n  </rect>\n        <g style=\"fill:transparent;stroke-width:8; stroke-linejoin:round\" rx=\"5\">\n            <g transform=\"translate(45 50) rotate(-45)\">\n                <circle r=\"33\" cx=\"0\" cy=\"0\" />\n                <rect x=\"-8\" y=\"32\" width=\"16\" height=\"30\" />\n            </g>\n\n            <g transform=\"translate(450 152)\">\n                <polyline points=\"-15,-20 -35,-20 -35,40 25,40 25,20\" />\n                <rect x=\"-15\" y=\"-40\" width=\"60\" height=\"60\" />\n            </g>\n\n            <g transform=\"translate(50 352)\">\n                <polygon points=\"-35,-5 0,-40 35,-5\" />\n                <polygon points=\"-35,10 0,45 35,10\" />\n            </g>\n\n            <g transform=\"translate(75 250)\">\n                <polyline points=\"-30,30 -60,0 -30,-30\" />\n                <polyline points=\"0,30 -30,0 0,-30\" />\n            </g>\n\n            <g transform=\"translate(425 250) rotate(180)\">\n                <polyline points=\"-30,30 -60,0 -30,-30\" />\n                <polyline points=\"0,30 -30,0 0,-30\" />\n            </g>\n        </g>\n    </g>\n</svg>\n</a>\n</div>\n<div>\nLoading ITables v2.1.4 from the internet...\n(need <a href=https://mwouts.github.io/itables/troubleshooting.html>help</a>?)</td>\n</div>\n</tr></tbody>\n\n</table>\n<link href=\"https://www.unpkg.com/dt_for_itables@2.0.11/dt_bundle.css\" rel=\"stylesheet\">\n<script type=\"module\">\n    import {DataTable, jQuery as $} from 'https://www.unpkg.com/dt_for_itables@2.0.11/dt_bundle.js';\n\n    document.querySelectorAll(\"#itables_9a9c59c6_180d_4622_82d9_ac8410a51878:not(.dataTable)\").forEach(table => {\n        // Define the table data\n        const data = [[\"Total Revenue\", \"TOTAL_REVENUE\", \"The total amount of money earned from all sales\"], [\"Average Order Value\", \"AVG_ORDER_VALUE\", \"The average amount spent per order\"], [\"Conversion Rate\", \"CONVERSION_RATE\", \"Percentage of visitors who make a purchase\"], [\"Cart Abandonment Rate\", \"CART_ABANDONMENT_RATE\", \"Percentage of users who add items to cart but don't purchase\"], [\"Customer Lifetime Value\", \"CUSTOMER_LIFETIME_VALUE\", \"Predicted total revenue from a customer over their lifetime\"], [\"Customer Acquisition Cost\", \"CUSTOMER_ACQUISITION_COST\", \"Average cost to acquire a new customer\"], [\"Return on Ad Spend\", \"RETURN_ON_AD_SPEND\", \"Revenue generated for every dollar spent on advertising\"], [\"Net Profit Margin\", \"NET_PROFIT_MARGIN\", \"Percentage of revenue that becomes profit after all expenses\"], [\"Repeat Purchase Rate\", \"REPEAT_PURCHASE_RATE\", \"Percentage of customers who make more than one purchase\"], [\"Average Time to Purchase\", \"AVG_TIME_TO_PURCHASE\", \"Average time between first visit and purchase\"], [\"Product Return Rate\", \"PRODUCT_RETURN_RATE\", \"Percentage of sold products that are returned\"], [\"Customer Retention Rate\", \"CUSTOMER_RETENTION_RATE\", \"Percentage of customers who remain active over a given period\"], [\"Email Click-Through Rate\", \"EMAIL_CTR\", \"Percentage of email recipients who clicked on a link in the email\"], [\"Site Traffic\", \"SITE_TRAFFIC\", \"Total number of visitors to the e-commerce site\"], [\"Mobile Traffic Percentage\", \"MOBILE_TRAFFIC_PERCENTAGE\", \"Percentage of total traffic coming from mobile devices\"], [\"Average Session Duration\", \"AVG_SESSION_DURATION\", \"Average time users spend on the site per visit\"], [\"Bounce Rate\", \"BOUNCE_RATE\", \"Percentage of visitors who leave the site after viewing only one page\"], [\"Pages per Session\", \"PAGES_PER_SESSION\", \"Average number of pages viewed during a single session\"], [\"Add to Cart Rate\", \"ADD_TO_CART_RATE\", \"Percentage of sessions where a product is added to the cart\"], [\"Checkout Completion Rate\", \"CHECKOUT_COMPLETION_RATE\", \"Percentage of users who complete checkout after starting it\"], [\"Average Order Size\", \"AVG_ORDER_SIZE\", \"Average number of items per order\"], [\"Revenue per Visitor\", \"REVENUE_PER_VISITOR\", \"Average revenue generated per site visitor\"], [\"Customer Satisfaction Score\", \"CUSTOMER_SATISFACTION_SCORE\", \"Average rating given by customers for their shopping experience\"], [\"Net Promoter Score\", \"NET_PROMOTER_SCORE\", \"Measure of customer loyalty and likelihood to recommend\"], [\"Average Response Time\", \"AVG_RESPONSE_TIME\", \"Average time taken to respond to customer inquiries\"], [\"Social Media Engagement Rate\", \"SOCIAL_MEDIA_ENGAGEMENT_RATE\", \"Percentage of followers who interact with social media posts\"], [\"Inventory Turnover Ratio\", \"INVENTORY_TURNOVER_RATIO\", \"Number of times inventory is sold and replaced over a period\"], [\"Out-of-Stock Rate\", \"OUT_OF_STOCK_RATE\", \"Percentage of time products are unavailable due to stock issues\"], [\"Average Shipping Time\", \"AVG_SHIPPING_TIME\", \"Average time taken to ship an order after purchase\"], [\"On-Time Delivery Rate\", \"ON_TIME_DELIVERY_RATE\", \"Percentage of orders delivered within the promised timeframe\"], [\"Average Discount per Order\", \"AVG_DISCOUNT_PER_ORDER\", \"Average amount of discount applied per order\"], [\"Coupon Redemption Rate\", \"COUPON_REDEMPTION_RATE\", \"Percentage of orders using a coupon or promotional code\"], [\"Gross Merchandise Value\", \"GROSS_MERCHANDISE_VALUE\", \"Total value of merchandise sold through the platform\"], [\"Average Margin\", \"AVG_MARGIN\", \"Average profit margin across all products\"], [\"Customer Support Tickets\", \"CUSTOMER_SUPPORT_TICKETS\", \"Number of customer support inquiries received\"], [\"First Contact Resolution Rate\", \"FIRST_CONTACT_RESOLUTION_RATE\", \"Percentage of support issues resolved in the first interaction\"], [\"Site Search Usage Rate\", \"SITE_SEARCH_USAGE_RATE\", \"Percentage of visitors who use the site's search function\"], [\"Search to Purchase Rate\", \"SEARCH_TO_PURCHASE_RATE\", \"Conversion rate for visitors who use site search\"], [\"Average Days to First Purchase\", \"AVG_DAYS_TO_FIRST_PURCHASE\", \"Average number of days between account creation and first purchase\"], [\"Product Page View to Purchase Rate\", \"PRODUCT_PAGE_VIEW_TO_PURCHASE_RATE\", \"Percentage of product page views that result in a purchase\"], [\"Average Revenue per User\", \"AVG_REVENUE_PER_USER\", \"Average revenue generated per registered user\"], [\"Customer Churn Rate\", \"CUSTOMER_CHURN_RATE\", \"Percentage of customers who stop purchasing over a given period\"], [\"Average Items per Category\", \"AVG_ITEMS_PER_CATEGORY\", \"Average number of items listed in each product category\"], [\"Category Performance\", \"CATEGORY_PERFORMANCE\", \"Revenue or units sold per product category\"], [\"New vs Returning Customer Ratio\", \"NEW_VS_RETURNING_CUSTOMER_RATIO\", \"Ratio of new customers to returning customers\"], [\"Average Customer Lifespan\", \"AVG_CUSTOMER_LIFESPAN\", \"Average duration a customer continues to purchase from the store\"], [\"Email Subscriber Growth Rate\", \"EMAIL_SUBSCRIBER_GROWTH_RATE\", \"Rate at which email subscriber list is growing\"], [\"Email Unsubscribe Rate\", \"EMAIL_UNSUBSCRIBE_RATE\", \"Percentage of subscribers who unsubscribe from email list\"], [\"Affiliate Sales Percentage\", \"AFFILIATE_SALES_PERCENTAGE\", \"Percentage of sales generated through affiliate marketing\"], [\"Mobile Conversion Rate\", \"MOBILE_CONVERSION_RATE\", \"Conversion rate for visitors on mobile devices\"], [\"Desktop Conversion Rate\", \"DESKTOP_CONVERSION_RATE\", \"Conversion rate for visitors on desktop devices\"], [\"Average Pages Before Purchase\", \"AVG_PAGES_BEFORE_PURCHASE\", \"Average number of pages viewed before making a purchase\"], [\"Refund Rate\", \"REFUND_RATE\", \"Percentage of purchases that result in a refund\"], [\"Average Refund Processing Time\", \"AVG_REFUND_PROCESSING_TIME\", \"Average time taken to process a refund request\"], [\"Product Review Rate\", \"PRODUCT_REVIEW_RATE\", \"Percentage of purchases that result in a product review\"], [\"Average Product Rating\", \"AVG_PRODUCT_RATING\", \"Average star rating across all product reviews\"], [\"Wishlist to Cart Conversion Rate\", \"WISHLIST_TO_CART_CONVERSION_RATE\", \"Percentage of wishlisted items that are added to cart\"], [\"Average Time on Product Page\", \"AVG_TIME_ON_PRODUCT_PAGE\", \"Average time spent by users on product pages\"], [\"Cross-Sell Success Rate\", \"CROSS_SELL_SUCCESS_RATE\", \"Percentage of purchases that include a cross-sold item\"], [\"Upsell Success Rate\", \"UPSELL_SUCCESS_RATE\", \"Percentage of customers who accept an upsell offer\"], [\"Average Customer Service Response Time\", \"AVG_CUSTOMER_SERVICE_RESPONSE_TIME\", \"Average time taken to respond to customer service inquiries\"], [\"Live Chat Engagement Rate\", \"LIVE_CHAT_ENGAGEMENT_RATE\", \"Percentage of visitors who engage with live chat feature\"], [\"Abandoned Cart Recovery Rate\", \"ABANDONED_CART_RECOVERY_RATE\", \"Percentage of abandoned carts that are recovered through follow-up\"], [\"Average Time to Abandon Cart\", \"AVG_TIME_TO_ABANDON_CART\", \"Average time spent before a cart is abandoned\"], [\"Product Return Reason Distribution\", \"PRODUCT_RETURN_REASON_DISTRIBUTION\", \"Distribution of reasons given for product returns\"], [\"Percentage of Organic Traffic\", \"PERCENTAGE_ORGANIC_TRAFFIC\", \"Percentage of total traffic coming from organic search\"], [\"Percentage of Paid Traffic\", \"PERCENTAGE_PAID_TRAFFIC\", \"Percentage of total traffic coming from paid sources\"], [\"Average Customer Feedback Score\", \"AVG_CUSTOMER_FEEDBACK_SCORE\", \"Average score from customer feedback surveys\"], [\"Percentage of Mobile Purchases\", \"PERCENTAGE_MOBILE_PURCHASES\", \"Percentage of total purchases made on mobile devices\"], [\"Average Session Value\", \"AVG_SESSION_VALUE\", \"Average value generated per session\"], [\"New Product Adoption Rate\", \"NEW_PRODUCT_ADOPTION_RATE\", \"Rate at which new products are purchased after launch\"], [\"Average Days Inventory Outstanding\", \"AVG_DAYS_INVENTORY_OUTSTANDING\", \"Average number of days inventory is held before being sold\"], [\"Percentage of Revenue from Top Products\", \"PERCENTAGE_REVENUE_TOP_PRODUCTS\", \"Percentage of total revenue generated by top-selling products\"], [\"Average Customer Query Resolution Time\", \"AVG_CUSTOMER_QUERY_RESOLUTION_TIME\", \"Average time taken to fully resolve a customer query\"], [\"Shopping Cart Conversion Rate\", \"SHOPPING_CART_CONVERSION_RATE\", \"Percentage of carts that result in a completed purchase\"], [\"Average Number of Login Attempts\", \"AVG_LOGIN_ATTEMPTS\", \"Average number of attempts users make to log in\"], [\"Password Reset Frequency\", \"PASSWORD_RESET_FREQUENCY\", \"Frequency at which users reset their passwords\"], [\"Average Load Time\", \"AVG_LOAD_TIME\", \"Average time taken for pages to load\"], [\"Mobile App Install Rate\", \"MOBILE_APP_INSTALL_RATE\", \"Rate at which mobile app is installed by users\"], [\"Mobile App Uninstall Rate\", \"MOBILE_APP_UNINSTALL_RATE\", \"Rate at which users uninstall the mobile app\"], [\"Average Revenue per Mobile App User\", \"AVG_REVENUE_PER_MOBILE_APP_USER\", \"Average revenue generated per mobile app user\"], [\"Push Notification Open Rate\", \"PUSH_NOTIFICATION_OPEN_RATE\", \"Percentage of push notifications that are opened\"], [\"Social Media Referral Conversion Rate\", \"SOCIAL_MEDIA_REFERRAL_CONVERSION_RATE\", \"Conversion rate for traffic from social media platforms\"], [\"Average Time to Reorder\", \"AVG_TIME_TO_REORDER\", \"Average time between repeat purchases of the same product\"], [\"Product Recommendation Click-Through Rate\", \"PRODUCT_RECOMMENDATION_CTR\", \"Percentage of product recommendations that are clicked\"], [\"Guest Checkout Rate\", \"GUEST_CHECKOUT_RATE\", \"Percentage of purchases made by guest users\"], [\"Account Creation Rate\", \"ACCOUNT_CREATION_RATE\", \"Rate at which new user accounts are created\"], [\"Average Products Viewed per Session\", \"AVG_PRODUCTS_VIEWED_PER_SESSION\", \"Average number of product pages viewed in a single session\"], [\"Product Image Zoom Rate\", \"PRODUCT_IMAGE_ZOOM_RATE\", \"Percentage of product page views where images are zoomed\"], [\"Product Video View Rate\", \"PRODUCT_VIDEO_VIEW_RATE\", \"Percentage of product page views where videos are watched\"], [\"Average Video Watch Time\", \"AVG_VIDEO_WATCH_TIME\", \"Average duration of product video views\"], [\"Frequency of Price Changes\", \"FREQUENCY_PRICE_CHANGES\", \"How often product prices are updated\"], [\"Price Elasticity of Demand\", \"PRICE_ELASTICITY_DEMAND\", \"Measure of how demand changes with price changes\"], [\"Average Time to Checkout\", \"AVG_TIME_TO_CHECKOUT\", \"Average time taken to complete the checkout process\"], [\"Form Field Error Rate\", \"FORM_FIELD_ERROR_RATE\", \"Percentage of form submissions with errors\"], [\"Payment Gateway Error Rate\", \"PAYMENT_GATEWAY_ERROR_RATE\", \"Percentage of transactions with payment gateway errors\"], [\"Average Customer Support Tickets per Order\", \"AVG_SUPPORT_TICKETS_PER_ORDER\", \"Average number of support tickets generated per order\"], [\"Product Question Frequency\", \"PRODUCT_QUESTION_FREQUENCY\", \"Average number of questions asked per product\"], [\"Question Response Time\", \"QUESTION_RESPONSE_TIME\", \"Average time taken to respond to product questions\"], [\"User-Generated Content Submission Rate\", \"UGC_SUBMISSION_RATE\", \"Rate at which users submit reviews, photos, or videos\"], [\"Influencer Campaign ROI\", \"INFLUENCER_CAMPAIGN_ROI\", \"Return on investment for influencer marketing campaigns\"], [\"Average Order Processing Time\", \"AVG_ORDER_PROCESSING_TIME\", \"Average time taken to process an order before shipping\"], [\"Shipping Cost as Percentage of Order Value\", \"SHIPPING_COST_PERCENTAGE\", \"Average shipping cost as a percentage of total order value\"], [\"Free Shipping Threshold Effectiveness\", \"FREE_SHIPPING_THRESHOLD_EFFECTIVENESS\", \"Percentage of orders that qualify for free shipping\"], [\"Average Additional Spend for Free Shipping\", \"AVG_ADDITIONAL_SPEND_FREE_SHIPPING\", \"Average amount spent to reach free shipping threshold\"], [\"Seasonal Sales Variation\", \"SEASONAL_SALES_VARIATION\", \"Measure of how sales fluctuate across seasons\"], [\"Holiday Season Sales Percentage\", \"HOLIDAY_SEASON_SALES_PERCENTAGE\", \"Percentage of annual sales occurring during holiday season\"], [\"Average Time Between Sales\", \"AVG_TIME_BETWEEN_SALES\", \"Average time gap between individual sales\"], [\"Product Bundling Effectiveness\", \"PRODUCT_BUNDLING_EFFECTIVENESS\", \"Measure of how well product bundles perform compared to individual products\"], [\"Gift Card Purchase Rate\", \"GIFT_CARD_PURCHASE_RATE\", \"Percentage of orders that include gift card purchases\"], [\"Gift Card Redemption Rate\", \"GIFT_CARD_REDEMPTION_RATE\", \"Percentage of sold gift cards that are redeemed\"], [\"Average Gift Card Value\", \"AVG_GIFT_CARD_VALUE\", \"Average monetary value of gift cards purchased\"], [\"Loyalty Program Enrollment Rate\", \"LOYALTY_PROGRAM_ENROLLMENT_RATE\", \"Percentage of customers enrolled in loyalty program\"], [\"Loyalty Point Redemption Rate\", \"LOYALTY_POINT_REDEMPTION_RATE\", \"Rate at which loyalty points are redeemed\"], [\"Average Loyalty Program ROI\", \"AVG_LOYALTY_PROGRAM_ROI\", \"Return on investment for the loyalty program\"], [\"Product Comparison Usage Rate\", \"PRODUCT_COMPARISON_USAGE_RATE\", \"Percentage of sessions where product comparison tool is used\"], [\"Wishlist Addition Rate\", \"WISHLIST_ADDITION_RATE\", \"Rate at which products are added to wishlists\"], [\"Wishlist Removal Rate\", \"WISHLIST_REMOVAL_RATE\", \"Rate at which products are removed from wishlists\"], [\"Average Wishlist Size\", \"AVG_WISHLIST_SIZE\", \"Average number of items in user wishlists\"], [\"Product Stock Alert Subscription Rate\", \"PRODUCT_STOCK_ALERT_SUBSCRIPTION_RATE\", \"Rate at which users subscribe to out-of-stock product alerts\"], [\"Stock Alert Conversion Rate\", \"STOCK_ALERT_CONVERSION_RATE\", \"Percentage of stock alert subscribers who purchase when item is back in stock\"], [\"Average Time to Restock\", \"AVG_TIME_TO_RESTOCK\", \"Average time taken to restock out-of-stock items\"], [\"Percentage of Sales from Marketplace vs. Direct\", \"PERCENTAGE_SALES_MARKETPLACE_VS_DIRECT\", \"Distribution of sales between marketplace and direct channels\"], [\"Average Seller Rating\", \"AVG_SELLER_RATING\", \"Average rating given to sellers (for marketplace models)\"], [\"Seller Onboarding Time\", \"SELLER_ONBOARDING_TIME\", \"Average time taken to onboard new sellers\"], [\"Seller Churn Rate\", \"SELLER_CHURN_RATE\", \"Rate at which sellers leave the platform\"], [\"Average Commission Rate\", \"AVG_COMMISSION_RATE\", \"Average commission charged to sellers\"], [\"International Sales Percentage\", \"INTERNATIONAL_SALES_PERCENTAGE\", \"Percentage of sales from international customers\"], [\"Currency Conversion Rate\", \"CURRENCY_CONVERSION_RATE\", \"Rate at which users switch to a different currency\"], [\"Language Switch Rate\", \"LANGUAGE_SWITCH_RATE\", \"Rate at which users switch the site language\"], [\"Average Translation Quality Score\", \"AVG_TRANSLATION_QUALITY_SCORE\", \"Average quality score for translated content\"], [\"Accessibility Score\", \"ACCESSIBILITY_SCORE\", \"Measure of the site's accessibility for users with disabilities\"], [\"Voice Search Usage Rate\", \"VOICE_SEARCH_USAGE_RATE\", \"Percentage of searches conducted using voice commands\"], [\"Image Search Usage Rate\", \"IMAGE_SEARCH_USAGE_RATE\", \"Percentage of searches conducted using image uploads\"], [\"AR Feature Usage Rate\", \"AR_FEATURE_USAGE_RATE\", \"Rate at which augmented reality features are used\"], [\"Virtual Try-On Conversion Rate\", \"VIRTUAL_TRY_ON_CONVERSION_RATE\", \"Conversion rate for products with virtual try-on feature\"], [\"AI Chatbot Usage Rate\", \"AI_CHATBOT_USAGE_RATE\", \"Percentage of customer interactions handled by AI chatbots\"], [\"AI Chatbot Resolution Rate\", \"AI_CHATBOT_RESOLUTION_RATE\", \"Percentage of queries successfully resolved by AI chatbots\"], [\"Progressive Web App Adoption Rate\", \"PWA_ADOPTION_RATE\", \"Rate at which users adopt the progressive web app version\"], [\"Average Page Load Speed\", \"AVG_PAGE_LOAD_SPEED\", \"Average time taken for pages to fully load\"], [\"Server Response Time\", \"SERVER_RESPONSE_TIME\", \"Average time taken for server to respond to requests\"], [\"API Response Time\", \"API_RESPONSE_TIME\", \"Average response time for API calls\"], [\"CDN Cache Hit Rate\", \"CDN_CACHE_HIT_RATE\", \"Percentage of content served from CDN cache\"], [\"Database Query Performance\", \"DATABASE_QUERY_PERFORMANCE\", \"Average execution time of database queries\"], [\"Peak Hour Performance Degradation\", \"PEAK_HOUR_PERFORMANCE_DEGRADATION\", \"Measure of performance decline during peak traffic hours\"], [\"Mobile App Crash Rate\", \"MOBILE_APP_CRASH_RATE\", \"Frequency of mobile app crashes\"], [\"Browser Compatibility Score\", \"BROWSER_COMPATIBILITY_SCORE\", \"Measure of site's compatibility across different browsers\"], [\"Average API Calls per Session\", \"AVG_API_CALLS_PER_SESSION\", \"Average number of API calls made during a user session\"], [\"Third-Party Script Load Time\", \"THIRD_PARTY_SCRIPT_LOAD_TIME\", \"Average load time for third-party scripts\"]];\n\n        // Define the dt_args\n        let dt_args = {\"layout\": {\"topStart\": \"pageLength\", \"topEnd\": \"search\", \"bottomStart\": \"info\", \"bottomEnd\": \"paging\"}, \"order\": []};\n        dt_args[\"data\"] = data;\n\n        \n        new DataTable(table, dt_args);\n    });\n</script>\n",
      "text/plain": "<IPython.core.display.HTML object>"
     },
     "metadata": {},
     "output_type": "display_data"
    }
   ],
   "source": [
    "ecommerce_metrics_df = pd.DataFrame(ecommerce_metrics)\n",
    "show(ecommerce_metrics_df)"
   ]
  },
  {
   "cell_type": "markdown",
   "id": "62eef012afd80fad",
   "metadata": {
    "collapsed": false
   },
   "source": [
    "\n"
   ]
  },
  {
   "cell_type": "markdown",
   "id": "3f2d28d47751db9b",
   "metadata": {
    "collapsed": false
   },
   "source": [
    "## Brands\n",
    "\n",
    "Then there is the concept of brands. I have generated around 130 brands, and similar to metrics there are the fields `name`, `description`, and `enum`."
   ]
  },
  {
   "cell_type": "code",
   "execution_count": 18,
   "id": "2bcb5a09ea4a72f1",
   "metadata": {
    "ExecuteTime": {
     "end_time": "2024-07-06T17:13:49.320785Z",
     "start_time": "2024-07-06T17:13:49.314880Z"
    },
    "collapsed": false
   },
   "outputs": [
    {
     "data": {
      "text/html": "<table id=\"itables_2121f14e_0296_475b_8fe7_da8222dd64a1\" class=\"display nowrap\" data-quarto-disable-processing=\"true\" style=\"table-layout:auto;width:auto;margin:auto;caption-side:bottom\">\n<thead>\n    <tr style=\"text-align: right;\">\n      \n      <th>name</th>\n      <th>enum</th>\n      <th>description</th>\n    </tr>\n  </thead><tbody><tr>\n<td style=\"vertical-align:middle; text-align:left\">\n<div style=\"float:left; margin-right: 10px;\">\n<a href=https://mwouts.github.io/itables/><svg class=\"main-svg\" xmlns=\"http://www.w3.org/2000/svg\" xmlns:xlink=\"http://www.w3.org/1999/xlink\"\nwidth=\"64\" viewBox=\"0 0 500 400\" style=\"font-family: 'Droid Sans', sans-serif;\">\n    <g style=\"fill:#d9d7fc\">\n        <path d=\"M100,400H500V357H100Z\" />\n        <path d=\"M100,300H400V257H100Z\" />\n        <path d=\"M0,200H400V157H0Z\" />\n        <path d=\"M100,100H500V57H100Z\" />\n        <path d=\"M100,350H500V307H100Z\" />\n        <path d=\"M100,250H400V207H100Z\" />\n        <path d=\"M0,150H400V107H0Z\" />\n        <path d=\"M100,50H500V7H100Z\" />\n    </g>\n    <g style=\"fill:#1a1366;stroke:#1a1366;\">\n   <rect x=\"100\" y=\"7\" width=\"400\" height=\"43\">\n    <animate\n      attributeName=\"width\"\n      values=\"0;400;0\"\n      dur=\"5s\"\n      repeatCount=\"indefinite\" />\n      <animate\n      attributeName=\"x\"\n      values=\"100;100;500\"\n      dur=\"5s\"\n      repeatCount=\"indefinite\" />\n  </rect>\n        <rect x=\"0\" y=\"107\" width=\"400\" height=\"43\">\n    <animate\n      attributeName=\"width\"\n      values=\"0;400;0\"\n      dur=\"3.5s\"\n      repeatCount=\"indefinite\" />\n    <animate\n      attributeName=\"x\"\n      values=\"0;0;400\"\n      dur=\"3.5s\"\n      repeatCount=\"indefinite\" />\n  </rect>\n        <rect x=\"100\" y=\"207\" width=\"300\" height=\"43\">\n    <animate\n      attributeName=\"width\"\n      values=\"0;300;0\"\n      dur=\"3s\"\n      repeatCount=\"indefinite\" />\n    <animate\n      attributeName=\"x\"\n      values=\"100;100;400\"\n      dur=\"3s\"\n      repeatCount=\"indefinite\" />\n  </rect>\n        <rect x=\"100\" y=\"307\" width=\"400\" height=\"43\">\n    <animate\n      attributeName=\"width\"\n      values=\"0;400;0\"\n      dur=\"4s\"\n      repeatCount=\"indefinite\" />\n      <animate\n      attributeName=\"x\"\n      values=\"100;100;500\"\n      dur=\"4s\"\n      repeatCount=\"indefinite\" />\n  </rect>\n        <g style=\"fill:transparent;stroke-width:8; stroke-linejoin:round\" rx=\"5\">\n            <g transform=\"translate(45 50) rotate(-45)\">\n                <circle r=\"33\" cx=\"0\" cy=\"0\" />\n                <rect x=\"-8\" y=\"32\" width=\"16\" height=\"30\" />\n            </g>\n\n            <g transform=\"translate(450 152)\">\n                <polyline points=\"-15,-20 -35,-20 -35,40 25,40 25,20\" />\n                <rect x=\"-15\" y=\"-40\" width=\"60\" height=\"60\" />\n            </g>\n\n            <g transform=\"translate(50 352)\">\n                <polygon points=\"-35,-5 0,-40 35,-5\" />\n                <polygon points=\"-35,10 0,45 35,10\" />\n            </g>\n\n            <g transform=\"translate(75 250)\">\n                <polyline points=\"-30,30 -60,0 -30,-30\" />\n                <polyline points=\"0,30 -30,0 0,-30\" />\n            </g>\n\n            <g transform=\"translate(425 250) rotate(180)\">\n                <polyline points=\"-30,30 -60,0 -30,-30\" />\n                <polyline points=\"0,30 -30,0 0,-30\" />\n            </g>\n        </g>\n    </g>\n</svg>\n</a>\n</div>\n<div>\nLoading ITables v2.1.4 from the internet...\n(need <a href=https://mwouts.github.io/itables/troubleshooting.html>help</a>?)</td>\n</div>\n</tr></tbody>\n\n</table>\n<link href=\"https://www.unpkg.com/dt_for_itables@2.0.11/dt_bundle.css\" rel=\"stylesheet\">\n<script type=\"module\">\n    import {DataTable, jQuery as $} from 'https://www.unpkg.com/dt_for_itables@2.0.11/dt_bundle.js';\n\n    document.querySelectorAll(\"#itables_2121f14e_0296_475b_8fe7_da8222dd64a1:not(.dataTable)\").forEach(table => {\n        // Define the table data\n        const data = [[\"TechNova\", \"TECH_NOVA\", \"Innovative consumer electronics manufacturer\"], [\"EcoGreen\", \"ECO_GREEN\", \"Sustainable home goods and appliances\"], [\"FitFlex\", \"FIT_FLEX\", \"Athletic wear and fitness equipment\"], [\"Luxe Living\", \"LUXE_LIVING\", \"High-end furniture and home decor\"], [\"GourmetDelight\", \"GOURMET_DELIGHT\", \"Premium food and kitchen products\"], [\"Nike\", \"NIKE\", \"Global sportswear and athletic footwear brand\"], [\"Apple\", \"APPLE\", \"Multinational technology company\"], [\"Amazon\", \"AMAZON\", \"E-commerce and cloud computing giant\"], [\"PetPal\", \"PET_PAL\", \"Pet supplies and accessories\"], [\"BeautyBliss\", \"BEAUTY_BLISS\", \"Cosmetics and skincare products\"], [\"Toyota\", \"TOYOTA\", \"Japanese automotive manufacturer\"], [\"Zara\", \"ZARA\", \"Fast fashion clothing retailer\"], [\"BookWorm\", \"BOOK_WORM\", \"Online bookstore and e-reader devices\"], [\"GreenThumb\", \"GREEN_THUMB\", \"Gardening supplies and outdoor furniture\"], [\"ToyWorld\", \"TOY_WORLD\", \"Children's toys and educational products\"], [\"Samsung\", \"SAMSUNG\", \"South Korean electronics conglomerate\"], [\"Adidas\", \"ADIDAS\", \"German sportswear manufacturer\"], [\"IKEA\", \"IKEA\", \"Swedish-founded furniture retailer\"], [\"MusicMaster\", \"MUSIC_MASTER\", \"Musical instruments and accessories\"], [\"CraftCorner\", \"CRAFT_CORNER\", \"Art supplies and craft materials\"], [\"Microsoft\", \"MICROSOFT\", \"Multinational technology corporation\"], [\"Coca-Cola\", \"COCA_COLA\", \"Global beverage company\"], [\"AutoPro\", \"AUTO_PRO\", \"Automotive parts and accessories\"], [\"HomeSmart\", \"HOME_SMART\", \"Smart home devices and systems\"], [\"FreshFarms\", \"FRESH_FARMS\", \"Organic produce and grocery items\"], [\"Google\", \"GOOGLE\", \"Internet-related services and products\"], [\"Nestle\", \"NESTLE\", \"Multinational food and drink company\"], [\"TravelEase\", \"TRAVEL_EASE\", \"Luggage and travel accessories\"], [\"FitBit\", \"FITBIT\", \"Fitness trackers and smartwatches\"], [\"CozyHome\", \"COZY_HOME\", \"Bedding and home textiles\"], [\"Disney\", \"DISNEY\", \"Entertainment and media conglomerate\"], [\"Sony\", \"SONY\", \"Japanese multinational conglomerate\"], [\"OfficeMax\", \"OFFICE_MAX\", \"Office supplies and furniture\"], [\"SportsPro\", \"SPORTS_PRO\", \"Professional sports equipment\"], [\"BabyBliss\", \"BABY_BLISS\", \"Baby products and accessories\"], [\"McDonald's\", \"MCDONALDS\", \"Global fast food restaurant chain\"], [\"Walmart\", \"WALMART\", \"Multinational retail corporation\"], [\"GamerZone\", \"GAMER_ZONE\", \"Video games and gaming accessories\"], [\"CampGear\", \"CAMP_GEAR\", \"Camping and outdoor equipment\"], [\"JewelGlow\", \"JEWEL_GLOW\", \"Jewelry and accessories\"], [\"Starbucks\", \"STARBUCKS\", \"Multinational chain of coffeehouses\"], [\"Dell\", \"DELL\", \"Computer technology company\"], [\"PetSmart\", \"PETSMART\", \"Pet supplies retailer\"], [\"FitnessFuel\", \"FITNESS_FUEL\", \"Nutritional supplements and protein powders\"], [\"ArtisanCrafts\", \"ARTISAN_CRAFTS\", \"Handmade and artisanal products\"], [\"Unilever\", \"UNILEVER\", \"Consumer goods company\"], [\"BMW\", \"BMW\", \"Luxury vehicle manufacturer\"], [\"PartyPop\", \"PARTY_POP\", \"Party supplies and decorations\"], [\"TechGeek\", \"TECH_GEEK\", \"Gadgets and tech accessories\"], [\"GreenEnergy\", \"GREEN_ENERGY\", \"Renewable energy products\"], [\"Lego\", \"LEGO\", \"Plastic construction toys\"], [\"Gap\", \"GAP\", \"American clothing and accessories retailer\"], [\"HealthyHeart\", \"HEALTHY_HEART\", \"Health monitoring devices\"], [\"CoffeeWorld\", \"COFFEE_WORLD\", \"Coffee makers and accessories\"], [\"DiyDepot\", \"DIY_DEPOT\", \"Home improvement and DIY supplies\"], [\"Procter & Gamble\", \"PROCTER_AND_GAMBLE\", \"Consumer goods corporation\"], [\"H&M\", \"H_AND_M\", \"Swedish multinational clothing company\"], [\"VintageFinds\", \"VINTAGE_FINDS\", \"Antique and vintage items\"], [\"FitKitchen\", \"FIT_KITCHEN\", \"Healthy cooking appliances\"], [\"EcoTravel\", \"ECO_TRAVEL\", \"Eco-friendly travel gear\"], [\"Netflix\", \"NETFLIX\", \"Streaming entertainment service\"], [\"Canon\", \"CANON\", \"Imaging and optical products manufacturer\"], [\"GourmetGrills\", \"GOURMET_GRILLS\", \"High-end grilling equipment\"], [\"SmartStudy\", \"SMART_STUDY\", \"Educational technology products\"], [\"PetLuxe\", \"PET_LUXE\", \"Luxury pet products\"], [\"Visa\", \"VISA\", \"Global payments technology company\"], [\"Philips\", \"PHILIPS\", \"Dutch technology company\"], [\"Urban Outfitters\", \"URBAN_OUTFITTERS\", \"Lifestyle retail company\"], [\"FreshBeauty\", \"FRESH_BEAUTY\", \"Natural and organic beauty products\"], [\"HomeChef\", \"HOME_CHEF\", \"Gourmet meal kits and ingredients\"], [\"PayPal\", \"PAYPAL\", \"Online payments system\"], [\"LG\", \"LG\", \"South Korean electronics company\"], [\"SleepWell\", \"SLEEP_WELL\", \"Sleep aids and bedding products\"], [\"FitFashion\", \"FIT_FASHION\", \"Athleisure and activewear\"], [\"CleanGreen\", \"CLEAN_GREEN\", \"Eco-friendly cleaning products\"], [\"Spotify\", \"SPOTIFY\", \"Digital music streaming service\"], [\"Panasonic\", \"PANASONIC\", \"Japanese electronics corporation\"], [\"BookNook\", \"BOOK_NOOK\", \"Bookstore and reading accessories\"], [\"PetFit\", \"PET_FIT\", \"Pet fitness and health products\"], [\"BeautyBoutique\", \"BEAUTY_BOUTIQUE\", \"High-end beauty and skincare\"], [\"MasterCard\", \"MASTERCARD\", \"Multinational financial services corporation\"], [\"Lenovo\", \"LENOVO\", \"Chinese multinational technology company\"], [\"OutdoorAdventure\", \"OUTDOOR_ADVENTURE\", \"Outdoor and adventure gear\"], [\"SmartHome\", \"SMART_HOME\", \"Home automation products\"], [\"GourmetSnacks\", \"GOURMET_SNACKS\", \"Premium snack foods\"], [\"Adobe\", \"ADOBE\", \"Software company\"], [\"Huawei\", \"HUAWEI\", \"Chinese telecommunications company\"], [\"FreshFace\", \"FRESH_FACE\", \"Skincare and facial products\"], [\"PetPamper\", \"PET_PAMPER\", \"Pet grooming and care products\"], [\"EcoFashion\", \"ECO_FASHION\", \"Sustainable clothing and accessories\"], [\"Twitter\", \"TWITTER\", \"Social networking service\"], [\"Bosch\", \"BOSCH\", \"German multinational engineering company\"], [\"KidSmart\", \"KID_SMART\", \"Educational toys and games\"], [\"FitBites\", \"FIT_BITES\", \"Healthy snacks and meal replacements\"], [\"HomeHarmony\", \"HOME_HARMONY\", \"Home organization and storage solutions\"], [\"LinkedIn\", \"LINKEDIN\", \"Business and employment-oriented social networking service\"], [\"Nikon\", \"NIKON\", \"Japanese multinational optics and imaging products corporation\"], [\"GreenGarden\", \"GREEN_GARDEN\", \"Organic gardening supplies\"], [\"TechTrend\", \"TECH_TREND\", \"Cutting-edge technology accessories\"], [\"FitFuel\", \"FIT_FUEL\", \"Sports nutrition and energy products\"], [\"Pinterest\", \"PINTEREST\", \"Image sharing and social media service\"], [\"Dyson\", \"DYSON\", \"Technology company specializing in household appliances\"], [\"EcoClean\", \"ECO_CLEAN\", \"Environmentally friendly cleaning products\"], [\"PetGourmet\", \"PET_GOURMET\", \"Gourmet pet food and treats\"], [\"BeautyTech\", \"BEAUTY_TECH\", \"High-tech beauty devices\"], [\"Airbnb\", \"AIRBNB\", \"Online marketplace for lodging and tourism experiences\"], [\"GoPro\", \"GOPRO\", \"Action camera and mobile app company\"], [\"GreenMobility\", \"GREEN_MOBILITY\", \"Eco-friendly transportation solutions\"], [\"FitTech\", \"FIT_TECH\", \"Fitness technology and wearables\"], [\"HomeArtisan\", \"HOME_ARTISAN\", \"Handcrafted home decor\"], [\"Uber\", \"UBER\", \"Transportation network company\"], [\"Bose\", \"BOSE\", \"Audio equipment company\"], [\"NaturalNurture\", \"NATURAL_NURTURE\", \"Organic baby products\"], [\"TechPlay\", \"TECH_PLAY\", \"Educational technology toys\"], [\"EcoWear\", \"ECO_WEAR\", \"Sustainable clothing brand\"], [\"Etsy\", \"ETSY\", \"E-commerce website focused on handmade or vintage items\"], [\"Garmin\", \"GARMIN\", \"GPS technology company\"], [\"CulinaryCreations\", \"CULINARY_CREATIONS\", \"Gourmet cooking tools and appliances\"], [\"PetTech\", \"PET_TECH\", \"Pet technology and smart devices\"], [\"BeautyEssentials\", \"BEAUTY_ESSENTIALS\", \"Essential beauty and skincare products\"], [\"Slack\", \"SLACK\", \"Business communication platform\"], [\"Roomba\", \"ROOMBA\", \"Robotic vacuum cleaner brand\"], [\"EcoPackage\", \"ECO_PACKAGE\", \"Sustainable packaging solutions\"], [\"FitMind\", \"FIT_MIND\", \"Mental fitness and wellness products\"], [\"SmartKitchen\", \"SMART_KITCHEN\", \"Connected kitchen appliances\"], [\"Zoom\", \"ZOOM\", \"Video communications company\"], [\"GreenPackaging\", \"GREEN_PACKAGING\", \"Eco-friendly packaging materials\"], [\"TechLearn\", \"TECH_LEARN\", \"Online learning platforms and tools\"], [\"PetComfort\", \"PET_COMFORT\", \"Comfort-focused pet products\"], [\"Shopify\", \"SHOPIFY\", \"E-commerce platform for online stores\"], [\"Ring\", \"RING\", \"Smart home security products\"], [\"EcoTravel\", \"ECO_TRAVEL\", \"Sustainable travel gear and accessories\"], [\"FitSleep\", \"FIT_SLEEP\", \"Sleep tracking and improvement products\"], [\"ArtisanEats\", \"ARTISAN_EATS\", \"Artisanal and specialty foods\"]];\n\n        // Define the dt_args\n        let dt_args = {\"layout\": {\"topStart\": \"pageLength\", \"topEnd\": \"search\", \"bottomStart\": \"info\", \"bottomEnd\": \"paging\"}, \"order\": []};\n        dt_args[\"data\"] = data;\n\n        \n        new DataTable(table, dt_args);\n    });\n</script>\n",
      "text/plain": "<IPython.core.display.HTML object>"
     },
     "metadata": {},
     "output_type": "display_data"
    }
   ],
   "source": [
    "brands_df = pd.DataFrame(brands)\n",
    "show(brands_df)"
   ]
  },
  {
   "cell_type": "markdown",
   "id": "6ff0ee8f83d0cd0d",
   "metadata": {
    "collapsed": false
   },
   "source": [
    "## Sales Channels\n",
    "\n",
    "Finally, we have some various sales channels. These are different channels which sales come in through. Each sale channel \n",
    "has the same associated fields. The number of sales channels is designed to be much less than the number of metrics and brands."
   ]
  },
  {
   "cell_type": "code",
   "execution_count": 19,
   "id": "beae8efbb6e1bbee",
   "metadata": {
    "ExecuteTime": {
     "end_time": "2024-07-06T17:15:44.692902Z",
     "start_time": "2024-07-06T17:15:44.687161Z"
    },
    "collapsed": false
   },
   "outputs": [
    {
     "data": {
      "text/html": "<table id=\"itables_e949844b_869d_40f0_a205_a0e2c3629532\" class=\"display nowrap\" data-quarto-disable-processing=\"true\" style=\"table-layout:auto;width:auto;margin:auto;caption-side:bottom\">\n<thead>\n    <tr style=\"text-align: right;\">\n      \n      <th>name</th>\n      <th>enum</th>\n      <th>description</th>\n    </tr>\n  </thead><tbody><tr>\n<td style=\"vertical-align:middle; text-align:left\">\n<div style=\"float:left; margin-right: 10px;\">\n<a href=https://mwouts.github.io/itables/><svg class=\"main-svg\" xmlns=\"http://www.w3.org/2000/svg\" xmlns:xlink=\"http://www.w3.org/1999/xlink\"\nwidth=\"64\" viewBox=\"0 0 500 400\" style=\"font-family: 'Droid Sans', sans-serif;\">\n    <g style=\"fill:#d9d7fc\">\n        <path d=\"M100,400H500V357H100Z\" />\n        <path d=\"M100,300H400V257H100Z\" />\n        <path d=\"M0,200H400V157H0Z\" />\n        <path d=\"M100,100H500V57H100Z\" />\n        <path d=\"M100,350H500V307H100Z\" />\n        <path d=\"M100,250H400V207H100Z\" />\n        <path d=\"M0,150H400V107H0Z\" />\n        <path d=\"M100,50H500V7H100Z\" />\n    </g>\n    <g style=\"fill:#1a1366;stroke:#1a1366;\">\n   <rect x=\"100\" y=\"7\" width=\"400\" height=\"43\">\n    <animate\n      attributeName=\"width\"\n      values=\"0;400;0\"\n      dur=\"5s\"\n      repeatCount=\"indefinite\" />\n      <animate\n      attributeName=\"x\"\n      values=\"100;100;500\"\n      dur=\"5s\"\n      repeatCount=\"indefinite\" />\n  </rect>\n        <rect x=\"0\" y=\"107\" width=\"400\" height=\"43\">\n    <animate\n      attributeName=\"width\"\n      values=\"0;400;0\"\n      dur=\"3.5s\"\n      repeatCount=\"indefinite\" />\n    <animate\n      attributeName=\"x\"\n      values=\"0;0;400\"\n      dur=\"3.5s\"\n      repeatCount=\"indefinite\" />\n  </rect>\n        <rect x=\"100\" y=\"207\" width=\"300\" height=\"43\">\n    <animate\n      attributeName=\"width\"\n      values=\"0;300;0\"\n      dur=\"3s\"\n      repeatCount=\"indefinite\" />\n    <animate\n      attributeName=\"x\"\n      values=\"100;100;400\"\n      dur=\"3s\"\n      repeatCount=\"indefinite\" />\n  </rect>\n        <rect x=\"100\" y=\"307\" width=\"400\" height=\"43\">\n    <animate\n      attributeName=\"width\"\n      values=\"0;400;0\"\n      dur=\"4s\"\n      repeatCount=\"indefinite\" />\n      <animate\n      attributeName=\"x\"\n      values=\"100;100;500\"\n      dur=\"4s\"\n      repeatCount=\"indefinite\" />\n  </rect>\n        <g style=\"fill:transparent;stroke-width:8; stroke-linejoin:round\" rx=\"5\">\n            <g transform=\"translate(45 50) rotate(-45)\">\n                <circle r=\"33\" cx=\"0\" cy=\"0\" />\n                <rect x=\"-8\" y=\"32\" width=\"16\" height=\"30\" />\n            </g>\n\n            <g transform=\"translate(450 152)\">\n                <polyline points=\"-15,-20 -35,-20 -35,40 25,40 25,20\" />\n                <rect x=\"-15\" y=\"-40\" width=\"60\" height=\"60\" />\n            </g>\n\n            <g transform=\"translate(50 352)\">\n                <polygon points=\"-35,-5 0,-40 35,-5\" />\n                <polygon points=\"-35,10 0,45 35,10\" />\n            </g>\n\n            <g transform=\"translate(75 250)\">\n                <polyline points=\"-30,30 -60,0 -30,-30\" />\n                <polyline points=\"0,30 -30,0 0,-30\" />\n            </g>\n\n            <g transform=\"translate(425 250) rotate(180)\">\n                <polyline points=\"-30,30 -60,0 -30,-30\" />\n                <polyline points=\"0,30 -30,0 0,-30\" />\n            </g>\n        </g>\n    </g>\n</svg>\n</a>\n</div>\n<div>\nLoading ITables v2.1.4 from the internet...\n(need <a href=https://mwouts.github.io/itables/troubleshooting.html>help</a>?)</td>\n</div>\n</tr></tbody>\n\n</table>\n<link href=\"https://www.unpkg.com/dt_for_itables@2.0.11/dt_bundle.css\" rel=\"stylesheet\">\n<script type=\"module\">\n    import {DataTable, jQuery as $} from 'https://www.unpkg.com/dt_for_itables@2.0.11/dt_bundle.js';\n\n    document.querySelectorAll(\"#itables_e949844b_869d_40f0_a205_a0e2c3629532:not(.dataTable)\").forEach(table => {\n        // Define the table data\n        const data = [[\"Amazon\", \"AMAZON\", \"World's largest e-commerce marketplace\"], [\"eBay\", \"EBAY\", \"Global online marketplace for new and used goods\"], [\"Walmart Marketplace\", \"WALMART_MARKETPLACE\", \"Online marketplace by Walmart\"], [\"Etsy\", \"ETSY\", \"E-commerce website focused on handmade or vintage items\"], [\"Own Website\", \"OWN_WEBSITE\", \"Company's proprietary e-commerce website\"], [\"Physical Stores\", \"PHYSICAL_STORES\", \"Brick-and-mortar retail locations\"], [\"Instagram Shopping\", \"INSTAGRAM_SHOPPING\", \"In-app shopping feature on Instagram\"], [\"Facebook Marketplace\", \"FACEBOOK_MARKETPLACE\", \"Peer-to-peer and business-to-consumer marketplace on Facebook\"], [\"Google Shopping\", \"GOOGLE_SHOPPING\", \"Google's shopping search engine\"], [\"Shopify\", \"SHOPIFY\", \"E-commerce platform for online stores and retail point-of-sale systems\"], [\"Target Plus\", \"TARGET_PLUS\", \"Target's third-party seller program\"], [\"Newegg\", \"NEWEGG\", \"Online retailer of computer hardware and consumer electronics\"], [\"Overstock\", \"OVERSTOCK\", \"Online retailer selling a broad range of products\"], [\"Wayfair\", \"WAYFAIR\", \"E-commerce company that sells furniture and home-goods\"], [\"Wish\", \"WISH\", \"Mobile e-commerce platform\"]];\n\n        // Define the dt_args\n        let dt_args = {\"layout\": {\"topStart\": \"pageLength\", \"topEnd\": \"search\", \"bottomStart\": \"info\", \"bottomEnd\": \"paging\"}, \"order\": []};\n        dt_args[\"data\"] = data;\n\n        \n        new DataTable(table, dt_args);\n    });\n</script>\n",
      "text/plain": "<IPython.core.display.HTML object>"
     },
     "metadata": {},
     "output_type": "display_data"
    }
   ],
   "source": [
    "sales_channels_df = pd.DataFrame(sales_channels)\n",
    "show(sales_channels_df)"
   ]
  },
  {
   "cell_type": "markdown",
   "id": "a14c2ee91b9e9af1",
   "metadata": {
    "collapsed": false
   },
   "source": [
    "## Example User Questions\n",
    "\n",
    "Given this data, I used Anthropic's claude-3-5-sonnet to generate some questions users could ask.\n",
    "The questions can mention the metrics, brands, sales channels, as well as a time dimension.\n",
    "For each question there is the \"ground truth\" expected metrics, brands, sales channels, and time range.\n",
    "This ground truth will be used later on when we do evaluation. Just scroll to the right in the table below\n",
    "to see the other fields/columns."
   ]
  },
  {
   "cell_type": "code",
   "execution_count": 23,
   "id": "18b958e88a998cb9",
   "metadata": {
    "ExecuteTime": {
     "end_time": "2024-07-06T18:02:20.380104Z",
     "start_time": "2024-07-06T18:02:20.369410Z"
    },
    "collapsed": false
   },
   "outputs": [
    {
     "data": {
      "text/html": "<table id=\"itables_af112b3a_9ccc_4009_8d27_d2d8f86736de\" class=\"display nowrap\" data-quarto-disable-processing=\"true\" style=\"table-layout:auto;width:auto;margin:auto;caption-side:bottom\">\n<thead>\n    <tr style=\"text-align: right;\">\n      \n      <th>question</th>\n      <th>expected_metric</th>\n      <th>expected_brands</th>\n      <th>expected_sales_channels</th>\n      <th>current_period_start_date</th>\n      <th>current_period_end_date</th>\n    </tr>\n  </thead><tbody><tr>\n<td style=\"vertical-align:middle; text-align:left\">\n<div style=\"float:left; margin-right: 10px;\">\n<a href=https://mwouts.github.io/itables/><svg class=\"main-svg\" xmlns=\"http://www.w3.org/2000/svg\" xmlns:xlink=\"http://www.w3.org/1999/xlink\"\nwidth=\"64\" viewBox=\"0 0 500 400\" style=\"font-family: 'Droid Sans', sans-serif;\">\n    <g style=\"fill:#d9d7fc\">\n        <path d=\"M100,400H500V357H100Z\" />\n        <path d=\"M100,300H400V257H100Z\" />\n        <path d=\"M0,200H400V157H0Z\" />\n        <path d=\"M100,100H500V57H100Z\" />\n        <path d=\"M100,350H500V307H100Z\" />\n        <path d=\"M100,250H400V207H100Z\" />\n        <path d=\"M0,150H400V107H0Z\" />\n        <path d=\"M100,50H500V7H100Z\" />\n    </g>\n    <g style=\"fill:#1a1366;stroke:#1a1366;\">\n   <rect x=\"100\" y=\"7\" width=\"400\" height=\"43\">\n    <animate\n      attributeName=\"width\"\n      values=\"0;400;0\"\n      dur=\"5s\"\n      repeatCount=\"indefinite\" />\n      <animate\n      attributeName=\"x\"\n      values=\"100;100;500\"\n      dur=\"5s\"\n      repeatCount=\"indefinite\" />\n  </rect>\n        <rect x=\"0\" y=\"107\" width=\"400\" height=\"43\">\n    <animate\n      attributeName=\"width\"\n      values=\"0;400;0\"\n      dur=\"3.5s\"\n      repeatCount=\"indefinite\" />\n    <animate\n      attributeName=\"x\"\n      values=\"0;0;400\"\n      dur=\"3.5s\"\n      repeatCount=\"indefinite\" />\n  </rect>\n        <rect x=\"100\" y=\"207\" width=\"300\" height=\"43\">\n    <animate\n      attributeName=\"width\"\n      values=\"0;300;0\"\n      dur=\"3s\"\n      repeatCount=\"indefinite\" />\n    <animate\n      attributeName=\"x\"\n      values=\"100;100;400\"\n      dur=\"3s\"\n      repeatCount=\"indefinite\" />\n  </rect>\n        <rect x=\"100\" y=\"307\" width=\"400\" height=\"43\">\n    <animate\n      attributeName=\"width\"\n      values=\"0;400;0\"\n      dur=\"4s\"\n      repeatCount=\"indefinite\" />\n      <animate\n      attributeName=\"x\"\n      values=\"100;100;500\"\n      dur=\"4s\"\n      repeatCount=\"indefinite\" />\n  </rect>\n        <g style=\"fill:transparent;stroke-width:8; stroke-linejoin:round\" rx=\"5\">\n            <g transform=\"translate(45 50) rotate(-45)\">\n                <circle r=\"33\" cx=\"0\" cy=\"0\" />\n                <rect x=\"-8\" y=\"32\" width=\"16\" height=\"30\" />\n            </g>\n\n            <g transform=\"translate(450 152)\">\n                <polyline points=\"-15,-20 -35,-20 -35,40 25,40 25,20\" />\n                <rect x=\"-15\" y=\"-40\" width=\"60\" height=\"60\" />\n            </g>\n\n            <g transform=\"translate(50 352)\">\n                <polygon points=\"-35,-5 0,-40 35,-5\" />\n                <polygon points=\"-35,10 0,45 35,10\" />\n            </g>\n\n            <g transform=\"translate(75 250)\">\n                <polyline points=\"-30,30 -60,0 -30,-30\" />\n                <polyline points=\"0,30 -30,0 0,-30\" />\n            </g>\n\n            <g transform=\"translate(425 250) rotate(180)\">\n                <polyline points=\"-30,30 -60,0 -30,-30\" />\n                <polyline points=\"0,30 -30,0 0,-30\" />\n            </g>\n        </g>\n    </g>\n</svg>\n</a>\n</div>\n<div>\nLoading ITables v2.1.4 from the internet...\n(need <a href=https://mwouts.github.io/itables/troubleshooting.html>help</a>?)</td>\n</div>\n</tr></tbody>\n\n</table>\n<link href=\"https://www.unpkg.com/dt_for_itables@2.0.11/dt_bundle.css\" rel=\"stylesheet\">\n<script type=\"module\">\n    import {DataTable, jQuery as $} from 'https://www.unpkg.com/dt_for_itables@2.0.11/dt_bundle.js';\n\n    document.querySelectorAll(\"#itables_af112b3a_9ccc_4009_8d27_d2d8f86736de:not(.dataTable)\").forEach(table => {\n        // Define the table data\n        const data = [[\"What was the Total Revenue for Nike and Adidas on Amazon and eBay from January 1, 2024 to March 31, 2024?\", \"TOTAL_REVENUE\", \"[NIKE, ADIDAS]\", \"[AMAZON, EBAY]\", \"2024-01-01\", \"2024-03-31\"], [\"Calculate the Average Order Value for Apple products sold through their Own Website between April 1, 2024 and May 31, 2024.\", \"AVG_ORDER_VALUE\", \"[APPLE]\", \"[OWN_WEBSITE]\", \"2024-04-01\", \"2024-05-31\"], [\"What was the Conversion Rate for Samsung on Walmart Marketplace during the first quarter of 2024?\", \"CONVERSION_RATE\", \"[SAMSUNG]\", \"[WALMART_MARKETPLACE]\", \"2024-01-01\", \"2024-03-31\"], [\"Determine the Cart Abandonment Rate for IKEA on their Own Website and Physical Stores from May 1, 2024 to June 9, 2024.\", \"CART_ABANDONMENT_RATE\", \"[IKEA]\", \"[OWN_WEBSITE, PHYSICAL_STORES]\", \"2024-05-01\", \"2024-06-09\"], [\"What was the Customer Lifetime Value for FitFlex customers who purchased through Instagram Shopping in the last 30 days?\", \"CUSTOMER_LIFETIME_VALUE\", \"[FIT_FLEX]\", \"[INSTAGRAM_SHOPPING]\", \"2024-05-11\", \"2024-06-09\"], [\"Calculate the Customer Acquisition Cost for EcoGreen on Etsy and Amazon for the month of April 2024.\", \"CUSTOMER_ACQUISITION_COST\", \"[ECO_GREEN]\", \"[ETSY, AMAZON]\", \"2024-04-01\", \"2024-04-30\"], [\"What was the Return on Ad Spend for Luxe Living on Google Shopping from February 15, 2024 to May 15, 2024?\", \"RETURN_ON_AD_SPEND\", \"[LUXE_LIVING]\", \"[GOOGLE_SHOPPING]\", \"2024-02-15\", \"2024-05-15\"], [\"Determine the Net Profit Margin for GourmetDelight on their Own Website for the second quarter of 2024.\", \"NET_PROFIT_MARGIN\", \"[GOURMET_DELIGHT]\", \"[OWN_WEBSITE]\", \"2024-04-01\", \"2024-06-09\"], [\"What was the Repeat Purchase Rate for PetPal on Chewy and Amazon from March 1, 2024 to May 31, 2024?\", \"REPEAT_PURCHASE_RATE\", \"[PET_PAL]\", \"[AMAZON]\", \"2024-03-01\", \"2024-05-31\"], [\"Calculate the Average Time to Purchase for BeautyBliss products on Sephora's website in May 2024.\", \"AVG_TIME_TO_PURCHASE\", \"[BEAUTY_BLISS]\", \"[OWN_WEBSITE]\", \"2024-05-01\", \"2024-05-31\"], [\"What was the Product Return Rate for Zara on their Own Website and Physical Stores from April 1, 2024 to June 9, 2024?\", \"PRODUCT_RETURN_RATE\", \"[ZARA]\", \"[OWN_WEBSITE, PHYSICAL_STORES]\", \"2024-04-01\", \"2024-06-09\"], [\"Determine the Customer Retention Rate for BookWorm on Amazon and their Own Website for the first half of 2024.\", \"CUSTOMER_RETENTION_RATE\", \"[BOOK_WORM]\", \"[AMAZON, OWN_WEBSITE]\", \"2024-01-01\", \"2024-06-09\"], [\"What was the Email Click-Through Rate for GreenThumb's marketing campaigns on their Own Website from May 1, 2024 to June 9, 2024?\", \"EMAIL_CTR\", \"[GREEN_THUMB]\", \"[OWN_WEBSITE]\", \"2024-05-01\", \"2024-06-09\"], [\"Calculate the Site Traffic for ToyWorld on their Own Website and Walmart Marketplace for the second quarter of 2024.\", \"SITE_TRAFFIC\", \"[TOY_WORLD]\", \"[OWN_WEBSITE, WALMART_MARKETPLACE]\", \"2024-04-01\", \"2024-06-09\"], [\"What was the Mobile Traffic Percentage for Adidas on their Own Website and Instagram Shopping in May 2024?\", \"MOBILE_TRAFFIC_PERCENTAGE\", \"[ADIDAS]\", \"[OWN_WEBSITE, INSTAGRAM_SHOPPING]\", \"2024-05-01\", \"2024-05-31\"], [\"Determine the Average Session Duration for MusicMaster on their Own Website from April 15, 2024 to May 15, 2024.\", \"AVG_SESSION_DURATION\", \"[MUSIC_MASTER]\", \"[OWN_WEBSITE]\", \"2024-04-15\", \"2024-05-15\"], [\"What was the Bounce Rate for CraftCorner on Etsy and their Own Website for the first five months of 2024?\", \"BOUNCE_RATE\", \"[CRAFT_CORNER]\", \"[ETSY, OWN_WEBSITE]\", \"2024-01-01\", \"2024-05-31\"], [\"Calculate the Pages per Session for Microsoft's online store from March 1, 2024 to May 31, 2024.\", \"PAGES_PER_SESSION\", \"[MICROSOFT]\", \"[OWN_WEBSITE]\", \"2024-03-01\", \"2024-05-31\"], [\"What was the Add to Cart Rate for AutoPro on Amazon and eBay during April 2024?\", \"ADD_TO_CART_RATE\", \"[AUTO_PRO]\", \"[AMAZON, EBAY]\", \"2024-04-01\", \"2024-04-30\"], [\"Determine the Checkout Completion Rate for HomeSmart on their Own Website and Google Shopping from May 1, 2024 to June 9, 2024.\", \"CHECKOUT_COMPLETION_RATE\", \"[HOME_SMART]\", \"[OWN_WEBSITE, GOOGLE_SHOPPING]\", \"2024-05-01\", \"2024-06-09\"], [\"What was the Average Order Size for FreshFarms on Walmart Marketplace and their Own Website in the last 60 days?\", \"AVG_ORDER_SIZE\", \"[FRESH_FARMS]\", \"[WALMART_MARKETPLACE, OWN_WEBSITE]\", \"2024-04-11\", \"2024-06-09\"], [\"Calculate the Revenue per Visitor for Nestle on Amazon and Walmart Marketplace for the second quarter of 2024.\", \"REVENUE_PER_VISITOR\", \"[NESTLE]\", \"[AMAZON, WALMART_MARKETPLACE]\", \"2024-04-01\", \"2024-06-09\"], [\"What was the Customer Satisfaction Score for TravelEase on their Own Website from January 1, 2024 to May 31, 2024?\", \"CUSTOMER_SATISFACTION_SCORE\", \"[TRAVEL_EASE]\", \"[OWN_WEBSITE]\", \"2024-01-01\", \"2024-05-31\"], [\"Determine the Net Promoter Score for FitBit on Amazon and their Own Website for the month of May 2024.\", \"NET_PROMOTER_SCORE\", \"[FITBIT]\", \"[AMAZON, OWN_WEBSITE]\", \"2024-05-01\", \"2024-05-31\"], [\"What was the Average Response Time for CozyHome's customer service on their Own Website from April 1, 2024 to June 9, 2024?\", \"AVG_RESPONSE_TIME\", \"[COZY_HOME]\", \"[OWN_WEBSITE]\", \"2024-04-01\", \"2024-06-09\"], [\"Calculate the Social Media Engagement Rate for Disney on Instagram Shopping and Facebook Marketplace for the second quarter of 2024.\", \"SOCIAL_MEDIA_ENGAGEMENT_RATE\", \"[DISNEY]\", \"[INSTAGRAM_SHOPPING, FACEBOOK_MARKETPLACE]\", \"2024-04-01\", \"2024-06-09\"], [\"What was the Inventory Turnover Ratio for Sony on Amazon and their Own Website from March 1, 2024 to May 31, 2024?\", \"INVENTORY_TURNOVER_RATIO\", \"[SONY]\", \"[AMAZON, OWN_WEBSITE]\", \"2024-03-01\", \"2024-05-31\"], [\"Determine the Out-of-Stock Rate for OfficeMax on Staples.com and their Own Website for the month of May 2024.\", \"OUT_OF_STOCK_RATE\", \"[OFFICE_MAX]\", \"[OWN_WEBSITE]\", \"2024-05-01\", \"2024-05-31\"], [\"What was the Average Shipping Time for SportsPro orders on Amazon and eBay from April 15, 2024 to May 15, 2024?\", \"AVG_SHIPPING_TIME\", \"[SPORTS_PRO]\", \"[AMAZON, EBAY]\", \"2024-04-15\", \"2024-05-15\"], [\"Calculate the On-Time Delivery Rate for BabyBliss on their Own Website and Walmart Marketplace for the second quarter of 2024.\", \"ON_TIME_DELIVERY_RATE\", \"[BABY_BLISS]\", \"[OWN_WEBSITE, WALMART_MARKETPLACE]\", \"2024-04-01\", \"2024-06-09\"], [\"What was the Average Discount per Order for Walmart on their Own Website and Physical Stores from May 1, 2024 to June 9, 2024?\", \"AVG_DISCOUNT_PER_ORDER\", \"[WALMART]\", \"[OWN_WEBSITE, PHYSICAL_STORES]\", \"2024-05-01\", \"2024-06-09\"], [\"Determine the Coupon Redemption Rate for GamerZone on their Own Website and Amazon for the month of April 2024.\", \"COUPON_REDEMPTION_RATE\", \"[GAMER_ZONE]\", \"[OWN_WEBSITE, AMAZON]\", \"2024-04-01\", \"2024-04-30\"], [\"What was the Gross Merchandise Value for CampGear on REI.com and their Own Website from January 1, 2024 to May 31, 2024?\", \"GROSS_MERCHANDISE_VALUE\", \"[CAMP_GEAR]\", \"[OWN_WEBSITE]\", \"2024-01-01\", \"2024-05-31\"], [\"What was the Total Revenue for Apple on Amazon and their Own Website from January 1, 2024 to March 31, 2024?\", \"TOTAL_REVENUE\", \"[APPLE]\", \"[AMAZON, OWN_WEBSITE]\", \"2024-01-01\", \"2024-03-31\"], [\"Calculate the Average Order Value for Nike products on Instagram Shopping and Facebook Marketplace between April 15, 2024 and June 1, 2024.\", \"AVG_ORDER_VALUE\", \"[NIKE]\", \"[INSTAGRAM_SHOPPING, FACEBOOK_MARKETPLACE]\", \"2024-04-15\", \"2024-06-01\"], [\"What was the Conversion Rate for Samsung on their Own Website from May 1, 2024 to June 9, 2024?\", \"CONVERSION_RATE\", \"[SAMSUNG]\", \"[OWN_WEBSITE]\", \"2024-05-01\", \"2024-06-09\"], [\"Determine the Customer Lifetime Value for FitFlex and EcoGreen on Amazon and eBay from February 1, 2024 to April 30, 2024.\", \"CUSTOMER_LIFETIME_VALUE\", \"[FIT_FLEX, ECO_GREEN]\", \"[AMAZON, EBAY]\", \"2024-02-01\", \"2024-04-30\"], [\"What was the Customer Acquisition Cost for Luxe Living on Wayfair and Overstock from March 15, 2024 to May 31, 2024?\", \"CUSTOMER_ACQUISITION_COST\", \"[LUXE_LIVING]\", \"[WAYFAIR, OVERSTOCK]\", \"2024-03-15\", \"2024-05-31\"], [\"Calculate the Return on Ad Spend for GourmetDelight on Google Shopping and Walmart Marketplace between January 1, 2024 and June 9, 2024.\", \"RETURN_ON_AD_SPEND\", \"[GOURMET_DELIGHT]\", \"[GOOGLE_SHOPPING, WALMART_MARKETPLACE]\", \"2024-01-01\", \"2024-06-09\"], [\"What was the Net Profit Margin for PetPal on Etsy and Shopify from April 1, 2024 to June 9, 2024?\", \"NET_PROFIT_MARGIN\", \"[PET_PAL]\", \"[ETSY, SHOPIFY]\", \"2024-04-01\", \"2024-06-09\"], [\"Determine the Repeat Purchase Rate for BeautyBliss on their Own Website and Physical Stores from February 15, 2024 to May 15, 2024.\", \"REPEAT_PURCHASE_RATE\", \"[BEAUTY_BLISS]\", \"[OWN_WEBSITE, PHYSICAL_STORES]\", \"2024-02-15\", \"2024-05-15\"], [\"What was the Average Time to Purchase for Toyota on their Own Website from January 1, 2024 to June 9, 2024?\", \"AVG_TIME_TO_PURCHASE\", \"[TOYOTA]\", \"[OWN_WEBSITE]\", \"2024-01-01\", \"2024-06-09\"], [\"Calculate the Product Return Rate for Zara on Instagram Shopping and Facebook Marketplace between March 1, 2024 and May 31, 2024.\", \"PRODUCT_RETURN_RATE\", \"[ZARA]\", \"[INSTAGRAM_SHOPPING, FACEBOOK_MARKETPLACE]\", \"2024-03-01\", \"2024-05-31\"], [\"What was the Customer Retention Rate for BookWorm on Amazon and their Own Website from April 1, 2024 to June 9, 2024?\", \"CUSTOMER_RETENTION_RATE\", \"[BOOK_WORM]\", \"[AMAZON, OWN_WEBSITE]\", \"2024-04-01\", \"2024-06-09\"], [\"Determine the Email Click-Through Rate for GreenThumb on their Own Website from February 1, 2024 to April 30, 2024.\", \"EMAIL_CTR\", \"[GREEN_THUMB]\", \"[OWN_WEBSITE]\", \"2024-02-01\", \"2024-04-30\"], [\"What was the Site Traffic for ToyWorld on Google Shopping and Target Plus from May 1, 2024 to June 9, 2024?\", \"SITE_TRAFFIC\", \"[TOY_WORLD]\", \"[GOOGLE_SHOPPING, TARGET_PLUS]\", \"2024-05-01\", \"2024-06-09\"], [\"Calculate the Mobile Traffic Percentage for Adidas on their Own Website and Physical Stores between January 15, 2024 and April 15, 2024.\", \"MOBILE_TRAFFIC_PERCENTAGE\", \"[ADIDAS]\", \"[OWN_WEBSITE, PHYSICAL_STORES]\", \"2024-01-15\", \"2024-04-15\"], [\"What was the Average Session Duration for MusicMaster on Newegg and eBay from March 1, 2024 to May 31, 2024?\", \"AVG_SESSION_DURATION\", \"[MUSIC_MASTER]\", \"[NEWEGG, EBAY]\", \"2024-03-01\", \"2024-05-31\"], [\"What was the Total Revenue for Apple on Amazon and their Own Website from January 1, 2024 to March 31, 2024?\", \"TOTAL_REVENUE\", \"[APPLE]\", \"[AMAZON, OWN_WEBSITE]\", \"2024-01-01\", \"2024-03-31\"], [\"Calculate the Average Order Value for Nike products on Instagram Shopping and Facebook Marketplace between April 15, 2024 and June 1, 2024.\", \"AVG_ORDER_VALUE\", \"[NIKE]\", \"[INSTAGRAM_SHOPPING, FACEBOOK_MARKETPLACE]\", \"2024-04-15\", \"2024-06-01\"], [\"What was the Conversion Rate for Samsung on their Own Website from May 1, 2024 to June 9, 2024?\", \"CONVERSION_RATE\", \"[SAMSUNG]\", \"[OWN_WEBSITE]\", \"2024-05-01\", \"2024-06-09\"], [\"Determine the Customer Lifetime Value for FitFlex and EcoGreen on Amazon and eBay from February 1, 2024 to April 30, 2024.\", \"CUSTOMER_LIFETIME_VALUE\", \"[FIT_FLEX, ECO_GREEN]\", \"[AMAZON, EBAY]\", \"2024-02-01\", \"2024-04-30\"], [\"What was the Customer Acquisition Cost for Luxe Living on Wayfair and Overstock from March 15, 2024 to May 31, 2024?\", \"CUSTOMER_ACQUISITION_COST\", \"[LUXE_LIVING]\", \"[WAYFAIR, OVERSTOCK]\", \"2024-03-15\", \"2024-05-31\"], [\"Calculate the Return on Ad Spend for GourmetDelight on Google Shopping and Walmart Marketplace between January 1, 2024 and June 9, 2024.\", \"RETURN_ON_AD_SPEND\", \"[GOURMET_DELIGHT]\", \"[GOOGLE_SHOPPING, WALMART_MARKETPLACE]\", \"2024-01-01\", \"2024-06-09\"], [\"What was the Net Profit Margin for PetPal on Etsy and Shopify from April 1, 2024 to June 9, 2024?\", \"NET_PROFIT_MARGIN\", \"[PET_PAL]\", \"[ETSY, SHOPIFY]\", \"2024-04-01\", \"2024-06-09\"], [\"Determine the Repeat Purchase Rate for BeautyBliss on their Own Website and Physical Stores from February 15, 2024 to May 15, 2024.\", \"REPEAT_PURCHASE_RATE\", \"[BEAUTY_BLISS]\", \"[OWN_WEBSITE, PHYSICAL_STORES]\", \"2024-02-15\", \"2024-05-15\"], [\"What was the Average Time to Purchase for Toyota on their Own Website from January 1, 2024 to June 9, 2024?\", \"AVG_TIME_TO_PURCHASE\", \"[TOYOTA]\", \"[OWN_WEBSITE]\", \"2024-01-01\", \"2024-06-09\"], [\"Calculate the Product Return Rate for Zara on Instagram Shopping and Facebook Marketplace between March 1, 2024 and May 31, 2024.\", \"PRODUCT_RETURN_RATE\", \"[ZARA]\", \"[INSTAGRAM_SHOPPING, FACEBOOK_MARKETPLACE]\", \"2024-03-01\", \"2024-05-31\"], [\"What was the Customer Retention Rate for BookWorm on Amazon and their Own Website from April 1, 2024 to June 9, 2024?\", \"CUSTOMER_RETENTION_RATE\", \"[BOOK_WORM]\", \"[AMAZON, OWN_WEBSITE]\", \"2024-04-01\", \"2024-06-09\"], [\"Determine the Email Click-Through Rate for GreenThumb on their Own Website from February 1, 2024 to April 30, 2024.\", \"EMAIL_CTR\", \"[GREEN_THUMB]\", \"[OWN_WEBSITE]\", \"2024-02-01\", \"2024-04-30\"], [\"What was the Site Traffic for ToyWorld on Google Shopping and Target Plus from May 1, 2024 to June 9, 2024?\", \"SITE_TRAFFIC\", \"[TOY_WORLD]\", \"[GOOGLE_SHOPPING, TARGET_PLUS]\", \"2024-05-01\", \"2024-06-09\"], [\"Calculate the Mobile Traffic Percentage for Adidas on their Own Website and Physical Stores between January 15, 2024 and April 15, 2024.\", \"MOBILE_TRAFFIC_PERCENTAGE\", \"[ADIDAS]\", \"[OWN_WEBSITE, PHYSICAL_STORES]\", \"2024-01-15\", \"2024-04-15\"], [\"What was the Average Session Duration for MusicMaster on Newegg and eBay from March 1, 2024 to May 31, 2024?\", \"AVG_SESSION_DURATION\", \"[MUSIC_MASTER]\", \"[NEWEGG, EBAY]\", \"2024-03-01\", \"2024-05-31\"], [\"Calculate the Bounce Rate for CraftCorner on Etsy and their Own Website between February 1, 2024 and April 30, 2024.\", \"BOUNCE_RATE\", \"[CRAFT_CORNER]\", \"[ETSY, OWN_WEBSITE]\", \"2024-02-01\", \"2024-04-30\"], [\"What was the Pages per Session for Microsoft products on Amazon and Newegg from April 1, 2024 to June 9, 2024?\", \"PAGES_PER_SESSION\", \"[MICROSOFT]\", \"[AMAZON, NEWEGG]\", \"2024-04-01\", \"2024-06-09\"], [\"Determine the Add to Cart Rate for Coca-Cola on Walmart Marketplace and their Own Website from January 1, 2024 to March 31, 2024.\", \"ADD_TO_CART_RATE\", \"[COCA_COLA]\", \"[WALMART_MARKETPLACE, OWN_WEBSITE]\", \"2024-01-01\", \"2024-03-31\"], [\"What was the Checkout Completion Rate for AutoPro on eBay and Amazon from May 1, 2024 to June 9, 2024?\", \"CHECKOUT_COMPLETION_RATE\", \"[AUTO_PRO]\", \"[EBAY, AMAZON]\", \"2024-05-01\", \"2024-06-09\"], [\"Calculate the Average Order Size for HomeSmart on Google Shopping and Instagram Shopping between March 15, 2024 and May 31, 2024.\", \"AVG_ORDER_SIZE\", \"[HOME_SMART]\", \"[GOOGLE_SHOPPING, INSTAGRAM_SHOPPING]\", \"2024-03-15\", \"2024-05-31\"], [\"What was the Revenue per Visitor for FreshFarms on their Own Website and Physical Stores from February 15, 2024 to May 15, 2024?\", \"REVENUE_PER_VISITOR\", \"[FRESH_FARMS]\", \"[OWN_WEBSITE, PHYSICAL_STORES]\", \"2024-02-15\", \"2024-05-15\"], [\"Determine the Customer Satisfaction Score for Google products on their Own Website from April 1, 2024 to June 9, 2024.\", \"CUSTOMER_SATISFACTION_SCORE\", \"[GOOGLE]\", \"[OWN_WEBSITE]\", \"2024-04-01\", \"2024-06-09\"], [\"What was the Net Promoter Score for Nestle on Amazon and Walmart Marketplace from January 1, 2024 to March 31, 2024?\", \"NET_PROMOTER_SCORE\", \"[NESTLE]\", \"[AMAZON, WALMART_MARKETPLACE]\", \"2024-01-01\", \"2024-03-31\"], [\"Calculate the Average Response Time for TravelEase customer support on their Own Website between May 1, 2024 and June 9, 2024.\", \"AVG_RESPONSE_TIME\", \"[TRAVEL_EASE]\", \"[OWN_WEBSITE]\", \"2024-05-01\", \"2024-06-09\"], [\"What was the Social Media Engagement Rate for FitBit on Facebook Marketplace and Instagram Shopping from March 1, 2024 to May 31, 2024?\", \"SOCIAL_MEDIA_ENGAGEMENT_RATE\", \"[FITBIT]\", \"[FACEBOOK_MARKETPLACE, INSTAGRAM_SHOPPING]\", \"2024-03-01\", \"2024-05-31\"], [\"Determine the Inventory Turnover Ratio for CozyHome on Wayfair and Overstock from February 1, 2024 to April 30, 2024.\", \"INVENTORY_TURNOVER_RATIO\", \"[COZY_HOME]\", \"[WAYFAIR, OVERSTOCK]\", \"2024-02-01\", \"2024-04-30\"], [\"What was the Out-of-Stock Rate for Disney merchandise on their Own Website and Physical Stores from April 15, 2024 to June 9, 2024?\", \"OUT_OF_STOCK_RATE\", \"[DISNEY]\", \"[OWN_WEBSITE, PHYSICAL_STORES]\", \"2024-04-15\", \"2024-06-09\"], [\"Calculate the Average Shipping Time for Sony products on Amazon and eBay between January 1, 2024 and March 31, 2024.\", \"AVG_SHIPPING_TIME\", \"[SONY]\", \"[AMAZON, EBAY]\", \"2024-01-01\", \"2024-03-31\"], [\"What was the On-Time Delivery Rate for OfficeMax on their Own Website from May 1, 2024 to June 9, 2024?\", \"ON_TIME_DELIVERY_RATE\", \"[OFFICE_MAX]\", \"[OWN_WEBSITE]\", \"2024-05-01\", \"2024-06-09\"], [\"Determine the Average Discount per Order for SportsPro on Google Shopping and Walmart Marketplace from March 15, 2024 to May 31, 2024.\", \"AVG_DISCOUNT_PER_ORDER\", \"[SPORTS_PRO]\", \"[GOOGLE_SHOPPING, WALMART_MARKETPLACE]\", \"2024-03-15\", \"2024-05-31\"], [\"What was the Coupon Redemption Rate for BabyBliss on Etsy and their Own Website from February 15, 2024 to May 15, 2024?\", \"COUPON_REDEMPTION_RATE\", \"[BABY_BLISS]\", \"[ETSY, OWN_WEBSITE]\", \"2024-02-15\", \"2024-05-15\"], [\"Calculate the Gross Merchandise Value for McDonald's on their Own Website and Physical Stores between April 1, 2024 and June 9, 2024.\", \"GROSS_MERCHANDISE_VALUE\", \"[MCDONALDS]\", \"[OWN_WEBSITE, PHYSICAL_STORES]\", \"2024-04-01\", \"2024-06-09\"]];\n\n        // Define the dt_args\n        let dt_args = {\"layout\": {\"topStart\": \"pageLength\", \"topEnd\": \"search\", \"bottomStart\": \"info\", \"bottomEnd\": \"paging\"}, \"order\": []};\n        dt_args[\"data\"] = data;\n\n        \n        new DataTable(table, dt_args);\n    });\n</script>\n",
      "text/plain": "<IPython.core.display.HTML object>"
     },
     "metadata": {},
     "output_type": "display_data"
    }
   ],
   "source": [
    "questions_df = pd.DataFrame(questions)\n",
    "show(questions_df)"
   ]
  },
  {
   "cell_type": "markdown",
   "id": "3ab0f3a0262a64c",
   "metadata": {
    "collapsed": false
   },
   "source": [
    "# OpenAI and Anthropic APIs\n",
    "\n",
    "Now that we understand the problem, let's spend a bit of time going through\n",
    "some similarities and differences between the OpenAI and Anthropic APIs when using their LLMs for\n",
    "inference and function calling. I am quite familiar with the [OpenAI API](https://platform.openai.com/docs/api-reference/chat) because I have been using it for more than a year. However, Anthropic's API is quite new to me.\n",
    "I think this is likely true for many people building with LLMs. \n",
    "But recently I have been using Anthropic's latest model, claude-3-5-sonnet, and it \"feels\" great.\n",
    "\n",
    "Anthropic's [documentation](https://docs.anthropic.com/en/api/getting-started) is great. Another great way to learn \n",
    "about the Anthropic python API is to read the source code for [answer.ai](https://www.answer.ai/)'s wrapper [Claudette](https://x.com/jeremyphoward/status/1805062541158343018).\n",
    "Usually I would not point people to a wrapper to learn the underlying API but in this case the [source code for Claudette](https://claudette.answer.ai/core.html) is a readable notebook that walks you through all the code. I found this to be an amazing resource for learning the Anthropic python SDK.\n",
    "\n",
    "## My Own Wrapper with an Emphasis on the \"Tool Calling Loop\"\n",
    "\n",
    "I have written my own wrapper classes around some functionality of OpenAI and Anthropic.\n",
    "Here are some reasons why I did this.\n",
    "\n",
    "- The best way to learn is to write it yourself. The best wrapper is the one you write and test yourself, and fully understand. \n",
    "- I wanted to write a wrapper that was focused on tool/function calling and provide a similar interface between OpenAI and Anthropic.\n",
    "- I wanted to add in some features specific to tool calling such as parallel calling, and followup calls (tool calling loop).\n",
    "\n",
    "You don't need to understand my wrapper to understand this blog post. At the end of the day it's just using OpenAI and Anthropic \n",
    "python libraries for interacting with their models. The wrapper is not really what's important here. My wrapper is not supposed to be a \n",
    "generic wrapper with streaming and image support etc. It has none of that. The focus is on the tool calling loop.\n",
    "\n",
    "### The Tool Calling Loop\n",
    "\n",
    "Want to build an \"agentic workflow\"? Just kidding.\n",
    "\n",
    "Use tool calling in a for loop. I want the tool calling loop in my wrapper to be able to do the following:\n",
    "\n",
    "- Call functions in parallel when possible. For example, if the LLM says to call three tools which are independent of each other, then these functions should be executed in parallel (not sequentially).\n",
    "- Handle followup tool calls if necessary. For example, if the output of one tool is required as the input to another tool, allow the LLM to decide if more followup tool calls are required.\n",
    "- Work with both Anthropic and OpenAI tool calling, using a similar interface.\n",
    "- Keep record of all the tool calls, the inputs, the outputs, etc. This is useful for debugging and for the evaluation.\n",
    "\n",
    "That is essentially the \"tool calling loop\" with some custom logic for my own use case.\n",
    "\n",
    "A simple example would be:\n",
    "\n",
    "**USER:** I want to book a flight for Boston or New York. Pick the location that has the better weather. Thanks!\n",
    "\n",
    "**ASSISTANT:**\n",
    "\n",
    "- calls `get_weather(Boston)` and `get_weather(New York)` independently and in parallel.\n",
    "- Picks the location with the best weather (Boston).\n",
    "- calls `book_flight(Boston)`\n",
    "- Provides final assistant message to user.\n",
    "\n",
    "The tool calling loop bundles up this type of logic.\n",
    "\n",
    "\n",
    "\n"
   ]
  },
  {
   "cell_type": "markdown",
   "id": "3b90b8c5be2720ab",
   "metadata": {
    "collapsed": false
   },
   "source": [
    "## API Differences\n",
    "\n",
    "Let's start with comparing OpenAI chat completions and Anthropic message creations.\n",
    "I'm using my wrapper class here but all the basics/foundations are the same. The returned objects\n",
    "are just dictionaries and not the usual Pydantic objects. But it does not matter. If you have used either API before then\n",
    "all this will be familiar.\n",
    "\n",
    "The first major difference is that the `system` prompt has its own [field argument for Anthropic](https://docs.anthropic.com/en/docs/build-with-claude/prompt-engineering/system-prompts#how-to-give-claude-a-role). Whereas with the OpenAI messages format\n",
    "you provide the role system as the first message. It's just personal preference but since I started with OpenAI I just like that way\n",
    "of working with the system prompt. So the first thing I did with my Anthropic wrapper is implement the system prompt like that.\n",
    "This way I can pass similar `messages` objects to either wrapper as input. As demonstrated in this example."
   ]
  },
  {
   "cell_type": "code",
   "execution_count": 35,
   "id": "571248a4d227e4a7",
   "metadata": {
    "ExecuteTime": {
     "end_time": "2024-07-06T19:12:47.354493Z",
     "start_time": "2024-07-06T19:12:46.617939Z"
    },
    "collapsed": false
   },
   "outputs": [
    {
     "data": {
      "text/plain": "{'message': {'content': \"Ahoy matey! What be ye needin' help with today, arrr?\",\n  'role': 'assistant'},\n 'model': 'gpt-3.5-turbo-0125',\n 'token_usage': {'completion_tokens': 18,\n  'prompt_tokens': 17,\n  'total_tokens': 35}}"
     },
     "execution_count": 35,
     "metadata": {},
     "output_type": "execute_result"
    }
   ],
   "source": [
    "from llm import OpenAiLMM, AnthropicLLM\n",
    "\n",
    "\n",
    "llm_openai = OpenAiLMM()\n",
    "llm_anthropic = AnthropicLLM()\n",
    "\n",
    "resp = llm_openai.call(\n",
    "    messages=[{\"role\": \"system\", \"content\": \"Talk like a pirate.\"}, {\"role\": \"user\", \"content\": \"hey\"}],\n",
    "    model=\"gpt-3.5-turbo-0125\",\n",
    "    temperature=0.6,\n",
    "    max_tokens=150,\n",
    ")\n",
    "resp"
   ]
  },
  {
   "cell_type": "code",
   "execution_count": 36,
   "id": "e870deaf406fd5a",
   "metadata": {
    "ExecuteTime": {
     "end_time": "2024-07-06T19:12:48.611607Z",
     "start_time": "2024-07-06T19:12:47.351033Z"
    },
    "collapsed": false
   },
   "outputs": [
    {
     "data": {
      "text/plain": "{'message': {'content': [{'text': \"Ahoy there, matey! What brings ye to these digital waters? Be ye seekin' treasure, adventure, or just a friendly chat with an ol' sea dog like meself?\",\n    'type': 'text'}],\n  'role': 'assistant'},\n 'model': 'claude-3-5-sonnet-20240620',\n 'token_usage': {'completion_tokens': 43,\n  'prompt_tokens': 14,\n  'total_tokens': 57}}"
     },
     "execution_count": 36,
     "metadata": {},
     "output_type": "execute_result"
    }
   ],
   "source": [
    "resp = llm_anthropic.call(\n",
    "    messages=[{\"role\": \"system\", \"content\": \"Talk like a pirate.\"}, {\"role\": \"user\", \"content\": \"hey\"}],\n",
    "    model=\"claude-3-5-sonnet-20240620\",\n",
    "    temperature=0.6,\n",
    "    max_tokens=150,\n",
    ")\n",
    "resp"
   ]
  },
  {
   "cell_type": "markdown",
   "id": "9c7b9116409e4aca",
   "metadata": {
    "collapsed": false
   },
   "source": [
    "Also note that even things like `temperature` are different. For OpenAI its range is `[0,2]` whereas Anthropic it's `[0,1]`.  The output token usages are different formats as well. Here I have made them the same, similar to OpenAI token usage format. I don't plan to go through all these differences in this post. Just some of the \"big\" ones.\n",
    "\n",
    "The next big difference is how the message responses/outputs are returned. By default, OpenAI returns `n=1` response for normal text generation.\n",
    "It returns the `{'content': \"...\", 'role': 'assistant'}` format. If there are tool calls then it returns those as a separate field `tool_calls`. We will see that shortly. But Anthropic returns all its content as a list of messages. Those message objects can have different types such as `text`, `tool_use`, `tool_result`, etc. You can see this in the example below. \n",
    "\n",
    "Tool/function calling has some differences too. Let's go through the all too familiar weather example. It's like the \"hello world\" \n",
    "of function calling. Starting with OpenAI API tool format:\n"
   ]
  },
  {
   "cell_type": "code",
   "execution_count": 56,
   "id": "3603cad4edb1f44c",
   "metadata": {
    "ExecuteTime": {
     "end_time": "2024-07-06T19:35:14.448493Z",
     "start_time": "2024-07-06T19:35:13.840254Z"
    },
    "collapsed": false
   },
   "outputs": [
    {
     "data": {
      "text/plain": "{'message': {'content': None,\n  'role': 'assistant',\n  'tool_calls': [{'id': 'call_RpQCbcAvrROdSDdEm1wKyWrj',\n    'function': {'arguments': '{\"location\":\"Boston\"}',\n     'name': 'get_current_weather'},\n    'type': 'function'}]},\n 'model': 'gpt-3.5-turbo-0125',\n 'token_usage': {'completion_tokens': 15,\n  'prompt_tokens': 61,\n  'total_tokens': 76}}"
     },
     "execution_count": 56,
     "metadata": {},
     "output_type": "execute_result"
    }
   ],
   "source": [
    "tools = [\n",
    "    {\n",
    "        \"type\": \"function\",\n",
    "        \"function\": {\n",
    "            \"name\": \"get_current_weather\",\n",
    "            \"description\": \"Get the current weather in a given location\",\n",
    "            \"parameters\": {\n",
    "                \"type\": \"object\",\n",
    "                \"properties\": {\n",
    "                    \"location\": {\n",
    "                        \"type\": \"string\",\n",
    "                        \"description\": \"The location city\",\n",
    "                    },\n",
    "                },\n",
    "                \"required\": [\"location\"],\n",
    "            },\n",
    "        },\n",
    "    }\n",
    "]\n",
    "llm_openai.call(messages=[{\"role\": \"user\", \"content\": \"What is the weather in Boston?\"}], model=\"gpt-3.5-turbo-0125\", tools=tools)"
   ]
  },
  {
   "cell_type": "markdown",
   "id": "5b7bee265afb5aa8",
   "metadata": {
    "collapsed": false
   },
   "source": [
    "This is just the first step. The LLM says we need to call a tool and OpenAI uses this `'tool_calls'` field.\n",
    "Also note that OpenAI often leaves `content` as `None` when returning tools to be called. This is not always the case though!\n",
    "\n",
    "When we make this same request with Anthropic we need to define the tools slightly different. It does not accept the same format :(. If we try we get an error.\n"
   ]
  },
  {
   "cell_type": "code",
   "execution_count": 86,
   "id": "e7b4b2a8e379d736",
   "metadata": {
    "ExecuteTime": {
     "end_time": "2024-07-06T19:48:39.528926Z",
     "start_time": "2024-07-06T19:48:39.332619Z"
    },
    "collapsed": false
   },
   "outputs": [
    {
     "data": {
      "text/plain": "{'error': {'code': 'invalid_request_error',\n  'status_code': 400,\n  'type': 'invalid_request_error',\n  'message': 'tools.0.name: Field required'}}"
     },
     "execution_count": 86,
     "metadata": {},
     "output_type": "execute_result"
    }
   ],
   "source": [
    "llm_anthropic.call(messages=[{\"role\": \"user\", \"content\": \"What is the weather in Boston?\"}], model=\"claude-3-5-sonnet-20240620\", tools=tools)"
   ]
  },
  {
   "cell_type": "markdown",
   "id": "d96d8a1a3a9a3143",
   "metadata": {
    "collapsed": false
   },
   "source": [
    "I have a simple function to convert from OpenAI tool format to Anthropic tool format."
   ]
  },
  {
   "cell_type": "code",
   "execution_count": 64,
   "id": "68d3833799786f18",
   "metadata": {
    "ExecuteTime": {
     "end_time": "2024-07-06T19:36:57.580707Z",
     "start_time": "2024-07-06T19:36:57.571077Z"
    },
    "collapsed": false
   },
   "outputs": [],
   "source": [
    "from copy import deepcopy\n",
    "\n",
    "\n",
    "def convert_openai_tool_to_anthropic(open_ai_tool: dict):\n",
    "    t = deepcopy(open_ai_tool)\n",
    "    t = t[\"function\"]\n",
    "    t[\"input_schema\"] = t[\"parameters\"]\n",
    "    t.pop(\"parameters\")\n",
    "    return t"
   ]
  },
  {
   "cell_type": "markdown",
   "id": "9aab10d492bc0b70",
   "metadata": {
    "collapsed": false
   },
   "source": [
    "When using Anthropic we need to define the tools like below. It's almost as if they want to make it harder\n",
    "to switch from OpenAI to Anthropic lol."
   ]
  },
  {
   "cell_type": "code",
   "execution_count": 65,
   "id": "a053568769de68a9",
   "metadata": {
    "ExecuteTime": {
     "end_time": "2024-07-06T19:37:06.923696Z",
     "start_time": "2024-07-06T19:37:06.903969Z"
    },
    "collapsed": false
   },
   "outputs": [
    {
     "data": {
      "text/plain": "{'name': 'get_current_weather',\n 'description': 'Get the current weather in a given location',\n 'input_schema': {'type': 'object',\n  'properties': {'location': {'type': 'string',\n    'description': 'The location city'}},\n  'required': ['location']}}"
     },
     "execution_count": 65,
     "metadata": {},
     "output_type": "execute_result"
    }
   ],
   "source": [
    "convert_openai_tool_to_anthropic(tools[0])"
   ]
  },
  {
   "cell_type": "code",
   "execution_count": 66,
   "id": "5a110a434af3cf0e",
   "metadata": {
    "ExecuteTime": {
     "end_time": "2024-07-06T19:37:10.268230Z",
     "start_time": "2024-07-06T19:37:08.256141Z"
    },
    "collapsed": false
   },
   "outputs": [
    {
     "data": {
      "text/plain": "{'message': {'content': [{'text': \"Certainly! I can help you get the current weather information for Boston. To do that, I'll use the available weather tool. Let me fetch that information for you right away.\",\n    'type': 'text'},\n   {'id': 'toolu_01NMMxXzroTLFDGF1D43Mp46',\n    'input': {'location': 'Boston'},\n    'name': 'get_current_weather',\n    'type': 'tool_use'}],\n  'role': 'assistant'},\n 'model': 'claude-3-5-sonnet-20240620',\n 'token_usage': {'completion_tokens': 92,\n  'prompt_tokens': 374,\n  'total_tokens': 466}}"
     },
     "execution_count": 66,
     "metadata": {},
     "output_type": "execute_result"
    }
   ],
   "source": [
    "llm_anthropic.call(\n",
    "    messages=[{\"role\": \"user\", \"content\": \"What is the weather in Boston?\"}],\n",
    "    model=\"claude-3-5-sonnet-20240620\",\n",
    "    tools=[convert_openai_tool_to_anthropic(tools[0])],\n",
    ")"
   ]
  },
  {
   "cell_type": "markdown",
   "id": "687390441f2f5b35",
   "metadata": {
    "collapsed": false
   },
   "source": [
    "Here you can see this list of `content` where the tool calls and assistant messages are all together in the same list. There are different `type`s\n",
    "to tell the difference. Also note that by default I think sonnet is being prompted to use chain of thought prompting. That's why it explains itself and provides the content message of type `text`. You can try to make it not as wordy. It would be interesting to see how this affects evaluation performance though."
   ]
  },
  {
   "cell_type": "code",
   "execution_count": 87,
   "id": "2a92a7cb1616d6fe",
   "metadata": {
    "ExecuteTime": {
     "end_time": "2024-07-06T19:50:07.199698Z",
     "start_time": "2024-07-06T19:50:05.774389Z"
    },
    "collapsed": false
   },
   "outputs": [
    {
     "data": {
      "text/plain": "{'message': {'content': [{'text': \"Certainly! I'll check the current weather in Boston for you.\",\n    'type': 'text'},\n   {'id': 'toolu_014iaAYa99njiqWdAZYEGRyp',\n    'input': {'location': 'Boston'},\n    'name': 'get_current_weather',\n    'type': 'tool_use'}],\n  'role': 'assistant'},\n 'model': 'claude-3-5-sonnet-20240620',\n 'token_usage': {'completion_tokens': 69,\n  'prompt_tokens': 402,\n  'total_tokens': 471}}"
     },
     "execution_count": 87,
     "metadata": {},
     "output_type": "execute_result"
    }
   ],
   "source": [
    "llm_anthropic.call(\n",
    "    messages=[\n",
    "        {\n",
    "            \"role\": \"system\",\n",
    "            \"content\": \" Do not talk about the tools you use. Just call the tools without providing any reasoning.\"\n",
    "            \"Please, do not talk about the tools.\",\n",
    "        },\n",
    "        {\"role\": \"user\", \"content\": \"What is the weather in Boston?\"},\n",
    "    ],\n",
    "    model=\"claude-3-5-sonnet-20240620\",\n",
    "    tools=[convert_openai_tool_to_anthropic(tools[0])],\n",
    "    temperature=0,\n",
    ")"
   ]
  },
  {
   "cell_type": "markdown",
   "id": "72b262475fc76b2c",
   "metadata": {
    "collapsed": false
   },
   "source": [
    "Before moving onto a more interesting problem to solve, let's just go through the tool calling loop example.\n",
    "This tool calling loop is implemented in a function `generate_with_function_calling`. Let's consider the simple example\n",
    "of using weather and flight booking tools together."
   ]
  },
  {
   "cell_type": "code",
   "execution_count": 94,
   "id": "8a0bff3490b6c144",
   "metadata": {
    "ExecuteTime": {
     "end_time": "2024-07-06T20:00:03.791066Z",
     "start_time": "2024-07-06T20:00:03.784150Z"
    },
    "collapsed": false
   },
   "outputs": [],
   "source": [
    "tools = [\n",
    "    {\n",
    "        \"type\": \"function\",\n",
    "        \"function\": {\n",
    "            \"name\": \"get_current_weather\",\n",
    "            \"description\": \"Get the current weather in a given location\",\n",
    "            \"parameters\": {\n",
    "                \"type\": \"object\",\n",
    "                \"properties\": {\n",
    "                    \"location\": {\n",
    "                        \"type\": \"string\",\n",
    "                        \"description\": \"The location city\",\n",
    "                    },\n",
    "                },\n",
    "                \"required\": [\"location\"],\n",
    "            },\n",
    "        },\n",
    "    },\n",
    "    {\n",
    "        \"type\": \"function\",\n",
    "        \"function\": {\n",
    "            \"name\": \"book_flight\",\n",
    "            \"description\": \"Book a flight from one location to another.\",\n",
    "            \"parameters\": {\n",
    "                \"type\": \"object\",\n",
    "                \"properties\": {\n",
    "                    \"departure_city\": {\n",
    "                        \"type\": \"string\",\n",
    "                        \"description\": \"The departure city.\",\n",
    "                    },\n",
    "                    \"arrival_city\": {\n",
    "                        \"type\": \"string\",\n",
    "                        \"description\": \"The arrival city.\",\n",
    "                    },\n",
    "                },\n",
    "                \"required\": [\"departure_city\", \"arrival_city\"],\n",
    "            },\n",
    "        },\n",
    "    },\n",
    "]\n",
    "\n",
    "\n",
    "def get_current_weather(location):\n",
    "    if \"boston\" in location.lower():\n",
    "        return {\"data\": \"Sunny!\"}\n",
    "    else:\n",
    "        return {\"data\": \"Rainy!\"}\n",
    "\n",
    "\n",
    "def book_flight(departure_city, arrival_city):\n",
    "    return {\"data\": f\"I have booked your flight from {departure_city} to {arrival_city}.\"}\n",
    "\n",
    "\n",
    "functions_look_up = {\"get_current_weather\": get_current_weather, \"book_flight\": book_flight}"
   ]
  },
  {
   "cell_type": "markdown",
   "id": "26472d74edaf65db",
   "metadata": {
    "collapsed": false
   },
   "source": [
    "Above is what is needed for my wrapper tool calling loop logic. \n",
    "The functions must return a dict with at least the key `'data'` which is the content passed to the LLM.\n",
    "\n",
    "First we will use OpenAI."
   ]
  },
  {
   "cell_type": "code",
   "execution_count": 95,
   "id": "d1b0fe9a6cbcc619",
   "metadata": {
    "ExecuteTime": {
     "end_time": "2024-07-06T20:00:39.924067Z",
     "start_time": "2024-07-06T20:00:36.862236Z"
    },
    "collapsed": false
   },
   "outputs": [],
   "source": [
    "resp = llm_openai.generate_with_function_calling(\n",
    "    messages=[\n",
    "        {\n",
    "            \"role\": \"user\",\n",
    "            \"content\": \"\"\"I need to book a flight from Halifax to either Boston or New York. \n",
    "    But I want to fly to the city with the nicer weather.\n",
    "    \"\"\",\n",
    "        }\n",
    "    ],\n",
    "    tools=tools,\n",
    "    functions_look_up=functions_look_up,\n",
    "    model=\"gpt-3.5-turbo-0125\",\n",
    ")"
   ]
  },
  {
   "cell_type": "code",
   "execution_count": 97,
   "id": "83bc170b647f2879",
   "metadata": {
    "ExecuteTime": {
     "end_time": "2024-07-06T20:00:55.363826Z",
     "start_time": "2024-07-06T20:00:55.357917Z"
    },
    "collapsed": false
   },
   "outputs": [
    {
     "data": {
      "text/plain": "dict_keys(['message', 'new_messages', 'model', 'tool_calls_details', 'token_usage', 'execution_time'])"
     },
     "execution_count": 97,
     "metadata": {},
     "output_type": "execute_result"
    }
   ],
   "source": [
    "resp.keys()"
   ]
  },
  {
   "cell_type": "markdown",
   "id": "5b7500bd30bb2b5e",
   "metadata": {
    "collapsed": false
   },
   "source": [
    "- `resp['message']` is the final assistant message after all the internal looping logic."
   ]
  },
  {
   "cell_type": "code",
   "execution_count": 98,
   "id": "e5b6caae9ba03778",
   "metadata": {
    "ExecuteTime": {
     "end_time": "2024-07-06T20:01:52.032483Z",
     "start_time": "2024-07-06T20:01:52.015443Z"
    },
    "collapsed": false
   },
   "outputs": [
    {
     "data": {
      "text/plain": "{'content': 'Your flight from Halifax to Boston has been successfully booked. If you need any further assistance or information, feel free to let me know!',\n 'role': 'assistant'}"
     },
     "execution_count": 98,
     "metadata": {},
     "output_type": "execute_result"
    }
   ],
   "source": [
    "resp[\"message\"]"
   ]
  },
  {
   "cell_type": "markdown",
   "id": "dccafdd52bdb5d32",
   "metadata": {
    "collapsed": false
   },
   "source": [
    "- `resp['new_messages']` is the record of all **new** messages created after the user message and up to and including the final assistant message. It is useful for keeping track of the conversation history. It includes all the tool calls and interactions. It will be in the format expected by either OpenAI and Anthropic."
   ]
  },
  {
   "cell_type": "code",
   "execution_count": 101,
   "id": "dad401ef10ffb6b9",
   "metadata": {
    "ExecuteTime": {
     "end_time": "2024-07-06T20:04:24.610551Z",
     "start_time": "2024-07-06T20:04:24.594096Z"
    },
    "collapsed": false
   },
   "outputs": [
    {
     "data": {
      "text/plain": "[{'content': None,\n  'role': 'assistant',\n  'tool_calls': [{'id': 'call_CHndlD0V00ThofEsuUEPOTBK',\n    'function': {'arguments': '{\"location\": \"Boston\"}',\n     'name': 'get_current_weather'},\n    'type': 'function'},\n   {'id': 'call_Ym7kjlLIX2bpX892trzIqOhx',\n    'function': {'arguments': '{\"location\": \"New York\"}',\n     'name': 'get_current_weather'},\n    'type': 'function'}]},\n {'tool_call_id': 'call_CHndlD0V00ThofEsuUEPOTBK',\n  'role': 'tool',\n  'name': 'get_current_weather',\n  'content': 'Sunny!'},\n {'tool_call_id': 'call_Ym7kjlLIX2bpX892trzIqOhx',\n  'role': 'tool',\n  'name': 'get_current_weather',\n  'content': 'Rainy!'},\n {'content': 'The current weather in both Boston is sunny and in New York is rainy. \\nSince the weather in Boston is sunny, I recommend booking your flight from Halifax to Boston. \\n\\nI will proceed with booking the flight from Halifax to Boston.',\n  'role': 'assistant',\n  'tool_calls': [{'id': 'call_qktEzlFMLIvZCTVqZLUrrNNk',\n    'function': {'arguments': '{\"departure_city\":\"Halifax\",\"arrival_city\":\"Boston\"}',\n     'name': 'book_flight'},\n    'type': 'function'}]},\n {'tool_call_id': 'call_qktEzlFMLIvZCTVqZLUrrNNk',\n  'role': 'tool',\n  'name': 'book_flight',\n  'content': 'I have booked your flight from Halifax to Boston.'},\n {'content': 'Your flight from Halifax to Boston has been successfully booked. If you need any further assistance or information, feel free to let me know!',\n  'role': 'assistant'}]"
     },
     "execution_count": 101,
     "metadata": {},
     "output_type": "execute_result"
    }
   ],
   "source": [
    "resp[\"new_messages\"]"
   ]
  },
  {
   "cell_type": "code",
   "execution_count": null,
   "id": "b9d9f837aa44884c",
   "metadata": {
    "collapsed": false
   },
   "outputs": [],
   "source": []
  },
  {
   "cell_type": "code",
   "execution_count": 88,
   "id": "5fbcf384353df7c3",
   "metadata": {
    "ExecuteTime": {
     "end_time": "2024-07-06T19:53:16.193647Z",
     "start_time": "2024-07-06T19:53:15.251021Z"
    },
    "collapsed": false
   },
   "outputs": [
    {
     "data": {
      "text/plain": "{'message': {'content': None,\n  'role': 'assistant',\n  'tool_calls': [{'id': 'call_wV4oaNtnIXwYKNsGVVtXHp8E',\n    'function': {'arguments': '{\"location\": \"Boston\"}',\n     'name': 'get_current_weather'},\n    'type': 'function'},\n   {'id': 'call_z2pQybdSOUvDmWbsoW7qivew',\n    'function': {'arguments': '{\"location\": \"New York\"}',\n     'name': 'get_current_weather'},\n    'type': 'function'}]},\n 'model': 'gpt-3.5-turbo-0125',\n 'token_usage': {'completion_tokens': 46,\n  'prompt_tokens': 85,\n  'total_tokens': 131}}"
     },
     "execution_count": 88,
     "metadata": {},
     "output_type": "execute_result"
    }
   ],
   "source": [
    "llm_openai.call(messages=[], model=\"gpt-3.5-turbo-0125\", tools=tools)"
   ]
  },
  {
   "cell_type": "code",
   "execution_count": null,
   "id": "d9f285e17b858c8b",
   "metadata": {
    "collapsed": false
   },
   "outputs": [],
   "source": []
  },
  {
   "cell_type": "code",
   "execution_count": 37,
   "id": "41d61a12002dd980",
   "metadata": {
    "ExecuteTime": {
     "end_time": "2024-07-06T19:22:30.457037Z",
     "start_time": "2024-07-06T19:22:30.453004Z"
    },
    "collapsed": false
   },
   "outputs": [],
   "source": []
  },
  {
   "cell_type": "code",
   "execution_count": null,
   "id": "1b94d75ce14992a1",
   "metadata": {
    "collapsed": false
   },
   "outputs": [],
   "source": []
  },
  {
   "cell_type": "code",
   "execution_count": null,
   "id": "fcbe120f6ab95e91",
   "metadata": {
    "collapsed": false
   },
   "outputs": [],
   "source": [
    "from tqdm import tqdm\n",
    "from concurrent.futures import ThreadPoolExecutor, as_completed\n",
    "import numpy as np"
   ]
  },
  {
   "cell_type": "code",
   "execution_count": null,
   "id": "2f40da0a3b73b654",
   "metadata": {
    "collapsed": false
   },
   "outputs": [],
   "source": [
    "llm_anthropic = AnthropicLLM()\n",
    "llm_anthropic.call(\n",
    "    messages=[{\"role\": \"system\", \"content\": \"Talk like a pirate and return JSON\"}, {\"role\": \"user\", \"content\": \"hey\"}], max_tokens=1000\n",
    ")"
   ]
  },
  {
   "cell_type": "code",
   "execution_count": null,
   "id": "fa5cb4ef22666a04",
   "metadata": {
    "collapsed": false
   },
   "outputs": [],
   "source": []
  },
  {
   "cell_type": "code",
   "execution_count": null,
   "id": "5a4d41dd17801e83",
   "metadata": {
    "collapsed": false
   },
   "outputs": [],
   "source": [
    "def prepare_embedding_input(rec):\n",
    "    return f'{rec[\"name\"]} {rec[\"enum\"]}'"
   ]
  },
  {
   "cell_type": "code",
   "execution_count": null,
   "id": "531f5041b12d0e5e",
   "metadata": {
    "collapsed": false
   },
   "outputs": [],
   "source": [
    "ecommerce_metrics_embeddings = llm_openai.get_embeddings([prepare_embedding_input(rec) for rec in ecommerce_metrics])\n",
    "brands_embeddings = llm_openai.get_embeddings([prepare_embedding_input(rec) for rec in brands])"
   ]
  },
  {
   "cell_type": "code",
   "execution_count": null,
   "id": "7b9dfc8a81f9c5ab",
   "metadata": {
    "collapsed": false
   },
   "outputs": [],
   "source": []
  },
  {
   "cell_type": "code",
   "execution_count": null,
   "id": "446476b22d4a3a1a",
   "metadata": {
    "collapsed": false
   },
   "outputs": [],
   "source": [
    "get_backend_metric_tool = {\n",
    "    \"type\": \"function\",\n",
    "    \"function\": {\n",
    "        \"name\": \"get_backend_metric\",\n",
    "        \"description\": \"\"\"Takes in the user requested metric and \n",
    "        uses ML/AI to return the k nearest neighbors for the most likely related backend ENUM metrics.\"\"\",\n",
    "        \"parameters\": {\n",
    "            \"type\": \"object\",\n",
    "            \"properties\": {\n",
    "                \"user_requested_metric\": {\n",
    "                    \"type\": \"string\",\n",
    "                    \"description\": \"The metric requested by the user.\",\n",
    "                },\n",
    "            },\n",
    "            \"required\": [\"user_requested_metric\"],\n",
    "        },\n",
    "    },\n",
    "}\n",
    "get_backend_brands_tool = {\n",
    "    \"type\": \"function\",\n",
    "    \"function\": {\n",
    "        \"name\": \"get_backend_brands\",\n",
    "        \"description\": \"\"\"Takes in the user requested brand(s) and \n",
    "        uses ML/AI to return the k nearest neighbors for the most likely related backend ENUM brands per requested brands.\"\"\",\n",
    "        \"parameters\": {\n",
    "            \"type\": \"object\",\n",
    "            \"properties\": {\n",
    "                \"user_requested_brands\": {\n",
    "                    \"type\": \"array\",\n",
    "                    \"items\": {\n",
    "                        \"type\": \"string\",\n",
    "                    },\n",
    "                    \"default\": [],\n",
    "                    \"description\": \"The list of brand(s) requested by the user.\",\n",
    "                },\n",
    "            },\n",
    "            \"required\": [\"user_requested_brands\"],\n",
    "        },\n",
    "    },\n",
    "}\n",
    "get_sales_data_tool = {\n",
    "    \"type\": \"function\",\n",
    "    \"function\": {\n",
    "        \"name\": \"get_sales_data\",\n",
    "        \"description\": \"\"\"Get the sales data from the backend system.\"\"\",\n",
    "        \"parameters\": {\n",
    "            \"type\": \"object\",\n",
    "            \"properties\": {\n",
    "                \"backend_metric\": {\n",
    "                    \"type\": \"string\",\n",
    "                    \"description\": \"This is the backend metric ENUM.\",\n",
    "                },\n",
    "                \"backend_brands\": {\n",
    "                    \"type\": \"array\",\n",
    "                    \"items\": {\n",
    "                        \"type\": \"string\",\n",
    "                    },\n",
    "                    \"default\": [],\n",
    "                    \"description\": \"The list of backend ENUM brands.\",\n",
    "                },\n",
    "                \"sales_channels\": {\n",
    "                    \"type\": \"array\",\n",
    "                    \"items\": {\n",
    "                        \"type\": \"string\",\n",
    "                        \"enum\": [x[\"enum\"] for x in sales_channels],\n",
    "                    },\n",
    "                    \"default\": [],\n",
    "                    \"description\": \"The list of sales channels.\",\n",
    "                },\n",
    "                \"current_period_start_date\": {\n",
    "                    \"type\": \"string\",\n",
    "                    \"description\": \"The start of the current reporting period.\",\n",
    "                },\n",
    "                \"current_period_end_date\": {\n",
    "                    \"type\": \"string\",\n",
    "                    \"description\": \"The end of the current reporting period.\",\n",
    "                },\n",
    "            },\n",
    "            \"required\": [\n",
    "                \"backend_metric\",\n",
    "                \"backend_brands\",\n",
    "                \"current_period_start_date\",\n",
    "                \"current_period_end_date\",\n",
    "            ],\n",
    "        },\n",
    "    },\n",
    "}\n",
    "tools_openai = [get_backend_metric_tool, get_backend_brands_tool, get_sales_data_tool]\n",
    "tools_anthropic = [convert_openai_tool_to_anthropic(t) for t in tools_openai]"
   ]
  },
  {
   "cell_type": "code",
   "execution_count": null,
   "id": "2cb382967e68713c",
   "metadata": {
    "collapsed": false
   },
   "outputs": [],
   "source": [
    "def find_k_nearest_neighbors(embeddings, input_embedding, k):\n",
    "    # Calculate distances\n",
    "    distances = np.linalg.norm(embeddings - input_embedding, axis=1)\n",
    "    # Get indices of k smallest distances\n",
    "    nearest_indices = np.argpartition(distances, k)[:k]\n",
    "    # Sort the k nearest indices by distance\n",
    "    nearest_indices = nearest_indices[np.argsort(distances[nearest_indices])]\n",
    "    return nearest_indices"
   ]
  },
  {
   "cell_type": "code",
   "execution_count": null,
   "id": "e806a86fafce5a62",
   "metadata": {
    "collapsed": false
   },
   "outputs": [],
   "source": [
    "def get_backend_metric(user_requested_metric: str):\n",
    "    return {\n",
    "        \"data\": [\n",
    "            ecommerce_metrics[i]\n",
    "            for i in find_k_nearest_neighbors(llm_openai.get_embeddings([user_requested_metric]), ecommerce_metrics_embeddings, 3)\n",
    "        ]\n",
    "    }\n",
    "\n",
    "\n",
    "def get_backend_brands(user_requested_brands: list[str]):\n",
    "    data = dict()\n",
    "    for brand in user_requested_brands:\n",
    "        data[brand] = [brands[i] for i in find_k_nearest_neighbors(llm_openai.get_embeddings([brand]), brands_embeddings, 3)]\n",
    "    return {\"data\": data}\n",
    "\n",
    "\n",
    "def get_sales_data(*args, **kwargs):\n",
    "    return {\"data\": 10}\n",
    "\n",
    "\n",
    "functions_look_up = {\"get_backend_metric\": get_backend_metric, \"get_backend_brands\": get_backend_brands, \"get_sales_data\": get_sales_data}"
   ]
  },
  {
   "cell_type": "code",
   "execution_count": null,
   "id": "b2b6f013f46ed53c",
   "metadata": {
    "collapsed": false
   },
   "outputs": [],
   "source": [
    "get_backend_brands([\"shopify\", \"nike\"])"
   ]
  },
  {
   "cell_type": "code",
   "execution_count": null,
   "id": "e3f3a57be72dd8a5",
   "metadata": {
    "collapsed": false
   },
   "outputs": [],
   "source": [
    "system_prompt = \"\"\"\n",
    "You will be asked a question by the user about retrieving sales data.\n",
    "Use the available tools but only call the tools when needed.\n",
    "If you need further clarification then ask. \n",
    "\n",
    "There are hundreds of metrics and hundreds of brands in the backend system.\n",
    "The user will not know all these metrics and brands, or how to refer to them exactly.\n",
    "You do not know them either, so I have provided some helper tools for you.\n",
    "\n",
    "In general you will follow the typical flow when answering questions:\n",
    "1. Extract the user requested metric and the user requested brand(s).\n",
    "2. \n",
    "    \n",
    "    a) Pass the user requested metric to the the tool get_backend_metric to\n",
    "    get the list of most likely corresponding backend metric ENUMs. \n",
    "    Then choose the most appropriate from this list. \n",
    "    \n",
    "    b) Pass the user requested brand(s) to the the tool get_backend_brands to\n",
    "    get the list of most likely corresponding backend brand ENUMs. \n",
    "    Then choose the most appropriate from this list. \n",
    "    \n",
    "3. Extract any sales channels if mentioned.\n",
    "4. Pass the relevant arguments into the get_sales_data tool.\n",
    "\n",
    "\n",
    "Today's date is Monday, June 10, 2024\n",
    "\"\"\""
   ]
  },
  {
   "cell_type": "code",
   "execution_count": null,
   "id": "e00722d809b2bcc0",
   "metadata": {
    "collapsed": false
   },
   "outputs": [],
   "source": [
    "def eval_llm_resp(question: dict, llm_resp: dict):\n",
    "    if not llm_resp.get(\"tool_calls_details\"):\n",
    "        args_predicted = dict()\n",
    "    else:\n",
    "        args_predicted = [x[\"input\"] for x in llm_resp[\"tool_calls_details\"].values() if x[\"name\"] == \"get_sales_data\"]\n",
    "        args_predicted = args_predicted[0] if args_predicted else {}\n",
    "    return {\n",
    "        \"question\": question[\"question\"],\n",
    "        \"expected_metric\": question[\"expected_metric\"],\n",
    "        \"predicted_metric\": args_predicted.get(\"backend_metric\", \"\"),\n",
    "        \"metric_correct\": question[\"expected_metric\"] == args_predicted.get(\"backend_metric\", \"\"),\n",
    "        \"expected_brands\": sorted(question[\"expected_brands\"]),\n",
    "        \"predicted_brands\": sorted(args_predicted.get(\"backend_brands\", [])),\n",
    "        \"brands_correct\": sorted(question[\"expected_brands\"]) == sorted(args_predicted.get(\"backend_brands\", [])),\n",
    "        \"expected_sales_channels\": sorted(question[\"expected_sales_channels\"]),\n",
    "        \"predicted_sales_channels\": sorted(args_predicted.get(\"sales_channels\", [])),\n",
    "        \"sales_channels_correct\": sorted(question[\"expected_sales_channels\"]) == sorted(args_predicted.get(\"sales_channels\", [])),\n",
    "        \"expected_current_period_start_date\": question[\"current_period_start_date\"],\n",
    "        \"predicted_current_period_start_date\": args_predicted.get(\"current_period_start_date\", \"\"),\n",
    "        \"current_period_start_date_correct\": question[\"current_period_start_date\"] == args_predicted.get(\"current_period_start_date\", \"\"),\n",
    "        \"expected_current_period_end_date\": question[\"current_period_end_date\"],\n",
    "        \"predicted_current_period_end_date\": args_predicted.get(\"current_period_end_date\", \"\"),\n",
    "        \"current_period_end_date_correct\": question[\"current_period_end_date\"] == args_predicted.get(\"current_period_end_date\", \"\"),\n",
    "    }\n",
    "\n",
    "\n",
    "def eval_questions(llm, model, tools, questions: list[dict], max_workers=10):\n",
    "    def task(question: dict):\n",
    "        llm_resp = llm.generate_with_function_calling(\n",
    "            messages=[\n",
    "                {\"role\": \"system\", \"content\": system_prompt},\n",
    "                {\n",
    "                    \"role\": \"user\",\n",
    "                    \"content\": question[\"question\"],\n",
    "                },\n",
    "            ],\n",
    "            tools=tools,\n",
    "            functions_look_up=functions_look_up,\n",
    "            model=model,\n",
    "        )\n",
    "        llm_resp.update(eval_llm_resp(question, llm_resp))\n",
    "        return llm_resp\n",
    "\n",
    "    eval_res = []\n",
    "    with ThreadPoolExecutor(max_workers=max_workers) as executor:\n",
    "        futures = [executor.submit(task, question) for question in questions]\n",
    "\n",
    "        for future in tqdm(as_completed(futures), total=len(questions), desc=\"Evaluating questions\"):\n",
    "            eval_res.append(future.result())\n",
    "\n",
    "    return eval_res"
   ]
  },
  {
   "cell_type": "code",
   "execution_count": null,
   "id": "11b5d55bba62ffa4",
   "metadata": {
    "collapsed": false
   },
   "outputs": [],
   "source": [
    "def calculate_accuracies(df):\n",
    "    accuracies = {}\n",
    "    for col in df.columns:\n",
    "        if col.endswith(\"_correct\"):\n",
    "            accuracy = df[col].sum() / df.shape[0]\n",
    "            accuracies[col.replace(\"correct\", \"accuracy\")] = f\"{accuracy:.2%}\"\n",
    "    return accuracies"
   ]
  },
  {
   "cell_type": "code",
   "execution_count": null,
   "id": "d7330e3ec9caa69e",
   "metadata": {
    "collapsed": false
   },
   "outputs": [],
   "source": [
    "import pandas as pd\n",
    "\n",
    "df_openai = pd.DataFrame(eval_questions(llm_openai, \"gpt-3.5-turbo-0125\", tools_openai, questions[:10], max_workers=10))"
   ]
  },
  {
   "cell_type": "code",
   "execution_count": null,
   "id": "88622a9935233821",
   "metadata": {
    "collapsed": false
   },
   "outputs": [],
   "source": [
    "df_openai"
   ]
  },
  {
   "cell_type": "code",
   "execution_count": null,
   "id": "6bc19d8f9f631e17",
   "metadata": {
    "collapsed": false
   },
   "outputs": [],
   "source": [
    "calculate_accuracies(df_openai)"
   ]
  },
  {
   "cell_type": "code",
   "execution_count": null,
   "id": "c9dd8c138a064612",
   "metadata": {
    "collapsed": false
   },
   "outputs": [],
   "source": [
    "df_anthropic = pd.DataFrame(eval_questions(llm_anthropic, \"claude-3-5-sonnet-20240620\", tools_anthropic, questions[:10], max_workers=2))"
   ]
  },
  {
   "cell_type": "code",
   "execution_count": null,
   "id": "623c22b7969a2890",
   "metadata": {
    "collapsed": false
   },
   "outputs": [],
   "source": [
    "df_anthropic"
   ]
  },
  {
   "cell_type": "code",
   "execution_count": null,
   "id": "8d804dae8c70b103",
   "metadata": {
    "collapsed": false
   },
   "outputs": [],
   "source": [
    "calculate_accuracies(df_anthropic)"
   ]
  },
  {
   "cell_type": "code",
   "execution_count": null,
   "id": "a1a1b71bca30b354",
   "metadata": {
    "collapsed": false
   },
   "outputs": [],
   "source": []
  },
  {
   "cell_type": "code",
   "execution_count": null,
   "id": "2d96543c62da55a5",
   "metadata": {
    "collapsed": false
   },
   "outputs": [],
   "source": []
  },
  {
   "cell_type": "code",
   "execution_count": null,
   "id": "bebbb0eee9c1e32d",
   "metadata": {
    "collapsed": false
   },
   "outputs": [],
   "source": []
  },
  {
   "cell_type": "code",
   "execution_count": null,
   "id": "9484b586e4bab8e6",
   "metadata": {
    "collapsed": false
   },
   "outputs": [],
   "source": []
  },
  {
   "cell_type": "code",
   "execution_count": null,
   "id": "74345d9e70c6c785",
   "metadata": {
    "collapsed": false
   },
   "outputs": [],
   "source": []
  },
  {
   "cell_type": "code",
   "execution_count": null,
   "id": "99bcb6ea80206be9",
   "metadata": {
    "collapsed": false
   },
   "outputs": [],
   "source": []
  },
  {
   "cell_type": "code",
   "execution_count": null,
   "id": "7cb1f7d66470e58b",
   "metadata": {
    "collapsed": false
   },
   "outputs": [],
   "source": []
  },
  {
   "cell_type": "code",
   "execution_count": null,
   "id": "fafd17e95d4aae50",
   "metadata": {
    "collapsed": false
   },
   "outputs": [],
   "source": []
  }
 ],
 "metadata": {
  "kernelspec": {
   "display_name": "Python 3 (ipykernel)",
   "language": "python",
   "name": "python3"
  },
  "language_info": {
   "codemirror_mode": {
    "name": "ipython",
    "version": 3
   },
   "file_extension": ".py",
   "mimetype": "text/x-python",
   "name": "python",
   "nbconvert_exporter": "python",
   "pygments_lexer": "ipython3",
   "version": "3.11.7"
  }
 },
 "nbformat": 4,
 "nbformat_minor": 5
}
