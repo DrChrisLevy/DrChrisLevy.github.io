{
 "cells": [
  {
   "cell_type": "raw",
   "id": "4f99077ebb2266ab",
   "metadata": {
    "collapsed": false
   },
   "source": []
  },
  {
   "cell_type": "raw",
   "id": "5686b8e03ec69ef3",
   "metadata": {
    "collapsed": false
   },
   "source": [
    "---\n",
    "title: LLM Tool Calling and Evaluation\n",
    "author: Chris Levy\n",
    "date: '2024-06-26'\n",
    "date-modified: '2024-06-26'\n",
    "image: imgs/bits_and_bytes.webp\n",
    "toc: true\n",
    "format:\n",
    "  html:\n",
    "    code-fold: show\n",
    "    page-layout: full\n",
    "include-in-header:\n",
    "  - text: |\n",
    "      <style>\n",
    "      .cell-output-stdout code {\n",
    "        word-break: break-wor !important;\n",
    "        white-space: pre-wrap !important;\n",
    "      }\n",
    "      </style>\n",
    "bibliography: ../../bibliography.bib\n",
    "---"
   ]
  },
  {
   "cell_type": "code",
   "execution_count": 1,
   "id": "a1543eae9cda5ac1",
   "metadata": {
    "collapsed": false,
    "ExecuteTime": {
     "end_time": "2024-07-03T11:31:59.195049Z",
     "start_time": "2024-07-03T11:31:58.847588Z"
    }
   },
   "outputs": [],
   "source": [
    "from llm import OpenAICompatibleChatCompletion, AnthropicLLM\n",
    "from tqdm import tqdm\n",
    "from concurrent.futures import ThreadPoolExecutor, as_completed\n",
    "from ecommerce import questions, ecommerce_metrics, sales_channels, brands\n",
    "import numpy as np"
   ]
  },
  {
   "cell_type": "code",
   "execution_count": 2,
   "id": "2f40da0a3b73b654",
   "metadata": {
    "collapsed": false,
    "ExecuteTime": {
     "end_time": "2024-07-03T11:32:00.854163Z",
     "start_time": "2024-07-03T11:31:59.196526Z"
    }
   },
   "outputs": [
    {
     "data": {
      "text/plain": "{'message': {'content': [{'text': 'Ahoy there, matey! What can I do for ye on this fine day at sea?',\n    'type': 'text'}],\n  'role': 'assistant'},\n 'model': 'claude-3-5-sonnet-20240620',\n 'token_usage': {'completion_tokens': 23,\n  'prompt_tokens': 16,\n  'total_tokens': 39}}"
     },
     "execution_count": 2,
     "metadata": {},
     "output_type": "execute_result"
    }
   ],
   "source": [
    "llm_anthropic = AnthropicLLM()\n",
    "llm_anthropic.call(\n",
    "    messages=[{\"role\": \"system\", \"content\": \"Talk like a pirate and return JSON\"}, {\"role\": \"user\", \"content\": \"hey\"}], max_tokens=1000\n",
    ")"
   ]
  },
  {
   "cell_type": "code",
   "execution_count": 3,
   "id": "fa5cb4ef22666a04",
   "metadata": {
    "collapsed": false,
    "ExecuteTime": {
     "end_time": "2024-07-03T11:32:02.901881Z",
     "start_time": "2024-07-03T11:32:00.851177Z"
    }
   },
   "outputs": [
    {
     "data": {
      "text/plain": "{'message': {'content': 'Ahoy matey! What can this old sea dog do for ye today? Aarrr! Here be the information ye seek in JSON format:\\n\\n{\\n  \"greeting\": \"Ahoy matey!\",\\n  \"message\": \"What can this old sea dog do for ye today? Aarrr!\"\\n}',\n  'role': 'assistant'},\n 'model': 'gpt-3.5-turbo-0125',\n 'token_usage': {'completion_tokens': 63,\n  'prompt_tokens': 19,\n  'total_tokens': 82}}"
     },
     "execution_count": 3,
     "metadata": {},
     "output_type": "execute_result"
    }
   ],
   "source": [
    "llm_openai = OpenAICompatibleChatCompletion()\n",
    "llm_openai.call(messages=[{\"role\": \"system\", \"content\": \"Talk like a pirate and return JSON\"}, {\"role\": \"user\", \"content\": \"hey\"}])"
   ]
  },
  {
   "cell_type": "code",
   "execution_count": 4,
   "id": "5a4d41dd17801e83",
   "metadata": {
    "collapsed": false,
    "ExecuteTime": {
     "end_time": "2024-07-03T11:32:02.907344Z",
     "start_time": "2024-07-03T11:32:02.902655Z"
    }
   },
   "outputs": [],
   "source": [
    "def prepare_embedding_input(rec):\n",
    "    return f'{rec[\"name\"]} {rec[\"enum\"]}'"
   ]
  },
  {
   "cell_type": "code",
   "execution_count": 5,
   "id": "531f5041b12d0e5e",
   "metadata": {
    "collapsed": false,
    "ExecuteTime": {
     "end_time": "2024-07-03T11:32:24.765687Z",
     "start_time": "2024-07-03T11:32:02.906971Z"
    }
   },
   "outputs": [],
   "source": [
    "ecommerce_metrics_embeddings = llm_openai.get_embeddings([prepare_embedding_input(rec) for rec in ecommerce_metrics])\n",
    "brands_embeddings = llm_openai.get_embeddings([prepare_embedding_input(rec) for rec in brands])"
   ]
  },
  {
   "cell_type": "code",
   "execution_count": 6,
   "id": "7b9dfc8a81f9c5ab",
   "metadata": {
    "collapsed": false,
    "ExecuteTime": {
     "end_time": "2024-07-03T11:32:24.775719Z",
     "start_time": "2024-07-03T11:32:24.766604Z"
    }
   },
   "outputs": [],
   "source": [
    "from copy import deepcopy\n",
    "\n",
    "\n",
    "def convert_openai_tool_to_anthropic(t: dict):\n",
    "    t = deepcopy(t)\n",
    "    t = t[\"function\"]\n",
    "    t[\"input_schema\"] = t[\"parameters\"]\n",
    "    t.pop(\"parameters\")\n",
    "    return t"
   ]
  },
  {
   "cell_type": "code",
   "execution_count": 7,
   "id": "446476b22d4a3a1a",
   "metadata": {
    "collapsed": false,
    "ExecuteTime": {
     "end_time": "2024-07-03T11:32:24.777607Z",
     "start_time": "2024-07-03T11:32:24.774369Z"
    }
   },
   "outputs": [],
   "source": [
    "get_backend_metric_tool = {\n",
    "    \"type\": \"function\",\n",
    "    \"function\": {\n",
    "        \"name\": \"get_backend_metric\",\n",
    "        \"description\": \"\"\"Takes in the user requested metric and \n",
    "        uses ML/AI to return the k nearest neighbors for the most likely related backend ENUM metrics.\"\"\",\n",
    "        \"parameters\": {\n",
    "            \"type\": \"object\",\n",
    "            \"properties\": {\n",
    "                \"user_requested_metric\": {\n",
    "                    \"type\": \"string\",\n",
    "                    \"description\": \"The metric requested by the user.\",\n",
    "                },\n",
    "            },\n",
    "            \"required\": [\"user_requested_metric\"],\n",
    "        },\n",
    "    },\n",
    "}\n",
    "get_backend_brands_tool = {\n",
    "    \"type\": \"function\",\n",
    "    \"function\": {\n",
    "        \"name\": \"get_backend_brands\",\n",
    "        \"description\": \"\"\"Takes in the user requested brand(s) and \n",
    "        uses ML/AI to return the k nearest neighbors for the most likely related backend ENUM brands per requested brands.\"\"\",\n",
    "        \"parameters\": {\n",
    "            \"type\": \"object\",\n",
    "            \"properties\": {\n",
    "                \"user_requested_brands\": {\n",
    "                    \"type\": \"array\",\n",
    "                    \"items\": {\n",
    "                        \"type\": \"string\",\n",
    "                    },\n",
    "                    \"default\": [],\n",
    "                    \"description\": \"The list of brand(s) requested by the user.\",\n",
    "                },\n",
    "            },\n",
    "            \"required\": [\"user_requested_brands\"],\n",
    "        },\n",
    "    },\n",
    "}\n",
    "get_sales_data_tool = {\n",
    "    \"type\": \"function\",\n",
    "    \"function\": {\n",
    "        \"name\": \"get_sales_data\",\n",
    "        \"description\": \"\"\"Get the sales data from the backend system.\"\"\",\n",
    "        \"parameters\": {\n",
    "            \"type\": \"object\",\n",
    "            \"properties\": {\n",
    "                \"backend_metric\": {\n",
    "                    \"type\": \"string\",\n",
    "                    \"description\": \"This is the backend metric ENUM.\",\n",
    "                },\n",
    "                \"backend_brands\": {\n",
    "                    \"type\": \"array\",\n",
    "                    \"items\": {\n",
    "                        \"type\": \"string\",\n",
    "                    },\n",
    "                    \"default\": [],\n",
    "                    \"description\": \"The list of backend ENUM brands.\",\n",
    "                },\n",
    "                \"sales_channels\": {\n",
    "                    \"type\": \"array\",\n",
    "                    \"items\": {\n",
    "                        \"type\": \"string\",\n",
    "                        \"enum\": [x[\"enum\"] for x in sales_channels],\n",
    "                    },\n",
    "                    \"default\": [],\n",
    "                    \"description\": \"The list of sales channels.\",\n",
    "                },\n",
    "                \"current_period_start_date\": {\n",
    "                    \"type\": \"string\",\n",
    "                    \"description\": \"The start of the current reporting period.\",\n",
    "                },\n",
    "                \"current_period_end_date\": {\n",
    "                    \"type\": \"string\",\n",
    "                    \"description\": \"The end of the current reporting period.\",\n",
    "                },\n",
    "            },\n",
    "            \"required\": [\n",
    "                \"backend_metric\",\n",
    "                \"backend_brands\",\n",
    "                \"current_period_start_date\",\n",
    "                \"current_period_end_date\",\n",
    "            ],\n",
    "        },\n",
    "    },\n",
    "}\n",
    "tools_openai = [get_backend_metric_tool, get_backend_brands_tool, get_sales_data_tool]\n",
    "tools_anthropic = [convert_openai_tool_to_anthropic(t) for t in tools_openai]"
   ]
  },
  {
   "cell_type": "code",
   "execution_count": 8,
   "id": "2cb382967e68713c",
   "metadata": {
    "collapsed": false,
    "ExecuteTime": {
     "end_time": "2024-07-03T11:32:24.785447Z",
     "start_time": "2024-07-03T11:32:24.777771Z"
    }
   },
   "outputs": [],
   "source": [
    "def find_k_nearest_neighbors(embeddings, input_embedding, k):\n",
    "    # Calculate distances\n",
    "    distances = np.linalg.norm(embeddings - input_embedding, axis=1)\n",
    "    # Get indices of k smallest distances\n",
    "    nearest_indices = np.argpartition(distances, k)[:k]\n",
    "    # Sort the k nearest indices by distance\n",
    "    nearest_indices = nearest_indices[np.argsort(distances[nearest_indices])]\n",
    "    return nearest_indices"
   ]
  },
  {
   "cell_type": "code",
   "execution_count": 9,
   "id": "e806a86fafce5a62",
   "metadata": {
    "collapsed": false,
    "ExecuteTime": {
     "end_time": "2024-07-03T11:32:24.785584Z",
     "start_time": "2024-07-03T11:32:24.781896Z"
    }
   },
   "outputs": [],
   "source": [
    "def get_backend_metric(user_requested_metric: str):\n",
    "    return {\n",
    "        \"data\": [\n",
    "            ecommerce_metrics[i]\n",
    "            for i in find_k_nearest_neighbors(llm_openai.get_embeddings([user_requested_metric]), ecommerce_metrics_embeddings, 3)\n",
    "        ]\n",
    "    }\n",
    "\n",
    "\n",
    "def get_backend_brands(user_requested_brands: list[str]):\n",
    "    data = dict()\n",
    "    for brand in user_requested_brands:\n",
    "        data[brand] = [brands[i] for i in find_k_nearest_neighbors(llm_openai.get_embeddings([brand]), brands_embeddings, 3)]\n",
    "    return {\"data\": data}\n",
    "\n",
    "\n",
    "def get_sales_data(*args, **kwargs):\n",
    "    return {\"data\": 10}\n",
    "\n",
    "\n",
    "functions_look_up = {\"get_backend_metric\": get_backend_metric, \"get_backend_brands\": get_backend_brands, \"get_sales_data\": get_sales_data}"
   ]
  },
  {
   "cell_type": "code",
   "execution_count": 10,
   "id": "b2b6f013f46ed53c",
   "metadata": {
    "collapsed": false,
    "ExecuteTime": {
     "end_time": "2024-07-03T11:32:25.634726Z",
     "start_time": "2024-07-03T11:32:24.785826Z"
    }
   },
   "outputs": [
    {
     "data": {
      "text/plain": "{'data': {'shopify': [{'name': 'Shopify',\n    'enum': 'SHOPIFY',\n    'description': 'E-commerce platform for online stores'},\n   {'name': 'Etsy',\n    'enum': 'ETSY',\n    'description': 'E-commerce website focused on handmade or vintage items'},\n   {'name': 'Amazon',\n    'enum': 'AMAZON',\n    'description': 'E-commerce and cloud computing giant'}],\n  'nike': [{'name': 'Nike',\n    'enum': 'NIKE',\n    'description': 'Global sportswear and athletic footwear brand'},\n   {'name': 'Nikon',\n    'enum': 'NIKON',\n    'description': 'Japanese multinational optics and imaging products corporation'},\n   {'name': 'Adidas',\n    'enum': 'ADIDAS',\n    'description': 'German sportswear manufacturer'}]}}"
     },
     "execution_count": 10,
     "metadata": {},
     "output_type": "execute_result"
    }
   ],
   "source": [
    "get_backend_brands([\"shopify\", \"nike\"])"
   ]
  },
  {
   "cell_type": "code",
   "execution_count": 11,
   "id": "e3f3a57be72dd8a5",
   "metadata": {
    "collapsed": false,
    "ExecuteTime": {
     "end_time": "2024-07-03T11:32:25.643368Z",
     "start_time": "2024-07-03T11:32:25.636801Z"
    }
   },
   "outputs": [],
   "source": [
    "system_prompt = \"\"\"\n",
    "You will be asked a question by the user about retrieving sales data.\n",
    "Use the available tools but only call the tools when needed.\n",
    "If you need further clarification then ask. \n",
    "\n",
    "There are hundreds of metrics and hundreds of brands in the backend system.\n",
    "The user will not know all these metrics and brands, or how to refer to them exactly.\n",
    "You do not know them either, so I have provided some helper tools for you.\n",
    "\n",
    "In general you will follow the typical flow when answering questions:\n",
    "1. Extract the user requested metric and the user requested brand(s).\n",
    "2. \n",
    "    \n",
    "    a) Pass the user requested metric to the the tool get_backend_metric to\n",
    "    get the list of most likely corresponding backend metric ENUMs. \n",
    "    Then choose the most appropriate from this list. \n",
    "    \n",
    "    b) Pass the user requested brand(s) to the the tool get_backend_brands to\n",
    "    get the list of most likely corresponding backend brand ENUMs. \n",
    "    Then choose the most appropriate from this list. \n",
    "    \n",
    "3. Extract any sales channels if mentioned.\n",
    "4. Pass the relevant arguments into the get_sales_data tool.\n",
    "\n",
    "\n",
    "Today's date is Monday, June 10, 2024\n",
    "\"\"\""
   ]
  },
  {
   "cell_type": "code",
   "execution_count": 12,
   "id": "e00722d809b2bcc0",
   "metadata": {
    "collapsed": false,
    "ExecuteTime": {
     "end_time": "2024-07-03T11:32:25.653226Z",
     "start_time": "2024-07-03T11:32:25.639603Z"
    }
   },
   "outputs": [],
   "source": [
    "def eval_llm_resp(question: dict, llm_resp: dict):\n",
    "    if not llm_resp.get(\"tool_calls_details\"):\n",
    "        args_predicted = dict()\n",
    "    else:\n",
    "        args_predicted = [x[\"input\"] for x in llm_resp[\"tool_calls_details\"].values() if x[\"name\"] == \"get_sales_data\"]\n",
    "        args_predicted = args_predicted[0] if args_predicted else {}\n",
    "    return {\n",
    "        \"question\": question[\"question\"],\n",
    "        \"expected_metric\": question[\"expected_metric\"],\n",
    "        \"predicted_metric\": args_predicted.get(\"backend_metric\", \"\"),\n",
    "        \"metric_correct\": question[\"expected_metric\"] == args_predicted.get(\"backend_metric\", \"\"),\n",
    "        \"expected_brands\": sorted(question[\"expected_brands\"]),\n",
    "        \"predicted_brands\": sorted(args_predicted.get(\"backend_brands\", [])),\n",
    "        \"brands_correct\": sorted(question[\"expected_brands\"]) == sorted(args_predicted.get(\"backend_brands\", [])),\n",
    "        \"expected_sales_channels\": sorted(question[\"expected_sales_channels\"]),\n",
    "        \"predicted_sales_channels\": sorted(args_predicted.get(\"sales_channels\", [])),\n",
    "        \"sales_channels_correct\": sorted(question[\"expected_sales_channels\"]) == sorted(args_predicted.get(\"sales_channels\", [])),\n",
    "        \"expected_current_period_start_date\": question[\"current_period_start_date\"],\n",
    "        \"predicted_current_period_start_date\": args_predicted.get(\"current_period_start_date\", \"\"),\n",
    "        \"current_period_start_date_correct\": question[\"current_period_start_date\"] == args_predicted.get(\"current_period_start_date\", \"\"),\n",
    "        \"expected_current_period_end_date\": question[\"current_period_end_date\"],\n",
    "        \"predicted_current_period_end_date\": args_predicted.get(\"current_period_end_date\", \"\"),\n",
    "        \"current_period_end_date_correct\": question[\"current_period_end_date\"] == args_predicted.get(\"current_period_end_date\", \"\"),\n",
    "    }\n",
    "\n",
    "\n",
    "def eval_questions(llm, tools, questions: list[dict], max_workers=10):\n",
    "    def task(question: dict):\n",
    "        llm_resp = llm.generate_with_function_calling(\n",
    "            messages=[\n",
    "                {\"role\": \"system\", \"content\": system_prompt},\n",
    "                {\n",
    "                    \"role\": \"user\",\n",
    "                    \"content\": question[\"question\"],\n",
    "                },\n",
    "            ],\n",
    "            tools=tools,\n",
    "            functions_look_up=functions_look_up,\n",
    "        )\n",
    "        llm_resp.update(eval_llm_resp(question, llm_resp))\n",
    "        return llm_resp\n",
    "\n",
    "    eval_res = []\n",
    "    with ThreadPoolExecutor(max_workers=max_workers) as executor:\n",
    "        futures = [executor.submit(task, question) for question in questions]\n",
    "\n",
    "        for future in tqdm(as_completed(futures), total=len(questions), desc=\"Evaluating questions\"):\n",
    "            eval_res.append(future.result())\n",
    "\n",
    "    return eval_res"
   ]
  },
  {
   "cell_type": "code",
   "execution_count": 13,
   "outputs": [],
   "source": [
    "def calculate_accuracies(df):\n",
    "    accuracies = {}\n",
    "    for col in df.columns:\n",
    "        if col.endswith(\"_correct\"):\n",
    "            accuracy = df[col].sum() / df.shape[0]\n",
    "            accuracies[col.replace(\"correct\", \"accuracy\")] = f\"{accuracy:.2%}\"\n",
    "    return accuracies"
   ],
   "metadata": {
    "collapsed": false,
    "ExecuteTime": {
     "end_time": "2024-07-03T11:32:25.653384Z",
     "start_time": "2024-07-03T11:32:25.648904Z"
    }
   },
   "id": "11b5d55bba62ffa4"
  },
  {
   "cell_type": "code",
   "execution_count": 14,
   "id": "d7330e3ec9caa69e",
   "metadata": {
    "collapsed": false,
    "ExecuteTime": {
     "end_time": "2024-07-03T11:32:35.385476Z",
     "start_time": "2024-07-03T11:32:25.651669Z"
    }
   },
   "outputs": [
    {
     "name": "stderr",
     "output_type": "stream",
     "text": [
      "Evaluating questions: 100%|██████████| 10/10 [00:09<00:00,  1.06it/s]\n"
     ]
    }
   ],
   "source": [
    "import pandas as pd\n",
    "\n",
    "df_openai = pd.DataFrame(eval_questions(llm_openai, tools_openai, questions[:10], max_workers=10))"
   ]
  },
  {
   "cell_type": "code",
   "execution_count": 15,
   "id": "88622a9935233821",
   "metadata": {
    "collapsed": false,
    "ExecuteTime": {
     "end_time": "2024-07-03T11:32:35.433684Z",
     "start_time": "2024-07-03T11:32:35.391109Z"
    }
   },
   "outputs": [
    {
     "data": {
      "text/plain": "                                             message  \\\n0  {'content': 'The Return on Ad Spend for Luxe L...   \n1  {'content': 'The average time to purchase for ...   \n2  {'content': 'The Repeat Purchase Rate for PetP...   \n3  {'content': 'The Customer Acquisition Cost for...   \n4  {'content': 'The total revenue for Nike and Ad...   \n5  {'content': 'The Cart Abandonment Rate for IKE...   \n6  {'content': 'The Net Profit Margin for Gourmet...   \n7  {'content': 'The Average Order Value for Apple...   \n8  {'content': 'The Customer Lifetime Value for F...   \n9  {'content': 'The Conversion Rate for Samsung o...   \n\n                                        new_messages               model  \\\n0  [{'content': None, 'role': 'assistant', 'tool_...  gpt-3.5-turbo-0125   \n1  [{'content': None, 'role': 'assistant', 'tool_...  gpt-3.5-turbo-0125   \n2  [{'content': None, 'role': 'assistant', 'tool_...  gpt-3.5-turbo-0125   \n3  [{'content': None, 'role': 'assistant', 'tool_...  gpt-3.5-turbo-0125   \n4  [{'content': None, 'role': 'assistant', 'tool_...  gpt-3.5-turbo-0125   \n5  [{'content': None, 'role': 'assistant', 'tool_...  gpt-3.5-turbo-0125   \n6  [{'content': None, 'role': 'assistant', 'tool_...  gpt-3.5-turbo-0125   \n7  [{'content': None, 'role': 'assistant', 'tool_...  gpt-3.5-turbo-0125   \n8  [{'content': None, 'role': 'assistant', 'tool_...  gpt-3.5-turbo-0125   \n9  [{'content': None, 'role': 'assistant', 'tool_...  gpt-3.5-turbo-0125   \n\n                                  tool_calls_details  \\\n0  {'call_IgRLwuwwKnFVfhZHTO9PMVs0': {'tool_resul...   \n1  {'call_Q4UQ67MRYmJOBlWEi34m57C7': {'tool_resul...   \n2  {'call_JXAQikoU3xs2xbdHYTHKdO9l': {'tool_resul...   \n3  {'call_1xsobTEEXKQI3ainTGMtpefj': {'tool_resul...   \n4  {'call_tCh5KEFVg8IvKJB5WNtN8qFC': {'tool_resul...   \n5  {'call_tcn9FaulIwwN0rvpGLQKdNh5': {'tool_resul...   \n6  {'call_UwvBIFPETRqe9BnMbj9Rv9Zy': {'tool_resul...   \n7  {'call_5fhZGHzuJSpe9SLJuyLaRF62': {'tool_resul...   \n8  {'call_JGC7IRA8MCjx6GPtCMFK3Q55': {'tool_resul...   \n9  {'call_sx4SgJx1fjNMZKp5eaiz4UZZ': {'tool_resul...   \n\n                                         token_usage  execution_time  \\\n0  {'completion_tokens': 35, 'prompt_tokens': 945...        6.191363   \n1  {'completion_tokens': 26, 'prompt_tokens': 931...        6.195888   \n2  {'completion_tokens': 35, 'prompt_tokens': 909...        7.304885   \n3  {'completion_tokens': 28, 'prompt_tokens': 100...        8.238434   \n4  {'completion_tokens': 35, 'prompt_tokens': 100...        8.250222   \n5  {'completion_tokens': 39, 'prompt_tokens': 951...        8.245225   \n6  {'completion_tokens': 26, 'prompt_tokens': 930...        8.239079   \n7  {'completion_tokens': 35, 'prompt_tokens': 904...        8.249948   \n8  {'completion_tokens': 24, 'prompt_tokens': 925...        8.254588   \n9  {'completion_tokens': 21, 'prompt_tokens': 896...        9.469873   \n\n                                            question  \\\n0  What was the Return on Ad Spend for Luxe Livin...   \n1  Calculate the Average Time to Purchase for Bea...   \n2  What was the Repeat Purchase Rate for PetPal o...   \n3  Calculate the Customer Acquisition Cost for Ec...   \n4  What was the Total Revenue for Nike and Adidas...   \n5  Determine the Cart Abandonment Rate for IKEA o...   \n6  Determine the Net Profit Margin for GourmetDel...   \n7  Calculate the Average Order Value for Apple pr...   \n8  What was the Customer Lifetime Value for FitFl...   \n9  What was the Conversion Rate for Samsung on Wa...   \n\n             expected_metric           predicted_metric  metric_correct  ...  \\\n0         RETURN_ON_AD_SPEND         RETURN_ON_AD_SPEND            True  ...   \n1       AVG_TIME_TO_PURCHASE       AVG_TIME_TO_PURCHASE            True  ...   \n2       REPEAT_PURCHASE_RATE       REPEAT_PURCHASE_RATE            True  ...   \n3  CUSTOMER_ACQUISITION_COST  CUSTOMER_ACQUISITION_COST            True  ...   \n4              TOTAL_REVENUE              TOTAL_REVENUE            True  ...   \n5      CART_ABANDONMENT_RATE      CART_ABANDONMENT_RATE            True  ...   \n6          NET_PROFIT_MARGIN          NET_PROFIT_MARGIN            True  ...   \n7            AVG_ORDER_VALUE            AVG_ORDER_VALUE            True  ...   \n8    CUSTOMER_LIFETIME_VALUE    CUSTOMER_LIFETIME_VALUE            True  ...   \n9            CONVERSION_RATE            CONVERSION_RATE            True  ...   \n\n  brands_correct         expected_sales_channels  \\\n0           True               [GOOGLE_SHOPPING]   \n1           True                   [OWN_WEBSITE]   \n2           True                        [AMAZON]   \n3           True                  [AMAZON, ETSY]   \n4           True                  [AMAZON, EBAY]   \n5           True  [OWN_WEBSITE, PHYSICAL_STORES]   \n6           True                   [OWN_WEBSITE]   \n7           True                   [OWN_WEBSITE]   \n8           True            [INSTAGRAM_SHOPPING]   \n9           True           [WALMART_MARKETPLACE]   \n\n         predicted_sales_channels sales_channels_correct  \\\n0               [GOOGLE_SHOPPING]                   True   \n1                              []                  False   \n2                              []                  False   \n3                          [ETSY]                  False   \n4                  [AMAZON, EBAY]                   True   \n5  [OWN_WEBSITE, PHYSICAL_STORES]                   True   \n6                   [OWN_WEBSITE]                   True   \n7                   [OWN_WEBSITE]                   True   \n8            [INSTAGRAM_SHOPPING]                   True   \n9           [WALMART_MARKETPLACE]                   True   \n\n  expected_current_period_start_date  predicted_current_period_start_date  \\\n0                         2024-02-15                           2024-02-15   \n1                         2024-05-01                           2024-05-01   \n2                         2024-03-01                           2024-03-01   \n3                         2024-04-01                           2024-04-01   \n4                         2024-01-01                           2024-01-01   \n5                         2024-05-01                           2024-05-01   \n6                         2024-04-01                           2024-04-01   \n7                         2024-04-01                           2024-04-01   \n8                         2024-05-11                           2024-05-11   \n9                         2024-01-01                           2024-01-01   \n\n  current_period_start_date_correct expected_current_period_end_date  \\\n0                              True                       2024-05-15   \n1                              True                       2024-05-31   \n2                              True                       2024-05-31   \n3                              True                       2024-04-30   \n4                              True                       2024-03-31   \n5                              True                       2024-06-09   \n6                              True                       2024-06-09   \n7                              True                       2024-05-31   \n8                              True                       2024-06-09   \n9                              True                       2024-03-31   \n\n   predicted_current_period_end_date current_period_end_date_correct  \n0                         2024-05-15                            True  \n1                         2024-05-31                            True  \n2                         2024-05-31                            True  \n3                         2024-04-30                            True  \n4                         2024-03-31                            True  \n5                         2024-06-09                            True  \n6                         2024-06-30                           False  \n7                         2024-05-31                            True  \n8                         2024-06-10                           False  \n9                         2024-03-31                            True  \n\n[10 rows x 22 columns]",
      "text/html": "<div>\n<style scoped>\n    .dataframe tbody tr th:only-of-type {\n        vertical-align: middle;\n    }\n\n    .dataframe tbody tr th {\n        vertical-align: top;\n    }\n\n    .dataframe thead th {\n        text-align: right;\n    }\n</style>\n<table border=\"1\" class=\"dataframe\">\n  <thead>\n    <tr style=\"text-align: right;\">\n      <th></th>\n      <th>message</th>\n      <th>new_messages</th>\n      <th>model</th>\n      <th>tool_calls_details</th>\n      <th>token_usage</th>\n      <th>execution_time</th>\n      <th>question</th>\n      <th>expected_metric</th>\n      <th>predicted_metric</th>\n      <th>metric_correct</th>\n      <th>...</th>\n      <th>brands_correct</th>\n      <th>expected_sales_channels</th>\n      <th>predicted_sales_channels</th>\n      <th>sales_channels_correct</th>\n      <th>expected_current_period_start_date</th>\n      <th>predicted_current_period_start_date</th>\n      <th>current_period_start_date_correct</th>\n      <th>expected_current_period_end_date</th>\n      <th>predicted_current_period_end_date</th>\n      <th>current_period_end_date_correct</th>\n    </tr>\n  </thead>\n  <tbody>\n    <tr>\n      <th>0</th>\n      <td>{'content': 'The Return on Ad Spend for Luxe L...</td>\n      <td>[{'content': None, 'role': 'assistant', 'tool_...</td>\n      <td>gpt-3.5-turbo-0125</td>\n      <td>{'call_IgRLwuwwKnFVfhZHTO9PMVs0': {'tool_resul...</td>\n      <td>{'completion_tokens': 35, 'prompt_tokens': 945...</td>\n      <td>6.191363</td>\n      <td>What was the Return on Ad Spend for Luxe Livin...</td>\n      <td>RETURN_ON_AD_SPEND</td>\n      <td>RETURN_ON_AD_SPEND</td>\n      <td>True</td>\n      <td>...</td>\n      <td>True</td>\n      <td>[GOOGLE_SHOPPING]</td>\n      <td>[GOOGLE_SHOPPING]</td>\n      <td>True</td>\n      <td>2024-02-15</td>\n      <td>2024-02-15</td>\n      <td>True</td>\n      <td>2024-05-15</td>\n      <td>2024-05-15</td>\n      <td>True</td>\n    </tr>\n    <tr>\n      <th>1</th>\n      <td>{'content': 'The average time to purchase for ...</td>\n      <td>[{'content': None, 'role': 'assistant', 'tool_...</td>\n      <td>gpt-3.5-turbo-0125</td>\n      <td>{'call_Q4UQ67MRYmJOBlWEi34m57C7': {'tool_resul...</td>\n      <td>{'completion_tokens': 26, 'prompt_tokens': 931...</td>\n      <td>6.195888</td>\n      <td>Calculate the Average Time to Purchase for Bea...</td>\n      <td>AVG_TIME_TO_PURCHASE</td>\n      <td>AVG_TIME_TO_PURCHASE</td>\n      <td>True</td>\n      <td>...</td>\n      <td>True</td>\n      <td>[OWN_WEBSITE]</td>\n      <td>[]</td>\n      <td>False</td>\n      <td>2024-05-01</td>\n      <td>2024-05-01</td>\n      <td>True</td>\n      <td>2024-05-31</td>\n      <td>2024-05-31</td>\n      <td>True</td>\n    </tr>\n    <tr>\n      <th>2</th>\n      <td>{'content': 'The Repeat Purchase Rate for PetP...</td>\n      <td>[{'content': None, 'role': 'assistant', 'tool_...</td>\n      <td>gpt-3.5-turbo-0125</td>\n      <td>{'call_JXAQikoU3xs2xbdHYTHKdO9l': {'tool_resul...</td>\n      <td>{'completion_tokens': 35, 'prompt_tokens': 909...</td>\n      <td>7.304885</td>\n      <td>What was the Repeat Purchase Rate for PetPal o...</td>\n      <td>REPEAT_PURCHASE_RATE</td>\n      <td>REPEAT_PURCHASE_RATE</td>\n      <td>True</td>\n      <td>...</td>\n      <td>True</td>\n      <td>[AMAZON]</td>\n      <td>[]</td>\n      <td>False</td>\n      <td>2024-03-01</td>\n      <td>2024-03-01</td>\n      <td>True</td>\n      <td>2024-05-31</td>\n      <td>2024-05-31</td>\n      <td>True</td>\n    </tr>\n    <tr>\n      <th>3</th>\n      <td>{'content': 'The Customer Acquisition Cost for...</td>\n      <td>[{'content': None, 'role': 'assistant', 'tool_...</td>\n      <td>gpt-3.5-turbo-0125</td>\n      <td>{'call_1xsobTEEXKQI3ainTGMtpefj': {'tool_resul...</td>\n      <td>{'completion_tokens': 28, 'prompt_tokens': 100...</td>\n      <td>8.238434</td>\n      <td>Calculate the Customer Acquisition Cost for Ec...</td>\n      <td>CUSTOMER_ACQUISITION_COST</td>\n      <td>CUSTOMER_ACQUISITION_COST</td>\n      <td>True</td>\n      <td>...</td>\n      <td>True</td>\n      <td>[AMAZON, ETSY]</td>\n      <td>[ETSY]</td>\n      <td>False</td>\n      <td>2024-04-01</td>\n      <td>2024-04-01</td>\n      <td>True</td>\n      <td>2024-04-30</td>\n      <td>2024-04-30</td>\n      <td>True</td>\n    </tr>\n    <tr>\n      <th>4</th>\n      <td>{'content': 'The total revenue for Nike and Ad...</td>\n      <td>[{'content': None, 'role': 'assistant', 'tool_...</td>\n      <td>gpt-3.5-turbo-0125</td>\n      <td>{'call_tCh5KEFVg8IvKJB5WNtN8qFC': {'tool_resul...</td>\n      <td>{'completion_tokens': 35, 'prompt_tokens': 100...</td>\n      <td>8.250222</td>\n      <td>What was the Total Revenue for Nike and Adidas...</td>\n      <td>TOTAL_REVENUE</td>\n      <td>TOTAL_REVENUE</td>\n      <td>True</td>\n      <td>...</td>\n      <td>True</td>\n      <td>[AMAZON, EBAY]</td>\n      <td>[AMAZON, EBAY]</td>\n      <td>True</td>\n      <td>2024-01-01</td>\n      <td>2024-01-01</td>\n      <td>True</td>\n      <td>2024-03-31</td>\n      <td>2024-03-31</td>\n      <td>True</td>\n    </tr>\n    <tr>\n      <th>5</th>\n      <td>{'content': 'The Cart Abandonment Rate for IKE...</td>\n      <td>[{'content': None, 'role': 'assistant', 'tool_...</td>\n      <td>gpt-3.5-turbo-0125</td>\n      <td>{'call_tcn9FaulIwwN0rvpGLQKdNh5': {'tool_resul...</td>\n      <td>{'completion_tokens': 39, 'prompt_tokens': 951...</td>\n      <td>8.245225</td>\n      <td>Determine the Cart Abandonment Rate for IKEA o...</td>\n      <td>CART_ABANDONMENT_RATE</td>\n      <td>CART_ABANDONMENT_RATE</td>\n      <td>True</td>\n      <td>...</td>\n      <td>True</td>\n      <td>[OWN_WEBSITE, PHYSICAL_STORES]</td>\n      <td>[OWN_WEBSITE, PHYSICAL_STORES]</td>\n      <td>True</td>\n      <td>2024-05-01</td>\n      <td>2024-05-01</td>\n      <td>True</td>\n      <td>2024-06-09</td>\n      <td>2024-06-09</td>\n      <td>True</td>\n    </tr>\n    <tr>\n      <th>6</th>\n      <td>{'content': 'The Net Profit Margin for Gourmet...</td>\n      <td>[{'content': None, 'role': 'assistant', 'tool_...</td>\n      <td>gpt-3.5-turbo-0125</td>\n      <td>{'call_UwvBIFPETRqe9BnMbj9Rv9Zy': {'tool_resul...</td>\n      <td>{'completion_tokens': 26, 'prompt_tokens': 930...</td>\n      <td>8.239079</td>\n      <td>Determine the Net Profit Margin for GourmetDel...</td>\n      <td>NET_PROFIT_MARGIN</td>\n      <td>NET_PROFIT_MARGIN</td>\n      <td>True</td>\n      <td>...</td>\n      <td>True</td>\n      <td>[OWN_WEBSITE]</td>\n      <td>[OWN_WEBSITE]</td>\n      <td>True</td>\n      <td>2024-04-01</td>\n      <td>2024-04-01</td>\n      <td>True</td>\n      <td>2024-06-09</td>\n      <td>2024-06-30</td>\n      <td>False</td>\n    </tr>\n    <tr>\n      <th>7</th>\n      <td>{'content': 'The Average Order Value for Apple...</td>\n      <td>[{'content': None, 'role': 'assistant', 'tool_...</td>\n      <td>gpt-3.5-turbo-0125</td>\n      <td>{'call_5fhZGHzuJSpe9SLJuyLaRF62': {'tool_resul...</td>\n      <td>{'completion_tokens': 35, 'prompt_tokens': 904...</td>\n      <td>8.249948</td>\n      <td>Calculate the Average Order Value for Apple pr...</td>\n      <td>AVG_ORDER_VALUE</td>\n      <td>AVG_ORDER_VALUE</td>\n      <td>True</td>\n      <td>...</td>\n      <td>True</td>\n      <td>[OWN_WEBSITE]</td>\n      <td>[OWN_WEBSITE]</td>\n      <td>True</td>\n      <td>2024-04-01</td>\n      <td>2024-04-01</td>\n      <td>True</td>\n      <td>2024-05-31</td>\n      <td>2024-05-31</td>\n      <td>True</td>\n    </tr>\n    <tr>\n      <th>8</th>\n      <td>{'content': 'The Customer Lifetime Value for F...</td>\n      <td>[{'content': None, 'role': 'assistant', 'tool_...</td>\n      <td>gpt-3.5-turbo-0125</td>\n      <td>{'call_JGC7IRA8MCjx6GPtCMFK3Q55': {'tool_resul...</td>\n      <td>{'completion_tokens': 24, 'prompt_tokens': 925...</td>\n      <td>8.254588</td>\n      <td>What was the Customer Lifetime Value for FitFl...</td>\n      <td>CUSTOMER_LIFETIME_VALUE</td>\n      <td>CUSTOMER_LIFETIME_VALUE</td>\n      <td>True</td>\n      <td>...</td>\n      <td>True</td>\n      <td>[INSTAGRAM_SHOPPING]</td>\n      <td>[INSTAGRAM_SHOPPING]</td>\n      <td>True</td>\n      <td>2024-05-11</td>\n      <td>2024-05-11</td>\n      <td>True</td>\n      <td>2024-06-09</td>\n      <td>2024-06-10</td>\n      <td>False</td>\n    </tr>\n    <tr>\n      <th>9</th>\n      <td>{'content': 'The Conversion Rate for Samsung o...</td>\n      <td>[{'content': None, 'role': 'assistant', 'tool_...</td>\n      <td>gpt-3.5-turbo-0125</td>\n      <td>{'call_sx4SgJx1fjNMZKp5eaiz4UZZ': {'tool_resul...</td>\n      <td>{'completion_tokens': 21, 'prompt_tokens': 896...</td>\n      <td>9.469873</td>\n      <td>What was the Conversion Rate for Samsung on Wa...</td>\n      <td>CONVERSION_RATE</td>\n      <td>CONVERSION_RATE</td>\n      <td>True</td>\n      <td>...</td>\n      <td>True</td>\n      <td>[WALMART_MARKETPLACE]</td>\n      <td>[WALMART_MARKETPLACE]</td>\n      <td>True</td>\n      <td>2024-01-01</td>\n      <td>2024-01-01</td>\n      <td>True</td>\n      <td>2024-03-31</td>\n      <td>2024-03-31</td>\n      <td>True</td>\n    </tr>\n  </tbody>\n</table>\n<p>10 rows × 22 columns</p>\n</div>"
     },
     "execution_count": 15,
     "metadata": {},
     "output_type": "execute_result"
    }
   ],
   "source": [
    "df_openai"
   ]
  },
  {
   "cell_type": "code",
   "execution_count": 16,
   "outputs": [
    {
     "data": {
      "text/plain": "{'metric_accuracy': '100.00%',\n 'brands_accuracy': '100.00%',\n 'sales_channels_accuracy': '70.00%',\n 'current_period_start_date_accuracy': '100.00%',\n 'current_period_end_date_accuracy': '80.00%'}"
     },
     "execution_count": 16,
     "metadata": {},
     "output_type": "execute_result"
    }
   ],
   "source": [
    "calculate_accuracies(df_openai)"
   ],
   "metadata": {
    "collapsed": false,
    "ExecuteTime": {
     "end_time": "2024-07-03T11:32:48.207702Z",
     "start_time": "2024-07-03T11:32:48.195699Z"
    }
   },
   "id": "6bc19d8f9f631e17"
  },
  {
   "cell_type": "code",
   "execution_count": 17,
   "id": "c9dd8c138a064612",
   "metadata": {
    "collapsed": false,
    "ExecuteTime": {
     "end_time": "2024-07-03T11:33:36.520725Z",
     "start_time": "2024-07-03T11:32:50.703237Z"
    }
   },
   "outputs": [
    {
     "name": "stderr",
     "output_type": "stream",
     "text": [
      "Evaluating questions: 100%|██████████| 10/10 [00:45<00:00,  4.58s/it]\n"
     ]
    }
   ],
   "source": [
    "df_anthropic = pd.DataFrame(eval_questions(llm_anthropic, tools_anthropic, questions[:10], max_workers=3))"
   ]
  },
  {
   "cell_type": "code",
   "execution_count": 18,
   "outputs": [
    {
     "data": {
      "text/plain": "                                             message  \\\n0  {'content': 'Based on the data retrieved, the ...   \n1  {'content': 'Based on the data retrieved, I ca...   \n2  {'content': 'Based on the data retrieved, the ...   \n3  {'content': 'Now, I can provide you with the C...   \n4  {'content': 'Based on the data retrieved, the ...   \n5  {'content': 'Based on the data retrieved, the ...   \n6  {'content': 'Based on the data retrieved from ...   \n7  {'content': 'The Net Profit Margin for Gourmet...   \n8  {'content': 'Based on the data we've received,...   \n9  {'content': 'Based on the results, I'll choose...   \n\n                                        new_messages  \\\n0  [{'role': 'assistant', 'content': [{'text': \"T...   \n1  [{'role': 'assistant', 'content': [{'text': \"C...   \n2  [{'role': 'assistant', 'content': [{'text': 'T...   \n3  [{'role': 'assistant', 'content': [{'text': \"C...   \n4  [{'role': 'assistant', 'content': [{'text': \"T...   \n5  [{'role': 'assistant', 'content': [{'text': \"C...   \n6  [{'role': 'assistant', 'content': [{'text': \"T...   \n7  [{'role': 'assistant', 'content': [{'text': \"T...   \n8  [{'role': 'assistant', 'content': [{'text': \"T...   \n9  [{'role': 'assistant', 'content': [{'text': \"T...   \n\n                        model  \\\n0  claude-3-5-sonnet-20240620   \n1  claude-3-5-sonnet-20240620   \n2  claude-3-5-sonnet-20240620   \n3  claude-3-5-sonnet-20240620   \n4  claude-3-5-sonnet-20240620   \n5  claude-3-5-sonnet-20240620   \n6  claude-3-5-sonnet-20240620   \n7  claude-3-5-sonnet-20240620   \n8  claude-3-5-sonnet-20240620   \n9  claude-3-5-sonnet-20240620   \n\n                                  tool_calls_details  \\\n0  {'toolu_01XoZxrjrLvmkhmnTWyejrrj': {'tool_resu...   \n1  {'toolu_01NkNLhdVJRv2qobTQFCJgrL': {'tool_resu...   \n2  {'toolu_01RkAsQ1yvp1nd7DP7hRBwGB': {'tool_resu...   \n3  {'toolu_011JNiDbSVDwSw2DBuTvNTZc': {'tool_resu...   \n4  {'toolu_01WJwTfyG8GSkDoCp9XKjGNH': {'tool_resu...   \n5  {'toolu_01RD1voxMDKuzbY3uhHEWTJP': {'tool_resu...   \n6  {'toolu_014ijpDf2fpVfyqbKurqa2pv': {'tool_resu...   \n7  {'toolu_01Bhico4fLCAqDByirH3hr5k': {'tool_resu...   \n8  {'toolu_0155mM5UKDqfrFR4ho9eRcPL': {'tool_resu...   \n9  {'toolu_01HPPJmJkk5RCMURFkjQa12w': {'tool_resu...   \n\n                                         token_usage  execution_time  \\\n0  {'completion_tokens': 70, 'prompt_tokens': 202...       11.722178   \n1  {'completion_tokens': 111, 'prompt_tokens': 18...       12.927568   \n2  {'completion_tokens': 121, 'prompt_tokens': 18...       13.271748   \n3  {'completion_tokens': 267, 'prompt_tokens': 18...       13.075303   \n4  {'completion_tokens': 203, 'prompt_tokens': 19...       13.520923   \n5  {'completion_tokens': 119, 'prompt_tokens': 19...       13.556440   \n6  {'completion_tokens': 129, 'prompt_tokens': 19...       11.126449   \n7  {'completion_tokens': 130, 'prompt_tokens': 19...       11.670891   \n8  {'completion_tokens': 183, 'prompt_tokens': 19...       13.246782   \n9  {'completion_tokens': 165, 'prompt_tokens': 16...        9.883260   \n\n                                            question  \\\n0  What was the Total Revenue for Nike and Adidas...   \n1  Calculate the Average Order Value for Apple pr...   \n2  What was the Conversion Rate for Samsung on Wa...   \n3  Determine the Cart Abandonment Rate for IKEA o...   \n4  What was the Customer Lifetime Value for FitFl...   \n5  Calculate the Customer Acquisition Cost for Ec...   \n6  What was the Return on Ad Spend for Luxe Livin...   \n7  Determine the Net Profit Margin for GourmetDel...   \n8  What was the Repeat Purchase Rate for PetPal o...   \n9  Calculate the Average Time to Purchase for Bea...   \n\n             expected_metric           predicted_metric  metric_correct  ...  \\\n0              TOTAL_REVENUE              TOTAL_REVENUE            True  ...   \n1            AVG_ORDER_VALUE            AVG_ORDER_VALUE            True  ...   \n2            CONVERSION_RATE            CONVERSION_RATE            True  ...   \n3      CART_ABANDONMENT_RATE      CART_ABANDONMENT_RATE            True  ...   \n4    CUSTOMER_LIFETIME_VALUE    CUSTOMER_LIFETIME_VALUE            True  ...   \n5  CUSTOMER_ACQUISITION_COST  CUSTOMER_ACQUISITION_COST            True  ...   \n6         RETURN_ON_AD_SPEND         RETURN_ON_AD_SPEND            True  ...   \n7          NET_PROFIT_MARGIN          NET_PROFIT_MARGIN            True  ...   \n8       REPEAT_PURCHASE_RATE       REPEAT_PURCHASE_RATE            True  ...   \n9       AVG_TIME_TO_PURCHASE                                      False  ...   \n\n  brands_correct         expected_sales_channels  \\\n0           True                  [AMAZON, EBAY]   \n1           True                   [OWN_WEBSITE]   \n2           True           [WALMART_MARKETPLACE]   \n3           True  [OWN_WEBSITE, PHYSICAL_STORES]   \n4           True            [INSTAGRAM_SHOPPING]   \n5           True                  [AMAZON, ETSY]   \n6           True               [GOOGLE_SHOPPING]   \n7           True                   [OWN_WEBSITE]   \n8           True                        [AMAZON]   \n9          False                   [OWN_WEBSITE]   \n\n         predicted_sales_channels sales_channels_correct  \\\n0                  [AMAZON, EBAY]                   True   \n1                   [OWN_WEBSITE]                   True   \n2           [WALMART_MARKETPLACE]                   True   \n3  [OWN_WEBSITE, PHYSICAL_STORES]                   True   \n4            [INSTAGRAM_SHOPPING]                   True   \n5                  [AMAZON, ETSY]                   True   \n6               [GOOGLE_SHOPPING]                   True   \n7                   [OWN_WEBSITE]                   True   \n8                        [AMAZON]                   True   \n9                              []                  False   \n\n  expected_current_period_start_date  predicted_current_period_start_date  \\\n0                         2024-01-01                           2024-01-01   \n1                         2024-04-01                           2024-04-01   \n2                         2024-01-01                           2024-01-01   \n3                         2024-05-01                           2024-05-01   \n4                         2024-05-11                           2024-05-11   \n5                         2024-04-01                           2024-04-01   \n6                         2024-02-15                           2024-02-15   \n7                         2024-04-01                           2024-04-01   \n8                         2024-03-01                           2024-03-01   \n9                         2024-05-01                                        \n\n  current_period_start_date_correct expected_current_period_end_date  \\\n0                              True                       2024-03-31   \n1                              True                       2024-05-31   \n2                              True                       2024-03-31   \n3                              True                       2024-06-09   \n4                              True                       2024-06-09   \n5                              True                       2024-04-30   \n6                              True                       2024-05-15   \n7                              True                       2024-06-09   \n8                              True                       2024-05-31   \n9                             False                       2024-05-31   \n\n   predicted_current_period_end_date current_period_end_date_correct  \n0                         2024-03-31                            True  \n1                         2024-05-31                            True  \n2                         2024-03-31                            True  \n3                         2024-06-09                            True  \n4                         2024-06-10                           False  \n5                         2024-04-30                            True  \n6                         2024-05-15                            True  \n7                         2024-06-30                           False  \n8                         2024-05-31                            True  \n9                                                              False  \n\n[10 rows x 22 columns]",
      "text/html": "<div>\n<style scoped>\n    .dataframe tbody tr th:only-of-type {\n        vertical-align: middle;\n    }\n\n    .dataframe tbody tr th {\n        vertical-align: top;\n    }\n\n    .dataframe thead th {\n        text-align: right;\n    }\n</style>\n<table border=\"1\" class=\"dataframe\">\n  <thead>\n    <tr style=\"text-align: right;\">\n      <th></th>\n      <th>message</th>\n      <th>new_messages</th>\n      <th>model</th>\n      <th>tool_calls_details</th>\n      <th>token_usage</th>\n      <th>execution_time</th>\n      <th>question</th>\n      <th>expected_metric</th>\n      <th>predicted_metric</th>\n      <th>metric_correct</th>\n      <th>...</th>\n      <th>brands_correct</th>\n      <th>expected_sales_channels</th>\n      <th>predicted_sales_channels</th>\n      <th>sales_channels_correct</th>\n      <th>expected_current_period_start_date</th>\n      <th>predicted_current_period_start_date</th>\n      <th>current_period_start_date_correct</th>\n      <th>expected_current_period_end_date</th>\n      <th>predicted_current_period_end_date</th>\n      <th>current_period_end_date_correct</th>\n    </tr>\n  </thead>\n  <tbody>\n    <tr>\n      <th>0</th>\n      <td>{'content': 'Based on the data retrieved, the ...</td>\n      <td>[{'role': 'assistant', 'content': [{'text': \"T...</td>\n      <td>claude-3-5-sonnet-20240620</td>\n      <td>{'toolu_01XoZxrjrLvmkhmnTWyejrrj': {'tool_resu...</td>\n      <td>{'completion_tokens': 70, 'prompt_tokens': 202...</td>\n      <td>11.722178</td>\n      <td>What was the Total Revenue for Nike and Adidas...</td>\n      <td>TOTAL_REVENUE</td>\n      <td>TOTAL_REVENUE</td>\n      <td>True</td>\n      <td>...</td>\n      <td>True</td>\n      <td>[AMAZON, EBAY]</td>\n      <td>[AMAZON, EBAY]</td>\n      <td>True</td>\n      <td>2024-01-01</td>\n      <td>2024-01-01</td>\n      <td>True</td>\n      <td>2024-03-31</td>\n      <td>2024-03-31</td>\n      <td>True</td>\n    </tr>\n    <tr>\n      <th>1</th>\n      <td>{'content': 'Based on the data retrieved, I ca...</td>\n      <td>[{'role': 'assistant', 'content': [{'text': \"C...</td>\n      <td>claude-3-5-sonnet-20240620</td>\n      <td>{'toolu_01NkNLhdVJRv2qobTQFCJgrL': {'tool_resu...</td>\n      <td>{'completion_tokens': 111, 'prompt_tokens': 18...</td>\n      <td>12.927568</td>\n      <td>Calculate the Average Order Value for Apple pr...</td>\n      <td>AVG_ORDER_VALUE</td>\n      <td>AVG_ORDER_VALUE</td>\n      <td>True</td>\n      <td>...</td>\n      <td>True</td>\n      <td>[OWN_WEBSITE]</td>\n      <td>[OWN_WEBSITE]</td>\n      <td>True</td>\n      <td>2024-04-01</td>\n      <td>2024-04-01</td>\n      <td>True</td>\n      <td>2024-05-31</td>\n      <td>2024-05-31</td>\n      <td>True</td>\n    </tr>\n    <tr>\n      <th>2</th>\n      <td>{'content': 'Based on the data retrieved, the ...</td>\n      <td>[{'role': 'assistant', 'content': [{'text': 'T...</td>\n      <td>claude-3-5-sonnet-20240620</td>\n      <td>{'toolu_01RkAsQ1yvp1nd7DP7hRBwGB': {'tool_resu...</td>\n      <td>{'completion_tokens': 121, 'prompt_tokens': 18...</td>\n      <td>13.271748</td>\n      <td>What was the Conversion Rate for Samsung on Wa...</td>\n      <td>CONVERSION_RATE</td>\n      <td>CONVERSION_RATE</td>\n      <td>True</td>\n      <td>...</td>\n      <td>True</td>\n      <td>[WALMART_MARKETPLACE]</td>\n      <td>[WALMART_MARKETPLACE]</td>\n      <td>True</td>\n      <td>2024-01-01</td>\n      <td>2024-01-01</td>\n      <td>True</td>\n      <td>2024-03-31</td>\n      <td>2024-03-31</td>\n      <td>True</td>\n    </tr>\n    <tr>\n      <th>3</th>\n      <td>{'content': 'Now, I can provide you with the C...</td>\n      <td>[{'role': 'assistant', 'content': [{'text': \"C...</td>\n      <td>claude-3-5-sonnet-20240620</td>\n      <td>{'toolu_011JNiDbSVDwSw2DBuTvNTZc': {'tool_resu...</td>\n      <td>{'completion_tokens': 267, 'prompt_tokens': 18...</td>\n      <td>13.075303</td>\n      <td>Determine the Cart Abandonment Rate for IKEA o...</td>\n      <td>CART_ABANDONMENT_RATE</td>\n      <td>CART_ABANDONMENT_RATE</td>\n      <td>True</td>\n      <td>...</td>\n      <td>True</td>\n      <td>[OWN_WEBSITE, PHYSICAL_STORES]</td>\n      <td>[OWN_WEBSITE, PHYSICAL_STORES]</td>\n      <td>True</td>\n      <td>2024-05-01</td>\n      <td>2024-05-01</td>\n      <td>True</td>\n      <td>2024-06-09</td>\n      <td>2024-06-09</td>\n      <td>True</td>\n    </tr>\n    <tr>\n      <th>4</th>\n      <td>{'content': 'Based on the data retrieved, the ...</td>\n      <td>[{'role': 'assistant', 'content': [{'text': \"T...</td>\n      <td>claude-3-5-sonnet-20240620</td>\n      <td>{'toolu_01WJwTfyG8GSkDoCp9XKjGNH': {'tool_resu...</td>\n      <td>{'completion_tokens': 203, 'prompt_tokens': 19...</td>\n      <td>13.520923</td>\n      <td>What was the Customer Lifetime Value for FitFl...</td>\n      <td>CUSTOMER_LIFETIME_VALUE</td>\n      <td>CUSTOMER_LIFETIME_VALUE</td>\n      <td>True</td>\n      <td>...</td>\n      <td>True</td>\n      <td>[INSTAGRAM_SHOPPING]</td>\n      <td>[INSTAGRAM_SHOPPING]</td>\n      <td>True</td>\n      <td>2024-05-11</td>\n      <td>2024-05-11</td>\n      <td>True</td>\n      <td>2024-06-09</td>\n      <td>2024-06-10</td>\n      <td>False</td>\n    </tr>\n    <tr>\n      <th>5</th>\n      <td>{'content': 'Based on the data retrieved, the ...</td>\n      <td>[{'role': 'assistant', 'content': [{'text': \"C...</td>\n      <td>claude-3-5-sonnet-20240620</td>\n      <td>{'toolu_01RD1voxMDKuzbY3uhHEWTJP': {'tool_resu...</td>\n      <td>{'completion_tokens': 119, 'prompt_tokens': 19...</td>\n      <td>13.556440</td>\n      <td>Calculate the Customer Acquisition Cost for Ec...</td>\n      <td>CUSTOMER_ACQUISITION_COST</td>\n      <td>CUSTOMER_ACQUISITION_COST</td>\n      <td>True</td>\n      <td>...</td>\n      <td>True</td>\n      <td>[AMAZON, ETSY]</td>\n      <td>[AMAZON, ETSY]</td>\n      <td>True</td>\n      <td>2024-04-01</td>\n      <td>2024-04-01</td>\n      <td>True</td>\n      <td>2024-04-30</td>\n      <td>2024-04-30</td>\n      <td>True</td>\n    </tr>\n    <tr>\n      <th>6</th>\n      <td>{'content': 'Based on the data retrieved from ...</td>\n      <td>[{'role': 'assistant', 'content': [{'text': \"T...</td>\n      <td>claude-3-5-sonnet-20240620</td>\n      <td>{'toolu_014ijpDf2fpVfyqbKurqa2pv': {'tool_resu...</td>\n      <td>{'completion_tokens': 129, 'prompt_tokens': 19...</td>\n      <td>11.126449</td>\n      <td>What was the Return on Ad Spend for Luxe Livin...</td>\n      <td>RETURN_ON_AD_SPEND</td>\n      <td>RETURN_ON_AD_SPEND</td>\n      <td>True</td>\n      <td>...</td>\n      <td>True</td>\n      <td>[GOOGLE_SHOPPING]</td>\n      <td>[GOOGLE_SHOPPING]</td>\n      <td>True</td>\n      <td>2024-02-15</td>\n      <td>2024-02-15</td>\n      <td>True</td>\n      <td>2024-05-15</td>\n      <td>2024-05-15</td>\n      <td>True</td>\n    </tr>\n    <tr>\n      <th>7</th>\n      <td>{'content': 'The Net Profit Margin for Gourmet...</td>\n      <td>[{'role': 'assistant', 'content': [{'text': \"T...</td>\n      <td>claude-3-5-sonnet-20240620</td>\n      <td>{'toolu_01Bhico4fLCAqDByirH3hr5k': {'tool_resu...</td>\n      <td>{'completion_tokens': 130, 'prompt_tokens': 19...</td>\n      <td>11.670891</td>\n      <td>Determine the Net Profit Margin for GourmetDel...</td>\n      <td>NET_PROFIT_MARGIN</td>\n      <td>NET_PROFIT_MARGIN</td>\n      <td>True</td>\n      <td>...</td>\n      <td>True</td>\n      <td>[OWN_WEBSITE]</td>\n      <td>[OWN_WEBSITE]</td>\n      <td>True</td>\n      <td>2024-04-01</td>\n      <td>2024-04-01</td>\n      <td>True</td>\n      <td>2024-06-09</td>\n      <td>2024-06-30</td>\n      <td>False</td>\n    </tr>\n    <tr>\n      <th>8</th>\n      <td>{'content': 'Based on the data we've received,...</td>\n      <td>[{'role': 'assistant', 'content': [{'text': \"T...</td>\n      <td>claude-3-5-sonnet-20240620</td>\n      <td>{'toolu_0155mM5UKDqfrFR4ho9eRcPL': {'tool_resu...</td>\n      <td>{'completion_tokens': 183, 'prompt_tokens': 19...</td>\n      <td>13.246782</td>\n      <td>What was the Repeat Purchase Rate for PetPal o...</td>\n      <td>REPEAT_PURCHASE_RATE</td>\n      <td>REPEAT_PURCHASE_RATE</td>\n      <td>True</td>\n      <td>...</td>\n      <td>True</td>\n      <td>[AMAZON]</td>\n      <td>[AMAZON]</td>\n      <td>True</td>\n      <td>2024-03-01</td>\n      <td>2024-03-01</td>\n      <td>True</td>\n      <td>2024-05-31</td>\n      <td>2024-05-31</td>\n      <td>True</td>\n    </tr>\n    <tr>\n      <th>9</th>\n      <td>{'content': 'Based on the results, I'll choose...</td>\n      <td>[{'role': 'assistant', 'content': [{'text': \"T...</td>\n      <td>claude-3-5-sonnet-20240620</td>\n      <td>{'toolu_01HPPJmJkk5RCMURFkjQa12w': {'tool_resu...</td>\n      <td>{'completion_tokens': 165, 'prompt_tokens': 16...</td>\n      <td>9.883260</td>\n      <td>Calculate the Average Time to Purchase for Bea...</td>\n      <td>AVG_TIME_TO_PURCHASE</td>\n      <td></td>\n      <td>False</td>\n      <td>...</td>\n      <td>False</td>\n      <td>[OWN_WEBSITE]</td>\n      <td>[]</td>\n      <td>False</td>\n      <td>2024-05-01</td>\n      <td></td>\n      <td>False</td>\n      <td>2024-05-31</td>\n      <td></td>\n      <td>False</td>\n    </tr>\n  </tbody>\n</table>\n<p>10 rows × 22 columns</p>\n</div>"
     },
     "execution_count": 18,
     "metadata": {},
     "output_type": "execute_result"
    }
   ],
   "source": [
    "df_anthropic"
   ],
   "metadata": {
    "collapsed": false,
    "ExecuteTime": {
     "end_time": "2024-07-03T11:33:36.563116Z",
     "start_time": "2024-07-03T11:33:36.559291Z"
    }
   },
   "id": "623c22b7969a2890"
  },
  {
   "cell_type": "code",
   "execution_count": 19,
   "outputs": [
    {
     "data": {
      "text/plain": "{'metric_accuracy': '90.00%',\n 'brands_accuracy': '90.00%',\n 'sales_channels_accuracy': '90.00%',\n 'current_period_start_date_accuracy': '90.00%',\n 'current_period_end_date_accuracy': '70.00%'}"
     },
     "execution_count": 19,
     "metadata": {},
     "output_type": "execute_result"
    }
   ],
   "source": [
    "calculate_accuracies(df_anthropic)"
   ],
   "metadata": {
    "collapsed": false,
    "ExecuteTime": {
     "end_time": "2024-07-03T11:33:44.872786Z",
     "start_time": "2024-07-03T11:33:44.830020Z"
    }
   },
   "id": "8d804dae8c70b103"
  },
  {
   "cell_type": "code",
   "execution_count": null,
   "outputs": [],
   "source": [],
   "metadata": {
    "collapsed": false
   },
   "id": "a1a1b71bca30b354"
  }
 ],
 "metadata": {
  "kernelspec": {
   "display_name": "Python 3 (ipykernel)",
   "language": "python",
   "name": "python3"
  },
  "language_info": {
   "codemirror_mode": {
    "name": "ipython",
    "version": 3
   },
   "file_extension": ".py",
   "mimetype": "text/x-python",
   "name": "python",
   "nbconvert_exporter": "python",
   "pygments_lexer": "ipython3",
   "version": "3.11.7"
  }
 },
 "nbformat": 4,
 "nbformat_minor": 5
}
